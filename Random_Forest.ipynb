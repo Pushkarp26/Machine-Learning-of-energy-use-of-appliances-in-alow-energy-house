{
  "nbformat": 4,
  "nbformat_minor": 0,
  "metadata": {
    "colab": {
      "name": "Random Forest.ipynb",
      "provenance": [],
      "collapsed_sections": [],
      "authorship_tag": "ABX9TyMKhd5/SxjGde23DOZygm45",
      "include_colab_link": true
    },
    "kernelspec": {
      "display_name": "Python 3",
      "name": "python3"
    }
  },
  "cells": [
    {
      "cell_type": "markdown",
      "metadata": {
        "id": "view-in-github",
        "colab_type": "text"
      },
      "source": [
        "<a href=\"https://colab.research.google.com/github/Pushkarp26/Machine-Learning-of-energy-use-of-appliances-in-alow-energy-house/blob/main/Random_Forest.ipynb\" target=\"_parent\"><img src=\"https://colab.research.google.com/assets/colab-badge.svg\" alt=\"Open In Colab\"/></a>"
      ]
    },
    {
      "cell_type": "markdown",
      "metadata": {
        "id": "Gih8CAdavOpL"
      },
      "source": [
        "#**Importing Libraries**"
      ]
    },
    {
      "cell_type": "code",
      "metadata": {
        "id": "TkptNxkhYJYZ"
      },
      "source": [
        "import pandas as pd\n",
        "import numpy as np\n",
        "import math\n",
        "import matplotlib.pyplot as plt\n",
        "import math\n",
        "from google.colab import files\n",
        "from sklearn.model_selection import cross_val_score\n",
        "from sklearn.model_selection import cross_validate"
      ],
      "execution_count": null,
      "outputs": []
    },
    {
      "cell_type": "markdown",
      "metadata": {
        "id": "u3tK_Jpmvh25"
      },
      "source": [
        "#**Data**\n",
        "From the previous notebooks I have saved the predictor and target feature datasets.\n",
        "So, will use them directly here instead of doing all the preliminary steps."
      ]
    },
    {
      "cell_type": "code",
      "metadata": {
        "colab": {
          "base_uri": "https://localhost:8080/"
        },
        "id": "CsCUZoDABQy1",
        "outputId": "a4818389-d5f7-4456-b45f-6f639e6fb0a8"
      },
      "source": [
        "X = pd.read_csv(\"predictor.csv\")\n",
        "y = pd.read_csv(\"target.csv\")\n",
        "X.drop(\"Unnamed: 0\",axis=1,inplace=True)\n",
        "y.drop(\"Unnamed: 0\",axis=1,inplace=True)\n",
        "\n",
        "print(\"Predictor features:\\n {}\\n\\nTarget Features:\\n {}\".format(X.head(),y.head()))"
      ],
      "execution_count": null,
      "outputs": [
        {
          "output_type": "stream",
          "text": [
            "Predictor features:\n",
            "    Kitchen_Temp  Kitchen_Humidity  Living_room_Temp  ...        rv2  Weekday    NSM\n",
            "0         19.89         47.596667              19.2  ...  13.275433        0  61200\n",
            "1         19.89         46.693333              19.2  ...  18.606195        0  61800\n",
            "2         19.89         46.300000              19.2  ...  28.642668        0  62400\n",
            "3         19.89         46.066667              19.2  ...  45.410389        0  63000\n",
            "4         19.89         46.333333              19.2  ...  10.084097        0  63600\n",
            "\n",
            "[5 rows x 28 columns]\n",
            "\n",
            "Target Features:\n",
            "    Total_Energy_Consumption\n",
            "0                        90\n",
            "1                        90\n",
            "2                        80\n",
            "3                        90\n",
            "4                       100\n"
          ],
          "name": "stdout"
        }
      ]
    },
    {
      "cell_type": "markdown",
      "metadata": {
        "id": "NPzYM9wqw7DT"
      },
      "source": [
        "Splitting the data into Training and Testing sets."
      ]
    },
    {
      "cell_type": "code",
      "metadata": {
        "colab": {
          "base_uri": "https://localhost:8080/"
        },
        "id": "hI5IUtKxEtGL",
        "outputId": "54342029-ed2d-4ac5-c135-b3144f961533"
      },
      "source": [
        "from sklearn.model_selection import train_test_split\n",
        "from sklearn.ensemble import RandomForestRegressor\n",
        "\n",
        "y_array = np.asarray(y)\n",
        "y_array = y_array.ravel()\n",
        "\n",
        "X_train,X_test,y_train,y_test = train_test_split(X,y_array,test_size=0.3)\n",
        "print(\"X_train:\",X_train.shape,\"\\t\",\"y_train:\",y_train.shape,\"\\n\",'X_test:',\n",
        "       X_test.shape,\"\\t\",\"y_test:\",y_test.shape)"
      ],
      "execution_count": null,
      "outputs": [
        {
          "output_type": "stream",
          "text": [
            "X_train: (13814, 28) \t y_train: (13814,) \n",
            " X_test: (5921, 28) \t y_test: (5921,)\n"
          ],
          "name": "stdout"
        }
      ]
    },
    {
      "cell_type": "markdown",
      "metadata": {
        "id": "PY0KFTFyxDDI"
      },
      "source": [
        "Random Forest Regression modelling\n"
      ]
    },
    {
      "cell_type": "code",
      "metadata": {
        "colab": {
          "base_uri": "https://localhost:8080/"
        },
        "id": "l--6m8bKGZ5d",
        "outputId": "ce1400fd-b06f-4ade-9a40-8e1a3389a5ca"
      },
      "source": [
        "rfc = RandomForestRegressor()\n",
        "rfc.fit(X_train,y_train)                                                         #training the model"
      ],
      "execution_count": null,
      "outputs": [
        {
          "output_type": "execute_result",
          "data": {
            "text/plain": [
              "RandomForestRegressor(bootstrap=True, ccp_alpha=0.0, criterion='mse',\n",
              "                      max_depth=None, max_features='auto', max_leaf_nodes=None,\n",
              "                      max_samples=None, min_impurity_decrease=0.0,\n",
              "                      min_impurity_split=None, min_samples_leaf=1,\n",
              "                      min_samples_split=2, min_weight_fraction_leaf=0.0,\n",
              "                      n_estimators=100, n_jobs=None, oob_score=False,\n",
              "                      random_state=None, verbose=0, warm_start=False)"
            ]
          },
          "metadata": {
            "tags": []
          },
          "execution_count": 6
        }
      ]
    },
    {
      "cell_type": "markdown",
      "metadata": {
        "id": "Thdf0YdNyJTr"
      },
      "source": [
        "Checking the *Accuracy* score of our model"
      ]
    },
    {
      "cell_type": "code",
      "metadata": {
        "colab": {
          "base_uri": "https://localhost:8080/"
        },
        "id": "azFbuoeRJjxs",
        "outputId": "72057732-c399-4098-c5d7-b4fed91522e6"
      },
      "source": [
        "print(\"Accuracy Score for Train data: {}\\n Accuracy Score for Test data: {}\".\n",
        "      format(rfc.score(X_train,y_train),rfc.score(X_test,y_test)))                                                      #"
      ],
      "execution_count": null,
      "outputs": [
        {
          "output_type": "stream",
          "text": [
            "Accuracy Score for Train data: 0.9409394524045103\n",
            " Accuracy Score for Test data: 0.5867620131030638\n"
          ],
          "name": "stdout"
        }
      ]
    },
    {
      "cell_type": "markdown",
      "metadata": {
        "id": "xITAXnKRySoR"
      },
      "source": [
        "Evaluating errors"
      ]
    },
    {
      "cell_type": "code",
      "metadata": {
        "colab": {
          "base_uri": "https://localhost:8080/"
        },
        "id": "3aWti8XZLpcF",
        "outputId": "e9ea5c0a-292c-42c9-daeb-7ba60aba1d99"
      },
      "source": [
        "from sklearn import metrics\n",
        "pred = rfc.predict(X_test)\n",
        "print('Mean Absolute Error (MAE):', metrics.mean_absolute_error(y_test, pred))   #mean absolute error\n",
        "print('Mean Squared Error (MSE):', metrics.mean_squared_error(y_test, pred))     #mean squared error\n",
        "print('Root Mean Squared Error (RMSE):', np.sqrt(metrics.mean_squared_error(\n",
        "    y_test, pred)))                                                              #Root Mean Squared Error \n",
        "# mape = np.mean(np.abs((y_test - pred) / np.abs(y_test)))\n",
        "# print('Mean Absolute Percentage Error (MAPE):', round(mape * 100, 2))\n",
        "# print('Accuracy:', round(100*(1 - mape), 2))"
      ],
      "execution_count": null,
      "outputs": [
        {
          "output_type": "stream",
          "text": [
            "Mean Absolute Error (MAE): 32.17968248606655\n",
            "Mean Squared Error (MSE): 4377.442325620673\n",
            "Root Mean Squared Error (RMSE): 66.16224244703827\n"
          ],
          "name": "stdout"
        }
      ]
    },
    {
      "cell_type": "markdown",
      "metadata": {
        "id": "mY36oWT1yrZI"
      },
      "source": [
        "Cross Validation of the model\n"
      ]
    },
    {
      "cell_type": "code",
      "metadata": {
        "colab": {
          "base_uri": "https://localhost:8080/"
        },
        "id": "kHL1Fr41NFl-",
        "outputId": "f51f989a-4146-4fa8-9685-f1f6ad9cbafd"
      },
      "source": [
        "cv = cross_validate(rfc, X_test, y_test, cv=10)\n",
        "print(cv['test_score'])"
      ],
      "execution_count": null,
      "outputs": [
        {
          "output_type": "stream",
          "text": [
            "[0.44304919 0.50878972 0.44661233 0.4136764  0.43701571 0.46374364\n",
            " 0.39745992 0.43629888 0.29964489 0.40147436]\n"
          ],
          "name": "stdout"
        }
      ]
    },
    {
      "cell_type": "markdown",
      "metadata": {
        "id": "HgyiRIwHYnbM"
      },
      "source": [
        "It is evident that our model is overfitting on test dataset."
      ]
    },
    {
      "cell_type": "markdown",
      "metadata": {
        "id": "p7Prp6VLyw0v"
      },
      "source": [
        "Performing GridSearch for best parameters.\n"
      ]
    },
    {
      "cell_type": "code",
      "metadata": {
        "colab": {
          "background_save": true
        },
        "id": "RyqN0RECN5Xf",
        "outputId": "cbb2d0c8-5ca4-40c6-cc3f-59ab6a2a581f"
      },
      "source": [
        "from sklearn.model_selection import GridSearchCV\n",
        "\n",
        "param_grid = { \n",
        "    'n_estimators': [50,400],                                                    #setting no.of trees in the range of 50to 400\n",
        "    'max_features': ['auto', 'sqrt', 'log2']\n",
        "}\n",
        "\n",
        "CV_rfc = GridSearchCV(estimator=rfc, param_grid=param_grid, cv= 10)\n",
        "CV_rfc.fit(X_train, y_train)\n",
        "print(CV_rfc.best_params_)"
      ],
      "execution_count": null,
      "outputs": [
        {
          "output_type": "stream",
          "text": [
            "{'max_features': 'sqrt', 'n_estimators': 400}\n"
          ],
          "name": "stdout"
        }
      ]
    },
    {
      "cell_type": "markdown",
      "metadata": {
        "id": "BDFm4Ls9YB8Y"
      },
      "source": [
        "Now,we have evaluated the best parameters fro our model. Let's apply this on our model on training dataset."
      ]
    },
    {
      "cell_type": "code",
      "metadata": {
        "colab": {
          "background_save": true
        },
        "id": "86y8EApcRkJ_",
        "outputId": "bd65a017-ef8c-41d7-8e72-9c31772d6131"
      },
      "source": [
        "rfc1 = RandomForestRegressor(n_estimators=400)\n",
        "rfc1.fit(X_train,y_train)"
      ],
      "execution_count": null,
      "outputs": [
        {
          "output_type": "execute_result",
          "data": {
            "text/plain": [
              "RandomForestRegressor(bootstrap=True, ccp_alpha=0.0, criterion='mse',\n",
              "                      max_depth=None, max_features='auto', max_leaf_nodes=None,\n",
              "                      max_samples=None, min_impurity_decrease=0.0,\n",
              "                      min_impurity_split=None, min_samples_leaf=1,\n",
              "                      min_samples_split=2, min_weight_fraction_leaf=0.0,\n",
              "                      n_estimators=400, n_jobs=None, oob_score=False,\n",
              "                      random_state=None, verbose=0, warm_start=False)"
            ]
          },
          "metadata": {
            "tags": []
          },
          "execution_count": 0
        }
      ]
    },
    {
      "cell_type": "markdown",
      "metadata": {
        "id": "JdepIeujYT3u"
      },
      "source": [
        "Model prediction on test set."
      ]
    },
    {
      "cell_type": "code",
      "metadata": {
        "colab": {
          "background_save": true
        },
        "id": "61j7uPYlfEdP",
        "outputId": "9abe44e6-0d91-49b1-fea8-4fb8477e1837"
      },
      "source": [
        "pred2 = rfc1.predict(X_test)\n",
        "rfc1.score(X_test,y_test)"
      ],
      "execution_count": null,
      "outputs": [
        {
          "output_type": "execute_result",
          "data": {
            "text/plain": [
              "0.586569152196529"
            ]
          },
          "metadata": {
            "tags": []
          },
          "execution_count": 0
        }
      ]
    },
    {
      "cell_type": "markdown",
      "metadata": {
        "id": "CDpjU_H4YcxN"
      },
      "source": [
        "Again cross validating our model for best accuracy."
      ]
    },
    {
      "cell_type": "code",
      "metadata": {
        "colab": {
          "background_save": true
        },
        "id": "OCD-qu36f0hR",
        "outputId": "a171e28d-47a9-43dd-f897-6641402faaca"
      },
      "source": [
        "cv1 = cross_validate(rfc1, X_test, y_test, cv=10)\n",
        "print(cv1['test_score'])"
      ],
      "execution_count": null,
      "outputs": [
        {
          "output_type": "stream",
          "text": [
            "[0.44708764 0.50172681 0.46149811 0.40847528 0.43001645 0.46062774\n",
            " 0.3960033  0.44558116 0.30147128 0.4191446 ]\n"
          ],
          "name": "stdout"
        }
      ]
    },
    {
      "cell_type": "code",
      "metadata": {
        "colab": {
          "background_save": true
        },
        "id": "6EILx0sxgZmV"
      },
      "source": [
        ""
      ],
      "execution_count": null,
      "outputs": []
    }
  ]
}