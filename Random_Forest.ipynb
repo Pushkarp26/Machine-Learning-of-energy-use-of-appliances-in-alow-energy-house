{
  "nbformat": 4,
  "nbformat_minor": 0,
  "metadata": {
    "colab": {
      "name": "Random Forest.ipynb",
      "provenance": [],
      "collapsed_sections": [],
      "authorship_tag": "ABX9TyNYVEDfUg4NbLMfBSK4Eb+f",
      "include_colab_link": true
    },
    "kernelspec": {
      "display_name": "Python 3",
      "name": "python3"
    }
  },
  "cells": [
    {
      "cell_type": "markdown",
      "metadata": {
        "id": "view-in-github",
        "colab_type": "text"
      },
      "source": [
        "<a href=\"https://colab.research.google.com/github/Pushkarp26/Machine-Learning-of-energy-use-of-appliances-in-alow-energy-house/blob/main/Random_Forest.ipynb\" target=\"_parent\"><img src=\"https://colab.research.google.com/assets/colab-badge.svg\" alt=\"Open In Colab\"/></a>"
      ]
    },
    {
      "cell_type": "markdown",
      "metadata": {
        "id": "Gih8CAdavOpL"
      },
      "source": [
        "#**Importing Libraries**"
      ]
    },
    {
      "cell_type": "code",
      "metadata": {
        "id": "TkptNxkhYJYZ"
      },
      "source": [
        "import pandas as pd\n",
        "import numpy as np\n",
        "import math\n",
        "import matplotlib.pyplot as plt\n",
        "import math\n",
        "from google.colab import files\n",
        "from sklearn.model_selection import cross_val_score\n",
        "from sklearn.model_selection import cross_validate"
      ],
      "execution_count": 1,
      "outputs": []
    },
    {
      "cell_type": "markdown",
      "metadata": {
        "id": "u3tK_Jpmvh25"
      },
      "source": [
        "#**Data**\n",
        "From the previous notebooks I have saved the predictor and target feature datasets.\n",
        "So, will use them directly here instead of doing all the preliminary steps."
      ]
    },
    {
      "cell_type": "code",
      "metadata": {
        "colab": {
          "base_uri": "https://localhost:8080/"
        },
        "id": "CsCUZoDABQy1",
        "outputId": "8e38c765-0f62-4c78-f2eb-48ffe14eb6fb"
      },
      "source": [
        "X = pd.read_csv(\"predictor.csv\")\n",
        "y = pd.read_csv(\"target.csv\")\n",
        "X.drop(\"Unnamed: 0\",axis=1,inplace=True)\n",
        "y.drop(\"Unnamed: 0\",axis=1,inplace=True)\n",
        "\n",
        "print(\"Predictor features:\\n {}\\n\\nTarget Features:\\n {}\".format(X.head(),y.head()))"
      ],
      "execution_count": 2,
      "outputs": [
        {
          "output_type": "stream",
          "text": [
            "Predictor features:\n",
            "    Kitchen_Temp  Kitchen_Humidity  Living_room_Temp  ...        rv2  Weekday    NSM\n",
            "0         19.89         47.596667              19.2  ...  13.275433        0  61200\n",
            "1         19.89         46.693333              19.2  ...  18.606195        0  61800\n",
            "2         19.89         46.300000              19.2  ...  28.642668        0  62400\n",
            "3         19.89         46.066667              19.2  ...  45.410389        0  63000\n",
            "4         19.89         46.333333              19.2  ...  10.084097        0  63600\n",
            "\n",
            "[5 rows x 28 columns]\n",
            "\n",
            "Target Features:\n",
            "    Total_Energy_Consumption\n",
            "0                        90\n",
            "1                        90\n",
            "2                        80\n",
            "3                        90\n",
            "4                       100\n"
          ],
          "name": "stdout"
        }
      ]
    },
    {
      "cell_type": "markdown",
      "metadata": {
        "id": "NPzYM9wqw7DT"
      },
      "source": [
        "Splitting the data into Training and Testing sets."
      ]
    },
    {
      "cell_type": "code",
      "metadata": {
        "colab": {
          "base_uri": "https://localhost:8080/"
        },
        "id": "hI5IUtKxEtGL",
        "outputId": "e045658e-3be6-4ebc-ad24-861772149a3a"
      },
      "source": [
        "from sklearn.model_selection import train_test_split\n",
        "from sklearn.ensemble import RandomForestRegressor\n",
        "\n",
        "y_array = np.asarray(y)\n",
        "y_array = y_array.ravel()\n",
        "\n",
        "X_train,X_test,y_train,y_test = train_test_split(X,y_array,test_size=0.3)\n",
        "print(\"X_train:\",X_train.shape,\"\\t\",\"y_train:\",y_train.shape,\"\\n\",'X_test:',\n",
        "       X_test.shape,\"\\t\",\"y_test:\",y_test.shape)"
      ],
      "execution_count": 3,
      "outputs": [
        {
          "output_type": "stream",
          "text": [
            "X_train: (13814, 28) \t y_train: (13814,) \n",
            " X_test: (5921, 28) \t y_test: (5921,)\n"
          ],
          "name": "stdout"
        }
      ]
    },
    {
      "cell_type": "markdown",
      "metadata": {
        "id": "PY0KFTFyxDDI"
      },
      "source": [
        "#**Base Model**\n",
        "\n"
      ]
    },
    {
      "cell_type": "code",
      "metadata": {
        "colab": {
          "base_uri": "https://localhost:8080/"
        },
        "id": "l--6m8bKGZ5d",
        "outputId": "b7da8a14-94d3-4b39-b7cd-5ae32f2e8015"
      },
      "source": [
        "rfc = RandomForestRegressor(n_estimators=10,random_state=42)\n",
        "rfc.fit(X_train,y_train)                                                         #training the model"
      ],
      "execution_count": 4,
      "outputs": [
        {
          "output_type": "execute_result",
          "data": {
            "text/plain": [
              "RandomForestRegressor(bootstrap=True, ccp_alpha=0.0, criterion='mse',\n",
              "                      max_depth=None, max_features='auto', max_leaf_nodes=None,\n",
              "                      max_samples=None, min_impurity_decrease=0.0,\n",
              "                      min_impurity_split=None, min_samples_leaf=1,\n",
              "                      min_samples_split=2, min_weight_fraction_leaf=0.0,\n",
              "                      n_estimators=10, n_jobs=None, oob_score=False,\n",
              "                      random_state=42, verbose=0, warm_start=False)"
            ]
          },
          "metadata": {
            "tags": []
          },
          "execution_count": 4
        }
      ]
    },
    {
      "cell_type": "markdown",
      "metadata": {
        "id": "Thdf0YdNyJTr"
      },
      "source": [
        "Checking the *Accuracy* score of our model"
      ]
    },
    {
      "cell_type": "code",
      "metadata": {
        "colab": {
          "base_uri": "https://localhost:8080/"
        },
        "id": "azFbuoeRJjxs",
        "outputId": "8c2fbb34-4c37-46a8-faa1-47065de917e8"
      },
      "source": [
        "print(\"Accuracy Score for Train data: {}\\n Accuracy Score for Test data: {}\".\n",
        "      format(rfc.score(X_train,y_train),rfc.score(X_test,y_test)))                                                      #"
      ],
      "execution_count": 5,
      "outputs": [
        {
          "output_type": "stream",
          "text": [
            "Accuracy Score for Train data: 0.9168053652207019\n",
            " Accuracy Score for Test data: 0.5072553383812364\n"
          ],
          "name": "stdout"
        }
      ]
    },
    {
      "cell_type": "markdown",
      "metadata": {
        "id": "xITAXnKRySoR"
      },
      "source": [
        "Evaluating errors"
      ]
    },
    {
      "cell_type": "code",
      "metadata": {
        "colab": {
          "base_uri": "https://localhost:8080/"
        },
        "id": "3aWti8XZLpcF",
        "outputId": "2ea1f44d-b264-4394-f711-a9fe65136125"
      },
      "source": [
        "from sklearn import metrics\n",
        "pred = rfc.predict(X_test)\n",
        "print('Mean Absolute Error (MAE):', metrics.mean_absolute_error(y_test, pred))   #mean absolute error\n",
        "print('Mean Squared Error (MSE):', metrics.mean_squared_error(y_test, pred))     #mean squared error\n",
        "print('Root Mean Squared Error (RMSE):', np.sqrt(metrics.mean_squared_error(\n",
        "    y_test, pred)))                                                              #Root Mean Squared Error \n",
        "# mape = np.mean(np.abs((y_test - pred) / np.abs(y_test)))\n",
        "# print('Mean Absolute Percentage Error (MAPE):', round(mape * 100, 2))\n",
        "# print('Accuracy:', round(100*(1 - mape), 2))"
      ],
      "execution_count": 6,
      "outputs": [
        {
          "output_type": "stream",
          "text": [
            "Mean Absolute Error (MAE): 33.95304847154197\n",
            "Mean Squared Error (MSE): 5197.778753588921\n",
            "Root Mean Squared Error (RMSE): 72.09562229143265\n"
          ],
          "name": "stdout"
        }
      ]
    },
    {
      "cell_type": "code",
      "metadata": {
        "id": "q--xwUujwkj5"
      },
      "source": [
        "rfc.feature_importances_"
      ],
      "execution_count": null,
      "outputs": []
    },
    {
      "cell_type": "markdown",
      "metadata": {
        "id": "iqmp-YPktdHp"
      },
      "source": [
        "#**RandomSearchCV**"
      ]
    },
    {
      "cell_type": "code",
      "metadata": {
        "colab": {
          "base_uri": "https://localhost:8080/"
        },
        "id": "RHPsVXZYtiLQ",
        "outputId": "d90ffc29-e033-48d8-b0c7-fc56a8b4b1f5"
      },
      "source": [
        "from sklearn.model_selection import RandomizedSearchCV\n",
        "\n",
        "# Number of trees in random forest\n",
        "n_estimators = [int(x) for x in np.linspace(start = 10, stop = 200, num = 20)]\n",
        "# Number of features to consider at every split\n",
        "max_features = ['auto', 'sqrt']\n",
        "# Maximum number of levels in tree\n",
        "max_depth = [int(x) for x in np.linspace(5, 110, num = 22)]\n",
        "max_depth.append(None)\n",
        "# Minimum number of samples required to split a node\n",
        "min_samples_split = [2, 5, 10]\n",
        "# Minimum number of samples required at each leaf node\n",
        "min_samples_leaf = [1, 2, 4]\n",
        "# Method of selecting samples for training each tree\n",
        "bootstrap = [True, False]\n",
        "# Create the random grid\n",
        "random_grid = {'n_estimators': n_estimators,\n",
        "               'max_features': max_features,\n",
        "               'max_depth': max_depth,\n",
        "               'min_samples_split': min_samples_split,\n",
        "               'min_samples_leaf': min_samples_leaf,\n",
        "               'bootstrap': bootstrap}\n",
        "print(random_grid)"
      ],
      "execution_count": 7,
      "outputs": [
        {
          "output_type": "stream",
          "text": [
            "{'n_estimators': [10, 20, 30, 40, 50, 60, 70, 80, 90, 100, 110, 120, 130, 140, 150, 160, 170, 180, 190, 200], 'max_features': ['auto', 'sqrt'], 'max_depth': [5, 10, 15, 20, 25, 30, 35, 40, 45, 50, 55, 60, 65, 70, 75, 80, 85, 90, 95, 100, 105, 110, None], 'min_samples_split': [2, 5, 10], 'min_samples_leaf': [1, 2, 4], 'bootstrap': [True, False]}\n"
          ],
          "name": "stdout"
        }
      ]
    },
    {
      "cell_type": "code",
      "metadata": {
        "colab": {
          "base_uri": "https://localhost:8080/"
        },
        "id": "KEikgfiYtiUH",
        "outputId": "29369a49-7fd1-417b-ea2d-a3e37e51e29d"
      },
      "source": [
        "# Use the random grid to search for best hyperparameters\n",
        "# First create the base model to tune\n",
        "rf = RandomForestRegressor()\n",
        "# Random search of parameters, using 3 fold cross validation, \n",
        "# search across 100 different combinations, and use all available cores\n",
        "rf_random = RandomizedSearchCV(estimator = rf, param_distributions = \n",
        "                               random_grid, n_iter = 100, cv = 3, verbose=2,\n",
        "                               random_state=42, n_jobs = -1)\n",
        "# Fit the random search model\n",
        "rf_random.fit(X_train, y_train)"
      ],
      "execution_count": 8,
      "outputs": [
        {
          "output_type": "stream",
          "text": [
            "Fitting 3 folds for each of 100 candidates, totalling 300 fits\n"
          ],
          "name": "stdout"
        },
        {
          "output_type": "stream",
          "text": [
            "[Parallel(n_jobs=-1)]: Using backend LokyBackend with 2 concurrent workers.\n",
            "[Parallel(n_jobs=-1)]: Done  37 tasks      | elapsed:  3.8min\n",
            "[Parallel(n_jobs=-1)]: Done 158 tasks      | elapsed: 26.6min\n",
            "[Parallel(n_jobs=-1)]: Done 300 out of 300 | elapsed: 51.9min finished\n"
          ],
          "name": "stderr"
        },
        {
          "output_type": "execute_result",
          "data": {
            "text/plain": [
              "RandomizedSearchCV(cv=3, error_score=nan,\n",
              "                   estimator=RandomForestRegressor(bootstrap=True,\n",
              "                                                   ccp_alpha=0.0,\n",
              "                                                   criterion='mse',\n",
              "                                                   max_depth=None,\n",
              "                                                   max_features='auto',\n",
              "                                                   max_leaf_nodes=None,\n",
              "                                                   max_samples=None,\n",
              "                                                   min_impurity_decrease=0.0,\n",
              "                                                   min_impurity_split=None,\n",
              "                                                   min_samples_leaf=1,\n",
              "                                                   min_samples_split=2,\n",
              "                                                   min_weight_fraction_leaf=0.0,\n",
              "                                                   n_estimators=100,\n",
              "                                                   n_jobs=None, oob_score=Fals...\n",
              "                                        'max_depth': [5, 10, 15, 20, 25, 30, 35,\n",
              "                                                      40, 45, 50, 55, 60, 65,\n",
              "                                                      70, 75, 80, 85, 90, 95,\n",
              "                                                      100, 105, 110, None],\n",
              "                                        'max_features': ['auto', 'sqrt'],\n",
              "                                        'min_samples_leaf': [1, 2, 4],\n",
              "                                        'min_samples_split': [2, 5, 10],\n",
              "                                        'n_estimators': [10, 20, 30, 40, 50, 60,\n",
              "                                                         70, 80, 90, 100, 110,\n",
              "                                                         120, 130, 140, 150,\n",
              "                                                         160, 170, 180, 190,\n",
              "                                                         200]},\n",
              "                   pre_dispatch='2*n_jobs', random_state=42, refit=True,\n",
              "                   return_train_score=False, scoring=None, verbose=2)"
            ]
          },
          "metadata": {
            "tags": []
          },
          "execution_count": 8
        }
      ]
    },
    {
      "cell_type": "code",
      "metadata": {
        "colab": {
          "base_uri": "https://localhost:8080/"
        },
        "id": "y9muVvo_tigO",
        "outputId": "05921028-5d30-4cfe-d6e7-748da6faad77"
      },
      "source": [
        "rf_random.best_params_"
      ],
      "execution_count": 9,
      "outputs": [
        {
          "output_type": "execute_result",
          "data": {
            "text/plain": [
              "{'bootstrap': False,\n",
              " 'max_depth': 95,\n",
              " 'max_features': 'sqrt',\n",
              " 'min_samples_leaf': 1,\n",
              " 'min_samples_split': 2,\n",
              " 'n_estimators': 90}"
            ]
          },
          "metadata": {
            "tags": []
          },
          "execution_count": 9
        }
      ]
    },
    {
      "cell_type": "code",
      "metadata": {
        "id": "FvLtShcfticw",
        "colab": {
          "base_uri": "https://localhost:8080/"
        },
        "outputId": "183ec298-86c1-4ba9-a0c5-26963c28eaae"
      },
      "source": [
        "rf_random.cv_results_"
      ],
      "execution_count": 10,
      "outputs": [
        {
          "output_type": "execute_result",
          "data": {
            "text/plain": [
              "{'mean_fit_time': array([13.12455487,  2.25265598,  5.55732878, 23.45112459, 20.83736928,\n",
              "        15.5560387 , 19.67029802, 19.89149364,  3.78837689,  4.04957962,\n",
              "         4.19595305,  3.43577409, 23.63997944,  7.96654741,  6.84023746,\n",
              "        41.9470698 ,  0.52737506,  9.70415314, 18.84645788,  4.52477241,\n",
              "         1.8793985 , 15.55802743, 57.89466317,  4.66512354, 13.47888064,\n",
              "         8.7053175 ,  5.93826151,  9.78717931, 13.5316058 ,  8.0925649 ,\n",
              "        34.92166289, 72.29638108, 57.6315434 , 19.57127492, 58.35762088,\n",
              "        16.27198458, 37.85721906,  6.50802207,  5.7166121 ,  3.58560173,\n",
              "         8.31108713,  7.40071114, 15.44127369,  1.99584047,  0.8998824 ,\n",
              "        58.3212707 , 30.67680248, 84.50672873, 29.41982404, 10.19383113,\n",
              "        54.57426405, 43.38954385,  9.1398557 ,  1.82320635,  9.22768656,\n",
              "         7.52515864, 76.76180879, 29.25792233,  7.80749249,  2.70281688,\n",
              "         6.45068717,  4.95062915,  7.25501728,  3.26990207, 28.71688739,\n",
              "         9.65387408,  8.29794749, 86.94605009, 20.36245092, 26.70525694,\n",
              "         4.5761559 , 40.91065907,  2.46091604, 11.617541  ,  9.84017634,\n",
              "        20.97771788,  5.73184117, 33.15109396, 33.82901724,  1.05630922,\n",
              "        14.63307158, 18.20311983, 36.23248561, 25.03927652,  8.12587023,\n",
              "        14.6860404 , 16.0641249 , 24.71347984, 13.89695923, 54.25371035,\n",
              "         9.12124483,  7.02743268, 65.78235054,  5.1475726 , 32.34393954,\n",
              "        28.2231009 ,  1.33454816, 70.43312518, 42.99397159, 16.55610673]),\n",
              " 'mean_score_time': array([0.1893851 , 0.01162505, 0.11335373, 0.07087151, 0.06093518,\n",
              "        0.0709796 , 0.07860708, 0.0614694 , 0.06021778, 0.06803139,\n",
              "        0.01294303, 0.07962982, 0.08455316, 0.17777658, 0.15162039,\n",
              "        0.17361403, 0.01398667, 0.21008364, 0.0436666 , 0.09171788,\n",
              "        0.03460193, 0.06515718, 0.24391651, 0.10264119, 0.19138543,\n",
              "        0.17910894, 0.1195027 , 0.11495749, 0.03959878, 0.13542795,\n",
              "        0.08022451, 0.19759377, 0.15739973, 0.04904723, 0.16588704,\n",
              "        0.25255092, 0.1587797 , 0.0964613 , 0.08507609, 0.07657965,\n",
              "        0.02643156, 0.16020401, 0.06816181, 0.04354962, 0.02020009,\n",
              "        0.17629886, 0.10136334, 0.25670989, 0.13057566, 0.14440187,\n",
              "        0.16111946, 0.18118493, 0.19606884, 0.00992219, 0.19574285,\n",
              "        0.16370296, 0.24763831, 0.12758915, 0.14367747, 0.03578297,\n",
              "        0.08843215, 0.0737466 , 0.16145706, 0.04619948, 0.12927318,\n",
              "        0.19253079, 0.13007307, 0.27980407, 0.08671014, 0.10546597,\n",
              "        0.09175293, 0.16321842, 0.03813227, 0.25184735, 0.21475093,\n",
              "        0.07013853, 0.08403587, 0.10589727, 0.13683796, 0.02661586,\n",
              "        0.06483245, 0.04476817, 0.10084311, 0.07307601, 0.16339954,\n",
              "        0.22207642, 0.22415328, 0.0704658 , 0.03970726, 0.24327342,\n",
              "        0.15231037, 0.1649007 , 0.19544053, 0.02035936, 0.13976749,\n",
              "        0.08445326, 0.02532768, 0.20569666, 0.09751797, 0.04734286]),\n",
              " 'mean_test_score': array([0.50672461, 0.42219916, 0.45155364, 0.21785844, 0.24489813,\n",
              "        0.47091396, 0.47340433, 0.16939503, 0.53826447, 0.54521991,\n",
              "        0.1601087 , 0.49019389, 0.44132421, 0.48849288, 0.48967853,\n",
              "        0.50601548, 0.42064352, 0.48922519, 0.21580577, 0.46991372,\n",
              "        0.177662  , 0.46970151, 0.49652365, 0.50093436, 0.52469544,\n",
              "        0.45691664, 0.46444331, 0.37073413, 0.21904053, 0.55011159,\n",
              "        0.23667456, 0.21780091, 0.24407224, 0.16516518, 0.24464717,\n",
              "        0.54570824, 0.49271707, 0.50465904, 0.50270943, 0.45482218,\n",
              "        0.24321714, 0.48845848, 0.4714085 , 0.4443484 , 0.41195452,\n",
              "        0.24473112, 0.17272547, 0.21982864, 0.49611831, 0.49890672,\n",
              "        0.16932866, 0.4960472 , 0.48799531, 0.20600682, 0.45791183,\n",
              "        0.44713446, 0.17164212, 0.49515274, 0.42773541, 0.18036433,\n",
              "        0.48615782, 0.50345963, 0.50165053, 0.1792814 , 0.50394783,\n",
              "        0.47391761, 0.54231119, 0.17456601, 0.49386373, 0.47485811,\n",
              "        0.47365146, 0.46621024, 0.5007115 , 0.5036785 , 0.49711142,\n",
              "        0.37044849, 0.50347867, 0.22043983, 0.47217763, 0.44398249,\n",
              "        0.49603054, 0.16015104, 0.21907257, 0.24314777, 0.46464083,\n",
              "        0.50637016, 0.50029589, 0.24371992, 0.16936908, 0.50576502,\n",
              "        0.55294317, 0.51898303, 0.21990813, 0.36637484, 0.49640122,\n",
              "        0.21881954, 0.17445648, 0.21898298, 0.22916331, 0.24462442]),\n",
              " 'param_bootstrap': masked_array(data=[False, True, True, False, False, True, True, False,\n",
              "                    False, False, False, True, True, True, True, True,\n",
              "                    True, True, False, True, True, True, True, True, False,\n",
              "                    True, True, False, False, False, False, False, False,\n",
              "                    False, False, False, True, False, False, True, False,\n",
              "                    True, True, True, True, False, False, False, True,\n",
              "                    False, False, True, True, True, True, True, False,\n",
              "                    True, True, False, False, False, True, False, True,\n",
              "                    True, False, False, True, True, True, True, False,\n",
              "                    True, True, True, False, False, True, True, True,\n",
              "                    False, False, False, True, False, False, False, False,\n",
              "                    True, False, True, False, True, True, False, True,\n",
              "                    False, False, False],\n",
              "              mask=[False, False, False, False, False, False, False, False,\n",
              "                    False, False, False, False, False, False, False, False,\n",
              "                    False, False, False, False, False, False, False, False,\n",
              "                    False, False, False, False, False, False, False, False,\n",
              "                    False, False, False, False, False, False, False, False,\n",
              "                    False, False, False, False, False, False, False, False,\n",
              "                    False, False, False, False, False, False, False, False,\n",
              "                    False, False, False, False, False, False, False, False,\n",
              "                    False, False, False, False, False, False, False, False,\n",
              "                    False, False, False, False, False, False, False, False,\n",
              "                    False, False, False, False, False, False, False, False,\n",
              "                    False, False, False, False, False, False, False, False,\n",
              "                    False, False, False, False],\n",
              "        fill_value='?',\n",
              "             dtype=object),\n",
              " 'param_max_depth': masked_array(data=[105, 15, 75, 55, 45, 90, 65, 90, 45, 110, 5, 25, 15,\n",
              "                    35, 75, 75, 90, 90, 10, 40, 5, 45, 30, 20, 45, 50, 55,\n",
              "                    10, 90, 35, 10, 35, 30, 5, 30, 40, 40, 105, 55, None,\n",
              "                    90, 45, 25, 55, 15, 50, 40, 75, None, 20, 70, 100, 80,\n",
              "                    5, 60, 15, 50, 110, 15, 5, 15, 55, 90, 5, 105, 75,\n",
              "                    None, None, None, 40, 30, 40, 100, 75, 95, 10, 80, 65,\n",
              "                    85, 50, 90, 5, 70, 100, 35, 50, 80, 40, 25, 75, 95,\n",
              "                    None, 80, 10, 100, 65, 5, 110, 10, 60],\n",
              "              mask=[False, False, False, False, False, False, False, False,\n",
              "                    False, False, False, False, False, False, False, False,\n",
              "                    False, False, False, False, False, False, False, False,\n",
              "                    False, False, False, False, False, False, False, False,\n",
              "                    False, False, False, False, False, False, False, False,\n",
              "                    False, False, False, False, False, False, False, False,\n",
              "                    False, False, False, False, False, False, False, False,\n",
              "                    False, False, False, False, False, False, False, False,\n",
              "                    False, False, False, False, False, False, False, False,\n",
              "                    False, False, False, False, False, False, False, False,\n",
              "                    False, False, False, False, False, False, False, False,\n",
              "                    False, False, False, False, False, False, False, False,\n",
              "                    False, False, False, False],\n",
              "        fill_value='?',\n",
              "             dtype=object),\n",
              " 'param_max_features': masked_array(data=['sqrt', 'auto', 'sqrt', 'auto', 'auto', 'auto', 'auto',\n",
              "                    'auto', 'sqrt', 'sqrt', 'auto', 'sqrt', 'auto', 'sqrt',\n",
              "                    'sqrt', 'auto', 'sqrt', 'sqrt', 'auto', 'sqrt', 'sqrt',\n",
              "                    'auto', 'auto', 'sqrt', 'sqrt', 'sqrt', 'sqrt', 'sqrt',\n",
              "                    'auto', 'sqrt', 'auto', 'auto', 'auto', 'auto', 'auto',\n",
              "                    'sqrt', 'auto', 'sqrt', 'sqrt', 'sqrt', 'auto', 'sqrt',\n",
              "                    'auto', 'sqrt', 'sqrt', 'auto', 'auto', 'auto', 'auto',\n",
              "                    'sqrt', 'auto', 'auto', 'sqrt', 'auto', 'sqrt', 'sqrt',\n",
              "                    'auto', 'auto', 'sqrt', 'sqrt', 'sqrt', 'sqrt', 'sqrt',\n",
              "                    'sqrt', 'auto', 'sqrt', 'sqrt', 'auto', 'auto', 'auto',\n",
              "                    'sqrt', 'auto', 'sqrt', 'sqrt', 'sqrt', 'auto', 'sqrt',\n",
              "                    'auto', 'auto', 'sqrt', 'auto', 'auto', 'auto', 'auto',\n",
              "                    'sqrt', 'sqrt', 'sqrt', 'auto', 'auto', 'auto', 'sqrt',\n",
              "                    'sqrt', 'auto', 'auto', 'auto', 'auto', 'sqrt', 'auto',\n",
              "                    'auto', 'auto'],\n",
              "              mask=[False, False, False, False, False, False, False, False,\n",
              "                    False, False, False, False, False, False, False, False,\n",
              "                    False, False, False, False, False, False, False, False,\n",
              "                    False, False, False, False, False, False, False, False,\n",
              "                    False, False, False, False, False, False, False, False,\n",
              "                    False, False, False, False, False, False, False, False,\n",
              "                    False, False, False, False, False, False, False, False,\n",
              "                    False, False, False, False, False, False, False, False,\n",
              "                    False, False, False, False, False, False, False, False,\n",
              "                    False, False, False, False, False, False, False, False,\n",
              "                    False, False, False, False, False, False, False, False,\n",
              "                    False, False, False, False, False, False, False, False,\n",
              "                    False, False, False, False],\n",
              "        fill_value='?',\n",
              "             dtype=object),\n",
              " 'param_min_samples_leaf': masked_array(data=[4, 4, 4, 2, 4, 4, 2, 1, 1, 1, 1, 2, 1, 2, 2, 1, 4, 2,\n",
              "                    1, 1, 1, 4, 2, 1, 1, 4, 2, 1, 2, 1, 4, 2, 4, 4, 4, 1,\n",
              "                    2, 4, 4, 4, 4, 2, 4, 4, 4, 4, 1, 2, 2, 4, 1, 1, 2, 4,\n",
              "                    4, 2, 1, 2, 2, 2, 2, 4, 1, 2, 1, 1, 2, 1, 2, 1, 1, 4,\n",
              "                    4, 1, 2, 1, 4, 2, 4, 4, 2, 2, 2, 4, 2, 4, 4, 4, 1, 1,\n",
              "                    1, 1, 2, 4, 2, 2, 1, 2, 2, 4],\n",
              "              mask=[False, False, False, False, False, False, False, False,\n",
              "                    False, False, False, False, False, False, False, False,\n",
              "                    False, False, False, False, False, False, False, False,\n",
              "                    False, False, False, False, False, False, False, False,\n",
              "                    False, False, False, False, False, False, False, False,\n",
              "                    False, False, False, False, False, False, False, False,\n",
              "                    False, False, False, False, False, False, False, False,\n",
              "                    False, False, False, False, False, False, False, False,\n",
              "                    False, False, False, False, False, False, False, False,\n",
              "                    False, False, False, False, False, False, False, False,\n",
              "                    False, False, False, False, False, False, False, False,\n",
              "                    False, False, False, False, False, False, False, False,\n",
              "                    False, False, False, False],\n",
              "        fill_value='?',\n",
              "             dtype=object),\n",
              " 'param_min_samples_split': masked_array(data=[2, 5, 10, 5, 2, 5, 10, 5, 5, 2, 10, 2, 10, 5, 5, 2, 2,\n",
              "                    5, 5, 10, 2, 2, 5, 2, 10, 2, 10, 2, 10, 2, 5, 10, 10,\n",
              "                    5, 5, 5, 5, 2, 5, 2, 5, 5, 5, 10, 2, 2, 2, 5, 2, 5, 5,\n",
              "                    5, 5, 10, 5, 5, 2, 2, 10, 2, 5, 2, 5, 10, 2, 10, 2, 2,\n",
              "                    5, 10, 10, 10, 2, 5, 2, 5, 2, 2, 2, 5, 2, 10, 10, 5,\n",
              "                    10, 2, 10, 10, 10, 2, 2, 2, 5, 5, 2, 5, 5, 5, 10, 5],\n",
              "              mask=[False, False, False, False, False, False, False, False,\n",
              "                    False, False, False, False, False, False, False, False,\n",
              "                    False, False, False, False, False, False, False, False,\n",
              "                    False, False, False, False, False, False, False, False,\n",
              "                    False, False, False, False, False, False, False, False,\n",
              "                    False, False, False, False, False, False, False, False,\n",
              "                    False, False, False, False, False, False, False, False,\n",
              "                    False, False, False, False, False, False, False, False,\n",
              "                    False, False, False, False, False, False, False, False,\n",
              "                    False, False, False, False, False, False, False, False,\n",
              "                    False, False, False, False, False, False, False, False,\n",
              "                    False, False, False, False, False, False, False, False,\n",
              "                    False, False, False, False],\n",
              "        fill_value='?',\n",
              "             dtype=object),\n",
              " 'param_n_estimators': masked_array(data=[160, 10, 110, 50, 50, 60, 70, 40, 40, 40, 30, 60, 100,\n",
              "                    140, 120, 120, 10, 170, 70, 80, 100, 60, 200, 80, 150,\n",
              "                    170, 110, 190, 30, 80, 130, 160, 140, 140, 140, 170,\n",
              "                    130, 80, 70, 70, 20, 130, 60, 40, 20, 140, 60, 180,\n",
              "                    100, 130, 110, 140, 160, 20, 180, 160, 150, 100, 170,\n",
              "                    100, 90, 60, 120, 120, 90, 170, 90, 170, 70, 90, 80,\n",
              "                    160, 30, 190, 170, 120, 70, 70, 130, 20, 50, 130, 80,\n",
              "                    60, 150, 180, 200, 60, 30, 170, 90, 110, 140, 30, 110,\n",
              "                    60, 70, 150, 160, 40],\n",
              "              mask=[False, False, False, False, False, False, False, False,\n",
              "                    False, False, False, False, False, False, False, False,\n",
              "                    False, False, False, False, False, False, False, False,\n",
              "                    False, False, False, False, False, False, False, False,\n",
              "                    False, False, False, False, False, False, False, False,\n",
              "                    False, False, False, False, False, False, False, False,\n",
              "                    False, False, False, False, False, False, False, False,\n",
              "                    False, False, False, False, False, False, False, False,\n",
              "                    False, False, False, False, False, False, False, False,\n",
              "                    False, False, False, False, False, False, False, False,\n",
              "                    False, False, False, False, False, False, False, False,\n",
              "                    False, False, False, False, False, False, False, False,\n",
              "                    False, False, False, False],\n",
              "        fill_value='?',\n",
              "             dtype=object),\n",
              " 'params': [{'bootstrap': False,\n",
              "   'max_depth': 105,\n",
              "   'max_features': 'sqrt',\n",
              "   'min_samples_leaf': 4,\n",
              "   'min_samples_split': 2,\n",
              "   'n_estimators': 160},\n",
              "  {'bootstrap': True,\n",
              "   'max_depth': 15,\n",
              "   'max_features': 'auto',\n",
              "   'min_samples_leaf': 4,\n",
              "   'min_samples_split': 5,\n",
              "   'n_estimators': 10},\n",
              "  {'bootstrap': True,\n",
              "   'max_depth': 75,\n",
              "   'max_features': 'sqrt',\n",
              "   'min_samples_leaf': 4,\n",
              "   'min_samples_split': 10,\n",
              "   'n_estimators': 110},\n",
              "  {'bootstrap': False,\n",
              "   'max_depth': 55,\n",
              "   'max_features': 'auto',\n",
              "   'min_samples_leaf': 2,\n",
              "   'min_samples_split': 5,\n",
              "   'n_estimators': 50},\n",
              "  {'bootstrap': False,\n",
              "   'max_depth': 45,\n",
              "   'max_features': 'auto',\n",
              "   'min_samples_leaf': 4,\n",
              "   'min_samples_split': 2,\n",
              "   'n_estimators': 50},\n",
              "  {'bootstrap': True,\n",
              "   'max_depth': 90,\n",
              "   'max_features': 'auto',\n",
              "   'min_samples_leaf': 4,\n",
              "   'min_samples_split': 5,\n",
              "   'n_estimators': 60},\n",
              "  {'bootstrap': True,\n",
              "   'max_depth': 65,\n",
              "   'max_features': 'auto',\n",
              "   'min_samples_leaf': 2,\n",
              "   'min_samples_split': 10,\n",
              "   'n_estimators': 70},\n",
              "  {'bootstrap': False,\n",
              "   'max_depth': 90,\n",
              "   'max_features': 'auto',\n",
              "   'min_samples_leaf': 1,\n",
              "   'min_samples_split': 5,\n",
              "   'n_estimators': 40},\n",
              "  {'bootstrap': False,\n",
              "   'max_depth': 45,\n",
              "   'max_features': 'sqrt',\n",
              "   'min_samples_leaf': 1,\n",
              "   'min_samples_split': 5,\n",
              "   'n_estimators': 40},\n",
              "  {'bootstrap': False,\n",
              "   'max_depth': 110,\n",
              "   'max_features': 'sqrt',\n",
              "   'min_samples_leaf': 1,\n",
              "   'min_samples_split': 2,\n",
              "   'n_estimators': 40},\n",
              "  {'bootstrap': False,\n",
              "   'max_depth': 5,\n",
              "   'max_features': 'auto',\n",
              "   'min_samples_leaf': 1,\n",
              "   'min_samples_split': 10,\n",
              "   'n_estimators': 30},\n",
              "  {'bootstrap': True,\n",
              "   'max_depth': 25,\n",
              "   'max_features': 'sqrt',\n",
              "   'min_samples_leaf': 2,\n",
              "   'min_samples_split': 2,\n",
              "   'n_estimators': 60},\n",
              "  {'bootstrap': True,\n",
              "   'max_depth': 15,\n",
              "   'max_features': 'auto',\n",
              "   'min_samples_leaf': 1,\n",
              "   'min_samples_split': 10,\n",
              "   'n_estimators': 100},\n",
              "  {'bootstrap': True,\n",
              "   'max_depth': 35,\n",
              "   'max_features': 'sqrt',\n",
              "   'min_samples_leaf': 2,\n",
              "   'min_samples_split': 5,\n",
              "   'n_estimators': 140},\n",
              "  {'bootstrap': True,\n",
              "   'max_depth': 75,\n",
              "   'max_features': 'sqrt',\n",
              "   'min_samples_leaf': 2,\n",
              "   'min_samples_split': 5,\n",
              "   'n_estimators': 120},\n",
              "  {'bootstrap': True,\n",
              "   'max_depth': 75,\n",
              "   'max_features': 'auto',\n",
              "   'min_samples_leaf': 1,\n",
              "   'min_samples_split': 2,\n",
              "   'n_estimators': 120},\n",
              "  {'bootstrap': True,\n",
              "   'max_depth': 90,\n",
              "   'max_features': 'sqrt',\n",
              "   'min_samples_leaf': 4,\n",
              "   'min_samples_split': 2,\n",
              "   'n_estimators': 10},\n",
              "  {'bootstrap': True,\n",
              "   'max_depth': 90,\n",
              "   'max_features': 'sqrt',\n",
              "   'min_samples_leaf': 2,\n",
              "   'min_samples_split': 5,\n",
              "   'n_estimators': 170},\n",
              "  {'bootstrap': False,\n",
              "   'max_depth': 10,\n",
              "   'max_features': 'auto',\n",
              "   'min_samples_leaf': 1,\n",
              "   'min_samples_split': 5,\n",
              "   'n_estimators': 70},\n",
              "  {'bootstrap': True,\n",
              "   'max_depth': 40,\n",
              "   'max_features': 'sqrt',\n",
              "   'min_samples_leaf': 1,\n",
              "   'min_samples_split': 10,\n",
              "   'n_estimators': 80},\n",
              "  {'bootstrap': True,\n",
              "   'max_depth': 5,\n",
              "   'max_features': 'sqrt',\n",
              "   'min_samples_leaf': 1,\n",
              "   'min_samples_split': 2,\n",
              "   'n_estimators': 100},\n",
              "  {'bootstrap': True,\n",
              "   'max_depth': 45,\n",
              "   'max_features': 'auto',\n",
              "   'min_samples_leaf': 4,\n",
              "   'min_samples_split': 2,\n",
              "   'n_estimators': 60},\n",
              "  {'bootstrap': True,\n",
              "   'max_depth': 30,\n",
              "   'max_features': 'auto',\n",
              "   'min_samples_leaf': 2,\n",
              "   'min_samples_split': 5,\n",
              "   'n_estimators': 200},\n",
              "  {'bootstrap': True,\n",
              "   'max_depth': 20,\n",
              "   'max_features': 'sqrt',\n",
              "   'min_samples_leaf': 1,\n",
              "   'min_samples_split': 2,\n",
              "   'n_estimators': 80},\n",
              "  {'bootstrap': False,\n",
              "   'max_depth': 45,\n",
              "   'max_features': 'sqrt',\n",
              "   'min_samples_leaf': 1,\n",
              "   'min_samples_split': 10,\n",
              "   'n_estimators': 150},\n",
              "  {'bootstrap': True,\n",
              "   'max_depth': 50,\n",
              "   'max_features': 'sqrt',\n",
              "   'min_samples_leaf': 4,\n",
              "   'min_samples_split': 2,\n",
              "   'n_estimators': 170},\n",
              "  {'bootstrap': True,\n",
              "   'max_depth': 55,\n",
              "   'max_features': 'sqrt',\n",
              "   'min_samples_leaf': 2,\n",
              "   'min_samples_split': 10,\n",
              "   'n_estimators': 110},\n",
              "  {'bootstrap': False,\n",
              "   'max_depth': 10,\n",
              "   'max_features': 'sqrt',\n",
              "   'min_samples_leaf': 1,\n",
              "   'min_samples_split': 2,\n",
              "   'n_estimators': 190},\n",
              "  {'bootstrap': False,\n",
              "   'max_depth': 90,\n",
              "   'max_features': 'auto',\n",
              "   'min_samples_leaf': 2,\n",
              "   'min_samples_split': 10,\n",
              "   'n_estimators': 30},\n",
              "  {'bootstrap': False,\n",
              "   'max_depth': 35,\n",
              "   'max_features': 'sqrt',\n",
              "   'min_samples_leaf': 1,\n",
              "   'min_samples_split': 2,\n",
              "   'n_estimators': 80},\n",
              "  {'bootstrap': False,\n",
              "   'max_depth': 10,\n",
              "   'max_features': 'auto',\n",
              "   'min_samples_leaf': 4,\n",
              "   'min_samples_split': 5,\n",
              "   'n_estimators': 130},\n",
              "  {'bootstrap': False,\n",
              "   'max_depth': 35,\n",
              "   'max_features': 'auto',\n",
              "   'min_samples_leaf': 2,\n",
              "   'min_samples_split': 10,\n",
              "   'n_estimators': 160},\n",
              "  {'bootstrap': False,\n",
              "   'max_depth': 30,\n",
              "   'max_features': 'auto',\n",
              "   'min_samples_leaf': 4,\n",
              "   'min_samples_split': 10,\n",
              "   'n_estimators': 140},\n",
              "  {'bootstrap': False,\n",
              "   'max_depth': 5,\n",
              "   'max_features': 'auto',\n",
              "   'min_samples_leaf': 4,\n",
              "   'min_samples_split': 5,\n",
              "   'n_estimators': 140},\n",
              "  {'bootstrap': False,\n",
              "   'max_depth': 30,\n",
              "   'max_features': 'auto',\n",
              "   'min_samples_leaf': 4,\n",
              "   'min_samples_split': 5,\n",
              "   'n_estimators': 140},\n",
              "  {'bootstrap': False,\n",
              "   'max_depth': 40,\n",
              "   'max_features': 'sqrt',\n",
              "   'min_samples_leaf': 1,\n",
              "   'min_samples_split': 5,\n",
              "   'n_estimators': 170},\n",
              "  {'bootstrap': True,\n",
              "   'max_depth': 40,\n",
              "   'max_features': 'auto',\n",
              "   'min_samples_leaf': 2,\n",
              "   'min_samples_split': 5,\n",
              "   'n_estimators': 130},\n",
              "  {'bootstrap': False,\n",
              "   'max_depth': 105,\n",
              "   'max_features': 'sqrt',\n",
              "   'min_samples_leaf': 4,\n",
              "   'min_samples_split': 2,\n",
              "   'n_estimators': 80},\n",
              "  {'bootstrap': False,\n",
              "   'max_depth': 55,\n",
              "   'max_features': 'sqrt',\n",
              "   'min_samples_leaf': 4,\n",
              "   'min_samples_split': 5,\n",
              "   'n_estimators': 70},\n",
              "  {'bootstrap': True,\n",
              "   'max_depth': None,\n",
              "   'max_features': 'sqrt',\n",
              "   'min_samples_leaf': 4,\n",
              "   'min_samples_split': 2,\n",
              "   'n_estimators': 70},\n",
              "  {'bootstrap': False,\n",
              "   'max_depth': 90,\n",
              "   'max_features': 'auto',\n",
              "   'min_samples_leaf': 4,\n",
              "   'min_samples_split': 5,\n",
              "   'n_estimators': 20},\n",
              "  {'bootstrap': True,\n",
              "   'max_depth': 45,\n",
              "   'max_features': 'sqrt',\n",
              "   'min_samples_leaf': 2,\n",
              "   'min_samples_split': 5,\n",
              "   'n_estimators': 130},\n",
              "  {'bootstrap': True,\n",
              "   'max_depth': 25,\n",
              "   'max_features': 'auto',\n",
              "   'min_samples_leaf': 4,\n",
              "   'min_samples_split': 5,\n",
              "   'n_estimators': 60},\n",
              "  {'bootstrap': True,\n",
              "   'max_depth': 55,\n",
              "   'max_features': 'sqrt',\n",
              "   'min_samples_leaf': 4,\n",
              "   'min_samples_split': 10,\n",
              "   'n_estimators': 40},\n",
              "  {'bootstrap': True,\n",
              "   'max_depth': 15,\n",
              "   'max_features': 'sqrt',\n",
              "   'min_samples_leaf': 4,\n",
              "   'min_samples_split': 2,\n",
              "   'n_estimators': 20},\n",
              "  {'bootstrap': False,\n",
              "   'max_depth': 50,\n",
              "   'max_features': 'auto',\n",
              "   'min_samples_leaf': 4,\n",
              "   'min_samples_split': 2,\n",
              "   'n_estimators': 140},\n",
              "  {'bootstrap': False,\n",
              "   'max_depth': 40,\n",
              "   'max_features': 'auto',\n",
              "   'min_samples_leaf': 1,\n",
              "   'min_samples_split': 2,\n",
              "   'n_estimators': 60},\n",
              "  {'bootstrap': False,\n",
              "   'max_depth': 75,\n",
              "   'max_features': 'auto',\n",
              "   'min_samples_leaf': 2,\n",
              "   'min_samples_split': 5,\n",
              "   'n_estimators': 180},\n",
              "  {'bootstrap': True,\n",
              "   'max_depth': None,\n",
              "   'max_features': 'auto',\n",
              "   'min_samples_leaf': 2,\n",
              "   'min_samples_split': 2,\n",
              "   'n_estimators': 100},\n",
              "  {'bootstrap': False,\n",
              "   'max_depth': 20,\n",
              "   'max_features': 'sqrt',\n",
              "   'min_samples_leaf': 4,\n",
              "   'min_samples_split': 5,\n",
              "   'n_estimators': 130},\n",
              "  {'bootstrap': False,\n",
              "   'max_depth': 70,\n",
              "   'max_features': 'auto',\n",
              "   'min_samples_leaf': 1,\n",
              "   'min_samples_split': 5,\n",
              "   'n_estimators': 110},\n",
              "  {'bootstrap': True,\n",
              "   'max_depth': 100,\n",
              "   'max_features': 'auto',\n",
              "   'min_samples_leaf': 1,\n",
              "   'min_samples_split': 5,\n",
              "   'n_estimators': 140},\n",
              "  {'bootstrap': True,\n",
              "   'max_depth': 80,\n",
              "   'max_features': 'sqrt',\n",
              "   'min_samples_leaf': 2,\n",
              "   'min_samples_split': 5,\n",
              "   'n_estimators': 160},\n",
              "  {'bootstrap': True,\n",
              "   'max_depth': 5,\n",
              "   'max_features': 'auto',\n",
              "   'min_samples_leaf': 4,\n",
              "   'min_samples_split': 10,\n",
              "   'n_estimators': 20},\n",
              "  {'bootstrap': True,\n",
              "   'max_depth': 60,\n",
              "   'max_features': 'sqrt',\n",
              "   'min_samples_leaf': 4,\n",
              "   'min_samples_split': 5,\n",
              "   'n_estimators': 180},\n",
              "  {'bootstrap': True,\n",
              "   'max_depth': 15,\n",
              "   'max_features': 'sqrt',\n",
              "   'min_samples_leaf': 2,\n",
              "   'min_samples_split': 5,\n",
              "   'n_estimators': 160},\n",
              "  {'bootstrap': False,\n",
              "   'max_depth': 50,\n",
              "   'max_features': 'auto',\n",
              "   'min_samples_leaf': 1,\n",
              "   'min_samples_split': 2,\n",
              "   'n_estimators': 150},\n",
              "  {'bootstrap': True,\n",
              "   'max_depth': 110,\n",
              "   'max_features': 'auto',\n",
              "   'min_samples_leaf': 2,\n",
              "   'min_samples_split': 2,\n",
              "   'n_estimators': 100},\n",
              "  {'bootstrap': True,\n",
              "   'max_depth': 15,\n",
              "   'max_features': 'sqrt',\n",
              "   'min_samples_leaf': 2,\n",
              "   'min_samples_split': 10,\n",
              "   'n_estimators': 170},\n",
              "  {'bootstrap': False,\n",
              "   'max_depth': 5,\n",
              "   'max_features': 'sqrt',\n",
              "   'min_samples_leaf': 2,\n",
              "   'min_samples_split': 2,\n",
              "   'n_estimators': 100},\n",
              "  {'bootstrap': False,\n",
              "   'max_depth': 15,\n",
              "   'max_features': 'sqrt',\n",
              "   'min_samples_leaf': 2,\n",
              "   'min_samples_split': 5,\n",
              "   'n_estimators': 90},\n",
              "  {'bootstrap': False,\n",
              "   'max_depth': 55,\n",
              "   'max_features': 'sqrt',\n",
              "   'min_samples_leaf': 4,\n",
              "   'min_samples_split': 2,\n",
              "   'n_estimators': 60},\n",
              "  {'bootstrap': True,\n",
              "   'max_depth': 90,\n",
              "   'max_features': 'sqrt',\n",
              "   'min_samples_leaf': 1,\n",
              "   'min_samples_split': 5,\n",
              "   'n_estimators': 120},\n",
              "  {'bootstrap': False,\n",
              "   'max_depth': 5,\n",
              "   'max_features': 'sqrt',\n",
              "   'min_samples_leaf': 2,\n",
              "   'min_samples_split': 10,\n",
              "   'n_estimators': 120},\n",
              "  {'bootstrap': True,\n",
              "   'max_depth': 105,\n",
              "   'max_features': 'auto',\n",
              "   'min_samples_leaf': 1,\n",
              "   'min_samples_split': 2,\n",
              "   'n_estimators': 90},\n",
              "  {'bootstrap': True,\n",
              "   'max_depth': 75,\n",
              "   'max_features': 'sqrt',\n",
              "   'min_samples_leaf': 1,\n",
              "   'min_samples_split': 10,\n",
              "   'n_estimators': 170},\n",
              "  {'bootstrap': False,\n",
              "   'max_depth': None,\n",
              "   'max_features': 'sqrt',\n",
              "   'min_samples_leaf': 2,\n",
              "   'min_samples_split': 2,\n",
              "   'n_estimators': 90},\n",
              "  {'bootstrap': False,\n",
              "   'max_depth': None,\n",
              "   'max_features': 'auto',\n",
              "   'min_samples_leaf': 1,\n",
              "   'min_samples_split': 2,\n",
              "   'n_estimators': 170},\n",
              "  {'bootstrap': True,\n",
              "   'max_depth': None,\n",
              "   'max_features': 'auto',\n",
              "   'min_samples_leaf': 2,\n",
              "   'min_samples_split': 5,\n",
              "   'n_estimators': 70},\n",
              "  {'bootstrap': True,\n",
              "   'max_depth': 40,\n",
              "   'max_features': 'auto',\n",
              "   'min_samples_leaf': 1,\n",
              "   'min_samples_split': 10,\n",
              "   'n_estimators': 90},\n",
              "  {'bootstrap': True,\n",
              "   'max_depth': 30,\n",
              "   'max_features': 'sqrt',\n",
              "   'min_samples_leaf': 1,\n",
              "   'min_samples_split': 10,\n",
              "   'n_estimators': 80},\n",
              "  {'bootstrap': True,\n",
              "   'max_depth': 40,\n",
              "   'max_features': 'auto',\n",
              "   'min_samples_leaf': 4,\n",
              "   'min_samples_split': 10,\n",
              "   'n_estimators': 160},\n",
              "  {'bootstrap': False,\n",
              "   'max_depth': 100,\n",
              "   'max_features': 'sqrt',\n",
              "   'min_samples_leaf': 4,\n",
              "   'min_samples_split': 2,\n",
              "   'n_estimators': 30},\n",
              "  {'bootstrap': True,\n",
              "   'max_depth': 75,\n",
              "   'max_features': 'sqrt',\n",
              "   'min_samples_leaf': 1,\n",
              "   'min_samples_split': 5,\n",
              "   'n_estimators': 190},\n",
              "  {'bootstrap': True,\n",
              "   'max_depth': 95,\n",
              "   'max_features': 'sqrt',\n",
              "   'min_samples_leaf': 2,\n",
              "   'min_samples_split': 2,\n",
              "   'n_estimators': 170},\n",
              "  {'bootstrap': True,\n",
              "   'max_depth': 10,\n",
              "   'max_features': 'auto',\n",
              "   'min_samples_leaf': 1,\n",
              "   'min_samples_split': 5,\n",
              "   'n_estimators': 120},\n",
              "  {'bootstrap': False,\n",
              "   'max_depth': 80,\n",
              "   'max_features': 'sqrt',\n",
              "   'min_samples_leaf': 4,\n",
              "   'min_samples_split': 2,\n",
              "   'n_estimators': 70},\n",
              "  {'bootstrap': False,\n",
              "   'max_depth': 65,\n",
              "   'max_features': 'auto',\n",
              "   'min_samples_leaf': 2,\n",
              "   'min_samples_split': 2,\n",
              "   'n_estimators': 70},\n",
              "  {'bootstrap': True,\n",
              "   'max_depth': 85,\n",
              "   'max_features': 'auto',\n",
              "   'min_samples_leaf': 4,\n",
              "   'min_samples_split': 2,\n",
              "   'n_estimators': 130},\n",
              "  {'bootstrap': True,\n",
              "   'max_depth': 50,\n",
              "   'max_features': 'sqrt',\n",
              "   'min_samples_leaf': 4,\n",
              "   'min_samples_split': 5,\n",
              "   'n_estimators': 20},\n",
              "  {'bootstrap': True,\n",
              "   'max_depth': 90,\n",
              "   'max_features': 'auto',\n",
              "   'min_samples_leaf': 2,\n",
              "   'min_samples_split': 2,\n",
              "   'n_estimators': 50},\n",
              "  {'bootstrap': False,\n",
              "   'max_depth': 5,\n",
              "   'max_features': 'auto',\n",
              "   'min_samples_leaf': 2,\n",
              "   'min_samples_split': 10,\n",
              "   'n_estimators': 130},\n",
              "  {'bootstrap': False,\n",
              "   'max_depth': 70,\n",
              "   'max_features': 'auto',\n",
              "   'min_samples_leaf': 2,\n",
              "   'min_samples_split': 10,\n",
              "   'n_estimators': 80},\n",
              "  {'bootstrap': False,\n",
              "   'max_depth': 100,\n",
              "   'max_features': 'auto',\n",
              "   'min_samples_leaf': 4,\n",
              "   'min_samples_split': 5,\n",
              "   'n_estimators': 60},\n",
              "  {'bootstrap': True,\n",
              "   'max_depth': 35,\n",
              "   'max_features': 'sqrt',\n",
              "   'min_samples_leaf': 2,\n",
              "   'min_samples_split': 10,\n",
              "   'n_estimators': 150},\n",
              "  {'bootstrap': False,\n",
              "   'max_depth': 50,\n",
              "   'max_features': 'sqrt',\n",
              "   'min_samples_leaf': 4,\n",
              "   'min_samples_split': 2,\n",
              "   'n_estimators': 180},\n",
              "  {'bootstrap': False,\n",
              "   'max_depth': 80,\n",
              "   'max_features': 'sqrt',\n",
              "   'min_samples_leaf': 4,\n",
              "   'min_samples_split': 10,\n",
              "   'n_estimators': 200},\n",
              "  {'bootstrap': False,\n",
              "   'max_depth': 40,\n",
              "   'max_features': 'auto',\n",
              "   'min_samples_leaf': 4,\n",
              "   'min_samples_split': 10,\n",
              "   'n_estimators': 60},\n",
              "  {'bootstrap': False,\n",
              "   'max_depth': 25,\n",
              "   'max_features': 'auto',\n",
              "   'min_samples_leaf': 1,\n",
              "   'min_samples_split': 10,\n",
              "   'n_estimators': 30},\n",
              "  {'bootstrap': True,\n",
              "   'max_depth': 75,\n",
              "   'max_features': 'auto',\n",
              "   'min_samples_leaf': 1,\n",
              "   'min_samples_split': 2,\n",
              "   'n_estimators': 170},\n",
              "  {'bootstrap': False,\n",
              "   'max_depth': 95,\n",
              "   'max_features': 'sqrt',\n",
              "   'min_samples_leaf': 1,\n",
              "   'min_samples_split': 2,\n",
              "   'n_estimators': 90},\n",
              "  {'bootstrap': True,\n",
              "   'max_depth': None,\n",
              "   'max_features': 'sqrt',\n",
              "   'min_samples_leaf': 1,\n",
              "   'min_samples_split': 2,\n",
              "   'n_estimators': 110},\n",
              "  {'bootstrap': False,\n",
              "   'max_depth': 80,\n",
              "   'max_features': 'auto',\n",
              "   'min_samples_leaf': 2,\n",
              "   'min_samples_split': 5,\n",
              "   'n_estimators': 140},\n",
              "  {'bootstrap': True,\n",
              "   'max_depth': 10,\n",
              "   'max_features': 'auto',\n",
              "   'min_samples_leaf': 4,\n",
              "   'min_samples_split': 5,\n",
              "   'n_estimators': 30},\n",
              "  {'bootstrap': True,\n",
              "   'max_depth': 100,\n",
              "   'max_features': 'auto',\n",
              "   'min_samples_leaf': 2,\n",
              "   'min_samples_split': 2,\n",
              "   'n_estimators': 110},\n",
              "  {'bootstrap': False,\n",
              "   'max_depth': 65,\n",
              "   'max_features': 'auto',\n",
              "   'min_samples_leaf': 2,\n",
              "   'min_samples_split': 5,\n",
              "   'n_estimators': 60},\n",
              "  {'bootstrap': True,\n",
              "   'max_depth': 5,\n",
              "   'max_features': 'sqrt',\n",
              "   'min_samples_leaf': 1,\n",
              "   'min_samples_split': 5,\n",
              "   'n_estimators': 70},\n",
              "  {'bootstrap': False,\n",
              "   'max_depth': 110,\n",
              "   'max_features': 'auto',\n",
              "   'min_samples_leaf': 2,\n",
              "   'min_samples_split': 5,\n",
              "   'n_estimators': 150},\n",
              "  {'bootstrap': False,\n",
              "   'max_depth': 10,\n",
              "   'max_features': 'auto',\n",
              "   'min_samples_leaf': 2,\n",
              "   'min_samples_split': 10,\n",
              "   'n_estimators': 160},\n",
              "  {'bootstrap': False,\n",
              "   'max_depth': 60,\n",
              "   'max_features': 'auto',\n",
              "   'min_samples_leaf': 4,\n",
              "   'min_samples_split': 5,\n",
              "   'n_estimators': 40}],\n",
              " 'rank_test_score': array([  9,  61,  55,  84,  67,  46,  43,  95,   6,   4, 100,  33,  59,\n",
              "         36,  34,  11,  62,  35,  86,  47,  90,  48,  25,  20,   7,  53,\n",
              "         51,  64,  81,   2,  75,  85,  71,  98,  69,   3,  32,  13,  18,\n",
              "         54,  73,  37,  45,  57,  63,  68,  93,  79,  27,  23,  97,  28,\n",
              "         38,  87,  52,  56,  94,  30,  60,  88,  39,  17,  19,  89,  14,\n",
              "         41,   5,  91,  31,  40,  42,  49,  21,  15,  24,  65,  16,  77,\n",
              "         44,  58,  29,  99,  80,  74,  50,  10,  22,  72,  96,  12,   1,\n",
              "          8,  78,  66,  26,  83,  92,  82,  76,  70], dtype=int32),\n",
              " 'split0_test_score': array([0.5023594 , 0.4146331 , 0.43913514, 0.21577135, 0.23997382,\n",
              "        0.46656507, 0.47074968, 0.1950494 , 0.54232827, 0.55240891,\n",
              "        0.16634027, 0.48284616, 0.43760464, 0.48201748, 0.48367315,\n",
              "        0.50768812, 0.40157121, 0.48243755, 0.23650779, 0.46914783,\n",
              "        0.17616382, 0.46358097, 0.49854423, 0.49278395, 0.52778396,\n",
              "        0.44748237, 0.45706933, 0.35821886, 0.21057664, 0.5529416 ,\n",
              "        0.23936701, 0.20912739, 0.23866133, 0.1669599 , 0.2397246 ,\n",
              "        0.54977352, 0.49262549, 0.49471722, 0.49365244, 0.44075599,\n",
              "        0.23944014, 0.48416639, 0.46443035, 0.43120389, 0.39141434,\n",
              "        0.24070224, 0.20301728, 0.21615998, 0.49743355, 0.49378499,\n",
              "        0.19781063, 0.49648021, 0.48019267, 0.20251589, 0.4493874 ,\n",
              "        0.43206625, 0.19810822, 0.49285288, 0.41236991, 0.17615833,\n",
              "        0.47975123, 0.49558632, 0.49883051, 0.17660588, 0.50619375,\n",
              "        0.46742352, 0.54034731, 0.20206213, 0.49372689, 0.47480727,\n",
              "        0.46949727, 0.46059557, 0.49759164, 0.50173487, 0.48773096,\n",
              "        0.36573798, 0.50132412, 0.22269458, 0.46981092, 0.43517448,\n",
              "        0.49511665, 0.16632719, 0.21108097, 0.23719732, 0.45808877,\n",
              "        0.50018969, 0.49409629, 0.23671162, 0.19885444, 0.50577739,\n",
              "        0.5594031 , 0.5143584 , 0.2162399 , 0.36106212, 0.49485352,\n",
              "        0.21413934, 0.17168205, 0.21433059, 0.23545255, 0.24165543]),\n",
              " 'split1_test_score': array([0.52110957, 0.42991109, 0.47037895, 0.19632501, 0.22595534,\n",
              "        0.48158819, 0.48249683, 0.16614354, 0.54177547, 0.54574925,\n",
              "        0.1606674 , 0.5033329 , 0.4537073 , 0.50027927, 0.50122857,\n",
              "        0.51562483, 0.44068461, 0.50044308, 0.2044052 , 0.4790876 ,\n",
              "        0.18385912, 0.4910695 , 0.50407639, 0.51005032, 0.53049994,\n",
              "        0.47167776, 0.48065323, 0.38172722, 0.19180929, 0.54913617,\n",
              "        0.20335161, 0.19149201, 0.23010006, 0.16188907, 0.22539527,\n",
              "        0.55099402, 0.50121402, 0.51910775, 0.51987528, 0.46950399,\n",
              "        0.2234992 , 0.50086579, 0.48328857, 0.46174626, 0.41820742,\n",
              "        0.22584022, 0.16628572, 0.19449867, 0.5039128 , 0.51033372,\n",
              "        0.16604088, 0.50753889, 0.5019185 , 0.20709115, 0.46820897,\n",
              "        0.46206288, 0.16723006, 0.50576011, 0.44384073, 0.18372587,\n",
              "        0.49513043, 0.51654732, 0.5088456 , 0.18265883, 0.51202862,\n",
              "        0.48601252, 0.55135234, 0.16889008, 0.5024359 , 0.4887525 ,\n",
              "        0.48658678, 0.48336742, 0.51317146, 0.51304177, 0.50870946,\n",
              "        0.3841781 , 0.51534228, 0.18849179, 0.48159022, 0.44898251,\n",
              "        0.51317449, 0.16123787, 0.19235734, 0.22564246, 0.47546328,\n",
              "        0.52097718, 0.51461918, 0.23095362, 0.15426882, 0.51394626,\n",
              "        0.55425886, 0.53106819, 0.19538859, 0.37103519, 0.50767857,\n",
              "        0.19722752, 0.17419561, 0.19526825, 0.18666018, 0.22500223]),\n",
              " 'split2_test_score': array([0.49670487, 0.4220533 , 0.44514683, 0.24147897, 0.26876524,\n",
              "        0.46458862, 0.46696648, 0.14699214, 0.53068969, 0.53750156,\n",
              "        0.15331844, 0.4844026 , 0.4326607 , 0.48318188, 0.48413388,\n",
              "        0.49473349, 0.41967475, 0.48479495, 0.20650433, 0.46150574,\n",
              "        0.17296306, 0.45445406, 0.48695034, 0.49996881, 0.51580242,\n",
              "        0.45158978, 0.45560737, 0.37225632, 0.25473565, 0.548257  ,\n",
              "        0.26730506, 0.25278334, 0.26345534, 0.16664657, 0.26882163,\n",
              "        0.53635718, 0.48431169, 0.50015215, 0.49460057, 0.45420657,\n",
              "        0.26671208, 0.48034327, 0.46650658, 0.44009505, 0.42624181,\n",
              "        0.26765091, 0.14887341, 0.24882727, 0.48700859, 0.49260143,\n",
              "        0.14413447, 0.4841225 , 0.48187475, 0.20841342, 0.45613912,\n",
              "        0.44727425, 0.14958807, 0.48684525, 0.42699559, 0.1812088 ,\n",
              "        0.4835918 , 0.49824525, 0.49727549, 0.17857948, 0.49362113,\n",
              "        0.46831678, 0.53523392, 0.15274584, 0.48542839, 0.46101455,\n",
              "        0.46487033, 0.45466772, 0.4913714 , 0.49625885, 0.49489385,\n",
              "        0.3614294 , 0.49376961, 0.25013314, 0.46513174, 0.44779048,\n",
              "        0.47980048, 0.15288805, 0.25377939, 0.26660355, 0.46037042,\n",
              "        0.49794362, 0.49217221, 0.26349454, 0.15498397, 0.49757141,\n",
              "        0.54516757, 0.5115225 , 0.24809591, 0.36702722, 0.48667157,\n",
              "        0.24509178, 0.17749177, 0.24735011, 0.26537719, 0.2672156 ]),\n",
              " 'std_fit_time': array([1.00507266e-01, 3.66547085e-03, 1.50287773e-02, 3.76004251e-01,\n",
              "        2.06050682e-01, 1.02593287e-01, 1.25138527e-01, 3.37884043e-01,\n",
              "        4.44067709e-02, 4.72671210e-02, 1.60920003e-02, 2.72982994e-02,\n",
              "        9.09861421e-02, 3.52300659e-02, 1.82478965e-02, 2.57112846e+00,\n",
              "        1.99872848e-02, 5.61192336e-02, 2.25414818e-02, 1.30695444e-02,\n",
              "        1.39470717e-02, 1.48462898e-01, 3.77653328e-01, 1.88340607e-02,\n",
              "        4.43432440e-02, 4.05225713e-02, 2.89360250e-02, 2.56702413e-02,\n",
              "        2.28191793e-01, 5.31969627e-02, 2.42838242e-01, 1.01948896e+00,\n",
              "        6.84773713e-01, 3.94597893e-02, 7.03282503e-01, 4.08930147e-02,\n",
              "        3.24306799e-01, 2.93679380e-02, 2.22312114e-02, 6.70236233e-03,\n",
              "        9.87662549e-02, 5.05602980e-02, 3.73296962e-02, 2.79056783e-02,\n",
              "        6.62034147e-03, 7.23064162e-01, 5.10544390e-01, 1.10824690e+00,\n",
              "        2.75251227e-01, 4.86670331e-02, 9.69575693e-01, 3.35506184e-01,\n",
              "        4.95729629e-02, 1.81469083e-03, 7.76855770e-03, 1.17415777e-02,\n",
              "        1.32677379e+00, 1.49359094e-01, 2.69264124e-02, 3.38770681e-03,\n",
              "        1.02965832e-02, 1.92165876e-02, 3.18315217e-02, 2.15503227e-02,\n",
              "        2.29532620e-01, 7.92811286e-03, 2.53375031e-02, 1.53701118e+00,\n",
              "        1.59730627e-01, 1.90838451e-01, 2.09115243e-02, 2.12597112e-01,\n",
              "        9.60207470e-03, 2.77661877e-02, 4.14967702e-02, 2.29268238e-02,\n",
              "        2.23288007e-02, 5.08421965e-01, 2.46554836e-01, 8.20042591e-03,\n",
              "        1.30082682e-01, 1.32582525e-02, 6.11574497e-01, 3.40476784e-01,\n",
              "        5.98329919e-02, 1.46157462e-01, 3.61809313e-02, 3.12139908e-01,\n",
              "        1.93897248e-01, 3.00870902e-01, 4.27453217e-02, 2.03906997e-02,\n",
              "        1.09376509e+00, 3.04607238e-02, 1.91774554e-01, 3.93978000e-01,\n",
              "        8.08769556e-03, 1.05259029e+00, 9.74060262e-02, 1.79931914e-01]),\n",
              " 'std_score_time': array([0.00131311, 0.00018601, 0.00091521, 0.00017307, 0.00052479,\n",
              "        0.00702101, 0.00062786, 0.00085047, 0.00051232, 0.00051767,\n",
              "        0.00049652, 0.00330529, 0.00047357, 0.00045677, 0.00521646,\n",
              "        0.00309887, 0.00023067, 0.00124427, 0.00057398, 0.00158866,\n",
              "        0.00027303, 0.00058226, 0.00135591, 0.00132188, 0.00149495,\n",
              "        0.0007801 , 0.00197848, 0.00450104, 0.00130417, 0.00156681,\n",
              "        0.00265774, 0.00253061, 0.00423303, 0.00102312, 0.00049704,\n",
              "        0.00126209, 0.0012782 , 0.00058309, 0.00047191, 0.00163326,\n",
              "        0.00037365, 0.00113494, 0.00503063, 0.00054223, 0.00015726,\n",
              "        0.01990319, 0.00404258, 0.00661773, 0.00524563, 0.00032589,\n",
              "        0.00128709, 0.0020962 , 0.00095845, 0.00018421, 0.00658226,\n",
              "        0.00408179, 0.00923208, 0.00115112, 0.00254604, 0.00071375,\n",
              "        0.00085212, 0.00093211, 0.00401297, 0.00113977, 0.00037005,\n",
              "        0.00128989, 0.00131176, 0.00392271, 0.00070143, 0.00119498,\n",
              "        0.00099261, 0.00034054, 0.00017433, 0.00956962, 0.00187598,\n",
              "        0.00029799, 0.00057029, 0.00391808, 0.00097595, 0.00362337,\n",
              "        0.0010757 , 0.00076535, 0.00215481, 0.0006984 , 0.00136216,\n",
              "        0.00827697, 0.00037691, 0.00147133, 0.00036578, 0.00325813,\n",
              "        0.00141121, 0.00406314, 0.00229994, 0.00014586, 0.00096418,\n",
              "        0.00107576, 0.00018418, 0.00054727, 0.00693223, 0.00527202]),\n",
              " 'std_test_score': array([0.01043036, 0.00623806, 0.01353587, 0.01849301, 0.01782056,\n",
              "        0.00759083, 0.00661228, 0.01975355, 0.00536094, 0.0060974 ,\n",
              "        0.0053308 , 0.00931239, 0.00898578, 0.00834779, 0.00816928,\n",
              "        0.00861047, 0.01598267, 0.00799041, 0.0146636 , 0.00719817,\n",
              "        0.0045727 , 0.0155621 , 0.00713618, 0.00708195, 0.00638532,\n",
              "        0.01057153, 0.01147767, 0.00965742, 0.02637751, 0.00203305,\n",
              "        0.02617821, 0.02576275, 0.01414454, 0.00232009, 0.01806721,\n",
              "        0.00663095, 0.00690065, 0.01045494, 0.01214426, 0.01174439,\n",
              "        0.0178426 , 0.00891104, 0.00844313, 0.01282646, 0.01488987,\n",
              "        0.01730525, 0.0225683 , 0.02233075, 0.0069635 , 0.00809455,\n",
              "        0.02203618, 0.0095646 , 0.0098691 , 0.0025268 , 0.00778545,\n",
              "        0.01224647, 0.02005245, 0.00789135, 0.01285856, 0.00314661,\n",
              "        0.00653546, 0.00931784, 0.00512714, 0.00252046, 0.0076808 ,\n",
              "        0.00856017, 0.00672525, 0.02052943, 0.00694396, 0.01132403,\n",
              "        0.00933966, 0.01237098, 0.00916918, 0.00698808, 0.0087068 ,\n",
              "        0.00986636, 0.00893781, 0.02521543, 0.00692442, 0.00624718,\n",
              "        0.0136402 , 0.00554007, 0.0257043 , 0.01724353, 0.00770911,\n",
              "        0.01036934, 0.01015851, 0.01417898, 0.02085134, 0.00668501,\n",
              "        0.00588562, 0.00862357, 0.02167345, 0.00409754, 0.00864562,\n",
              "        0.01981876, 0.00237897, 0.02151532, 0.03244233, 0.01736094])}"
            ]
          },
          "metadata": {
            "tags": []
          },
          "execution_count": 10
        }
      ]
    },
    {
      "cell_type": "markdown",
      "metadata": {
        "id": "b4wn3q-KAyk0"
      },
      "source": [
        "#**Evaluation Function**"
      ]
    },
    {
      "cell_type": "code",
      "metadata": {
        "id": "ELQWe8NetiQu"
      },
      "source": [
        "def evaluate(model, test_features, test_labels):\n",
        "    predictions = model.predict(test_features)\n",
        "    errors = abs(predictions - test_labels)\n",
        "    mape = 100 * np.mean(errors / test_labels)\n",
        "    accuracy = 100 - mape\n",
        "    print('Model Performance')\n",
        "    print('Average Error: {:0.4f} degrees.'.format(np.mean(errors)))\n",
        "    print('Accuracy = {:0.2f}%.'.format(accuracy))\n",
        "    \n",
        "    return accuracy"
      ],
      "execution_count": 11,
      "outputs": []
    },
    {
      "cell_type": "markdown",
      "metadata": {
        "id": "3Q_f0JSCB8Ye"
      },
      "source": [
        "#####**Evaluate the Default Model**\n"
      ]
    },
    {
      "cell_type": "code",
      "metadata": {
        "colab": {
          "base_uri": "https://localhost:8080/"
        },
        "id": "y5JSCsdjth5z",
        "outputId": "2225c2f7-64d2-4615-c2ff-f29b7996bfdb"
      },
      "source": [
        "base_model = RandomForestRegressor(n_estimators = 10, random_state = 42)\n",
        "base_model.fit(X_train, y_train)\n",
        "base_accuracy = evaluate(base_model, X_test, y_test)"
      ],
      "execution_count": 12,
      "outputs": [
        {
          "output_type": "stream",
          "text": [
            "Model Performance\n",
            "Average Error: 33.9530 degrees.\n",
            "Accuracy = 66.89%.\n"
          ],
          "name": "stdout"
        }
      ]
    },
    {
      "cell_type": "markdown",
      "metadata": {
        "id": "6WlCoD4_IGaY"
      },
      "source": [
        "#####**Evaluate the Best Random Search Model**\n"
      ]
    },
    {
      "cell_type": "code",
      "metadata": {
        "colab": {
          "base_uri": "https://localhost:8080/"
        },
        "id": "9qq1LYecILN0",
        "outputId": "d2bba450-9188-4617-907b-ea05a119a219"
      },
      "source": [
        "best_random = rf_random.best_estimator_\n",
        "random_accuracy = evaluate(best_random, X_test, y_test)"
      ],
      "execution_count": 13,
      "outputs": [
        {
          "output_type": "stream",
          "text": [
            "Model Performance\n",
            "Average Error: 28.8483 degrees.\n",
            "Accuracy = 72.39%.\n"
          ],
          "name": "stdout"
        }
      ]
    },
    {
      "cell_type": "code",
      "metadata": {
        "colab": {
          "base_uri": "https://localhost:8080/"
        },
        "id": "isEJ0FnUTl7u",
        "outputId": "aa1838c8-a4fa-4e7e-a0e4-70171cdb3473"
      },
      "source": [
        "print('Improvement of {:0.2f}%.'.format( 100 * (random_accuracy - base_accuracy) / base_accuracy))"
      ],
      "execution_count": 14,
      "outputs": [
        {
          "output_type": "stream",
          "text": [
            "Improvement of 8.23%.\n"
          ],
          "name": "stdout"
        }
      ]
    },
    {
      "cell_type": "markdown",
      "metadata": {
        "id": "fEWLYCflT2xr"
      },
      "source": [
        "#**Grid Search**\n"
      ]
    },
    {
      "cell_type": "markdown",
      "metadata": {
        "id": "k6ON8CtKT-DK"
      },
      "source": [
        "We can now perform grid search building on the result from the random search. We will test a range of hyperparameters around the best values returned by random search."
      ]
    },
    {
      "cell_type": "code",
      "metadata": {
        "id": "vOOvsHWvT7Lk"
      },
      "source": [
        "from sklearn.model_selection import GridSearchCV\n",
        "\n",
        "# Create the parameter grid based on the results of random search \n",
        "param_grid = {\n",
        "    'bootstrap': [False],\n",
        "    'max_depth': [100,110,120,130,140,150],\n",
        "    'max_features': ['sqrt'],\n",
        "    'min_samples_leaf': [1, 2, 3],\n",
        "    'min_samples_split': [1, 2, 4, 6],\n",
        "    'n_estimators': [80, 100, 110, 120]\n",
        "}\n",
        "\n",
        "# Create a base model\n",
        "rf = RandomForestRegressor(random_state = 42)\n",
        "\n",
        "# Instantiate the grid search model\n",
        "grid_search = GridSearchCV(estimator = rf, param_grid = param_grid, \n",
        "                          cv = 3, n_jobs = -1, verbose = 2, return_train_score=True)"
      ],
      "execution_count": 15,
      "outputs": []
    },
    {
      "cell_type": "code",
      "metadata": {
        "colab": {
          "base_uri": "https://localhost:8080/"
        },
        "id": "v2KNJIelT7TL",
        "outputId": "4c583c99-487f-40ea-e822-9315e9192203"
      },
      "source": [
        "grid_search.fit(X_train, y_train)"
      ],
      "execution_count": 16,
      "outputs": [
        {
          "output_type": "stream",
          "text": [
            "Fitting 3 folds for each of 288 candidates, totalling 864 fits\n"
          ],
          "name": "stdout"
        },
        {
          "output_type": "stream",
          "text": [
            "[Parallel(n_jobs=-1)]: Using backend LokyBackend with 2 concurrent workers.\n",
            "[Parallel(n_jobs=-1)]: Done  45 tasks      | elapsed:  2.9min\n",
            "[Parallel(n_jobs=-1)]: Done 166 tasks      | elapsed:  9.8min\n",
            "[Parallel(n_jobs=-1)]: Done 369 tasks      | elapsed: 22.6min\n",
            "[Parallel(n_jobs=-1)]: Done 652 tasks      | elapsed: 39.9min\n",
            "[Parallel(n_jobs=-1)]: Done 864 out of 864 | elapsed: 53.2min finished\n"
          ],
          "name": "stderr"
        },
        {
          "output_type": "execute_result",
          "data": {
            "text/plain": [
              "GridSearchCV(cv=3, error_score=nan,\n",
              "             estimator=RandomForestRegressor(bootstrap=True, ccp_alpha=0.0,\n",
              "                                             criterion='mse', max_depth=None,\n",
              "                                             max_features='auto',\n",
              "                                             max_leaf_nodes=None,\n",
              "                                             max_samples=None,\n",
              "                                             min_impurity_decrease=0.0,\n",
              "                                             min_impurity_split=None,\n",
              "                                             min_samples_leaf=1,\n",
              "                                             min_samples_split=2,\n",
              "                                             min_weight_fraction_leaf=0.0,\n",
              "                                             n_estimators=100, n_jobs=None,\n",
              "                                             oob_score=False, random_state=42,\n",
              "                                             verbose=0, warm_start=False),\n",
              "             iid='deprecated', n_jobs=-1,\n",
              "             param_grid={'bootstrap': [False],\n",
              "                         'max_depth': [100, 110, 120, 130, 140, 150],\n",
              "                         'max_features': ['sqrt'],\n",
              "                         'min_samples_leaf': [1, 2, 3],\n",
              "                         'min_samples_split': [1, 2, 4, 6],\n",
              "                         'n_estimators': [80, 100, 110, 120]},\n",
              "             pre_dispatch='2*n_jobs', refit=True, return_train_score=True,\n",
              "             scoring=None, verbose=2)"
            ]
          },
          "metadata": {
            "tags": []
          },
          "execution_count": 16
        }
      ]
    },
    {
      "cell_type": "code",
      "metadata": {
        "id": "9AS3kcEPT7P1",
        "colab": {
          "base_uri": "https://localhost:8080/"
        },
        "outputId": "b2037492-077c-4ae6-9de8-8fd032b2aec3"
      },
      "source": [
        "grid_search.best_params_"
      ],
      "execution_count": 17,
      "outputs": [
        {
          "output_type": "execute_result",
          "data": {
            "text/plain": [
              "{'bootstrap': False,\n",
              " 'max_depth': 100,\n",
              " 'max_features': 'sqrt',\n",
              " 'min_samples_leaf': 1,\n",
              " 'min_samples_split': 2,\n",
              " 'n_estimators': 110}"
            ]
          },
          "metadata": {
            "tags": []
          },
          "execution_count": 17
        }
      ]
    },
    {
      "cell_type": "markdown",
      "metadata": {
        "id": "001TVgmDXjke"
      },
      "source": [
        "#####**Evaluate the Best Model from Grid Search**\n"
      ]
    },
    {
      "cell_type": "code",
      "metadata": {
        "id": "ioEbzXP0T7D9",
        "colab": {
          "base_uri": "https://localhost:8080/"
        },
        "outputId": "bffd490c-3b13-4cee-9877-1bc12129add9"
      },
      "source": [
        "best_grid = grid_search.best_estimator_\n",
        "grid_accuracy = evaluate(best_grid, X_test, y_test)"
      ],
      "execution_count": 18,
      "outputs": [
        {
          "output_type": "stream",
          "text": [
            "Model Performance\n",
            "Average Error: 28.9535 degrees.\n",
            "Accuracy = 72.27%.\n"
          ],
          "name": "stdout"
        }
      ]
    },
    {
      "cell_type": "code",
      "metadata": {
        "id": "-8uAJVZsT3JX",
        "colab": {
          "base_uri": "https://localhost:8080/"
        },
        "outputId": "161e96ab-95d6-47eb-b916-72cf6808b95f"
      },
      "source": [
        "print('Improvement of {:0.2f}%.'.format( 100 * (grid_accuracy - base_accuracy) /\n",
        "                                        base_accuracy))\n"
      ],
      "execution_count": 19,
      "outputs": [
        {
          "output_type": "stream",
          "text": [
            "Improvement of 8.04%.\n"
          ],
          "name": "stdout"
        }
      ]
    },
    {
      "cell_type": "markdown",
      "metadata": {
        "id": "-o_DP4UYwwAE"
      },
      "source": [
        "#**Modelling and Prediction of best model**"
      ]
    },
    {
      "cell_type": "code",
      "metadata": {
        "colab": {
          "base_uri": "https://localhost:8080/"
        },
        "id": "ZBjAqrnGwtu8",
        "outputId": "f6f4240c-d654-4da1-d959-542040e3c32e"
      },
      "source": [
        "model = RandomForestRegressor(bootstrap= False,max_depth= 95,\n",
        "                              max_features= 'sqrt',min_samples_leaf= 1,\n",
        "                              min_samples_split= 2,n_estimators= 90,\n",
        "                              random_state= 42,criterion= 'mse')\n",
        "model.fit(X_train, y_train)\n",
        "\n",
        "yhat = model.predict(X_test)\n",
        "predicted_values = pd.DataFrame(model.predict(X_test),columns=[\"Predicted Values\"])\n",
        "\n",
        "actual_values = pd.DataFrame(y_test,columns=[\"Actual Values\"])\n",
        "comparision = actual_values.join(predicted_values)\n",
        "print(\"COMPARISION OF ACTUAL AND PREDICTED VALUES OF THE MODEL:\\n{}\".\n",
        "      format(comparision))"
      ],
      "execution_count": 21,
      "outputs": [
        {
          "output_type": "stream",
          "text": [
            "COMPARISION OF ACTUAL AND PREDICTED VALUES OF THE MODEL:\n",
            "      Actual Values  Predicted Values\n",
            "0               130        172.333333\n",
            "1                30         32.888889\n",
            "2                30         45.222222\n",
            "3                30         50.222222\n",
            "4                80         73.333333\n",
            "...             ...               ...\n",
            "5916             80         73.444444\n",
            "5917             60         52.111111\n",
            "5918            190        181.555556\n",
            "5919             50         35.888889\n",
            "5920             50         56.888889\n",
            "\n",
            "[5921 rows x 2 columns]\n"
          ],
          "name": "stdout"
        }
      ]
    },
    {
      "cell_type": "code",
      "metadata": {
        "colab": {
          "base_uri": "https://localhost:8080/"
        },
        "id": "0JGx5H8AkY6Z",
        "outputId": "6c7d84a3-ba32-40c2-97f2-18a11d364991"
      },
      "source": [
        "comparision.columns.values"
      ],
      "execution_count": 65,
      "outputs": [
        {
          "output_type": "execute_result",
          "data": {
            "text/plain": [
              "array(['Actual Values', 'Predicted Values'], dtype=object)"
            ]
          },
          "metadata": {
            "tags": []
          },
          "execution_count": 65
        }
      ]
    },
    {
      "cell_type": "code",
      "metadata": {
        "colab": {
          "base_uri": "https://localhost:8080/",
          "height": 281
        },
        "id": "mF-_L0O01Faa",
        "outputId": "70dec6a2-ef13-4297-dd6e-7d79d72d1dec"
      },
      "source": [
        "sns.lineplot(data=comparision)"
      ],
      "execution_count": 57,
      "outputs": [
        {
          "output_type": "execute_result",
          "data": {
            "text/plain": [
              "<matplotlib.axes._subplots.AxesSubplot at 0x7fd903ad83c8>"
            ]
          },
          "metadata": {
            "tags": []
          },
          "execution_count": 57
        },
        {
          "output_type": "display_data",
          "data": {
            "image/png": "[encoded data removed]",
            "text/plain": [
              "<Figure size 432x288 with 1 Axes>"
            ]
          },
          "metadata": {
            "tags": [],
            "needs_background": "light"
          }
        }
      ]
    },
    {
      "cell_type": "code",
      "metadata": {
        "colab": {
          "base_uri": "https://localhost:8080/"
        },
        "id": "2mwG0hh-zi84",
        "outputId": "3e48a2fb-0bd1-480f-b16e-a7ecdb347fbd"
      },
      "source": [
        "print(\"Accuracy Score for Train data: {}\\n Accuracy Score for Test data: {}\".\n",
        "      format(model.score(X_train,y_train),model.score(X_test,y_test)))"
      ],
      "execution_count": 23,
      "outputs": [
        {
          "output_type": "stream",
          "text": [
            "Accuracy Score for Train data: 0.9999999998381294\n",
            " Accuracy Score for Test data: 0.6137059352144565\n"
          ],
          "name": "stdout"
        }
      ]
    },
    {
      "cell_type": "code",
      "metadata": {
        "colab": {
          "base_uri": "https://localhost:8080/"
        },
        "id": "lXpXZ8U4z33d",
        "outputId": "267c269f-e443-4203-c436-c12d7faabe6e"
      },
      "source": [
        "print('Mean Absolute Error (MAE):', metrics.mean_absolute_error(y_test, yhat))   #mean absolute error\n",
        "print('Mean Squared Error (MSE):', metrics.mean_squared_error(y_test, yhat))     #mean squared error\n",
        "print('Root Mean Squared Error (RMSE):', np.sqrt(metrics.mean_squared_error(\n",
        "    y_test, yhat)))"
      ],
      "execution_count": 24,
      "outputs": [
        {
          "output_type": "stream",
          "text": [
            "Mean Absolute Error (MAE): 29.018240162134774\n",
            "Mean Squared Error (MSE): 4074.871305522716\n",
            "Root Mean Squared Error (RMSE): 63.83471865311788\n"
          ],
          "name": "stdout"
        }
      ]
    },
    {
      "cell_type": "code",
      "metadata": {
        "colab": {
          "base_uri": "https://localhost:8080/",
          "height": 899
        },
        "id": "JgtW-DPA2WJ9",
        "outputId": "3e3c66e0-1a85-4860-c787-90e2c4c9a6a1"
      },
      "source": [
        "Feature_importance = pd.DataFrame()\n",
        "Feature_importance[\"Features\"] = X_train.columns\n",
        "Feature_importance[\"Importance\"] = model.feature_importances_\n",
        "Feature_importance.sort_values(by=['Importance'],ascending=False,inplace=True,\n",
        "                               ignore_index=True)\n",
        "print(\"Feature Importance from High to Low\")\n",
        "Feature_importance"
      ],
      "execution_count": 49,
      "outputs": [
        {
          "output_type": "stream",
          "text": [
            "Feature Importance from High to Low\n"
          ],
          "name": "stdout"
        },
        {
          "output_type": "execute_result",
          "data": {
            "text/html": [
              "<div>\n",
              "<style scoped>\n",
              "    .dataframe tbody tr th:only-of-type {\n",
              "        vertical-align: middle;\n",
              "    }\n",
              "\n",
              "    .dataframe tbody tr th {\n",
              "        vertical-align: top;\n",
              "    }\n",
              "\n",
              "    .dataframe thead th {\n",
              "        text-align: right;\n",
              "    }\n",
              "</style>\n",
              "<table border=\"1\" class=\"dataframe\">\n",
              "  <thead>\n",
              "    <tr style=\"text-align: right;\">\n",
              "      <th></th>\n",
              "      <th>Features</th>\n",
              "      <th>Importance</th>\n",
              "    </tr>\n",
              "  </thead>\n",
              "  <tbody>\n",
              "    <tr>\n",
              "      <th>0</th>\n",
              "      <td>NSM</td>\n",
              "      <td>0.121893</td>\n",
              "    </tr>\n",
              "    <tr>\n",
              "      <th>1</th>\n",
              "      <td>Laundry_room_Humidity</td>\n",
              "      <td>0.042942</td>\n",
              "    </tr>\n",
              "    <tr>\n",
              "      <th>2</th>\n",
              "      <td>Outside_Press</td>\n",
              "      <td>0.042607</td>\n",
              "    </tr>\n",
              "    <tr>\n",
              "      <th>3</th>\n",
              "      <td>Kitchen_Humidity</td>\n",
              "      <td>0.042328</td>\n",
              "    </tr>\n",
              "    <tr>\n",
              "      <th>4</th>\n",
              "      <td>Bathroom_Humidity</td>\n",
              "      <td>0.039878</td>\n",
              "    </tr>\n",
              "    <tr>\n",
              "      <th>5</th>\n",
              "      <td>Ironing _room_Humidity</td>\n",
              "      <td>0.039493</td>\n",
              "    </tr>\n",
              "    <tr>\n",
              "      <th>6</th>\n",
              "      <td>Laundry_room Temp</td>\n",
              "      <td>0.039088</td>\n",
              "    </tr>\n",
              "    <tr>\n",
              "      <th>7</th>\n",
              "      <td>Parents_room_Humidity</td>\n",
              "      <td>0.038264</td>\n",
              "    </tr>\n",
              "    <tr>\n",
              "      <th>8</th>\n",
              "      <td>Childrens_room_Humidity</td>\n",
              "      <td>0.038257</td>\n",
              "    </tr>\n",
              "    <tr>\n",
              "      <th>9</th>\n",
              "      <td>Living_room_Humidity</td>\n",
              "      <td>0.038171</td>\n",
              "    </tr>\n",
              "    <tr>\n",
              "      <th>10</th>\n",
              "      <td>Childrens_room_Temp</td>\n",
              "      <td>0.036712</td>\n",
              "    </tr>\n",
              "    <tr>\n",
              "      <th>11</th>\n",
              "      <td>Living_room_Temp</td>\n",
              "      <td>0.036293</td>\n",
              "    </tr>\n",
              "    <tr>\n",
              "      <th>12</th>\n",
              "      <td>Outside_Humidity</td>\n",
              "      <td>0.035923</td>\n",
              "    </tr>\n",
              "    <tr>\n",
              "      <th>13</th>\n",
              "      <td>Building_North_Temp</td>\n",
              "      <td>0.034943</td>\n",
              "    </tr>\n",
              "    <tr>\n",
              "      <th>14</th>\n",
              "      <td>Office_Humidity</td>\n",
              "      <td>0.034723</td>\n",
              "    </tr>\n",
              "    <tr>\n",
              "      <th>15</th>\n",
              "      <td>Dewpoint_Temp</td>\n",
              "      <td>0.034227</td>\n",
              "    </tr>\n",
              "    <tr>\n",
              "      <th>16</th>\n",
              "      <td>Building_North_Humidity</td>\n",
              "      <td>0.033731</td>\n",
              "    </tr>\n",
              "    <tr>\n",
              "      <th>17</th>\n",
              "      <td>Outside_Temp</td>\n",
              "      <td>0.032761</td>\n",
              "    </tr>\n",
              "    <tr>\n",
              "      <th>18</th>\n",
              "      <td>Bathroom_Temp</td>\n",
              "      <td>0.031695</td>\n",
              "    </tr>\n",
              "    <tr>\n",
              "      <th>19</th>\n",
              "      <td>Office_Temp</td>\n",
              "      <td>0.030255</td>\n",
              "    </tr>\n",
              "    <tr>\n",
              "      <th>20</th>\n",
              "      <td>Ironing_room_Temp</td>\n",
              "      <td>0.029398</td>\n",
              "    </tr>\n",
              "    <tr>\n",
              "      <th>21</th>\n",
              "      <td>Kitchen_Temp</td>\n",
              "      <td>0.029063</td>\n",
              "    </tr>\n",
              "    <tr>\n",
              "      <th>22</th>\n",
              "      <td>Parents_room_Temp</td>\n",
              "      <td>0.026736</td>\n",
              "    </tr>\n",
              "    <tr>\n",
              "      <th>23</th>\n",
              "      <td>Windspeed</td>\n",
              "      <td>0.025146</td>\n",
              "    </tr>\n",
              "    <tr>\n",
              "      <th>24</th>\n",
              "      <td>Visibility</td>\n",
              "      <td>0.019308</td>\n",
              "    </tr>\n",
              "    <tr>\n",
              "      <th>25</th>\n",
              "      <td>rv2</td>\n",
              "      <td>0.016482</td>\n",
              "    </tr>\n",
              "    <tr>\n",
              "      <th>26</th>\n",
              "      <td>rv1</td>\n",
              "      <td>0.016396</td>\n",
              "    </tr>\n",
              "    <tr>\n",
              "      <th>27</th>\n",
              "      <td>Weekday</td>\n",
              "      <td>0.013288</td>\n",
              "    </tr>\n",
              "  </tbody>\n",
              "</table>\n",
              "</div>"
            ],
            "text/plain": [
              "                   Features  Importance\n",
              "0                       NSM    0.121893\n",
              "1     Laundry_room_Humidity    0.042942\n",
              "2             Outside_Press    0.042607\n",
              "3          Kitchen_Humidity    0.042328\n",
              "4         Bathroom_Humidity    0.039878\n",
              "5    Ironing _room_Humidity    0.039493\n",
              "6         Laundry_room Temp    0.039088\n",
              "7     Parents_room_Humidity    0.038264\n",
              "8   Childrens_room_Humidity    0.038257\n",
              "9      Living_room_Humidity    0.038171\n",
              "10      Childrens_room_Temp    0.036712\n",
              "11         Living_room_Temp    0.036293\n",
              "12         Outside_Humidity    0.035923\n",
              "13      Building_North_Temp    0.034943\n",
              "14          Office_Humidity    0.034723\n",
              "15            Dewpoint_Temp    0.034227\n",
              "16  Building_North_Humidity    0.033731\n",
              "17             Outside_Temp    0.032761\n",
              "18            Bathroom_Temp    0.031695\n",
              "19              Office_Temp    0.030255\n",
              "20        Ironing_room_Temp    0.029398\n",
              "21             Kitchen_Temp    0.029063\n",
              "22        Parents_room_Temp    0.026736\n",
              "23                Windspeed    0.025146\n",
              "24               Visibility    0.019308\n",
              "25                      rv2    0.016482\n",
              "26                      rv1    0.016396\n",
              "27                  Weekday    0.013288"
            ]
          },
          "metadata": {
            "tags": []
          },
          "execution_count": 49
        }
      ]
    },
    {
      "cell_type": "code",
      "metadata": {
        "colab": {
          "base_uri": "https://localhost:8080/",
          "height": 622
        },
        "id": "kgEVr0cNWGAs",
        "outputId": "a5e766bf-5b3b-4ffd-bf94-1420d50eac83"
      },
      "source": [
        "import matplotlib.pyplot as plt\n",
        "import seaborn as sns\n",
        "\n",
        "plt.figure(figsize=(10,10))\n",
        "sns.barplot(data=Feature_importance,x='Importance',y='Features')"
      ],
      "execution_count": 56,
      "outputs": [
        {
          "output_type": "execute_result",
          "data": {
            "text/plain": [
              "<matplotlib.axes._subplots.AxesSubplot at 0x7fd9040b83c8>"
            ]
          },
          "metadata": {
            "tags": []
          },
          "execution_count": 56
        },
        {
          "output_type": "display_data",
          "data": {
            "image/png": "[encoded data removed]",
            "text/plain": [
              "<Figure size 720x720 with 1 Axes>"
            ]
          },
          "metadata": {
            "tags": [],
            "needs_background": "light"
          }
        }
      ]
    }
  ]
}