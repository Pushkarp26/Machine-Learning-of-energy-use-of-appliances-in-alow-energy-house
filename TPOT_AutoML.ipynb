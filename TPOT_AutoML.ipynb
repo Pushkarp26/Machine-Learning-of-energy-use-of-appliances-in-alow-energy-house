{
  "nbformat": 4,
  "nbformat_minor": 0,
  "metadata": {
    "colab": {
      "name": "Copy of TPOT AutoML.ipynb",
      "provenance": [],
      "authorship_tag": "ABX9TyOUyMq30XUqwIoEi7X2lJvQ",
      "include_colab_link": true
    },
    "kernelspec": {
      "name": "python3",
      "display_name": "Python 3"
    },
    "widgets": {
      "application/vnd.jupyter.widget-state+json": {
        "a80f1c7d94bb411f8b54a09da80be08f": {
          "model_module": "@jupyter-widgets/controls",
          "model_name": "HBoxModel",
          "state": {
            "_view_name": "HBoxView",
            "_dom_classes": [],
            "_model_name": "HBoxModel",
            "_view_module": "@jupyter-widgets/controls",
            "_model_module_version": "1.5.0",
            "_view_count": null,
            "_view_module_version": "1.5.0",
            "box_style": "",
            "layout": "IPY_MODEL_3add49ea4a0e47b5ba8c2cd24a96d11b",
            "_model_module": "@jupyter-widgets/controls",
            "children": [
              "IPY_MODEL_4403a6362d714d05bea272b3387a44d2",
              "IPY_MODEL_c65863b030ad430183a6634733ec3fed"
            ]
          }
        },
        "3add49ea4a0e47b5ba8c2cd24a96d11b": {
          "model_module": "@jupyter-widgets/base",
          "model_name": "LayoutModel",
          "state": {
            "_view_name": "LayoutView",
            "grid_template_rows": null,
            "right": null,
            "justify_content": null,
            "_view_module": "@jupyter-widgets/base",
            "overflow": null,
            "_model_module_version": "1.2.0",
            "_view_count": null,
            "flex_flow": null,
            "width": null,
            "min_width": null,
            "border": null,
            "align_items": null,
            "bottom": null,
            "_model_module": "@jupyter-widgets/base",
            "top": null,
            "grid_column": null,
            "overflow_y": null,
            "overflow_x": null,
            "grid_auto_flow": null,
            "grid_area": null,
            "grid_template_columns": null,
            "flex": null,
            "_model_name": "LayoutModel",
            "justify_items": null,
            "grid_row": null,
            "max_height": null,
            "align_content": null,
            "visibility": null,
            "align_self": null,
            "height": null,
            "min_height": null,
            "padding": null,
            "grid_auto_rows": null,
            "grid_gap": null,
            "max_width": null,
            "order": null,
            "_view_module_version": "1.2.0",
            "grid_template_areas": null,
            "object_position": null,
            "object_fit": null,
            "grid_auto_columns": null,
            "margin": null,
            "display": null,
            "left": null
          }
        },
        "4403a6362d714d05bea272b3387a44d2": {
          "model_module": "@jupyter-widgets/controls",
          "model_name": "FloatProgressModel",
          "state": {
            "_view_name": "ProgressView",
            "style": "IPY_MODEL_fff73527e5be45188d7f0ed281160825",
            "_dom_classes": [],
            "description": "Optimization Progress: 100%",
            "_model_name": "FloatProgressModel",
            "bar_style": "",
            "max": 60,
            "_view_module": "@jupyter-widgets/controls",
            "_model_module_version": "1.5.0",
            "value": 60,
            "_view_count": null,
            "_view_module_version": "1.5.0",
            "orientation": "horizontal",
            "min": 0,
            "description_tooltip": null,
            "_model_module": "@jupyter-widgets/controls",
            "layout": "IPY_MODEL_a14e501cfdee48058eadf20d87cdc5a0"
          }
        },
        "c65863b030ad430183a6634733ec3fed": {
          "model_module": "@jupyter-widgets/controls",
          "model_name": "HTMLModel",
          "state": {
            "_view_name": "HTMLView",
            "style": "IPY_MODEL_4d4f02a7385e42e8aa960a1a8227d856",
            "_dom_classes": [],
            "description": "",
            "_model_name": "HTMLModel",
            "placeholder": "​",
            "_view_module": "@jupyter-widgets/controls",
            "_model_module_version": "1.5.0",
            "value": " 60/60 [08:06&lt;00:00, 18.59s/pipeline]",
            "_view_count": null,
            "_view_module_version": "1.5.0",
            "description_tooltip": null,
            "_model_module": "@jupyter-widgets/controls",
            "layout": "IPY_MODEL_fcea59ba63ad47518c25cc4d521eaade"
          }
        },
        "fff73527e5be45188d7f0ed281160825": {
          "model_module": "@jupyter-widgets/controls",
          "model_name": "ProgressStyleModel",
          "state": {
            "_view_name": "StyleView",
            "_model_name": "ProgressStyleModel",
            "description_width": "initial",
            "_view_module": "@jupyter-widgets/base",
            "_model_module_version": "1.5.0",
            "_view_count": null,
            "_view_module_version": "1.2.0",
            "bar_color": null,
            "_model_module": "@jupyter-widgets/controls"
          }
        },
        "a14e501cfdee48058eadf20d87cdc5a0": {
          "model_module": "@jupyter-widgets/base",
          "model_name": "LayoutModel",
          "state": {
            "_view_name": "LayoutView",
            "grid_template_rows": null,
            "right": null,
            "justify_content": null,
            "_view_module": "@jupyter-widgets/base",
            "overflow": null,
            "_model_module_version": "1.2.0",
            "_view_count": null,
            "flex_flow": null,
            "width": null,
            "min_width": null,
            "border": null,
            "align_items": null,
            "bottom": null,
            "_model_module": "@jupyter-widgets/base",
            "top": null,
            "grid_column": null,
            "overflow_y": null,
            "overflow_x": null,
            "grid_auto_flow": null,
            "grid_area": null,
            "grid_template_columns": null,
            "flex": null,
            "_model_name": "LayoutModel",
            "justify_items": null,
            "grid_row": null,
            "max_height": null,
            "align_content": null,
            "visibility": null,
            "align_self": null,
            "height": null,
            "min_height": null,
            "padding": null,
            "grid_auto_rows": null,
            "grid_gap": null,
            "max_width": null,
            "order": null,
            "_view_module_version": "1.2.0",
            "grid_template_areas": null,
            "object_position": null,
            "object_fit": null,
            "grid_auto_columns": null,
            "margin": null,
            "display": null,
            "left": null
          }
        },
        "4d4f02a7385e42e8aa960a1a8227d856": {
          "model_module": "@jupyter-widgets/controls",
          "model_name": "DescriptionStyleModel",
          "state": {
            "_view_name": "StyleView",
            "_model_name": "DescriptionStyleModel",
            "description_width": "",
            "_view_module": "@jupyter-widgets/base",
            "_model_module_version": "1.5.0",
            "_view_count": null,
            "_view_module_version": "1.2.0",
            "_model_module": "@jupyter-widgets/controls"
          }
        },
        "fcea59ba63ad47518c25cc4d521eaade": {
          "model_module": "@jupyter-widgets/base",
          "model_name": "LayoutModel",
          "state": {
            "_view_name": "LayoutView",
            "grid_template_rows": null,
            "right": null,
            "justify_content": null,
            "_view_module": "@jupyter-widgets/base",
            "overflow": null,
            "_model_module_version": "1.2.0",
            "_view_count": null,
            "flex_flow": null,
            "width": null,
            "min_width": null,
            "border": null,
            "align_items": null,
            "bottom": null,
            "_model_module": "@jupyter-widgets/base",
            "top": null,
            "grid_column": null,
            "overflow_y": null,
            "overflow_x": null,
            "grid_auto_flow": null,
            "grid_area": null,
            "grid_template_columns": null,
            "flex": null,
            "_model_name": "LayoutModel",
            "justify_items": null,
            "grid_row": null,
            "max_height": null,
            "align_content": null,
            "visibility": null,
            "align_self": null,
            "height": null,
            "min_height": null,
            "padding": null,
            "grid_auto_rows": null,
            "grid_gap": null,
            "max_width": null,
            "order": null,
            "_view_module_version": "1.2.0",
            "grid_template_areas": null,
            "object_position": null,
            "object_fit": null,
            "grid_auto_columns": null,
            "margin": null,
            "display": null,
            "left": null
          }
        },
        "c959e1135d2f473d8bfeb8660acc4b98": {
          "model_module": "@jupyter-widgets/controls",
          "model_name": "HBoxModel",
          "state": {
            "_view_name": "HBoxView",
            "_dom_classes": [],
            "_model_name": "HBoxModel",
            "_view_module": "@jupyter-widgets/controls",
            "_model_module_version": "1.5.0",
            "_view_count": null,
            "_view_module_version": "1.5.0",
            "box_style": "",
            "layout": "IPY_MODEL_c1595961cfe44d338d7d4a31fa4b280b",
            "_model_module": "@jupyter-widgets/controls",
            "children": [
              "IPY_MODEL_f8f307e0ba9b42bea11cac30a9614680",
              "IPY_MODEL_91379ab821204859801810d05bcc2d91"
            ]
          }
        },
        "c1595961cfe44d338d7d4a31fa4b280b": {
          "model_module": "@jupyter-widgets/base",
          "model_name": "LayoutModel",
          "state": {
            "_view_name": "LayoutView",
            "grid_template_rows": null,
            "right": null,
            "justify_content": null,
            "_view_module": "@jupyter-widgets/base",
            "overflow": null,
            "_model_module_version": "1.2.0",
            "_view_count": null,
            "flex_flow": null,
            "width": null,
            "min_width": null,
            "border": null,
            "align_items": null,
            "bottom": null,
            "_model_module": "@jupyter-widgets/base",
            "top": null,
            "grid_column": null,
            "overflow_y": null,
            "overflow_x": null,
            "grid_auto_flow": null,
            "grid_area": null,
            "grid_template_columns": null,
            "flex": null,
            "_model_name": "LayoutModel",
            "justify_items": null,
            "grid_row": null,
            "max_height": null,
            "align_content": null,
            "visibility": null,
            "align_self": null,
            "height": null,
            "min_height": null,
            "padding": null,
            "grid_auto_rows": null,
            "grid_gap": null,
            "max_width": null,
            "order": null,
            "_view_module_version": "1.2.0",
            "grid_template_areas": null,
            "object_position": null,
            "object_fit": null,
            "grid_auto_columns": null,
            "margin": null,
            "display": null,
            "left": null
          }
        },
        "f8f307e0ba9b42bea11cac30a9614680": {
          "model_module": "@jupyter-widgets/controls",
          "model_name": "FloatProgressModel",
          "state": {
            "_view_name": "ProgressView",
            "style": "IPY_MODEL_4db37d32e2f948e6bb43812de5633732",
            "_dom_classes": [],
            "description": "Optimization Progress: 100%",
            "_model_name": "FloatProgressModel",
            "bar_style": "",
            "max": 60,
            "_view_module": "@jupyter-widgets/controls",
            "_model_module_version": "1.5.0",
            "value": 60,
            "_view_count": null,
            "_view_module_version": "1.5.0",
            "orientation": "horizontal",
            "min": 0,
            "description_tooltip": null,
            "_model_module": "@jupyter-widgets/controls",
            "layout": "IPY_MODEL_b3a5ac90aa3944edb2b4a9e4fac96f39"
          }
        },
        "91379ab821204859801810d05bcc2d91": {
          "model_module": "@jupyter-widgets/controls",
          "model_name": "HTMLModel",
          "state": {
            "_view_name": "HTMLView",
            "style": "IPY_MODEL_70c73393d09644638ac7a06c94104bf3",
            "_dom_classes": [],
            "description": "",
            "_model_name": "HTMLModel",
            "placeholder": "​",
            "_view_module": "@jupyter-widgets/controls",
            "_model_module_version": "1.5.0",
            "value": " 60/60 [08:01&lt;00:00, 18.58s/pipeline]",
            "_view_count": null,
            "_view_module_version": "1.5.0",
            "description_tooltip": null,
            "_model_module": "@jupyter-widgets/controls",
            "layout": "IPY_MODEL_2d2bd8c51de34531a8d90797b8d14e6e"
          }
        },
        "4db37d32e2f948e6bb43812de5633732": {
          "model_module": "@jupyter-widgets/controls",
          "model_name": "ProgressStyleModel",
          "state": {
            "_view_name": "StyleView",
            "_model_name": "ProgressStyleModel",
            "description_width": "initial",
            "_view_module": "@jupyter-widgets/base",
            "_model_module_version": "1.5.0",
            "_view_count": null,
            "_view_module_version": "1.2.0",
            "bar_color": null,
            "_model_module": "@jupyter-widgets/controls"
          }
        },
        "b3a5ac90aa3944edb2b4a9e4fac96f39": {
          "model_module": "@jupyter-widgets/base",
          "model_name": "LayoutModel",
          "state": {
            "_view_name": "LayoutView",
            "grid_template_rows": null,
            "right": null,
            "justify_content": null,
            "_view_module": "@jupyter-widgets/base",
            "overflow": null,
            "_model_module_version": "1.2.0",
            "_view_count": null,
            "flex_flow": null,
            "width": null,
            "min_width": null,
            "border": null,
            "align_items": null,
            "bottom": null,
            "_model_module": "@jupyter-widgets/base",
            "top": null,
            "grid_column": null,
            "overflow_y": null,
            "overflow_x": null,
            "grid_auto_flow": null,
            "grid_area": null,
            "grid_template_columns": null,
            "flex": null,
            "_model_name": "LayoutModel",
            "justify_items": null,
            "grid_row": null,
            "max_height": null,
            "align_content": null,
            "visibility": null,
            "align_self": null,
            "height": null,
            "min_height": null,
            "padding": null,
            "grid_auto_rows": null,
            "grid_gap": null,
            "max_width": null,
            "order": null,
            "_view_module_version": "1.2.0",
            "grid_template_areas": null,
            "object_position": null,
            "object_fit": null,
            "grid_auto_columns": null,
            "margin": null,
            "display": null,
            "left": null
          }
        },
        "70c73393d09644638ac7a06c94104bf3": {
          "model_module": "@jupyter-widgets/controls",
          "model_name": "DescriptionStyleModel",
          "state": {
            "_view_name": "StyleView",
            "_model_name": "DescriptionStyleModel",
            "description_width": "",
            "_view_module": "@jupyter-widgets/base",
            "_model_module_version": "1.5.0",
            "_view_count": null,
            "_view_module_version": "1.2.0",
            "_model_module": "@jupyter-widgets/controls"
          }
        },
        "2d2bd8c51de34531a8d90797b8d14e6e": {
          "model_module": "@jupyter-widgets/base",
          "model_name": "LayoutModel",
          "state": {
            "_view_name": "LayoutView",
            "grid_template_rows": null,
            "right": null,
            "justify_content": null,
            "_view_module": "@jupyter-widgets/base",
            "overflow": null,
            "_model_module_version": "1.2.0",
            "_view_count": null,
            "flex_flow": null,
            "width": null,
            "min_width": null,
            "border": null,
            "align_items": null,
            "bottom": null,
            "_model_module": "@jupyter-widgets/base",
            "top": null,
            "grid_column": null,
            "overflow_y": null,
            "overflow_x": null,
            "grid_auto_flow": null,
            "grid_area": null,
            "grid_template_columns": null,
            "flex": null,
            "_model_name": "LayoutModel",
            "justify_items": null,
            "grid_row": null,
            "max_height": null,
            "align_content": null,
            "visibility": null,
            "align_self": null,
            "height": null,
            "min_height": null,
            "padding": null,
            "grid_auto_rows": null,
            "grid_gap": null,
            "max_width": null,
            "order": null,
            "_view_module_version": "1.2.0",
            "grid_template_areas": null,
            "object_position": null,
            "object_fit": null,
            "grid_auto_columns": null,
            "margin": null,
            "display": null,
            "left": null
          }
        },
        "d4daf24d746c45d18058aed7a2956130": {
          "model_module": "@jupyter-widgets/controls",
          "model_name": "HBoxModel",
          "state": {
            "_view_name": "HBoxView",
            "_dom_classes": [],
            "_model_name": "HBoxModel",
            "_view_module": "@jupyter-widgets/controls",
            "_model_module_version": "1.5.0",
            "_view_count": null,
            "_view_module_version": "1.5.0",
            "box_style": "",
            "layout": "IPY_MODEL_0125c462542d4d5d90a95edf526b1a36",
            "_model_module": "@jupyter-widgets/controls",
            "children": [
              "IPY_MODEL_c6fca604c21c4ffe8910c6c32f1ac309",
              "IPY_MODEL_e7f0770c9a0a43ce938f976923b2ffc5"
            ]
          }
        },
        "0125c462542d4d5d90a95edf526b1a36": {
          "model_module": "@jupyter-widgets/base",
          "model_name": "LayoutModel",
          "state": {
            "_view_name": "LayoutView",
            "grid_template_rows": null,
            "right": null,
            "justify_content": null,
            "_view_module": "@jupyter-widgets/base",
            "overflow": null,
            "_model_module_version": "1.2.0",
            "_view_count": null,
            "flex_flow": null,
            "width": null,
            "min_width": null,
            "border": null,
            "align_items": null,
            "bottom": null,
            "_model_module": "@jupyter-widgets/base",
            "top": null,
            "grid_column": null,
            "overflow_y": null,
            "overflow_x": null,
            "grid_auto_flow": null,
            "grid_area": null,
            "grid_template_columns": null,
            "flex": null,
            "_model_name": "LayoutModel",
            "justify_items": null,
            "grid_row": null,
            "max_height": null,
            "align_content": null,
            "visibility": null,
            "align_self": null,
            "height": null,
            "min_height": null,
            "padding": null,
            "grid_auto_rows": null,
            "grid_gap": null,
            "max_width": null,
            "order": null,
            "_view_module_version": "1.2.0",
            "grid_template_areas": null,
            "object_position": null,
            "object_fit": null,
            "grid_auto_columns": null,
            "margin": null,
            "display": null,
            "left": null
          }
        },
        "c6fca604c21c4ffe8910c6c32f1ac309": {
          "model_module": "@jupyter-widgets/controls",
          "model_name": "FloatProgressModel",
          "state": {
            "_view_name": "ProgressView",
            "style": "IPY_MODEL_a3f84a8050b5443bacb8500ee3c4f6d2",
            "_dom_classes": [],
            "description": "Optimization Progress: 100%",
            "_model_name": "FloatProgressModel",
            "bar_style": "",
            "max": 60,
            "_view_module": "@jupyter-widgets/controls",
            "_model_module_version": "1.5.0",
            "value": 60,
            "_view_count": null,
            "_view_module_version": "1.5.0",
            "orientation": "horizontal",
            "min": 0,
            "description_tooltip": null,
            "_model_module": "@jupyter-widgets/controls",
            "layout": "IPY_MODEL_84b415c1cfcf4f00b7d0a8587f0e5153"
          }
        },
        "e7f0770c9a0a43ce938f976923b2ffc5": {
          "model_module": "@jupyter-widgets/controls",
          "model_name": "HTMLModel",
          "state": {
            "_view_name": "HTMLView",
            "style": "IPY_MODEL_6860003a6b3547559552891f08126a53",
            "_dom_classes": [],
            "description": "",
            "_model_name": "HTMLModel",
            "placeholder": "​",
            "_view_module": "@jupyter-widgets/controls",
            "_model_module_version": "1.5.0",
            "value": " 60/60 [07:59&lt;00:00, 18.46s/pipeline]",
            "_view_count": null,
            "_view_module_version": "1.5.0",
            "description_tooltip": null,
            "_model_module": "@jupyter-widgets/controls",
            "layout": "IPY_MODEL_6368fa484dbe452db9a46300de318d20"
          }
        },
        "a3f84a8050b5443bacb8500ee3c4f6d2": {
          "model_module": "@jupyter-widgets/controls",
          "model_name": "ProgressStyleModel",
          "state": {
            "_view_name": "StyleView",
            "_model_name": "ProgressStyleModel",
            "description_width": "initial",
            "_view_module": "@jupyter-widgets/base",
            "_model_module_version": "1.5.0",
            "_view_count": null,
            "_view_module_version": "1.2.0",
            "bar_color": null,
            "_model_module": "@jupyter-widgets/controls"
          }
        },
        "84b415c1cfcf4f00b7d0a8587f0e5153": {
          "model_module": "@jupyter-widgets/base",
          "model_name": "LayoutModel",
          "state": {
            "_view_name": "LayoutView",
            "grid_template_rows": null,
            "right": null,
            "justify_content": null,
            "_view_module": "@jupyter-widgets/base",
            "overflow": null,
            "_model_module_version": "1.2.0",
            "_view_count": null,
            "flex_flow": null,
            "width": null,
            "min_width": null,
            "border": null,
            "align_items": null,
            "bottom": null,
            "_model_module": "@jupyter-widgets/base",
            "top": null,
            "grid_column": null,
            "overflow_y": null,
            "overflow_x": null,
            "grid_auto_flow": null,
            "grid_area": null,
            "grid_template_columns": null,
            "flex": null,
            "_model_name": "LayoutModel",
            "justify_items": null,
            "grid_row": null,
            "max_height": null,
            "align_content": null,
            "visibility": null,
            "align_self": null,
            "height": null,
            "min_height": null,
            "padding": null,
            "grid_auto_rows": null,
            "grid_gap": null,
            "max_width": null,
            "order": null,
            "_view_module_version": "1.2.0",
            "grid_template_areas": null,
            "object_position": null,
            "object_fit": null,
            "grid_auto_columns": null,
            "margin": null,
            "display": null,
            "left": null
          }
        },
        "6860003a6b3547559552891f08126a53": {
          "model_module": "@jupyter-widgets/controls",
          "model_name": "DescriptionStyleModel",
          "state": {
            "_view_name": "StyleView",
            "_model_name": "DescriptionStyleModel",
            "description_width": "",
            "_view_module": "@jupyter-widgets/base",
            "_model_module_version": "1.5.0",
            "_view_count": null,
            "_view_module_version": "1.2.0",
            "_model_module": "@jupyter-widgets/controls"
          }
        },
        "6368fa484dbe452db9a46300de318d20": {
          "model_module": "@jupyter-widgets/base",
          "model_name": "LayoutModel",
          "state": {
            "_view_name": "LayoutView",
            "grid_template_rows": null,
            "right": null,
            "justify_content": null,
            "_view_module": "@jupyter-widgets/base",
            "overflow": null,
            "_model_module_version": "1.2.0",
            "_view_count": null,
            "flex_flow": null,
            "width": null,
            "min_width": null,
            "border": null,
            "align_items": null,
            "bottom": null,
            "_model_module": "@jupyter-widgets/base",
            "top": null,
            "grid_column": null,
            "overflow_y": null,
            "overflow_x": null,
            "grid_auto_flow": null,
            "grid_area": null,
            "grid_template_columns": null,
            "flex": null,
            "_model_name": "LayoutModel",
            "justify_items": null,
            "grid_row": null,
            "max_height": null,
            "align_content": null,
            "visibility": null,
            "align_self": null,
            "height": null,
            "min_height": null,
            "padding": null,
            "grid_auto_rows": null,
            "grid_gap": null,
            "max_width": null,
            "order": null,
            "_view_module_version": "1.2.0",
            "grid_template_areas": null,
            "object_position": null,
            "object_fit": null,
            "grid_auto_columns": null,
            "margin": null,
            "display": null,
            "left": null
          }
        }
      }
    }
  },
  "cells": [
    {
      "cell_type": "markdown",
      "metadata": {
        "id": "view-in-github",
        "colab_type": "text"
      },
      "source": [
        "<a href=\"https://colab.research.google.com/github/Pushkarp26/Machine-Learning-of-energy-use-of-appliances-in-alow-energy-house/blob/main/TPOT_AutoML.ipynb\" target=\"_parent\"><img src=\"https://colab.research.google.com/assets/colab-badge.svg\" alt=\"Open In Colab\"/></a>"
      ]
    },
    {
      "cell_type": "markdown",
      "metadata": {
        "id": "7VWQFzHUypcT"
      },
      "source": [
        "#**Overview**\n",
        "In this notebook, we are going to buils a model basd on parameters obtained from AutoML. The AutoML algorithm we are utilizing is known as TPOT.\n",
        "\n",
        "##**So what is TPOT?**\n",
        ">TPOT is meant to be an assistant that gives you ideas on how to solve a particular machine learning problem by exploring pipeline configurations that you might have never considered, then leaves the fine-tuning to more constrained parameter tuning techniques such as grid search.\n",
        "\n",
        "So TPOT helps you find good algorithms.\n",
        "TPOT is built on the scikit learn library and follows the scikit learn API closely. It can be used for regression and classification tasks and has special implementations for medical research.\n",
        "\n",
        "##**Tasks performed in this notebook**\n",
        "* Installing TPOT.\n",
        "* Importing Libraries.\n",
        "* Retrieving Data.\n",
        "(We have pre-cleaned data from earlier analysis.)\n",
        "* Splitting of Data into training and testing sets.\n",
        "* Instantiating, fitting, and scoring the TPOT regressor.\n",
        "* Creating the winning pipeline model on training set.\n",
        "* Evaluating the model on test set.\n",
        "* Atlast, checking the Accuracy of the model.\n"
      ]
    },
    {
      "cell_type": "code",
      "metadata": {
        "colab": {
          "base_uri": "https://localhost:8080/"
        },
        "id": "p4W_nNIrUX86",
        "outputId": "f6a3073a-5461-4322-dd25-f375aecfec57"
      },
      "source": [
        "!pip install TPOT"
      ],
      "execution_count": 1,
      "outputs": [
        {
          "output_type": "stream",
          "text": [
            "Collecting TPOT\n",
            "\u001b[?25l  Downloading https://files.pythonhosted.org/packages/5e/06/2f205c2e7b2768f05f5dafb48331e007bdb201ede007c06ca90099529872/TPOT-0.11.6.post2-py3-none-any.whl (86kB)\n",
            "\r\u001b[K     |███▉                            | 10kB 15.6MB/s eta 0:00:01\r\u001b[K     |███████▋                        | 20kB 11.2MB/s eta 0:00:01\r\u001b[K     |███████████▍                    | 30kB 6.7MB/s eta 0:00:01\r\u001b[K     |███████████████▏                | 40kB 6.1MB/s eta 0:00:01\r\u001b[K     |███████████████████             | 51kB 4.3MB/s eta 0:00:01\r\u001b[K     |██████████████████████▉         | 61kB 4.7MB/s eta 0:00:01\r\u001b[K     |██████████████████████████▋     | 71kB 5.1MB/s eta 0:00:01\r\u001b[K     |██████████████████████████████▍ | 81kB 5.3MB/s eta 0:00:01\r\u001b[K     |████████████████████████████████| 92kB 3.8MB/s \n",
            "\u001b[?25hRequirement already satisfied: numpy>=1.16.3 in /usr/local/lib/python3.6/dist-packages (from TPOT) (1.18.5)\n",
            "Collecting deap>=1.2\n",
            "\u001b[?25l  Downloading https://files.pythonhosted.org/packages/0a/eb/2bd0a32e3ce757fb26264765abbaedd6d4d3640d90219a513aeabd08ee2b/deap-1.3.1-cp36-cp36m-manylinux2010_x86_64.whl (157kB)\n",
            "\u001b[K     |████████████████████████████████| 163kB 6.8MB/s \n",
            "\u001b[?25hRequirement already satisfied: joblib>=0.13.2 in /usr/local/lib/python3.6/dist-packages (from TPOT) (0.17.0)\n",
            "Requirement already satisfied: tqdm>=4.36.1 in /usr/local/lib/python3.6/dist-packages (from TPOT) (4.41.1)\n",
            "Requirement already satisfied: xgboost>=0.90 in /usr/local/lib/python3.6/dist-packages (from TPOT) (0.90)\n",
            "Requirement already satisfied: pandas>=0.24.2 in /usr/local/lib/python3.6/dist-packages (from TPOT) (1.1.4)\n",
            "Requirement already satisfied: scipy>=1.3.1 in /usr/local/lib/python3.6/dist-packages (from TPOT) (1.4.1)\n",
            "Collecting update-checker>=0.16\n",
            "  Downloading https://files.pythonhosted.org/packages/0c/ba/8dd7fa5f0b1c6a8ac62f8f57f7e794160c1f86f31c6d0fb00f582372a3e4/update_checker-0.18.0-py3-none-any.whl\n",
            "Collecting stopit>=1.1.1\n",
            "  Downloading https://files.pythonhosted.org/packages/35/58/e8bb0b0fb05baf07bbac1450c447d753da65f9701f551dca79823ce15d50/stopit-1.1.2.tar.gz\n",
            "Requirement already satisfied: scikit-learn>=0.22.0 in /usr/local/lib/python3.6/dist-packages (from TPOT) (0.22.2.post1)\n",
            "Requirement already satisfied: pytz>=2017.2 in /usr/local/lib/python3.6/dist-packages (from pandas>=0.24.2->TPOT) (2018.9)\n",
            "Requirement already satisfied: python-dateutil>=2.7.3 in /usr/local/lib/python3.6/dist-packages (from pandas>=0.24.2->TPOT) (2.8.1)\n",
            "Requirement already satisfied: requests>=2.3.0 in /usr/local/lib/python3.6/dist-packages (from update-checker>=0.16->TPOT) (2.23.0)\n",
            "Requirement already satisfied: six>=1.5 in /usr/local/lib/python3.6/dist-packages (from python-dateutil>=2.7.3->pandas>=0.24.2->TPOT) (1.15.0)\n",
            "Requirement already satisfied: urllib3!=1.25.0,!=1.25.1,<1.26,>=1.21.1 in /usr/local/lib/python3.6/dist-packages (from requests>=2.3.0->update-checker>=0.16->TPOT) (1.24.3)\n",
            "Requirement already satisfied: idna<3,>=2.5 in /usr/local/lib/python3.6/dist-packages (from requests>=2.3.0->update-checker>=0.16->TPOT) (2.10)\n",
            "Requirement already satisfied: chardet<4,>=3.0.2 in /usr/local/lib/python3.6/dist-packages (from requests>=2.3.0->update-checker>=0.16->TPOT) (3.0.4)\n",
            "Requirement already satisfied: certifi>=2017.4.17 in /usr/local/lib/python3.6/dist-packages (from requests>=2.3.0->update-checker>=0.16->TPOT) (2020.11.8)\n",
            "Building wheels for collected packages: stopit\n",
            "  Building wheel for stopit (setup.py) ... \u001b[?25l\u001b[?25hdone\n",
            "  Created wheel for stopit: filename=stopit-1.1.2-cp36-none-any.whl size=11956 sha256=6b7066e8749e3822ab63589a47fce251f976a441a92096512bacd089b1fda972\n",
            "  Stored in directory: /root/.cache/pip/wheels/3c/85/2b/2580190404636bfc63e8de3dff629c03bb795021e1983a6cc7\n",
            "Successfully built stopit\n",
            "Installing collected packages: deap, update-checker, stopit, TPOT\n",
            "Successfully installed TPOT-0.11.6.post2 deap-1.3.1 stopit-1.1.2 update-checker-0.18.0\n"
          ],
          "name": "stdout"
        }
      ]
    },
    {
      "cell_type": "code",
      "metadata": {
        "id": "RrA6GmZyTCgx"
      },
      "source": [
        "import numpy as np \n",
        "import pandas as pd \n",
        "import matplotlib.pyplot as plt\n",
        "import seaborn as sns\n",
        "from sklearn.model_selection import train_test_split\n",
        "from tpot import TPOTRegressor\n",
        "import sklearn.metrics\n",
        "import timeit  "
      ],
      "execution_count": 2,
      "outputs": []
    },
    {
      "cell_type": "code",
      "metadata": {
        "id": "wwSXumSIUFjW"
      },
      "source": [
        "df = pd.read_csv(\"Data_1.csv\")\n",
        "df.drop(\"Unnamed: 0\",axis=1,inplace=True)\n",
        "X = pd.read_csv(\"predictor.csv\")\n",
        "X.drop(\"Unnamed: 0\",axis=1,inplace=True)\n",
        "y = pd.read_csv(\"target.csv\")\n",
        "y.drop(\"Unnamed: 0\",axis=1,inplace=True)"
      ],
      "execution_count": 4,
      "outputs": []
    },
    {
      "cell_type": "code",
      "metadata": {
        "colab": {
          "base_uri": "https://localhost:8080/"
        },
        "id": "JnB2oU7tUW0o",
        "outputId": "a48eb137-ebe7-4bd3-f5f1-3a548e62b71b"
      },
      "source": [
        "print(\"df columns:\\n {},\\n\\nX columns:\\n {}\".format(df.columns,X.columns))"
      ],
      "execution_count": 5,
      "outputs": [
        {
          "output_type": "stream",
          "text": [
            "df columns:\n",
            " Index(['Date', 'Appliances', 'lights', 'Kitchen_Temp', 'Kitchen_Humidity',\n",
            "       'Living_room_Temp', 'Living_room_Humidity', 'Laundry_room Temp',\n",
            "       'Laundry_room_Humidity', 'Office_Temp', 'Office_Humidity',\n",
            "       'Bathroom_Temp', 'Bathroom_Humidity', 'Building_North_Temp',\n",
            "       'Building_North_Humidity', 'Ironing_room_Temp',\n",
            "       'Ironing _room_Humidity', 'Childrens_room_Temp',\n",
            "       'Childrens_room_Humidity', 'Parents_room_Temp', 'Parents_room_Humidity',\n",
            "       'Outside_Temp', 'Outside_Press', 'Outside_Humidity', 'Windspeed',\n",
            "       'Visibility', 'Dewpoint_Temp', 'rv1', 'rv2', 'Total_Energy_Consumption',\n",
            "       'Weekday', 'Weekstatus', 'Day_of_week', 'NSM'],\n",
            "      dtype='object'),\n",
            "\n",
            "X columns:\n",
            " Index(['Kitchen_Temp', 'Kitchen_Humidity', 'Living_room_Temp',\n",
            "       'Living_room_Humidity', 'Laundry_room Temp', 'Laundry_room_Humidity',\n",
            "       'Office_Temp', 'Office_Humidity', 'Bathroom_Temp', 'Bathroom_Humidity',\n",
            "       'Building_North_Temp', 'Building_North_Humidity', 'Ironing_room_Temp',\n",
            "       'Ironing _room_Humidity', 'Childrens_room_Temp',\n",
            "       'Childrens_room_Humidity', 'Parents_room_Temp', 'Parents_room_Humidity',\n",
            "       'Outside_Temp', 'Outside_Press', 'Outside_Humidity', 'Windspeed',\n",
            "       'Visibility', 'Dewpoint_Temp', 'rv1', 'rv2', 'Weekday', 'NSM'],\n",
            "      dtype='object')\n"
          ],
          "name": "stdout"
        }
      ]
    },
    {
      "cell_type": "code",
      "metadata": {
        "colab": {
          "base_uri": "https://localhost:8080/"
        },
        "id": "CU_FD4bqVIYB",
        "outputId": "a3cffc12-cd19-4855-f8e8-d64ca68a4987"
      },
      "source": [
        "X[\"Weekstatus\"] = df[[\"Weekstatus\"]]\n",
        "X.info()"
      ],
      "execution_count": 6,
      "outputs": [
        {
          "output_type": "stream",
          "text": [
            "<class 'pandas.core.frame.DataFrame'>\n",
            "RangeIndex: 19735 entries, 0 to 19734\n",
            "Data columns (total 29 columns):\n",
            " #   Column                   Non-Null Count  Dtype  \n",
            "---  ------                   --------------  -----  \n",
            " 0   Kitchen_Temp             19735 non-null  float64\n",
            " 1   Kitchen_Humidity         19735 non-null  float64\n",
            " 2   Living_room_Temp         19735 non-null  float64\n",
            " 3   Living_room_Humidity     19735 non-null  float64\n",
            " 4   Laundry_room Temp        19735 non-null  float64\n",
            " 5   Laundry_room_Humidity    19735 non-null  float64\n",
            " 6   Office_Temp              19735 non-null  float64\n",
            " 7   Office_Humidity          19735 non-null  float64\n",
            " 8   Bathroom_Temp            19735 non-null  float64\n",
            " 9   Bathroom_Humidity        19735 non-null  float64\n",
            " 10  Building_North_Temp      19735 non-null  float64\n",
            " 11  Building_North_Humidity  19735 non-null  float64\n",
            " 12  Ironing_room_Temp        19735 non-null  float64\n",
            " 13  Ironing _room_Humidity   19735 non-null  float64\n",
            " 14  Childrens_room_Temp      19735 non-null  float64\n",
            " 15  Childrens_room_Humidity  19735 non-null  float64\n",
            " 16  Parents_room_Temp        19735 non-null  float64\n",
            " 17  Parents_room_Humidity    19735 non-null  float64\n",
            " 18  Outside_Temp             19735 non-null  float64\n",
            " 19  Outside_Press            19735 non-null  float64\n",
            " 20  Outside_Humidity         19735 non-null  float64\n",
            " 21  Windspeed                19735 non-null  float64\n",
            " 22  Visibility               19735 non-null  float64\n",
            " 23  Dewpoint_Temp            19735 non-null  float64\n",
            " 24  rv1                      19735 non-null  float64\n",
            " 25  rv2                      19735 non-null  float64\n",
            " 26  Weekday                  19735 non-null  int64  \n",
            " 27  NSM                      19735 non-null  int64  \n",
            " 28  Weekstatus               19735 non-null  int64  \n",
            "dtypes: float64(26), int64(3)\n",
            "memory usage: 4.4 MB\n"
          ],
          "name": "stdout"
        }
      ]
    },
    {
      "cell_type": "code",
      "metadata": {
        "colab": {
          "base_uri": "https://localhost:8080/",
          "height": 196
        },
        "id": "aMNT0PLkWEjm",
        "outputId": "e4c19cac-ab64-4351-f1ec-7344eb3a232b"
      },
      "source": [
        "y.head()"
      ],
      "execution_count": 7,
      "outputs": [
        {
          "output_type": "execute_result",
          "data": {
            "text/html": [
              "<div>\n",
              "<style scoped>\n",
              "    .dataframe tbody tr th:only-of-type {\n",
              "        vertical-align: middle;\n",
              "    }\n",
              "\n",
              "    .dataframe tbody tr th {\n",
              "        vertical-align: top;\n",
              "    }\n",
              "\n",
              "    .dataframe thead th {\n",
              "        text-align: right;\n",
              "    }\n",
              "</style>\n",
              "<table border=\"1\" class=\"dataframe\">\n",
              "  <thead>\n",
              "    <tr style=\"text-align: right;\">\n",
              "      <th></th>\n",
              "      <th>Total_Energy_Consumption</th>\n",
              "    </tr>\n",
              "  </thead>\n",
              "  <tbody>\n",
              "    <tr>\n",
              "      <th>0</th>\n",
              "      <td>90</td>\n",
              "    </tr>\n",
              "    <tr>\n",
              "      <th>1</th>\n",
              "      <td>90</td>\n",
              "    </tr>\n",
              "    <tr>\n",
              "      <th>2</th>\n",
              "      <td>80</td>\n",
              "    </tr>\n",
              "    <tr>\n",
              "      <th>3</th>\n",
              "      <td>90</td>\n",
              "    </tr>\n",
              "    <tr>\n",
              "      <th>4</th>\n",
              "      <td>100</td>\n",
              "    </tr>\n",
              "  </tbody>\n",
              "</table>\n",
              "</div>"
            ],
            "text/plain": [
              "   Total_Energy_Consumption\n",
              "0                        90\n",
              "1                        90\n",
              "2                        80\n",
              "3                        90\n",
              "4                       100"
            ]
          },
          "metadata": {
            "tags": []
          },
          "execution_count": 7
        }
      ]
    },
    {
      "cell_type": "code",
      "metadata": {
        "colab": {
          "base_uri": "https://localhost:8080/"
        },
        "id": "jA5Dwu3_Xb8i",
        "outputId": "0a5e51b8-eb86-4502-de0e-e238d429a95c"
      },
      "source": [
        "y_array = np.asarray(y)\n",
        "y_array"
      ],
      "execution_count": 8,
      "outputs": [
        {
          "output_type": "execute_result",
          "data": {
            "text/plain": [
              "array([[ 90],\n",
              "       [ 90],\n",
              "       [ 80],\n",
              "       ...,\n",
              "       [280],\n",
              "       [430],\n",
              "       [440]])"
            ]
          },
          "metadata": {
            "tags": []
          },
          "execution_count": 8
        }
      ]
    },
    {
      "cell_type": "code",
      "metadata": {
        "colab": {
          "base_uri": "https://localhost:8080/"
        },
        "id": "BmxTHZhPX9KO",
        "outputId": "c9c76cad-e5b7-4d08-cb86-7ff4f2fbbb8a"
      },
      "source": [
        "y_array = y_array.ravel()\n",
        "y_array"
      ],
      "execution_count": 9,
      "outputs": [
        {
          "output_type": "execute_result",
          "data": {
            "text/plain": [
              "array([ 90,  90,  80, ..., 280, 430, 440])"
            ]
          },
          "metadata": {
            "tags": []
          },
          "execution_count": 9
        }
      ]
    },
    {
      "cell_type": "code",
      "metadata": {
        "colab": {
          "base_uri": "https://localhost:8080/",
          "height": 1000,
          "referenced_widgets": [
            "a80f1c7d94bb411f8b54a09da80be08f",
            "3add49ea4a0e47b5ba8c2cd24a96d11b",
            "4403a6362d714d05bea272b3387a44d2",
            "c65863b030ad430183a6634733ec3fed",
            "fff73527e5be45188d7f0ed281160825",
            "a14e501cfdee48058eadf20d87cdc5a0",
            "4d4f02a7385e42e8aa960a1a8227d856",
            "fcea59ba63ad47518c25cc4d521eaade",
            "c959e1135d2f473d8bfeb8660acc4b98",
            "c1595961cfe44d338d7d4a31fa4b280b",
            "f8f307e0ba9b42bea11cac30a9614680",
            "91379ab821204859801810d05bcc2d91",
            "4db37d32e2f948e6bb43812de5633732",
            "b3a5ac90aa3944edb2b4a9e4fac96f39",
            "70c73393d09644638ac7a06c94104bf3",
            "2d2bd8c51de34531a8d90797b8d14e6e",
            "d4daf24d746c45d18058aed7a2956130",
            "0125c462542d4d5d90a95edf526b1a36",
            "c6fca604c21c4ffe8910c6c32f1ac309",
            "e7f0770c9a0a43ce938f976923b2ffc5",
            "a3f84a8050b5443bacb8500ee3c4f6d2",
            "84b415c1cfcf4f00b7d0a8587f0e5153",
            "6860003a6b3547559552891f08126a53",
            "6368fa484dbe452db9a46300de318d20"
          ]
        },
        "id": "58NgRQ65WgL8",
        "outputId": "d0e1521b-b8a9-42df-8d75-088927a546cc"
      },
      "source": [
        "X_train, X_test, y_train, y_test = train_test_split(X, y_array, test_size = .25,\n",
        "                                                    random_state = 33)\n",
        "# instantiate tpot \n",
        "tpot = TPOTRegressor(verbosity=3,  \n",
        "                      random_state=25, \n",
        "                      n_jobs=-1, \n",
        "                      generations=5, \n",
        "                      population_size=10,\n",
        "                      early_stop = 5,\n",
        "                      memory = None)\n",
        "times = []\n",
        "scores = []\n",
        "winning_pipes = []\n",
        "\n",
        "# run 3 iterations\n",
        "for x in range(3):\n",
        "    start_time = timeit.default_timer()\n",
        "    tpot.fit(X_train, y_train)\n",
        "    elapsed = timeit.default_timer() - start_time\n",
        "    times.append(elapsed)\n",
        "    winning_pipes.append(tpot.fitted_pipeline_)\n",
        "    scores.append(tpot.score(X_test, y_test))\n",
        "    tpot.export('tpot_ames.py')\n",
        "# output results\n",
        "\n",
        "times = [time/60 for time in times]\n",
        "print('Times:', times)\n",
        "print('Scores:', scores)   \n",
        "print('Winning pipelines:', winning_pipes)"
      ],
      "execution_count": null,
      "outputs": [
        {
          "output_type": "stream",
          "text": [
            "30 operators have been imported by TPOT.\n"
          ],
          "name": "stdout"
        },
        {
          "output_type": "display_data",
          "data": {
            "application/vnd.jupyter.widget-view+json": {
              "model_id": "a80f1c7d94bb411f8b54a09da80be08f",
              "version_minor": 0,
              "version_major": 2
            },
            "text/plain": [
              "HBox(children=(FloatProgress(value=0.0, description='Optimization Progress', max=60.0, style=ProgressStyle(des…"
            ]
          },
          "metadata": {
            "tags": []
          }
        },
        {
          "output_type": "stream",
          "text": [
            "\r\n",
            "Generation 1 - Current Pareto front scores:\n",
            "\r\n",
            "-1\t-6538.71383862177\tExtraTreesRegressor(input_matrix, ExtraTreesRegressor__bootstrap=False, ExtraTreesRegressor__max_features=0.9500000000000001, ExtraTreesRegressor__min_samples_leaf=19, ExtraTreesRegressor__min_samples_split=12, ExtraTreesRegressor__n_estimators=100)\n",
            "\n",
            "Generation 2 - Current Pareto front scores:\n",
            "\n",
            "-1\t-6430.895909552353\tExtraTreesRegressor(input_matrix, ExtraTreesRegressor__bootstrap=True, ExtraTreesRegressor__max_features=0.6000000000000001, ExtraTreesRegressor__min_samples_leaf=8, ExtraTreesRegressor__min_samples_split=14, ExtraTreesRegressor__n_estimators=100)\n",
            "_pre_test decorator: _random_mutation_operator: num_test=0 Found array with 0 feature(s) (shape=(50, 0)) while a minimum of 1 is required..\n",
            "\n",
            "Generation 3 - Current Pareto front scores:\n",
            "\n",
            "-1\t-6005.973532875204\tRandomForestRegressor(input_matrix, RandomForestRegressor__bootstrap=False, RandomForestRegressor__max_features=0.1, RandomForestRegressor__min_samples_leaf=8, RandomForestRegressor__min_samples_split=17, RandomForestRegressor__n_estimators=100)\n",
            "\n",
            "Generation 4 - Current Pareto front scores:\n",
            "\n",
            "-1\t-5402.650843192529\tExtraTreesRegressor(input_matrix, ExtraTreesRegressor__bootstrap=False, ExtraTreesRegressor__max_features=0.9500000000000001, ExtraTreesRegressor__min_samples_leaf=5, ExtraTreesRegressor__min_samples_split=12, ExtraTreesRegressor__n_estimators=100)\n",
            "\n",
            "Generation 5 - Current Pareto front scores:\n",
            "\n",
            "-1\t-5402.650843192529\tExtraTreesRegressor(input_matrix, ExtraTreesRegressor__bootstrap=False, ExtraTreesRegressor__max_features=0.9500000000000001, ExtraTreesRegressor__min_samples_leaf=5, ExtraTreesRegressor__min_samples_split=12, ExtraTreesRegressor__n_estimators=100)\n",
            "30 operators have been imported by TPOT.\n"
          ],
          "name": "stdout"
        },
        {
          "output_type": "display_data",
          "data": {
            "application/vnd.jupyter.widget-view+json": {
              "model_id": "c959e1135d2f473d8bfeb8660acc4b98",
              "version_minor": 0,
              "version_major": 2
            },
            "text/plain": [
              "HBox(children=(FloatProgress(value=0.0, description='Optimization Progress', max=60.0, style=ProgressStyle(des…"
            ]
          },
          "metadata": {
            "tags": []
          }
        },
        {
          "output_type": "stream",
          "text": [
            "\r\n",
            "Generation 1 - Current Pareto front scores:\n",
            "\r\n",
            "-1\t-6538.71383862177\tExtraTreesRegressor(input_matrix, ExtraTreesRegressor__bootstrap=False, ExtraTreesRegressor__max_features=0.9500000000000001, ExtraTreesRegressor__min_samples_leaf=19, ExtraTreesRegressor__min_samples_split=12, ExtraTreesRegressor__n_estimators=100)\n",
            "\n",
            "Generation 2 - Current Pareto front scores:\n",
            "\n",
            "-1\t-6430.895909552353\tExtraTreesRegressor(input_matrix, ExtraTreesRegressor__bootstrap=True, ExtraTreesRegressor__max_features=0.6000000000000001, ExtraTreesRegressor__min_samples_leaf=8, ExtraTreesRegressor__min_samples_split=14, ExtraTreesRegressor__n_estimators=100)\n",
            "_pre_test decorator: _random_mutation_operator: num_test=0 Found array with 0 feature(s) (shape=(50, 0)) while a minimum of 1 is required..\n",
            "\n",
            "Generation 3 - Current Pareto front scores:\n",
            "\n",
            "-1\t-6005.973532875204\tRandomForestRegressor(input_matrix, RandomForestRegressor__bootstrap=False, RandomForestRegressor__max_features=0.1, RandomForestRegressor__min_samples_leaf=8, RandomForestRegressor__min_samples_split=17, RandomForestRegressor__n_estimators=100)\n",
            "\n",
            "Generation 4 - Current Pareto front scores:\n",
            "\n",
            "-1\t-5402.650843192529\tExtraTreesRegressor(input_matrix, ExtraTreesRegressor__bootstrap=False, ExtraTreesRegressor__max_features=0.9500000000000001, ExtraTreesRegressor__min_samples_leaf=5, ExtraTreesRegressor__min_samples_split=12, ExtraTreesRegressor__n_estimators=100)\n",
            "\n",
            "Generation 5 - Current Pareto front scores:\n",
            "\n",
            "-1\t-5402.650843192529\tExtraTreesRegressor(input_matrix, ExtraTreesRegressor__bootstrap=False, ExtraTreesRegressor__max_features=0.9500000000000001, ExtraTreesRegressor__min_samples_leaf=5, ExtraTreesRegressor__min_samples_split=12, ExtraTreesRegressor__n_estimators=100)\n",
            "30 operators have been imported by TPOT.\n"
          ],
          "name": "stdout"
        },
        {
          "output_type": "display_data",
          "data": {
            "application/vnd.jupyter.widget-view+json": {
              "model_id": "d4daf24d746c45d18058aed7a2956130",
              "version_minor": 0,
              "version_major": 2
            },
            "text/plain": [
              "HBox(children=(FloatProgress(value=0.0, description='Optimization Progress', max=60.0, style=ProgressStyle(des…"
            ]
          },
          "metadata": {
            "tags": []
          }
        },
        {
          "output_type": "stream",
          "text": [
            "\r\n",
            "Generation 1 - Current Pareto front scores:\n",
            "\r\n",
            "-1\t-6538.71383862177\tExtraTreesRegressor(input_matrix, ExtraTreesRegressor__bootstrap=False, ExtraTreesRegressor__max_features=0.9500000000000001, ExtraTreesRegressor__min_samples_leaf=19, ExtraTreesRegressor__min_samples_split=12, ExtraTreesRegressor__n_estimators=100)\n",
            "\n",
            "Generation 2 - Current Pareto front scores:\n",
            "\n",
            "-1\t-6430.895909552353\tExtraTreesRegressor(input_matrix, ExtraTreesRegressor__bootstrap=True, ExtraTreesRegressor__max_features=0.6000000000000001, ExtraTreesRegressor__min_samples_leaf=8, ExtraTreesRegressor__min_samples_split=14, ExtraTreesRegressor__n_estimators=100)\n",
            "_pre_test decorator: _random_mutation_operator: num_test=0 Found array with 0 feature(s) (shape=(50, 0)) while a minimum of 1 is required..\n",
            "\n",
            "Generation 3 - Current Pareto front scores:\n",
            "\n",
            "-1\t-6005.973532875204\tRandomForestRegressor(input_matrix, RandomForestRegressor__bootstrap=False, RandomForestRegressor__max_features=0.1, RandomForestRegressor__min_samples_leaf=8, RandomForestRegressor__min_samples_split=17, RandomForestRegressor__n_estimators=100)\n",
            "\n",
            "Generation 4 - Current Pareto front scores:\n",
            "\n",
            "-1\t-5402.650843192529\tExtraTreesRegressor(input_matrix, ExtraTreesRegressor__bootstrap=False, ExtraTreesRegressor__max_features=0.9500000000000001, ExtraTreesRegressor__min_samples_leaf=5, ExtraTreesRegressor__min_samples_split=12, ExtraTreesRegressor__n_estimators=100)\n",
            "\n",
            "Generation 5 - Current Pareto front scores:\n",
            "\n",
            "-1\t-5402.650843192529\tExtraTreesRegressor(input_matrix, ExtraTreesRegressor__bootstrap=False, ExtraTreesRegressor__max_features=0.9500000000000001, ExtraTreesRegressor__min_samples_leaf=5, ExtraTreesRegressor__min_samples_split=12, ExtraTreesRegressor__n_estimators=100)\n",
            "Times: [8.28386277115, 8.212728048583335, 8.181342225616664]\n",
            "Scores: [-4885.06485085679, -4885.06485085679, -4885.06485085679]\n",
            "Winning pipelines: [Pipeline(memory=None,\n",
            "         steps=[('extratreesregressor',\n",
            "                 ExtraTreesRegressor(bootstrap=False, ccp_alpha=0.0,\n",
            "                                     criterion='mse', max_depth=None,\n",
            "                                     max_features=0.9500000000000001,\n",
            "                                     max_leaf_nodes=None, max_samples=None,\n",
            "                                     min_impurity_decrease=0.0,\n",
            "                                     min_impurity_split=None,\n",
            "                                     min_samples_leaf=5, min_samples_split=12,\n",
            "                                     min_weight_fraction_leaf=0.0,\n",
            "                                     n_estimators=100, n_jobs=None,\n",
            "                                     oob_score=False, random_state=25,\n",
            "                                     verbose=0, warm_start=False))],\n",
            "         verbose=False), Pipeline(memory=None,\n",
            "         steps=[('extratreesregressor',\n",
            "                 ExtraTreesRegressor(bootstrap=False, ccp_alpha=0.0,\n",
            "                                     criterion='mse', max_depth=None,\n",
            "                                     max_features=0.9500000000000001,\n",
            "                                     max_leaf_nodes=None, max_samples=None,\n",
            "                                     min_impurity_decrease=0.0,\n",
            "                                     min_impurity_split=None,\n",
            "                                     min_samples_leaf=5, min_samples_split=12,\n",
            "                                     min_weight_fraction_leaf=0.0,\n",
            "                                     n_estimators=100, n_jobs=None,\n",
            "                                     oob_score=False, random_state=25,\n",
            "                                     verbose=0, warm_start=False))],\n",
            "         verbose=False), Pipeline(memory=None,\n",
            "         steps=[('extratreesregressor',\n",
            "                 ExtraTreesRegressor(bootstrap=False, ccp_alpha=0.0,\n",
            "                                     criterion='mse', max_depth=None,\n",
            "                                     max_features=0.9500000000000001,\n",
            "                                     max_leaf_nodes=None, max_samples=None,\n",
            "                                     min_impurity_decrease=0.0,\n",
            "                                     min_impurity_split=None,\n",
            "                                     min_samples_leaf=5, min_samples_split=12,\n",
            "                                     min_weight_fraction_leaf=0.0,\n",
            "                                     n_estimators=100, n_jobs=None,\n",
            "                                     oob_score=False, random_state=25,\n",
            "                                     verbose=0, warm_start=False))],\n",
            "         verbose=False)]\n"
          ],
          "name": "stdout"
        }
      ]
    },
    {
      "cell_type": "code",
      "metadata": {
        "id": "-fCZpK4xmarB"
      },
      "source": [
        "X_train, X_test, y_train, y_test = train_test_split(X, y_array, test_size = .25,\n",
        "                                                    random_state = 33)"
      ],
      "execution_count": 11,
      "outputs": []
    },
    {
      "cell_type": "code",
      "metadata": {
        "id": "8Av8XcJzf8Z3",
        "colab": {
          "base_uri": "https://localhost:8080/"
        },
        "outputId": "b0bd5e2e-13c6-420e-8019-4e849194e14e"
      },
      "source": [
        "from sklearn.ensemble import ExtraTreesRegressor\n",
        "\n",
        "model = ExtraTreesRegressor(bootstrap=False, ccp_alpha=0.0,\n",
        "                                     criterion='mse', max_depth=None,\n",
        "                                     max_features=0.9500000000000001,\n",
        "                                     max_leaf_nodes=None, max_samples=None,\n",
        "                                     min_impurity_decrease=0.0,\n",
        "                                     min_impurity_split=None,\n",
        "                                     min_samples_leaf=5, min_samples_split=12,\n",
        "                                     min_weight_fraction_leaf=0.0,\n",
        "                                     n_estimators=100, n_jobs=None,\n",
        "                                     oob_score=False, random_state=25,\n",
        "                                     verbose=0, warm_start=False)\n",
        "\n",
        "model.fit(X_train,y_train)"
      ],
      "execution_count": 12,
      "outputs": [
        {
          "output_type": "execute_result",
          "data": {
            "text/plain": [
              "ExtraTreesRegressor(bootstrap=False, ccp_alpha=0.0, criterion='mse',\n",
              "                    max_depth=None, max_features=0.9500000000000001,\n",
              "                    max_leaf_nodes=None, max_samples=None,\n",
              "                    min_impurity_decrease=0.0, min_impurity_split=None,\n",
              "                    min_samples_leaf=5, min_samples_split=12,\n",
              "                    min_weight_fraction_leaf=0.0, n_estimators=100, n_jobs=None,\n",
              "                    oob_score=False, random_state=25, verbose=0,\n",
              "                    warm_start=False)"
            ]
          },
          "metadata": {
            "tags": []
          },
          "execution_count": 12
        }
      ]
    },
    {
      "cell_type": "code",
      "metadata": {
        "colab": {
          "base_uri": "https://localhost:8080/"
        },
        "id": "z-b0DwehmW8m",
        "outputId": "e723469e-e646-437a-8e50-a2432276f11b"
      },
      "source": [
        "print(\"Accuracy Score for Train data: {}\\n Accuracy Score for Test data: {}\".\n",
        "      format(model.score(X_train,y_train),model.score(X_test,y_test)))              "
      ],
      "execution_count": 14,
      "outputs": [
        {
          "output_type": "stream",
          "text": [
            "Accuracy Score for Train data: 0.7541904936292434\n",
            " Accuracy Score for Test data: 0.5653422085814563\n"
          ],
          "name": "stdout"
        }
      ]
    },
    {
      "cell_type": "code",
      "metadata": {
        "id": "yLimIpPXmsYU"
      },
      "source": [
        "yhat = model.predict(X_test)"
      ],
      "execution_count": 70,
      "outputs": []
    },
    {
      "cell_type": "code",
      "metadata": {
        "colab": {
          "base_uri": "https://localhost:8080/",
          "height": 196
        },
        "id": "ZrmncZV5otG-",
        "outputId": "a0e569c7-1d7f-4b94-ac26-8105a517a8a1"
      },
      "source": [
        "Actual_values = pd.DataFrame(y_test,columns=['Actual Values'])\n",
        "Actual_values.head()"
      ],
      "execution_count": 67,
      "outputs": [
        {
          "output_type": "execute_result",
          "data": {
            "text/html": [
              "<div>\n",
              "<style scoped>\n",
              "    .dataframe tbody tr th:only-of-type {\n",
              "        vertical-align: middle;\n",
              "    }\n",
              "\n",
              "    .dataframe tbody tr th {\n",
              "        vertical-align: top;\n",
              "    }\n",
              "\n",
              "    .dataframe thead th {\n",
              "        text-align: right;\n",
              "    }\n",
              "</style>\n",
              "<table border=\"1\" class=\"dataframe\">\n",
              "  <thead>\n",
              "    <tr style=\"text-align: right;\">\n",
              "      <th></th>\n",
              "      <th>Actual Values</th>\n",
              "    </tr>\n",
              "  </thead>\n",
              "  <tbody>\n",
              "    <tr>\n",
              "      <th>0</th>\n",
              "      <td>60</td>\n",
              "    </tr>\n",
              "    <tr>\n",
              "      <th>1</th>\n",
              "      <td>60</td>\n",
              "    </tr>\n",
              "    <tr>\n",
              "      <th>2</th>\n",
              "      <td>60</td>\n",
              "    </tr>\n",
              "    <tr>\n",
              "      <th>3</th>\n",
              "      <td>130</td>\n",
              "    </tr>\n",
              "    <tr>\n",
              "      <th>4</th>\n",
              "      <td>50</td>\n",
              "    </tr>\n",
              "  </tbody>\n",
              "</table>\n",
              "</div>"
            ],
            "text/plain": [
              "   Actual Values\n",
              "0             60\n",
              "1             60\n",
              "2             60\n",
              "3            130\n",
              "4             50"
            ]
          },
          "metadata": {
            "tags": []
          },
          "execution_count": 67
        }
      ]
    },
    {
      "cell_type": "code",
      "metadata": {
        "colab": {
          "base_uri": "https://localhost:8080/",
          "height": 196
        },
        "id": "IMANQdAjo8W3",
        "outputId": "bbb3b760-5e63-4616-818e-1bf04e885b43"
      },
      "source": [
        "predicted_values = pd.DataFrame(yhat,columns=['Predicted Values'])\n",
        "predicted_values.head()"
      ],
      "execution_count": 68,
      "outputs": [
        {
          "output_type": "execute_result",
          "data": {
            "text/html": [
              "<div>\n",
              "<style scoped>\n",
              "    .dataframe tbody tr th:only-of-type {\n",
              "        vertical-align: middle;\n",
              "    }\n",
              "\n",
              "    .dataframe tbody tr th {\n",
              "        vertical-align: top;\n",
              "    }\n",
              "\n",
              "    .dataframe thead th {\n",
              "        text-align: right;\n",
              "    }\n",
              "</style>\n",
              "<table border=\"1\" class=\"dataframe\">\n",
              "  <thead>\n",
              "    <tr style=\"text-align: right;\">\n",
              "      <th></th>\n",
              "      <th>Predicted Values</th>\n",
              "    </tr>\n",
              "  </thead>\n",
              "  <tbody>\n",
              "    <tr>\n",
              "      <th>0</th>\n",
              "      <td>66.702796</td>\n",
              "    </tr>\n",
              "    <tr>\n",
              "      <th>1</th>\n",
              "      <td>60.786190</td>\n",
              "    </tr>\n",
              "    <tr>\n",
              "      <th>2</th>\n",
              "      <td>51.172471</td>\n",
              "    </tr>\n",
              "    <tr>\n",
              "      <th>3</th>\n",
              "      <td>222.689996</td>\n",
              "    </tr>\n",
              "    <tr>\n",
              "      <th>4</th>\n",
              "      <td>53.608535</td>\n",
              "    </tr>\n",
              "  </tbody>\n",
              "</table>\n",
              "</div>"
            ],
            "text/plain": [
              "   Predicted Values\n",
              "0         66.702796\n",
              "1         60.786190\n",
              "2         51.172471\n",
              "3        222.689996\n",
              "4         53.608535"
            ]
          },
          "metadata": {
            "tags": []
          },
          "execution_count": 68
        }
      ]
    },
    {
      "cell_type": "code",
      "metadata": {
        "colab": {
          "base_uri": "https://localhost:8080/",
          "height": 404
        },
        "id": "VC3rQJmPoaiS",
        "outputId": "d965bd59-5a61-4d27-9fb7-34b4a524278d"
      },
      "source": [
        "prediction = Actual_values.join(predicted_values)\n",
        "prediction"
      ],
      "execution_count": 69,
      "outputs": [
        {
          "output_type": "execute_result",
          "data": {
            "text/html": [
              "<div>\n",
              "<style scoped>\n",
              "    .dataframe tbody tr th:only-of-type {\n",
              "        vertical-align: middle;\n",
              "    }\n",
              "\n",
              "    .dataframe tbody tr th {\n",
              "        vertical-align: top;\n",
              "    }\n",
              "\n",
              "    .dataframe thead th {\n",
              "        text-align: right;\n",
              "    }\n",
              "</style>\n",
              "<table border=\"1\" class=\"dataframe\">\n",
              "  <thead>\n",
              "    <tr style=\"text-align: right;\">\n",
              "      <th></th>\n",
              "      <th>Actual Values</th>\n",
              "      <th>Predicted Values</th>\n",
              "    </tr>\n",
              "  </thead>\n",
              "  <tbody>\n",
              "    <tr>\n",
              "      <th>0</th>\n",
              "      <td>60</td>\n",
              "      <td>66.702796</td>\n",
              "    </tr>\n",
              "    <tr>\n",
              "      <th>1</th>\n",
              "      <td>60</td>\n",
              "      <td>60.786190</td>\n",
              "    </tr>\n",
              "    <tr>\n",
              "      <th>2</th>\n",
              "      <td>60</td>\n",
              "      <td>51.172471</td>\n",
              "    </tr>\n",
              "    <tr>\n",
              "      <th>3</th>\n",
              "      <td>130</td>\n",
              "      <td>222.689996</td>\n",
              "    </tr>\n",
              "    <tr>\n",
              "      <th>4</th>\n",
              "      <td>50</td>\n",
              "      <td>53.608535</td>\n",
              "    </tr>\n",
              "    <tr>\n",
              "      <th>...</th>\n",
              "      <td>...</td>\n",
              "      <td>...</td>\n",
              "    </tr>\n",
              "    <tr>\n",
              "      <th>4929</th>\n",
              "      <td>40</td>\n",
              "      <td>61.857359</td>\n",
              "    </tr>\n",
              "    <tr>\n",
              "      <th>4930</th>\n",
              "      <td>50</td>\n",
              "      <td>41.155386</td>\n",
              "    </tr>\n",
              "    <tr>\n",
              "      <th>4931</th>\n",
              "      <td>60</td>\n",
              "      <td>49.059672</td>\n",
              "    </tr>\n",
              "    <tr>\n",
              "      <th>4932</th>\n",
              "      <td>80</td>\n",
              "      <td>79.108842</td>\n",
              "    </tr>\n",
              "    <tr>\n",
              "      <th>4933</th>\n",
              "      <td>100</td>\n",
              "      <td>163.936872</td>\n",
              "    </tr>\n",
              "  </tbody>\n",
              "</table>\n",
              "<p>4934 rows × 2 columns</p>\n",
              "</div>"
            ],
            "text/plain": [
              "      Actual Values  Predicted Values\n",
              "0                60         66.702796\n",
              "1                60         60.786190\n",
              "2                60         51.172471\n",
              "3               130        222.689996\n",
              "4                50         53.608535\n",
              "...             ...               ...\n",
              "4929             40         61.857359\n",
              "4930             50         41.155386\n",
              "4931             60         49.059672\n",
              "4932             80         79.108842\n",
              "4933            100        163.936872\n",
              "\n",
              "[4934 rows x 2 columns]"
            ]
          },
          "metadata": {
            "tags": []
          },
          "execution_count": 69
        }
      ]
    },
    {
      "cell_type": "code",
      "metadata": {
        "id": "KJlvhD86m0_4"
      },
      "source": [
        "import matplotlib.pyplot as plt\n",
        "%matplotlib inline"
      ],
      "execution_count": 42,
      "outputs": []
    },
    {
      "cell_type": "code",
      "metadata": {
        "colab": {
          "base_uri": "https://localhost:8080/",
          "height": 281
        },
        "id": "rX_4y5VdsxMA",
        "outputId": "61417a82-f4f1-409e-c107-106f297e3914"
      },
      "source": [
        "prediction.plot.line()"
      ],
      "execution_count": 66,
      "outputs": [
        {
          "output_type": "execute_result",
          "data": {
            "text/plain": [
              "<matplotlib.axes._subplots.AxesSubplot at 0x7fd71f34e080>"
            ]
          },
          "metadata": {
            "tags": []
          },
          "execution_count": 66
        },
        {
          "output_type": "display_data",
          "data": {
            "image/png": "[encoded data removed]",
            "text/plain": [
              "<Figure size 432x288 with 1 Axes>"
            ]
          },
          "metadata": {
            "tags": [],
            "needs_background": "light"
          }
        }
      ]
    }
  ]
}