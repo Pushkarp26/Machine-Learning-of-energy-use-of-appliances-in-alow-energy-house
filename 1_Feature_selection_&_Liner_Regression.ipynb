{
  "nbformat": 4,
  "nbformat_minor": 0,
  "metadata": {
    "colab": {
      "name": "1.Feature selection & Liner Regression.ipynb",
      "provenance": [],
      "collapsed_sections": [],
      "toc_visible": true,
      "authorship_tag": "ABX9TyM+V8tsNqQ4KyKvOEFxtNf5",
      "include_colab_link": true
    },
    "kernelspec": {
      "name": "python3",
      "display_name": "Python 3"
    }
  },
  "cells": [
    {
      "cell_type": "markdown",
      "metadata": {
        "id": "view-in-github",
        "colab_type": "text"
      },
      "source": [
        "<a href=\"https://colab.research.google.com/github/Pushkarp26/Machine-Learning-of-energy-use-of-appliances-in-alow-energy-house/blob/main/1_Feature_selection_%26_Liner_Regression.ipynb\" target=\"_parent\"><img src=\"https://colab.research.google.com/assets/colab-badge.svg\" alt=\"Open In Colab\"/></a>"
      ]
    },
    {
      "cell_type": "code",
      "metadata": {
        "id": "nWzppRBAmwP0"
      },
      "source": [
        "import pandas as pd\n",
        "import numpy as np\n",
        "from datetime import datetime as dt\n",
        "from datetime import timedelta as td\n",
        "import matplotlib.pyplot as plt\n",
        "import math\n",
        "from google.colab import files"
      ],
      "execution_count": 4,
      "outputs": []
    },
    {
      "cell_type": "code",
      "metadata": {
        "id": "Ol1J0ccQnWze",
        "colab": {
          "base_uri": "https://localhost:8080/"
        },
        "outputId": "107fac2d-d318-4891-df0b-b62ad9c119d2"
      },
      "source": [
        "df = pd.read_csv('new_df.csv')\n",
        "df.drop('Unnamed: 0',axis=1,inplace=True)\n",
        "print(df.head())"
      ],
      "execution_count": 5,
      "outputs": [
        {
          "output_type": "stream",
          "text": [
            "                  Date  Appliances  ...  Weekday(1)/Weekend(0)  Hour\n",
            "0  2016-01-11 17:00:00          60  ...                      1    17\n",
            "1  2016-01-11 17:10:00          60  ...                      1    17\n",
            "2  2016-01-11 17:20:00          50  ...                      1    17\n",
            "3  2016-01-11 17:30:00          50  ...                      1    17\n",
            "4  2016-01-11 17:40:00          60  ...                      1    17\n",
            "\n",
            "[5 rows x 36 columns]\n"
          ],
          "name": "stdout"
        }
      ]
    },
    {
      "cell_type": "code",
      "metadata": {
        "id": "FwctkmASoFly",
        "colab": {
          "base_uri": "https://localhost:8080/"
        },
        "outputId": "b323a068-dc56-41a0-dd95-0e8edcfa54b9"
      },
      "source": [
        "df.info()"
      ],
      "execution_count": 6,
      "outputs": [
        {
          "output_type": "stream",
          "text": [
            "<class 'pandas.core.frame.DataFrame'>\n",
            "RangeIndex: 19735 entries, 0 to 19734\n",
            "Data columns (total 36 columns):\n",
            " #   Column                    Non-Null Count  Dtype  \n",
            "---  ------                    --------------  -----  \n",
            " 0   Date                      19735 non-null  object \n",
            " 1   Appliances                19735 non-null  int64  \n",
            " 2   lights                    19735 non-null  int64  \n",
            " 3   Kitchen_Temp              19735 non-null  float64\n",
            " 4   Kitchen_Humidity          19735 non-null  float64\n",
            " 5   Living_room_Temp          19735 non-null  float64\n",
            " 6   Living_room_Humidity      19735 non-null  float64\n",
            " 7   Laundry_room Temp         19735 non-null  float64\n",
            " 8   Laundry_room_Humidity     19735 non-null  float64\n",
            " 9   Office_Temp               19735 non-null  float64\n",
            " 10  Office_Humidity           19735 non-null  float64\n",
            " 11  Bathroom_Temp             19735 non-null  float64\n",
            " 12  Bathroom_Humidity         19735 non-null  float64\n",
            " 13  Building_North_Temp       19735 non-null  float64\n",
            " 14  Building_North_Humidity   19735 non-null  float64\n",
            " 15  Ironing_room_Temp         19735 non-null  float64\n",
            " 16  Ironing _room_Humidity    19735 non-null  float64\n",
            " 17  Childrens_room_Temp       19735 non-null  float64\n",
            " 18  Childrens_room_Humidity   19735 non-null  float64\n",
            " 19  Parents_room_Temp         19735 non-null  float64\n",
            " 20  Parents_room_Humidity     19735 non-null  float64\n",
            " 21  Outside_Temp              19735 non-null  float64\n",
            " 22  Outside_Press             19735 non-null  float64\n",
            " 23  Outside_Humidity          19735 non-null  float64\n",
            " 24  Windspeed                 19735 non-null  float64\n",
            " 25  Visibility                19735 non-null  float64\n",
            " 26  Dewpoint_Temp             19735 non-null  float64\n",
            " 27  rv1                       19735 non-null  float64\n",
            " 28  rv2                       19735 non-null  float64\n",
            " 29  Total_Energy_Consumption  19735 non-null  int64  \n",
            " 30  Month_of_year             19735 non-null  object \n",
            " 31  Week_of_year              19735 non-null  int64  \n",
            " 32  Day                       19735 non-null  int64  \n",
            " 33  Day_of_week               19735 non-null  object \n",
            " 34  Weekday(1)/Weekend(0)     19735 non-null  int64  \n",
            " 35  Hour                      19735 non-null  int64  \n",
            "dtypes: float64(26), int64(7), object(3)\n",
            "memory usage: 5.4+ MB\n"
          ],
          "name": "stdout"
        }
      ]
    },
    {
      "cell_type": "code",
      "metadata": {
        "id": "SuvHyaFNsGp5",
        "colab": {
          "base_uri": "https://localhost:8080/"
        },
        "outputId": "3054398f-cff5-4405-882f-9217738e27d2"
      },
      "source": [
        "\n",
        "df['Date'] = pd.to_datetime(df['Date'], \n",
        "                           format='%Y-%m-%d %H:%M:%S')\n",
        "df['Date']"
      ],
      "execution_count": 7,
      "outputs": [
        {
          "output_type": "execute_result",
          "data": {
            "text/plain": [
              "0       2016-01-11 17:00:00\n",
              "1       2016-01-11 17:10:00\n",
              "2       2016-01-11 17:20:00\n",
              "3       2016-01-11 17:30:00\n",
              "4       2016-01-11 17:40:00\n",
              "                ...        \n",
              "19730   2016-05-27 17:20:00\n",
              "19731   2016-05-27 17:30:00\n",
              "19732   2016-05-27 17:40:00\n",
              "19733   2016-05-27 17:50:00\n",
              "19734   2016-05-27 18:00:00\n",
              "Name: Date, Length: 19735, dtype: datetime64[ns]"
            ]
          },
          "metadata": {
            "tags": []
          },
          "execution_count": 7
        }
      ]
    },
    {
      "cell_type": "code",
      "metadata": {
        "id": "F-CWA7SD6HgI"
      },
      "source": [
        "m = df.Date.dt.minute*60"
      ],
      "execution_count": 8,
      "outputs": []
    },
    {
      "cell_type": "code",
      "metadata": {
        "id": "n-xyesGu8VON"
      },
      "source": [
        "h = df.Date.dt.hour*3600"
      ],
      "execution_count": 9,
      "outputs": []
    },
    {
      "cell_type": "code",
      "metadata": {
        "id": "8UZuGw54ENuF",
        "colab": {
          "base_uri": "https://localhost:8080/"
        },
        "outputId": "d7bcf7e8-cf31-4299-9374-7ebcaca65148"
      },
      "source": [
        "s = m+h\n",
        "s.to_list\n",
        "print(s)"
      ],
      "execution_count": 10,
      "outputs": [
        {
          "output_type": "stream",
          "text": [
            "0        61200\n",
            "1        61800\n",
            "2        62400\n",
            "3        63000\n",
            "4        63600\n",
            "         ...  \n",
            "19730    62400\n",
            "19731    63000\n",
            "19732    63600\n",
            "19733    64200\n",
            "19734    64800\n",
            "Name: Date, Length: 19735, dtype: int64\n"
          ],
          "name": "stdout"
        }
      ]
    },
    {
      "cell_type": "code",
      "metadata": {
        "id": "dsyJGijlEdDt",
        "colab": {
          "base_uri": "https://localhost:8080/"
        },
        "outputId": "d9524c70-60fc-450a-a5d2-065c55851a46"
      },
      "source": [
        "df['NSM'] = s\n",
        "print(df.head())"
      ],
      "execution_count": 11,
      "outputs": [
        {
          "output_type": "stream",
          "text": [
            "                 Date  Appliances  lights  ...  Weekday(1)/Weekend(0)  Hour    NSM\n",
            "0 2016-01-11 17:00:00          60      30  ...                      1    17  61200\n",
            "1 2016-01-11 17:10:00          60      30  ...                      1    17  61800\n",
            "2 2016-01-11 17:20:00          50      30  ...                      1    17  62400\n",
            "3 2016-01-11 17:30:00          50      40  ...                      1    17  63000\n",
            "4 2016-01-11 17:40:00          60      40  ...                      1    17  63600\n",
            "\n",
            "[5 rows x 37 columns]\n"
          ],
          "name": "stdout"
        }
      ]
    },
    {
      "cell_type": "code",
      "metadata": {
        "id": "YPmPKIDzOq39",
        "colab": {
          "base_uri": "https://localhost:8080/"
        },
        "outputId": "9fc402fc-101e-4918-b6c7-3f138133dbc3"
      },
      "source": [
        "df.columns"
      ],
      "execution_count": 12,
      "outputs": [
        {
          "output_type": "execute_result",
          "data": {
            "text/plain": [
              "Index(['Date', 'Appliances', 'lights', 'Kitchen_Temp', 'Kitchen_Humidity',\n",
              "       'Living_room_Temp', 'Living_room_Humidity', 'Laundry_room Temp',\n",
              "       'Laundry_room_Humidity', 'Office_Temp', 'Office_Humidity',\n",
              "       'Bathroom_Temp', 'Bathroom_Humidity', 'Building_North_Temp',\n",
              "       'Building_North_Humidity', 'Ironing_room_Temp',\n",
              "       'Ironing _room_Humidity', 'Childrens_room_Temp',\n",
              "       'Childrens_room_Humidity', 'Parents_room_Temp', 'Parents_room_Humidity',\n",
              "       'Outside_Temp', 'Outside_Press', 'Outside_Humidity', 'Windspeed',\n",
              "       'Visibility', 'Dewpoint_Temp', 'rv1', 'rv2', 'Total_Energy_Consumption',\n",
              "       'Month_of_year', 'Week_of_year', 'Day', 'Day_of_week',\n",
              "       'Weekday(1)/Weekend(0)', 'Hour', 'NSM'],\n",
              "      dtype='object')"
            ]
          },
          "metadata": {
            "tags": []
          },
          "execution_count": 12
        }
      ]
    },
    {
      "cell_type": "code",
      "metadata": {
        "id": "r5nkFH093M7b",
        "colab": {
          "base_uri": "https://localhost:8080/"
        },
        "outputId": "b3638f09-5c1a-4b21-bbbc-96e1e7e85728"
      },
      "source": [
        "df1 = pd.read_csv('new_energy_df.csv')\n",
        "df1.drop('Unnamed: 0',axis=1,inplace=True)\n",
        "df1['Date'] = pd.to_datetime(df1['Date'], \n",
        "                           format='%Y-%m-%d %H:%M:%S')\n",
        "print(df1.info())"
      ],
      "execution_count": 13,
      "outputs": [
        {
          "output_type": "stream",
          "text": [
            "<class 'pandas.core.frame.DataFrame'>\n",
            "RangeIndex: 19735 entries, 0 to 19734\n",
            "Data columns (total 30 columns):\n",
            " #   Column                    Non-Null Count  Dtype         \n",
            "---  ------                    --------------  -----         \n",
            " 0   Date                      19735 non-null  datetime64[ns]\n",
            " 1   Appliances                19735 non-null  int64         \n",
            " 2   lights                    19735 non-null  int64         \n",
            " 3   Kitchen_Temp              19735 non-null  float64       \n",
            " 4   Kitchen_Humidity          19735 non-null  float64       \n",
            " 5   Living_room_Temp          19735 non-null  float64       \n",
            " 6   Living_room_Humidity      19735 non-null  float64       \n",
            " 7   Laundry_room Temp         19735 non-null  float64       \n",
            " 8   Laundry_room_Humidity     19735 non-null  float64       \n",
            " 9   Office_Temp               19735 non-null  float64       \n",
            " 10  Office_Humidity           19735 non-null  float64       \n",
            " 11  Bathroom_Temp             19735 non-null  float64       \n",
            " 12  Bathroom_Humidity         19735 non-null  float64       \n",
            " 13  Building_North_Temp       19735 non-null  float64       \n",
            " 14  Building_North_Humidity   19735 non-null  float64       \n",
            " 15  Ironing_room_Temp         19735 non-null  float64       \n",
            " 16  Ironing _room_Humidity    19735 non-null  float64       \n",
            " 17  Childrens_room_Temp       19735 non-null  float64       \n",
            " 18  Childrens_room_Humidity   19735 non-null  float64       \n",
            " 19  Parents_room_Temp         19735 non-null  float64       \n",
            " 20  Parents_room_Humidity     19735 non-null  float64       \n",
            " 21  Outside_Temp              19735 non-null  float64       \n",
            " 22  Outside_Press             19735 non-null  float64       \n",
            " 23  Outside_Humidity          19735 non-null  float64       \n",
            " 24  Windspeed                 19735 non-null  float64       \n",
            " 25  Visibility                19735 non-null  float64       \n",
            " 26  Dewpoint_Temp             19735 non-null  float64       \n",
            " 27  rv1                       19735 non-null  float64       \n",
            " 28  rv2                       19735 non-null  float64       \n",
            " 29  Total_Energy_Consumption  19735 non-null  int64         \n",
            "dtypes: datetime64[ns](1), float64(26), int64(3)\n",
            "memory usage: 4.5 MB\n",
            "None\n"
          ],
          "name": "stdout"
        }
      ]
    },
    {
      "cell_type": "code",
      "metadata": {
        "id": "kcMaK-qyBvPx",
        "colab": {
          "base_uri": "https://localhost:8080/"
        },
        "outputId": "0c05ab14-76a6-4e26-b258-09352df82288"
      },
      "source": [
        "df1['Weekday'] = df1.Date.dt.weekday\n",
        "df1['Weekstatus'] = df[['Weekday(1)/Weekend(0)']]\n",
        "df1['Day_of_week'] = df[['Day_of_week']]\n",
        "df1['NSM'] = df[['NSM']]\n",
        "df1.info()"
      ],
      "execution_count": 14,
      "outputs": [
        {
          "output_type": "stream",
          "text": [
            "<class 'pandas.core.frame.DataFrame'>\n",
            "RangeIndex: 19735 entries, 0 to 19734\n",
            "Data columns (total 34 columns):\n",
            " #   Column                    Non-Null Count  Dtype         \n",
            "---  ------                    --------------  -----         \n",
            " 0   Date                      19735 non-null  datetime64[ns]\n",
            " 1   Appliances                19735 non-null  int64         \n",
            " 2   lights                    19735 non-null  int64         \n",
            " 3   Kitchen_Temp              19735 non-null  float64       \n",
            " 4   Kitchen_Humidity          19735 non-null  float64       \n",
            " 5   Living_room_Temp          19735 non-null  float64       \n",
            " 6   Living_room_Humidity      19735 non-null  float64       \n",
            " 7   Laundry_room Temp         19735 non-null  float64       \n",
            " 8   Laundry_room_Humidity     19735 non-null  float64       \n",
            " 9   Office_Temp               19735 non-null  float64       \n",
            " 10  Office_Humidity           19735 non-null  float64       \n",
            " 11  Bathroom_Temp             19735 non-null  float64       \n",
            " 12  Bathroom_Humidity         19735 non-null  float64       \n",
            " 13  Building_North_Temp       19735 non-null  float64       \n",
            " 14  Building_North_Humidity   19735 non-null  float64       \n",
            " 15  Ironing_room_Temp         19735 non-null  float64       \n",
            " 16  Ironing _room_Humidity    19735 non-null  float64       \n",
            " 17  Childrens_room_Temp       19735 non-null  float64       \n",
            " 18  Childrens_room_Humidity   19735 non-null  float64       \n",
            " 19  Parents_room_Temp         19735 non-null  float64       \n",
            " 20  Parents_room_Humidity     19735 non-null  float64       \n",
            " 21  Outside_Temp              19735 non-null  float64       \n",
            " 22  Outside_Press             19735 non-null  float64       \n",
            " 23  Outside_Humidity          19735 non-null  float64       \n",
            " 24  Windspeed                 19735 non-null  float64       \n",
            " 25  Visibility                19735 non-null  float64       \n",
            " 26  Dewpoint_Temp             19735 non-null  float64       \n",
            " 27  rv1                       19735 non-null  float64       \n",
            " 28  rv2                       19735 non-null  float64       \n",
            " 29  Total_Energy_Consumption  19735 non-null  int64         \n",
            " 30  Weekday                   19735 non-null  int64         \n",
            " 31  Weekstatus                19735 non-null  int64         \n",
            " 32  Day_of_week               19735 non-null  object        \n",
            " 33  NSM                       19735 non-null  int64         \n",
            "dtypes: datetime64[ns](1), float64(26), int64(6), object(1)\n",
            "memory usage: 5.1+ MB\n"
          ],
          "name": "stdout"
        }
      ]
    },
    {
      "cell_type": "code",
      "metadata": {
        "id": "zM22bUxlyX6m",
        "colab": {
          "base_uri": "https://localhost:8080/"
        },
        "outputId": "7f8be36a-7da7-4120-bfbf-7ea5a54ff676"
      },
      "source": [
        "print(df1.head())"
      ],
      "execution_count": 15,
      "outputs": [
        {
          "output_type": "stream",
          "text": [
            "                 Date  Appliances  lights  ...  Weekstatus  Day_of_week    NSM\n",
            "0 2016-01-11 17:00:00          60      30  ...           1       Monday  61200\n",
            "1 2016-01-11 17:10:00          60      30  ...           1       Monday  61800\n",
            "2 2016-01-11 17:20:00          50      30  ...           1       Monday  62400\n",
            "3 2016-01-11 17:30:00          50      40  ...           1       Monday  63000\n",
            "4 2016-01-11 17:40:00          60      40  ...           1       Monday  63600\n",
            "\n",
            "[5 rows x 34 columns]\n"
          ],
          "name": "stdout"
        }
      ]
    },
    {
      "cell_type": "code",
      "metadata": {
        "colab": {
          "base_uri": "https://localhost:8080/",
          "height": 17
        },
        "id": "GtB3119qIi5W",
        "outputId": "dd3a41c9-ea50-4376-8cd6-711866c73a0c"
      },
      "source": [
        "df1.to_csv('Data_1.csv')\n",
        "files.download('Data_1.csv')"
      ],
      "execution_count": 17,
      "outputs": [
        {
          "output_type": "display_data",
          "data": {
            "application/javascript": [
              "\n",
              "    async function download(id, filename, size) {\n",
              "      if (!google.colab.kernel.accessAllowed) {\n",
              "        return;\n",
              "      }\n",
              "      const div = document.createElement('div');\n",
              "      const label = document.createElement('label');\n",
              "      label.textContent = `Downloading \"${filename}\": `;\n",
              "      div.appendChild(label);\n",
              "      const progress = document.createElement('progress');\n",
              "      progress.max = size;\n",
              "      div.appendChild(progress);\n",
              "      document.body.appendChild(div);\n",
              "\n",
              "      const buffers = [];\n",
              "      let downloaded = 0;\n",
              "\n",
              "      const channel = await google.colab.kernel.comms.open(id);\n",
              "      // Send a message to notify the kernel that we're ready.\n",
              "      channel.send({})\n",
              "\n",
              "      for await (const message of channel.messages) {\n",
              "        // Send a message to notify the kernel that we're ready.\n",
              "        channel.send({})\n",
              "        if (message.buffers) {\n",
              "          for (const buffer of message.buffers) {\n",
              "            buffers.push(buffer);\n",
              "            downloaded += buffer.byteLength;\n",
              "            progress.value = downloaded;\n",
              "          }\n",
              "        }\n",
              "      }\n",
              "      const blob = new Blob(buffers, {type: 'application/binary'});\n",
              "      const a = document.createElement('a');\n",
              "      a.href = window.URL.createObjectURL(blob);\n",
              "      a.download = filename;\n",
              "      div.appendChild(a);\n",
              "      a.click();\n",
              "      div.remove();\n",
              "    }\n",
              "  "
            ],
            "text/plain": [
              "<IPython.core.display.Javascript object>"
            ]
          },
          "metadata": {
            "tags": []
          }
        },
        {
          "output_type": "display_data",
          "data": {
            "application/javascript": [
              "download(\"download_c0b16c44-85b2-4aa1-be45-e08164f4926f\", \"Data_1.csv\", 6320420)"
            ],
            "text/plain": [
              "<IPython.core.display.Javascript object>"
            ]
          },
          "metadata": {
            "tags": []
          }
        }
      ]
    },
    {
      "cell_type": "code",
      "metadata": {
        "id": "7TGI_lwFPaUW",
        "colab": {
          "base_uri": "https://localhost:8080/"
        },
        "outputId": "0e274210-52e7-4383-e834-1d267105cd71"
      },
      "source": [
        "!pip install Boruta"
      ],
      "execution_count": null,
      "outputs": [
        {
          "output_type": "stream",
          "text": [
            "Requirement already satisfied: Boruta in /usr/local/lib/python3.6/dist-packages (0.3)\n",
            "Requirement already satisfied: scipy>=0.17.0 in /usr/local/lib/python3.6/dist-packages (from Boruta) (1.4.1)\n",
            "Requirement already satisfied: numpy>=1.10.4 in /usr/local/lib/python3.6/dist-packages (from Boruta) (1.18.5)\n",
            "Requirement already satisfied: scikit-learn>=0.17.1 in /usr/local/lib/python3.6/dist-packages (from Boruta) (0.22.2.post1)\n",
            "Requirement already satisfied: joblib>=0.11 in /usr/local/lib/python3.6/dist-packages (from scikit-learn>=0.17.1->Boruta) (0.17.0)\n"
          ],
          "name": "stdout"
        }
      ]
    },
    {
      "cell_type": "code",
      "metadata": {
        "id": "7bEWZMhYtWP6"
      },
      "source": [
        ""
      ],
      "execution_count": null,
      "outputs": []
    },
    {
      "cell_type": "code",
      "metadata": {
        "id": "7I6-WKPutnj5",
        "colab": {
          "base_uri": "https://localhost:8080/"
        },
        "outputId": "af5202db-952d-4829-ac66-b8fbc06b6687"
      },
      "source": [
        "df1.iloc[:,[3,4,5,6,7,8,9,10,11,12,13,14,15,16,17,18,19,20,21,22,23,24,25,26,27,\n",
        "            28,30,33]].values"
      ],
      "execution_count": null,
      "outputs": [
        {
          "output_type": "execute_result",
          "data": {
            "text/plain": [
              "array([[1.98900000e+01, 4.75966667e+01, 1.92000000e+01, ...,\n",
              "        1.32754332e+01, 0.00000000e+00, 6.12000000e+04],\n",
              "       [1.98900000e+01, 4.66933333e+01, 1.92000000e+01, ...,\n",
              "        1.86061950e+01, 0.00000000e+00, 6.18000000e+04],\n",
              "       [1.98900000e+01, 4.63000000e+01, 1.92000000e+01, ...,\n",
              "        2.86426682e+01, 0.00000000e+00, 6.24000000e+04],\n",
              "       ...,\n",
              "       [2.55000000e+01, 4.65966667e+01, 2.56285714e+01, ...,\n",
              "        2.91991171e+01, 4.00000000e+00, 6.36000000e+04],\n",
              "       [2.55000000e+01, 4.69900000e+01, 2.54140000e+01, ...,\n",
              "        6.32278365e+00, 4.00000000e+00, 6.42000000e+04],\n",
              "       [2.55000000e+01, 4.66000000e+01, 2.52642857e+01, ...,\n",
              "        3.41188506e+01, 4.00000000e+00, 6.48000000e+04]])"
            ]
          },
          "metadata": {
            "tags": []
          },
          "execution_count": 42
        }
      ]
    },
    {
      "cell_type": "code",
      "metadata": {
        "id": "QcsJunX_1pL8"
      },
      "source": [
        "from sklearn.ensemble import RandomForestClassifier\n",
        "from boruta import BorutaPy\n",
        "\n",
        "X = df1.iloc[:,[3,4,5,6,7,8,9,10,11,12,13,14,15,16,17,18,19,20,21,22,23,24,25,26\n",
        "                ,27,28,30,33]]\n",
        "y = df[['Total_Energy_Consumption']]"
      ],
      "execution_count": null,
      "outputs": []
    },
    {
      "cell_type": "code",
      "metadata": {
        "colab": {
          "base_uri": "https://localhost:8080/",
          "height": 17
        },
        "id": "gao7LZ4k-hdM",
        "outputId": "a07af7b9-19fb-48f4-a598-9fed9c8d16be"
      },
      "source": [
        "X.to_csv(\"predictor.csv\")\n",
        "y.to_csv(\"target.csv\")\n",
        "files.download(\"predictor.csv\")\n",
        "files.download(\"target.csv\")"
      ],
      "execution_count": null,
      "outputs": [
        {
          "output_type": "display_data",
          "data": {
            "application/javascript": [
              "\n",
              "    async function download(id, filename, size) {\n",
              "      if (!google.colab.kernel.accessAllowed) {\n",
              "        return;\n",
              "      }\n",
              "      const div = document.createElement('div');\n",
              "      const label = document.createElement('label');\n",
              "      label.textContent = `Downloading \"${filename}\": `;\n",
              "      div.appendChild(label);\n",
              "      const progress = document.createElement('progress');\n",
              "      progress.max = size;\n",
              "      div.appendChild(progress);\n",
              "      document.body.appendChild(div);\n",
              "\n",
              "      const buffers = [];\n",
              "      let downloaded = 0;\n",
              "\n",
              "      const channel = await google.colab.kernel.comms.open(id);\n",
              "      // Send a message to notify the kernel that we're ready.\n",
              "      channel.send({})\n",
              "\n",
              "      for await (const message of channel.messages) {\n",
              "        // Send a message to notify the kernel that we're ready.\n",
              "        channel.send({})\n",
              "        if (message.buffers) {\n",
              "          for (const buffer of message.buffers) {\n",
              "            buffers.push(buffer);\n",
              "            downloaded += buffer.byteLength;\n",
              "            progress.value = downloaded;\n",
              "          }\n",
              "        }\n",
              "      }\n",
              "      const blob = new Blob(buffers, {type: 'application/binary'});\n",
              "      const a = document.createElement('a');\n",
              "      a.href = window.URL.createObjectURL(blob);\n",
              "      a.download = filename;\n",
              "      div.appendChild(a);\n",
              "      a.click();\n",
              "      div.remove();\n",
              "    }\n",
              "  "
            ],
            "text/plain": [
              "<IPython.core.display.Javascript object>"
            ]
          },
          "metadata": {
            "tags": []
          }
        },
        {
          "output_type": "display_data",
          "data": {
            "application/javascript": [
              "download(\"download_363970fc-1cf2-458f-a3ad-3f642a0567ba\", \"predictor.csv\", 5551929)"
            ],
            "text/plain": [
              "<IPython.core.display.Javascript object>"
            ]
          },
          "metadata": {
            "tags": []
          }
        },
        {
          "output_type": "display_data",
          "data": {
            "application/javascript": [
              "\n",
              "    async function download(id, filename, size) {\n",
              "      if (!google.colab.kernel.accessAllowed) {\n",
              "        return;\n",
              "      }\n",
              "      const div = document.createElement('div');\n",
              "      const label = document.createElement('label');\n",
              "      label.textContent = `Downloading \"${filename}\": `;\n",
              "      div.appendChild(label);\n",
              "      const progress = document.createElement('progress');\n",
              "      progress.max = size;\n",
              "      div.appendChild(progress);\n",
              "      document.body.appendChild(div);\n",
              "\n",
              "      const buffers = [];\n",
              "      let downloaded = 0;\n",
              "\n",
              "      const channel = await google.colab.kernel.comms.open(id);\n",
              "      // Send a message to notify the kernel that we're ready.\n",
              "      channel.send({})\n",
              "\n",
              "      for await (const message of channel.messages) {\n",
              "        // Send a message to notify the kernel that we're ready.\n",
              "        channel.send({})\n",
              "        if (message.buffers) {\n",
              "          for (const buffer of message.buffers) {\n",
              "            buffers.push(buffer);\n",
              "            downloaded += buffer.byteLength;\n",
              "            progress.value = downloaded;\n",
              "          }\n",
              "        }\n",
              "      }\n",
              "      const blob = new Blob(buffers, {type: 'application/binary'});\n",
              "      const a = document.createElement('a');\n",
              "      a.href = window.URL.createObjectURL(blob);\n",
              "      a.download = filename;\n",
              "      div.appendChild(a);\n",
              "      a.click();\n",
              "      div.remove();\n",
              "    }\n",
              "  "
            ],
            "text/plain": [
              "<IPython.core.display.Javascript object>"
            ]
          },
          "metadata": {
            "tags": []
          }
        },
        {
          "output_type": "display_data",
          "data": {
            "application/javascript": [
              "download(\"download_a156f3a5-a4fe-4016-a406-c0714169e533\", \"target.csv\", 172308)"
            ],
            "text/plain": [
              "<IPython.core.display.Javascript object>"
            ]
          },
          "metadata": {
            "tags": []
          }
        }
      ]
    },
    {
      "cell_type": "code",
      "metadata": {
        "id": "jQBJ_2wjOB4p"
      },
      "source": [
        "# y = y.ravel()"
      ],
      "execution_count": null,
      "outputs": []
    },
    {
      "cell_type": "code",
      "metadata": {
        "id": "V1QLPHT-Owz7"
      },
      "source": [
        "# rf = RandomForestClassifier(n_jobs=-1, class_weight='balanced', max_depth=5)\n",
        "\n",
        "# # define Boruta feature selection method\n",
        "# feat_selector = BorutaPy(rf, n_estimators='auto', verbose=2, random_state=1)\n",
        "\n",
        "# # find all relevant features - 5 features should be selected\n",
        "# feat_selector.fit(X, y)\n",
        "\n",
        "# # check selected features - first 5 features are selected\n",
        "# feat_selector.support_\n",
        "\n",
        "# # check ranking of features\n",
        "# feat_selector.ranking_\n",
        "\n",
        "# # call transform() on X to filter it down to selected features\n",
        "# X_filtered = feat_selector.transform(X)"
      ],
      "execution_count": null,
      "outputs": []
    },
    {
      "cell_type": "code",
      "metadata": {
        "id": "QIH3OW9lFxjU"
      },
      "source": [
        "# feat_selector.support_"
      ],
      "execution_count": null,
      "outputs": []
    },
    {
      "cell_type": "code",
      "metadata": {
        "id": "sUSXajRBF4UQ"
      },
      "source": [
        "# feat_selector.ranking_\n"
      ],
      "execution_count": null,
      "outputs": []
    },
    {
      "cell_type": "code",
      "metadata": {
        "id": "v2US-CCPGA6G"
      },
      "source": [
        "# feat_selector.n_features_"
      ],
      "execution_count": null,
      "outputs": []
    },
    {
      "cell_type": "markdown",
      "metadata": {
        "id": "JKdP5NL3eob5"
      },
      "source": [
        "#**FEATURE SCALING**"
      ]
    },
    {
      "cell_type": "markdown",
      "metadata": {
        "id": "bFhcqQSvrHL9"
      },
      "source": [
        "#**Normalized Data**\n",
        "###What is Normalization?\n",
        ">Normalization is a scaling technique in which values are shifted and rescaled so that they end up ranging between 0 and 1. It is also known as Min-Max scaling.\n",
        "\n",
        "Here’s the formula for normalization:\n",
        "\n",
        ">![Norm_eq.webp](data:image/webp;base64,UklGRgQCAABXRUJQVlA4TPcBAAAvlYAJEH8gICFMkP97bRDIpvgILYFsio/Qmn+CSZpqOwZAS2+/BznXth2C8yzGXFvVtmz1A2wnU8VO50npTBnbnCq27aS2uvVWsd73+3JSR/Tfgds2jiRvr9q9890fwM1gaYsXl0/QVCRkxyu81GkqUjIfx2kqcsj+apJUJFF0gKYiiSCBp7JaLMt38lQ8Ei+TyJfSq37hUcfPGL+r8BIaVNYjz6apDK488v6QFqnbby1y/0qdR0VHmUJTiX2nB4nmiPU4NP/KOhCZC+x4TFQZwInBpJfJj5TA+SufifSXOKgv12gqGzGyQwvNyCj+B6r8fDApOFJ2vNmZ9UB+lZVL+o7b4admzDX5VZbXbmmIqrK8djOR1e55U35GlwSjyn6KjPzWbvHhtFv8Cq/dwsNs938zy1PHkLfQE+AlJrku1gnwEhVfGzT5XsIIh47zvQS2b4UpwEtcMgV6xTp7kmWK8xoEl/V1SX/mz3/ov3sJ/KGKLwPbb804tgjhIi1etNlgeE0fXHnkA+uLAbQB1uNIKcbzyLgY3LHoXjvKLvrOAc5cBXIdPFICq/ZRYmCjzGV4oREDeEHnUsYTXEpfiMgo8xbtUMs8FHO8cAAbkQh2mp1a3DijVz8823fJpXuZI+bzS+9tPliDTfb+mcbqVWc4XhtcZXAfAAA=)                                      \n",
        "\n",
        "\n",
        "Here, Xmax and Xmin are the maximum and the minimum values of the feature respectively.\n",
        "\n",
        "When the value of X is the minimum value in the column, the numerator will be 0, and hence X’ is 0.\n",
        "\n",
        "On the other hand, when the value of X is the maximum value in the column, the numerator is equal to the denominator and thus the value of X’ is 1.\n",
        "\n",
        "If the value of X is between the minimum and the maximum value, then the value of X’ is between 0 and 1"
      ]
    },
    {
      "cell_type": "code",
      "metadata": {
        "id": "AvEsL9LqrGkZ",
        "colab": {
          "base_uri": "https://localhost:8080/",
          "height": 322
        },
        "outputId": "cb002d44-1b4f-4f26-ad16-3794ed097e3b"
      },
      "source": [
        "from sklearn.preprocessing import MinMaxScaler\n",
        "norm = MinMaxScaler() \n",
        "df_norm_X = pd.DataFrame(norm.fit_transform(X),columns=X.columns)\n",
        "df_norm_X.describe()"
      ],
      "execution_count": null,
      "outputs": [
        {
          "output_type": "execute_result",
          "data": {
            "text/html": [
              "<div>\n",
              "<style scoped>\n",
              "    .dataframe tbody tr th:only-of-type {\n",
              "        vertical-align: middle;\n",
              "    }\n",
              "\n",
              "    .dataframe tbody tr th {\n",
              "        vertical-align: top;\n",
              "    }\n",
              "\n",
              "    .dataframe thead th {\n",
              "        text-align: right;\n",
              "    }\n",
              "</style>\n",
              "<table border=\"1\" class=\"dataframe\">\n",
              "  <thead>\n",
              "    <tr style=\"text-align: right;\">\n",
              "      <th></th>\n",
              "      <th>Kitchen_Temp</th>\n",
              "      <th>Kitchen_Humidity</th>\n",
              "      <th>Living_room_Temp</th>\n",
              "      <th>Living_room_Humidity</th>\n",
              "      <th>Laundry_room Temp</th>\n",
              "      <th>Laundry_room_Humidity</th>\n",
              "      <th>Office_Temp</th>\n",
              "      <th>Office_Humidity</th>\n",
              "      <th>Bathroom_Temp</th>\n",
              "      <th>Bathroom_Humidity</th>\n",
              "      <th>Building_North_Temp</th>\n",
              "      <th>Building_North_Humidity</th>\n",
              "      <th>Ironing_room_Temp</th>\n",
              "      <th>Ironing _room_Humidity</th>\n",
              "      <th>Childrens_room_Temp</th>\n",
              "      <th>Childrens_room_Humidity</th>\n",
              "      <th>Parents_room_Temp</th>\n",
              "      <th>Parents_room_Humidity</th>\n",
              "      <th>Outside_Temp</th>\n",
              "      <th>Outside_Press</th>\n",
              "      <th>Outside_Humidity</th>\n",
              "      <th>Windspeed</th>\n",
              "      <th>Visibility</th>\n",
              "      <th>Dewpoint_Temp</th>\n",
              "      <th>rv1</th>\n",
              "      <th>rv2</th>\n",
              "      <th>Weekday</th>\n",
              "      <th>NSM</th>\n",
              "    </tr>\n",
              "  </thead>\n",
              "  <tbody>\n",
              "    <tr>\n",
              "      <th>count</th>\n",
              "      <td>19735.000000</td>\n",
              "      <td>19735.000000</td>\n",
              "      <td>19735.000000</td>\n",
              "      <td>19735.000000</td>\n",
              "      <td>19735.000000</td>\n",
              "      <td>19735.000000</td>\n",
              "      <td>19735.000000</td>\n",
              "      <td>19735.000000</td>\n",
              "      <td>19735.000000</td>\n",
              "      <td>19735.000000</td>\n",
              "      <td>19735.000000</td>\n",
              "      <td>19735.000000</td>\n",
              "      <td>19735.000000</td>\n",
              "      <td>19735.000000</td>\n",
              "      <td>19735.000000</td>\n",
              "      <td>19735.000000</td>\n",
              "      <td>19735.000000</td>\n",
              "      <td>19735.000000</td>\n",
              "      <td>19735.000000</td>\n",
              "      <td>19735.000000</td>\n",
              "      <td>19735.000000</td>\n",
              "      <td>19735.000000</td>\n",
              "      <td>19735.000000</td>\n",
              "      <td>19735.000000</td>\n",
              "      <td>19735.000000</td>\n",
              "      <td>19735.000000</td>\n",
              "      <td>19735.000000</td>\n",
              "      <td>19735.000000</td>\n",
              "    </tr>\n",
              "    <tr>\n",
              "      <th>mean</th>\n",
              "      <td>0.517061</td>\n",
              "      <td>0.364271</td>\n",
              "      <td>0.308303</td>\n",
              "      <td>0.561170</td>\n",
              "      <td>0.421038</td>\n",
              "      <td>0.489601</td>\n",
              "      <td>0.518499</td>\n",
              "      <td>0.485143</td>\n",
              "      <td>0.407272</td>\n",
              "      <td>0.317777</td>\n",
              "      <td>0.406809</td>\n",
              "      <td>0.542053</td>\n",
              "      <td>0.459671</td>\n",
              "      <td>0.432206</td>\n",
              "      <td>0.523873</td>\n",
              "      <td>0.457031</td>\n",
              "      <td>0.478234</td>\n",
              "      <td>0.512655</td>\n",
              "      <td>0.399089</td>\n",
              "      <td>0.609828</td>\n",
              "      <td>0.733558</td>\n",
              "      <td>0.288554</td>\n",
              "      <td>0.574321</td>\n",
              "      <td>0.468810</td>\n",
              "      <td>0.499742</td>\n",
              "      <td>0.499742</td>\n",
              "      <td>0.496208</td>\n",
              "      <td>0.500083</td>\n",
              "    </tr>\n",
              "    <tr>\n",
              "      <th>std</th>\n",
              "      <td>0.169595</td>\n",
              "      <td>0.109512</td>\n",
              "      <td>0.159412</td>\n",
              "      <td>0.114438</td>\n",
              "      <td>0.166676</td>\n",
              "      <td>0.152107</td>\n",
              "      <td>0.184044</td>\n",
              "      <td>0.185289</td>\n",
              "      <td>0.176266</td>\n",
              "      <td>0.135656</td>\n",
              "      <td>0.177277</td>\n",
              "      <td>0.314963</td>\n",
              "      <td>0.198868</td>\n",
              "      <td>0.181355</td>\n",
              "      <td>0.179081</td>\n",
              "      <td>0.179039</td>\n",
              "      <td>0.209647</td>\n",
              "      <td>0.171833</td>\n",
              "      <td>0.170978</td>\n",
              "      <td>0.172080</td>\n",
              "      <td>0.196067</td>\n",
              "      <td>0.175087</td>\n",
              "      <td>0.181457</td>\n",
              "      <td>0.189803</td>\n",
              "      <td>0.289984</td>\n",
              "      <td>0.289984</td>\n",
              "      <td>0.330936</td>\n",
              "      <td>0.290676</td>\n",
              "    </tr>\n",
              "    <tr>\n",
              "      <th>min</th>\n",
              "      <td>0.000000</td>\n",
              "      <td>0.000000</td>\n",
              "      <td>0.000000</td>\n",
              "      <td>0.000000</td>\n",
              "      <td>0.000000</td>\n",
              "      <td>0.000000</td>\n",
              "      <td>0.000000</td>\n",
              "      <td>0.000000</td>\n",
              "      <td>0.000000</td>\n",
              "      <td>0.000000</td>\n",
              "      <td>0.000000</td>\n",
              "      <td>0.000000</td>\n",
              "      <td>0.000000</td>\n",
              "      <td>0.000000</td>\n",
              "      <td>0.000000</td>\n",
              "      <td>0.000000</td>\n",
              "      <td>0.000000</td>\n",
              "      <td>0.000000</td>\n",
              "      <td>0.000000</td>\n",
              "      <td>0.000000</td>\n",
              "      <td>0.000000</td>\n",
              "      <td>0.000000</td>\n",
              "      <td>0.000000</td>\n",
              "      <td>0.000000</td>\n",
              "      <td>0.000000</td>\n",
              "      <td>0.000000</td>\n",
              "      <td>0.000000</td>\n",
              "      <td>0.000000</td>\n",
              "    </tr>\n",
              "    <tr>\n",
              "      <th>25%</th>\n",
              "      <td>0.419219</td>\n",
              "      <td>0.283735</td>\n",
              "      <td>0.195542</td>\n",
              "      <td>0.490299</td>\n",
              "      <td>0.298272</td>\n",
              "      <td>0.380122</td>\n",
              "      <td>0.399099</td>\n",
              "      <td>0.335894</td>\n",
              "      <td>0.281653</td>\n",
              "      <td>0.234337</td>\n",
              "      <td>0.282104</td>\n",
              "      <td>0.293478</td>\n",
              "      <td>0.311970</td>\n",
              "      <td>0.294326</td>\n",
              "      <td>0.410436</td>\n",
              "      <td>0.324423</td>\n",
              "      <td>0.323621</td>\n",
              "      <td>0.386313</td>\n",
              "      <td>0.278671</td>\n",
              "      <td>0.503101</td>\n",
              "      <td>0.609649</td>\n",
              "      <td>0.142857</td>\n",
              "      <td>0.430769</td>\n",
              "      <td>0.339367</td>\n",
              "      <td>0.249895</td>\n",
              "      <td>0.249895</td>\n",
              "      <td>0.166667</td>\n",
              "      <td>0.251748</td>\n",
              "    </tr>\n",
              "    <tr>\n",
              "      <th>50%</th>\n",
              "      <td>0.507920</td>\n",
              "      <td>0.347675</td>\n",
              "      <td>0.283499</td>\n",
              "      <td>0.563408</td>\n",
              "      <td>0.407112</td>\n",
              "      <td>0.456302</td>\n",
              "      <td>0.501502</td>\n",
              "      <td>0.458387</td>\n",
              "      <td>0.387960</td>\n",
              "      <td>0.289821</td>\n",
              "      <td>0.389026</td>\n",
              "      <td>0.548938</td>\n",
              "      <td>0.437637</td>\n",
              "      <td>0.413593</td>\n",
              "      <td>0.530363</td>\n",
              "      <td>0.437800</td>\n",
              "      <td>0.468262</td>\n",
              "      <td>0.485651</td>\n",
              "      <td>0.383173</td>\n",
              "      <td>0.623256</td>\n",
              "      <td>0.785088</td>\n",
              "      <td>0.261905</td>\n",
              "      <td>0.600000</td>\n",
              "      <td>0.453997</td>\n",
              "      <td>0.497934</td>\n",
              "      <td>0.497934</td>\n",
              "      <td>0.500000</td>\n",
              "      <td>0.503497</td>\n",
              "    </tr>\n",
              "    <tr>\n",
              "      <th>75%</th>\n",
              "      <td>0.613516</td>\n",
              "      <td>0.441519</td>\n",
              "      <td>0.392537</td>\n",
              "      <td>0.641016</td>\n",
              "      <td>0.505982</td>\n",
              "      <td>0.607260</td>\n",
              "      <td>0.630631</td>\n",
              "      <td>0.618722</td>\n",
              "      <td>0.505460</td>\n",
              "      <td>0.358586</td>\n",
              "      <td>0.504177</td>\n",
              "      <td>0.831412</td>\n",
              "      <td>0.585297</td>\n",
              "      <td>0.560284</td>\n",
              "      <td>0.648459</td>\n",
              "      <td>0.580398</td>\n",
              "      <td>0.594173</td>\n",
              "      <td>0.627956</td>\n",
              "      <td>0.495445</td>\n",
              "      <td>0.735659</td>\n",
              "      <td>0.890351</td>\n",
              "      <td>0.392857</td>\n",
              "      <td>0.600000</td>\n",
              "      <td>0.595777</td>\n",
              "      <td>0.751701</td>\n",
              "      <td>0.751701</td>\n",
              "      <td>0.833333</td>\n",
              "      <td>0.748252</td>\n",
              "    </tr>\n",
              "    <tr>\n",
              "      <th>max</th>\n",
              "      <td>1.000000</td>\n",
              "      <td>1.000000</td>\n",
              "      <td>1.000000</td>\n",
              "      <td>1.000000</td>\n",
              "      <td>1.000000</td>\n",
              "      <td>1.000000</td>\n",
              "      <td>1.000000</td>\n",
              "      <td>1.000000</td>\n",
              "      <td>1.000000</td>\n",
              "      <td>1.000000</td>\n",
              "      <td>1.000000</td>\n",
              "      <td>1.000000</td>\n",
              "      <td>1.000000</td>\n",
              "      <td>1.000000</td>\n",
              "      <td>1.000000</td>\n",
              "      <td>1.000000</td>\n",
              "      <td>1.000000</td>\n",
              "      <td>1.000000</td>\n",
              "      <td>1.000000</td>\n",
              "      <td>1.000000</td>\n",
              "      <td>1.000000</td>\n",
              "      <td>1.000000</td>\n",
              "      <td>1.000000</td>\n",
              "      <td>1.000000</td>\n",
              "      <td>1.000000</td>\n",
              "      <td>1.000000</td>\n",
              "      <td>1.000000</td>\n",
              "      <td>1.000000</td>\n",
              "    </tr>\n",
              "  </tbody>\n",
              "</table>\n",
              "</div>"
            ],
            "text/plain": [
              "       Kitchen_Temp  Kitchen_Humidity  ...       Weekday           NSM\n",
              "count  19735.000000      19735.000000  ...  19735.000000  19735.000000\n",
              "mean       0.517061          0.364271  ...      0.496208      0.500083\n",
              "std        0.169595          0.109512  ...      0.330936      0.290676\n",
              "min        0.000000          0.000000  ...      0.000000      0.000000\n",
              "25%        0.419219          0.283735  ...      0.166667      0.251748\n",
              "50%        0.507920          0.347675  ...      0.500000      0.503497\n",
              "75%        0.613516          0.441519  ...      0.833333      0.748252\n",
              "max        1.000000          1.000000  ...      1.000000      1.000000\n",
              "\n",
              "[8 rows x 28 columns]"
            ]
          },
          "metadata": {
            "tags": []
          },
          "execution_count": 49
        }
      ]
    },
    {
      "cell_type": "code",
      "metadata": {
        "colab": {
          "base_uri": "https://localhost:8080/",
          "height": 286
        },
        "id": "YeOW5mj1DyDR",
        "outputId": "46aa6bcb-3748-484a-9fc6-d748469f2073"
      },
      "source": [
        "df_norm_y = pd.DataFrame(norm.fit_transform(y),columns=y.columns)\n",
        "df_norm_y.describe()"
      ],
      "execution_count": null,
      "outputs": [
        {
          "output_type": "execute_result",
          "data": {
            "text/html": [
              "<div>\n",
              "<style scoped>\n",
              "    .dataframe tbody tr th:only-of-type {\n",
              "        vertical-align: middle;\n",
              "    }\n",
              "\n",
              "    .dataframe tbody tr th {\n",
              "        vertical-align: top;\n",
              "    }\n",
              "\n",
              "    .dataframe thead th {\n",
              "        text-align: right;\n",
              "    }\n",
              "</style>\n",
              "<table border=\"1\" class=\"dataframe\">\n",
              "  <thead>\n",
              "    <tr style=\"text-align: right;\">\n",
              "      <th></th>\n",
              "      <th>Total_Energy_Consumption</th>\n",
              "    </tr>\n",
              "  </thead>\n",
              "  <tbody>\n",
              "    <tr>\n",
              "      <th>count</th>\n",
              "      <td>19735.000000</td>\n",
              "    </tr>\n",
              "    <tr>\n",
              "      <th>mean</th>\n",
              "      <td>0.083179</td>\n",
              "    </tr>\n",
              "    <tr>\n",
              "      <th>std</th>\n",
              "      <td>0.094892</td>\n",
              "    </tr>\n",
              "    <tr>\n",
              "      <th>min</th>\n",
              "      <td>0.000000</td>\n",
              "    </tr>\n",
              "    <tr>\n",
              "      <th>25%</th>\n",
              "      <td>0.036364</td>\n",
              "    </tr>\n",
              "    <tr>\n",
              "      <th>50%</th>\n",
              "      <td>0.045455</td>\n",
              "    </tr>\n",
              "    <tr>\n",
              "      <th>75%</th>\n",
              "      <td>0.081818</td>\n",
              "    </tr>\n",
              "    <tr>\n",
              "      <th>max</th>\n",
              "      <td>1.000000</td>\n",
              "    </tr>\n",
              "  </tbody>\n",
              "</table>\n",
              "</div>"
            ],
            "text/plain": [
              "       Total_Energy_Consumption\n",
              "count              19735.000000\n",
              "mean                   0.083179\n",
              "std                    0.094892\n",
              "min                    0.000000\n",
              "25%                    0.036364\n",
              "50%                    0.045455\n",
              "75%                    0.081818\n",
              "max                    1.000000"
            ]
          },
          "metadata": {
            "tags": []
          },
          "execution_count": 50
        }
      ]
    },
    {
      "cell_type": "markdown",
      "metadata": {
        "id": "MYcDqwmJxvpE"
      },
      "source": [
        "#**Standardization**\n",
        "###What is Standardization?\n",
        ">Standardization is another scaling technique where the values are centered around the mean with a unit standard deviation. This means that the mean of the attribute becomes zero and the resultant distribution has a unit standard deviation.\n",
        "\n",
        "Here’s the formula for standardization:\n",
        "\n",
        ">![image.png](data:image/png;base64,iVBORw0KGgoAAAANSUhEUgAAAGEAAAAlCAYAAABSz4fZAAAClUlEQVRoBe2agRGCMAxFGcEZHMEZHMEZHMEZHMEZHMEZHMEZXAHv9RKu7YFgiVq4eMcBbWmTn+Q3bW2alfyez2d7PB7bzWbTNk3T7vf7ljJV73q9hvLtdhvaxXXaxu9GCFwulwD24/HoDEDXvJ9Op6TMaEjvZgCB4O1ah9eLcbTI799GQDw+0JEb4NtoD/QvfB/op4YIOBwO7e12S6iQOet+vydlA+ostxjFmaAr0aCN5yh1ErlXIqKxGChHpoQR/h0JRIBkbJ2WZGpkaV2BxQNWNu+0UDAMoFnQbrcrkguagC6mXOfz+S2YyCJR2WmEg4iTdGWzHxhoTJjZg0zoIDYAzXVtkPPxhK7MmuAIeTTisCKb2TgNA9XAbxoBsWYojEfHZT9+TiZgwSngRcSZ4FbDIghF8pBXoMULEyC07tt3icBkbBxF54g8QorlMbNmgQQoKV4eFMtTPuqJUiZoIsKch0dkBnDGZ1zohwuH4R0D9NKkNvD9lxF0J1ZjgGLu1xCOc1vGrYF6JupfS7NkfVAiVBK+RIkZh5VIs7BvoBrl/mLRJdMIHOYG+BxGHLYvW/uoJ4BnQqMjj4CPoLNtXNn+i61yS+hNMyXL/RdSMww75ZodyksA+Z2MGEBBIM0ix37X/o91gTJxlIVfKYSxAaiRPLd/YZF+6m9WCGgExP1Z7b84HcWo9jwTATXuv/SIur6i2vdf1oe4a+QIOAKOgCPgCDgCjsDSEGDDUnYJkpX47K3ppQHxL3lZK7GoZN3ExfFp3wL2X/KtflwiIP9nRnROvXr9q1AQusn/LMDeWW6YKoRdoxCcn/dxPtTkdPQjiw/RDoZhbviRGD5Mfm7CJF38lxWHswwB5gOoRw/p8/mhrNfxr17qwovTvjMT3gAAAABJRU5ErkJggg==)\n",
        "\n",
        "Feature scaling: \n",
        "\n",
        "![image.png](data:image/png;base64,iVBORw0KGgoAAAANSUhEUgAAAAsAAAAMCAYAAAC0qUeeAAAAnklEQVQoFXWQAREAERBFN4IMIsggggwiyCKDCDKIIIMKe/PNcbtzmDH4/1vPEokRQuBaKwuJvPfcWlPa8rn3vo0xBvb8ritDhIrGmB2EU0pha63S5o2UEgPju04UY2RMqc29c45zzspAVVT/hcEmPyJ5oW/utwMqDKz1B/UiDGCAD89iohLOCKp2InhjO/LK/p4CUzv19xoGE5ivAWE8ICN+cLjEwdcAAAAASUVORK5CYII=) is the mean of the feature values and Feature scaling: ![image.png](data:image/png;base64,iVBORw0KGgoAAAANSUhEUgAAAAsAAAAICAYAAAAvOAWIAAAAhElEQVQoFXWQAQ3AIAwEXwIakIAGJKABCWhBAxLQgAQ0YKHLk43RkTVpKO3TXgE2yzmLtVYAKDfG8P5aCEFijDLGmO69l5SSFlHOjiy+T4FaqzjnVG7WOaa1pgqllKMBeu9yMAEg0oHxN44NyL+jzfj+gZXnssRYiT0gL0dyUZ5f/kd7AQvGU6rorKSxAAAAAElFTkSuQmCC) is the standard deviation of the feature values. Note that in this case, the values are not restricted to a particular range."
      ]
    },
    {
      "cell_type": "code",
      "metadata": {
        "id": "NC8F40PTymzl",
        "colab": {
          "base_uri": "https://localhost:8080/",
          "height": 322
        },
        "outputId": "591bd013-1443-414d-cd99-8764b182efd0"
      },
      "source": [
        "from sklearn.preprocessing import StandardScaler\n",
        "std = StandardScaler()\n",
        "df_standardized_X = pd.DataFrame(std.fit_transform(X),columns=X.columns)\n",
        "df_standardized_X.describe()"
      ],
      "execution_count": null,
      "outputs": [
        {
          "output_type": "execute_result",
          "data": {
            "text/html": [
              "<div>\n",
              "<style scoped>\n",
              "    .dataframe tbody tr th:only-of-type {\n",
              "        vertical-align: middle;\n",
              "    }\n",
              "\n",
              "    .dataframe tbody tr th {\n",
              "        vertical-align: top;\n",
              "    }\n",
              "\n",
              "    .dataframe thead th {\n",
              "        text-align: right;\n",
              "    }\n",
              "</style>\n",
              "<table border=\"1\" class=\"dataframe\">\n",
              "  <thead>\n",
              "    <tr style=\"text-align: right;\">\n",
              "      <th></th>\n",
              "      <th>Kitchen_Temp</th>\n",
              "      <th>Kitchen_Humidity</th>\n",
              "      <th>Living_room_Temp</th>\n",
              "      <th>Living_room_Humidity</th>\n",
              "      <th>Laundry_room Temp</th>\n",
              "      <th>Laundry_room_Humidity</th>\n",
              "      <th>Office_Temp</th>\n",
              "      <th>Office_Humidity</th>\n",
              "      <th>Bathroom_Temp</th>\n",
              "      <th>Bathroom_Humidity</th>\n",
              "      <th>Building_North_Temp</th>\n",
              "      <th>Building_North_Humidity</th>\n",
              "      <th>Ironing_room_Temp</th>\n",
              "      <th>Ironing _room_Humidity</th>\n",
              "      <th>Childrens_room_Temp</th>\n",
              "      <th>Childrens_room_Humidity</th>\n",
              "      <th>Parents_room_Temp</th>\n",
              "      <th>Parents_room_Humidity</th>\n",
              "      <th>Outside_Temp</th>\n",
              "      <th>Outside_Press</th>\n",
              "      <th>Outside_Humidity</th>\n",
              "      <th>Windspeed</th>\n",
              "      <th>Visibility</th>\n",
              "      <th>Dewpoint_Temp</th>\n",
              "      <th>rv1</th>\n",
              "      <th>rv2</th>\n",
              "      <th>Weekday</th>\n",
              "      <th>NSM</th>\n",
              "    </tr>\n",
              "  </thead>\n",
              "  <tbody>\n",
              "    <tr>\n",
              "      <th>count</th>\n",
              "      <td>1.973500e+04</td>\n",
              "      <td>1.973500e+04</td>\n",
              "      <td>1.973500e+04</td>\n",
              "      <td>1.973500e+04</td>\n",
              "      <td>1.973500e+04</td>\n",
              "      <td>1.973500e+04</td>\n",
              "      <td>1.973500e+04</td>\n",
              "      <td>1.973500e+04</td>\n",
              "      <td>1.973500e+04</td>\n",
              "      <td>1.973500e+04</td>\n",
              "      <td>1.973500e+04</td>\n",
              "      <td>1.973500e+04</td>\n",
              "      <td>1.973500e+04</td>\n",
              "      <td>1.973500e+04</td>\n",
              "      <td>1.973500e+04</td>\n",
              "      <td>1.973500e+04</td>\n",
              "      <td>1.973500e+04</td>\n",
              "      <td>1.973500e+04</td>\n",
              "      <td>1.973500e+04</td>\n",
              "      <td>1.973500e+04</td>\n",
              "      <td>1.973500e+04</td>\n",
              "      <td>1.973500e+04</td>\n",
              "      <td>1.973500e+04</td>\n",
              "      <td>1.973500e+04</td>\n",
              "      <td>1.973500e+04</td>\n",
              "      <td>1.973500e+04</td>\n",
              "      <td>1.973500e+04</td>\n",
              "      <td>1.973500e+04</td>\n",
              "    </tr>\n",
              "    <tr>\n",
              "      <th>mean</th>\n",
              "      <td>-6.731209e-15</td>\n",
              "      <td>4.354257e-18</td>\n",
              "      <td>2.432061e-15</td>\n",
              "      <td>-6.287232e-17</td>\n",
              "      <td>-1.700906e-15</td>\n",
              "      <td>9.850083e-15</td>\n",
              "      <td>-4.696904e-15</td>\n",
              "      <td>2.791945e-15</td>\n",
              "      <td>-4.057875e-15</td>\n",
              "      <td>-2.004815e-16</td>\n",
              "      <td>-2.688388e-16</td>\n",
              "      <td>-1.081163e-14</td>\n",
              "      <td>4.313527e-15</td>\n",
              "      <td>8.670147e-16</td>\n",
              "      <td>2.570250e-14</td>\n",
              "      <td>1.473933e-15</td>\n",
              "      <td>9.071414e-15</td>\n",
              "      <td>-5.965715e-15</td>\n",
              "      <td>1.914748e-16</td>\n",
              "      <td>1.017585e-14</td>\n",
              "      <td>-5.558642e-15</td>\n",
              "      <td>-2.773665e-15</td>\n",
              "      <td>-2.249233e-15</td>\n",
              "      <td>1.053820e-15</td>\n",
              "      <td>5.836617e-17</td>\n",
              "      <td>5.836617e-17</td>\n",
              "      <td>4.534841e-16</td>\n",
              "      <td>-2.908464e-18</td>\n",
              "    </tr>\n",
              "    <tr>\n",
              "      <th>std</th>\n",
              "      <td>1.000025e+00</td>\n",
              "      <td>1.000025e+00</td>\n",
              "      <td>1.000025e+00</td>\n",
              "      <td>1.000025e+00</td>\n",
              "      <td>1.000025e+00</td>\n",
              "      <td>1.000025e+00</td>\n",
              "      <td>1.000025e+00</td>\n",
              "      <td>1.000025e+00</td>\n",
              "      <td>1.000025e+00</td>\n",
              "      <td>1.000025e+00</td>\n",
              "      <td>1.000025e+00</td>\n",
              "      <td>1.000025e+00</td>\n",
              "      <td>1.000025e+00</td>\n",
              "      <td>1.000025e+00</td>\n",
              "      <td>1.000025e+00</td>\n",
              "      <td>1.000025e+00</td>\n",
              "      <td>1.000025e+00</td>\n",
              "      <td>1.000025e+00</td>\n",
              "      <td>1.000025e+00</td>\n",
              "      <td>1.000025e+00</td>\n",
              "      <td>1.000025e+00</td>\n",
              "      <td>1.000025e+00</td>\n",
              "      <td>1.000025e+00</td>\n",
              "      <td>1.000025e+00</td>\n",
              "      <td>1.000025e+00</td>\n",
              "      <td>1.000025e+00</td>\n",
              "      <td>1.000025e+00</td>\n",
              "      <td>1.000025e+00</td>\n",
              "    </tr>\n",
              "    <tr>\n",
              "      <th>min</th>\n",
              "      <td>-3.048876e+00</td>\n",
              "      <td>-3.326400e+00</td>\n",
              "      <td>-1.934053e+00</td>\n",
              "      <td>-4.903811e+00</td>\n",
              "      <td>-2.526152e+00</td>\n",
              "      <td>-3.218882e+00</td>\n",
              "      <td>-2.817330e+00</td>\n",
              "      <td>-2.618372e+00</td>\n",
              "      <td>-2.310615e+00</td>\n",
              "      <td>-2.342578e+00</td>\n",
              "      <td>-2.294827e+00</td>\n",
              "      <td>-1.721052e+00</td>\n",
              "      <td>-2.311491e+00</td>\n",
              "      <td>-2.383264e+00</td>\n",
              "      <td>-2.925415e+00</td>\n",
              "      <td>-2.552753e+00</td>\n",
              "      <td>-2.281191e+00</td>\n",
              "      <td>-2.983513e+00</td>\n",
              "      <td>-2.334216e+00</td>\n",
              "      <td>-3.543953e+00</td>\n",
              "      <td>-3.741461e+00</td>\n",
              "      <td>-1.648099e+00</td>\n",
              "      <td>-3.165127e+00</td>\n",
              "      <td>-2.470045e+00</td>\n",
              "      <td>-1.723389e+00</td>\n",
              "      <td>-1.723389e+00</td>\n",
              "      <td>-1.499445e+00</td>\n",
              "      <td>-1.720456e+00</td>\n",
              "    </tr>\n",
              "    <tr>\n",
              "      <th>25%</th>\n",
              "      <td>-5.769346e-01</td>\n",
              "      <td>-7.354261e-01</td>\n",
              "      <td>-7.073769e-01</td>\n",
              "      <td>-6.193121e-01</td>\n",
              "      <td>-7.365738e-01</td>\n",
              "      <td>-7.197740e-01</td>\n",
              "      <td>-6.487730e-01</td>\n",
              "      <td>-8.055135e-01</td>\n",
              "      <td>-7.126873e-01</td>\n",
              "      <td>-6.150967e-01</td>\n",
              "      <td>-7.034708e-01</td>\n",
              "      <td>-7.892411e-01</td>\n",
              "      <td>-7.427257e-01</td>\n",
              "      <td>-7.602934e-01</td>\n",
              "      <td>-6.334538e-01</td>\n",
              "      <td>-7.406833e-01</td>\n",
              "      <td>-7.375077e-01</td>\n",
              "      <td>-7.352716e-01</td>\n",
              "      <td>-7.043079e-01</td>\n",
              "      <td>-6.202340e-01</td>\n",
              "      <td>-6.319890e-01</td>\n",
              "      <td>-8.321582e-01</td>\n",
              "      <td>-7.911227e-01</td>\n",
              "      <td>-6.820070e-01</td>\n",
              "      <td>-8.616111e-01</td>\n",
              "      <td>-8.616111e-01</td>\n",
              "      <td>-9.958104e-01</td>\n",
              "      <td>-8.543565e-01</td>\n",
              "    </tr>\n",
              "    <tr>\n",
              "      <th>50%</th>\n",
              "      <td>-5.390414e-02</td>\n",
              "      <td>-1.515563e-01</td>\n",
              "      <td>-1.556007e-01</td>\n",
              "      <td>1.955412e-02</td>\n",
              "      <td>-8.355234e-02</td>\n",
              "      <td>-2.189281e-01</td>\n",
              "      <td>-9.235610e-02</td>\n",
              "      <td>-1.444076e-01</td>\n",
              "      <td>-1.095679e-01</td>\n",
              "      <td>-2.060876e-01</td>\n",
              "      <td>-1.003153e-01</td>\n",
              "      <td>2.185997e-02</td>\n",
              "      <td>-1.107961e-01</td>\n",
              "      <td>-1.026318e-01</td>\n",
              "      <td>3.624193e-02</td>\n",
              "      <td>-1.074159e-01</td>\n",
              "      <td>-4.756539e-02</td>\n",
              "      <td>-1.571523e-01</td>\n",
              "      <td>-9.309242e-02</td>\n",
              "      <td>7.803464e-02</td>\n",
              "      <td>2.628230e-01</td>\n",
              "      <td>-1.522076e-01</td>\n",
              "      <td>1.415217e-01</td>\n",
              "      <td>-7.804751e-02</td>\n",
              "      <td>-6.234755e-03</td>\n",
              "      <td>-6.234755e-03</td>\n",
              "      <td>1.145842e-02</td>\n",
              "      <td>1.174329e-02</td>\n",
              "    </tr>\n",
              "    <tr>\n",
              "      <th>75%</th>\n",
              "      <td>5.687512e-01</td>\n",
              "      <td>7.054003e-01</td>\n",
              "      <td>5.284195e-01</td>\n",
              "      <td>6.977352e-01</td>\n",
              "      <td>5.096503e-01</td>\n",
              "      <td>7.735457e-01</td>\n",
              "      <td>6.092840e-01</td>\n",
              "      <td>7.209424e-01</td>\n",
              "      <td>5.570582e-01</td>\n",
              "      <td>3.008323e-01</td>\n",
              "      <td>5.492537e-01</td>\n",
              "      <td>9.187315e-01</td>\n",
              "      <td>6.317211e-01</td>\n",
              "      <td>7.062465e-01</td>\n",
              "      <td>6.957133e-01</td>\n",
              "      <td>6.890653e-01</td>\n",
              "      <td>5.530318e-01</td>\n",
              "      <td>6.710266e-01</td>\n",
              "      <td>5.635724e-01</td>\n",
              "      <td>7.312537e-01</td>\n",
              "      <td>7.997101e-01</td>\n",
              "      <td>5.957380e-01</td>\n",
              "      <td>1.415217e-01</td>\n",
              "      <td>6.689551e-01</td>\n",
              "      <td>8.688952e-01</td>\n",
              "      <td>8.688952e-01</td>\n",
              "      <td>1.018727e+00</td>\n",
              "      <td>8.537848e-01</td>\n",
              "    </tr>\n",
              "    <tr>\n",
              "      <th>max</th>\n",
              "      <td>2.847670e+00</td>\n",
              "      <td>5.805255e+00</td>\n",
              "      <td>4.339172e+00</td>\n",
              "      <td>3.834732e+00</td>\n",
              "      <td>3.473670e+00</td>\n",
              "      <td>3.355616e+00</td>\n",
              "      <td>2.616301e+00</td>\n",
              "      <td>2.778740e+00</td>\n",
              "      <td>3.362774e+00</td>\n",
              "      <td>5.029191e+00</td>\n",
              "      <td>3.346210e+00</td>\n",
              "      <td>1.454008e+00</td>\n",
              "      <td>2.717089e+00</td>\n",
              "      <td>3.130926e+00</td>\n",
              "      <td>2.658791e+00</td>\n",
              "      <td>3.032761e+00</td>\n",
              "      <td>2.488841e+00</td>\n",
              "      <td>2.836221e+00</td>\n",
              "      <td>3.514646e+00</td>\n",
              "      <td>2.267445e+00</td>\n",
              "      <td>1.358968e+00</td>\n",
              "      <td>4.063486e+00</td>\n",
              "      <td>2.345954e+00</td>\n",
              "      <td>2.798707e+00</td>\n",
              "      <td>1.725168e+00</td>\n",
              "      <td>1.725168e+00</td>\n",
              "      <td>1.522362e+00</td>\n",
              "      <td>1.719885e+00</td>\n",
              "    </tr>\n",
              "  </tbody>\n",
              "</table>\n",
              "</div>"
            ],
            "text/plain": [
              "       Kitchen_Temp  Kitchen_Humidity  ...       Weekday           NSM\n",
              "count  1.973500e+04      1.973500e+04  ...  1.973500e+04  1.973500e+04\n",
              "mean  -6.731209e-15      4.354257e-18  ...  4.534841e-16 -2.908464e-18\n",
              "std    1.000025e+00      1.000025e+00  ...  1.000025e+00  1.000025e+00\n",
              "min   -3.048876e+00     -3.326400e+00  ... -1.499445e+00 -1.720456e+00\n",
              "25%   -5.769346e-01     -7.354261e-01  ... -9.958104e-01 -8.543565e-01\n",
              "50%   -5.390414e-02     -1.515563e-01  ...  1.145842e-02  1.174329e-02\n",
              "75%    5.687512e-01      7.054003e-01  ...  1.018727e+00  8.537848e-01\n",
              "max    2.847670e+00      5.805255e+00  ...  1.522362e+00  1.719885e+00\n",
              "\n",
              "[8 rows x 28 columns]"
            ]
          },
          "metadata": {
            "tags": []
          },
          "execution_count": 51
        }
      ]
    },
    {
      "cell_type": "code",
      "metadata": {
        "colab": {
          "base_uri": "https://localhost:8080/",
          "height": 286
        },
        "id": "Xs79zIE4D8y1",
        "outputId": "0ccd8d3c-b5b3-4b99-9deb-792f00d9ddb1"
      },
      "source": [
        "df_standardized_y = pd.DataFrame(std.fit_transform(y),columns=y.columns)\n",
        "df_standardized_y.describe()"
      ],
      "execution_count": null,
      "outputs": [
        {
          "output_type": "execute_result",
          "data": {
            "text/html": [
              "<div>\n",
              "<style scoped>\n",
              "    .dataframe tbody tr th:only-of-type {\n",
              "        vertical-align: middle;\n",
              "    }\n",
              "\n",
              "    .dataframe tbody tr th {\n",
              "        vertical-align: top;\n",
              "    }\n",
              "\n",
              "    .dataframe thead th {\n",
              "        text-align: right;\n",
              "    }\n",
              "</style>\n",
              "<table border=\"1\" class=\"dataframe\">\n",
              "  <thead>\n",
              "    <tr style=\"text-align: right;\">\n",
              "      <th></th>\n",
              "      <th>Total_Energy_Consumption</th>\n",
              "    </tr>\n",
              "  </thead>\n",
              "  <tbody>\n",
              "    <tr>\n",
              "      <th>count</th>\n",
              "      <td>1.973500e+04</td>\n",
              "    </tr>\n",
              "    <tr>\n",
              "      <th>mean</th>\n",
              "      <td>-8.404054e-16</td>\n",
              "    </tr>\n",
              "    <tr>\n",
              "      <th>std</th>\n",
              "      <td>1.000025e+00</td>\n",
              "    </tr>\n",
              "    <tr>\n",
              "      <th>min</th>\n",
              "      <td>-8.765896e-01</td>\n",
              "    </tr>\n",
              "    <tr>\n",
              "      <th>25%</th>\n",
              "      <td>-4.933678e-01</td>\n",
              "    </tr>\n",
              "    <tr>\n",
              "      <th>50%</th>\n",
              "      <td>-3.975623e-01</td>\n",
              "    </tr>\n",
              "    <tr>\n",
              "      <th>75%</th>\n",
              "      <td>-1.434048e-02</td>\n",
              "    </tr>\n",
              "    <tr>\n",
              "      <th>max</th>\n",
              "      <td>9.662011e+00</td>\n",
              "    </tr>\n",
              "  </tbody>\n",
              "</table>\n",
              "</div>"
            ],
            "text/plain": [
              "       Total_Energy_Consumption\n",
              "count              1.973500e+04\n",
              "mean              -8.404054e-16\n",
              "std                1.000025e+00\n",
              "min               -8.765896e-01\n",
              "25%               -4.933678e-01\n",
              "50%               -3.975623e-01\n",
              "75%               -1.434048e-02\n",
              "max                9.662011e+00"
            ]
          },
          "metadata": {
            "tags": []
          },
          "execution_count": 52
        }
      ]
    },
    {
      "cell_type": "markdown",
      "metadata": {
        "id": "0Hs8Xfnc4Ho0"
      },
      "source": [
        "#**Robust Scaler**\n",
        "It is used to scale the feature to median and quantiles Scaling using median and quantiles consists of substracting the median to all the observations, and then dividing by the interquantile difference. The interquantile difference is the difference between the 75th and 25th quantile:\n",
        "\n",
        "IQR = 75th quantile - 25th quantile\n",
        "\n",
        "X_scaled = (X - X.median) / IQR"
      ]
    },
    {
      "cell_type": "code",
      "metadata": {
        "id": "luRPsE4P0jKx",
        "colab": {
          "base_uri": "https://localhost:8080/",
          "height": 322
        },
        "outputId": "735cbfc3-2c42-42b0-c7bd-bedc5bfffd97"
      },
      "source": [
        "from sklearn.preprocessing import RobustScaler\n",
        "scaler=RobustScaler()\n",
        "df_robust_scaled_X=pd.DataFrame(scaler.fit_transform(X),columns=X.columns)\n",
        "df_robust_scaled_X.describe()"
      ],
      "execution_count": null,
      "outputs": [
        {
          "output_type": "execute_result",
          "data": {
            "text/html": [
              "<div>\n",
              "<style scoped>\n",
              "    .dataframe tbody tr th:only-of-type {\n",
              "        vertical-align: middle;\n",
              "    }\n",
              "\n",
              "    .dataframe tbody tr th {\n",
              "        vertical-align: top;\n",
              "    }\n",
              "\n",
              "    .dataframe thead th {\n",
              "        text-align: right;\n",
              "    }\n",
              "</style>\n",
              "<table border=\"1\" class=\"dataframe\">\n",
              "  <thead>\n",
              "    <tr style=\"text-align: right;\">\n",
              "      <th></th>\n",
              "      <th>Kitchen_Temp</th>\n",
              "      <th>Kitchen_Humidity</th>\n",
              "      <th>Living_room_Temp</th>\n",
              "      <th>Living_room_Humidity</th>\n",
              "      <th>Laundry_room Temp</th>\n",
              "      <th>Laundry_room_Humidity</th>\n",
              "      <th>Office_Temp</th>\n",
              "      <th>Office_Humidity</th>\n",
              "      <th>Bathroom_Temp</th>\n",
              "      <th>Bathroom_Humidity</th>\n",
              "      <th>Building_North_Temp</th>\n",
              "      <th>Building_North_Humidity</th>\n",
              "      <th>Ironing_room_Temp</th>\n",
              "      <th>Ironing _room_Humidity</th>\n",
              "      <th>Childrens_room_Temp</th>\n",
              "      <th>Childrens_room_Humidity</th>\n",
              "      <th>Parents_room_Temp</th>\n",
              "      <th>Parents_room_Humidity</th>\n",
              "      <th>Outside_Temp</th>\n",
              "      <th>Outside_Press</th>\n",
              "      <th>Outside_Humidity</th>\n",
              "      <th>Windspeed</th>\n",
              "      <th>Visibility</th>\n",
              "      <th>Dewpoint_Temp</th>\n",
              "      <th>rv1</th>\n",
              "      <th>rv2</th>\n",
              "      <th>Weekday</th>\n",
              "      <th>NSM</th>\n",
              "    </tr>\n",
              "  </thead>\n",
              "  <tbody>\n",
              "    <tr>\n",
              "      <th>count</th>\n",
              "      <td>19735.000000</td>\n",
              "      <td>19735.000000</td>\n",
              "      <td>19735.000000</td>\n",
              "      <td>19735.000000</td>\n",
              "      <td>19735.000000</td>\n",
              "      <td>19735.000000</td>\n",
              "      <td>19735.000000</td>\n",
              "      <td>19735.000000</td>\n",
              "      <td>19735.000000</td>\n",
              "      <td>19735.000000</td>\n",
              "      <td>19735.000000</td>\n",
              "      <td>19735.000000</td>\n",
              "      <td>19735.000000</td>\n",
              "      <td>19735.000000</td>\n",
              "      <td>19735.000000</td>\n",
              "      <td>19735.000000</td>\n",
              "      <td>19735.000000</td>\n",
              "      <td>19735.000000</td>\n",
              "      <td>19735.000000</td>\n",
              "      <td>19735.000000</td>\n",
              "      <td>19735.000000</td>\n",
              "      <td>19735.000000</td>\n",
              "      <td>19735.000000</td>\n",
              "      <td>19735.000000</td>\n",
              "      <td>19735.000000</td>\n",
              "      <td>19735.000000</td>\n",
              "      <td>19735.000000</td>\n",
              "      <td>19735.000000</td>\n",
              "    </tr>\n",
              "    <tr>\n",
              "      <th>mean</th>\n",
              "      <td>0.047050</td>\n",
              "      <td>0.105187</td>\n",
              "      <td>0.125911</td>\n",
              "      <td>-0.014847</td>\n",
              "      <td>0.067044</td>\n",
              "      <td>0.146605</td>\n",
              "      <td>0.073412</td>\n",
              "      <td>0.094603</td>\n",
              "      <td>0.086291</td>\n",
              "      <td>0.225004</td>\n",
              "      <td>0.080078</td>\n",
              "      <td>-0.012799</td>\n",
              "      <td>0.080611</td>\n",
              "      <td>0.069982</td>\n",
              "      <td>-0.027267</td>\n",
              "      <td>0.075129</td>\n",
              "      <td>0.036857</td>\n",
              "      <td>0.111749</td>\n",
              "      <td>0.073424</td>\n",
              "      <td>-0.057740</td>\n",
              "      <td>-0.183574</td>\n",
              "      <td>0.106596</td>\n",
              "      <td>-0.151742</td>\n",
              "      <td>0.057772</td>\n",
              "      <td>0.003603</td>\n",
              "      <td>0.003603</td>\n",
              "      <td>-0.005688</td>\n",
              "      <td>-0.006875</td>\n",
              "    </tr>\n",
              "    <tr>\n",
              "      <th>std</th>\n",
              "      <td>0.872862</td>\n",
              "      <td>0.694064</td>\n",
              "      <td>0.809215</td>\n",
              "      <td>0.759293</td>\n",
              "      <td>0.802444</td>\n",
              "      <td>0.669666</td>\n",
              "      <td>0.794897</td>\n",
              "      <td>0.655129</td>\n",
              "      <td>0.787579</td>\n",
              "      <td>1.091815</td>\n",
              "      <td>0.798280</td>\n",
              "      <td>0.585504</td>\n",
              "      <td>0.727584</td>\n",
              "      <td>0.681894</td>\n",
              "      <td>0.752370</td>\n",
              "      <td>0.699441</td>\n",
              "      <td>0.774889</td>\n",
              "      <td>0.711105</td>\n",
              "      <td>0.788738</td>\n",
              "      <td>0.739944</td>\n",
              "      <td>0.698488</td>\n",
              "      <td>0.700349</td>\n",
              "      <td>1.072247</td>\n",
              "      <td>0.740232</td>\n",
              "      <td>0.577880</td>\n",
              "      <td>0.577880</td>\n",
              "      <td>0.496404</td>\n",
              "      <td>0.585446</td>\n",
              "    </tr>\n",
              "    <tr>\n",
              "      <th>min</th>\n",
              "      <td>-2.614130</td>\n",
              "      <td>-2.203488</td>\n",
              "      <td>-1.439114</td>\n",
              "      <td>-3.738184</td>\n",
              "      <td>-1.960000</td>\n",
              "      <td>-2.008916</td>\n",
              "      <td>-2.166018</td>\n",
              "      <td>-1.620724</td>\n",
              "      <td>-1.733455</td>\n",
              "      <td>-2.332594</td>\n",
              "      <td>-1.751791</td>\n",
              "      <td>-1.020457</td>\n",
              "      <td>-1.601149</td>\n",
              "      <td>-1.555111</td>\n",
              "      <td>-2.228205</td>\n",
              "      <td>-1.710327</td>\n",
              "      <td>-1.730769</td>\n",
              "      <td>-2.009788</td>\n",
              "      <td>-1.767614</td>\n",
              "      <td>-2.680000</td>\n",
              "      <td>-2.796875</td>\n",
              "      <td>-1.047619</td>\n",
              "      <td>-3.545455</td>\n",
              "      <td>-1.770588</td>\n",
              "      <td>-0.992285</td>\n",
              "      <td>-0.992285</td>\n",
              "      <td>-0.750000</td>\n",
              "      <td>-1.014085</td>\n",
              "    </tr>\n",
              "    <tr>\n",
              "      <th>25%</th>\n",
              "      <td>-0.456522</td>\n",
              "      <td>-0.405233</td>\n",
              "      <td>-0.446494</td>\n",
              "      <td>-0.485075</td>\n",
              "      <td>-0.524000</td>\n",
              "      <td>-0.335391</td>\n",
              "      <td>-0.442283</td>\n",
              "      <td>-0.433099</td>\n",
              "      <td>-0.474992</td>\n",
              "      <td>-0.446551</td>\n",
              "      <td>-0.481475</td>\n",
              "      <td>-0.474891</td>\n",
              "      <td>-0.459770</td>\n",
              "      <td>-0.448444</td>\n",
              "      <td>-0.503846</td>\n",
              "      <td>-0.442922</td>\n",
              "      <td>-0.534615</td>\n",
              "      <td>-0.411093</td>\n",
              "      <td>-0.482077</td>\n",
              "      <td>-0.516667</td>\n",
              "      <td>-0.625000</td>\n",
              "      <td>-0.476190</td>\n",
              "      <td>-1.000000</td>\n",
              "      <td>-0.447059</td>\n",
              "      <td>-0.494293</td>\n",
              "      <td>-0.494293</td>\n",
              "      <td>-0.500000</td>\n",
              "      <td>-0.507042</td>\n",
              "    </tr>\n",
              "    <tr>\n",
              "      <th>50%</th>\n",
              "      <td>0.000000</td>\n",
              "      <td>0.000000</td>\n",
              "      <td>0.000000</td>\n",
              "      <td>0.000000</td>\n",
              "      <td>0.000000</td>\n",
              "      <td>0.000000</td>\n",
              "      <td>0.000000</td>\n",
              "      <td>0.000000</td>\n",
              "      <td>0.000000</td>\n",
              "      <td>0.000000</td>\n",
              "      <td>0.000000</td>\n",
              "      <td>0.000000</td>\n",
              "      <td>0.000000</td>\n",
              "      <td>0.000000</td>\n",
              "      <td>0.000000</td>\n",
              "      <td>0.000000</td>\n",
              "      <td>0.000000</td>\n",
              "      <td>0.000000</td>\n",
              "      <td>0.000000</td>\n",
              "      <td>0.000000</td>\n",
              "      <td>0.000000</td>\n",
              "      <td>0.000000</td>\n",
              "      <td>0.000000</td>\n",
              "      <td>0.000000</td>\n",
              "      <td>0.000000</td>\n",
              "      <td>0.000000</td>\n",
              "      <td>0.000000</td>\n",
              "      <td>0.000000</td>\n",
              "    </tr>\n",
              "    <tr>\n",
              "      <th>75%</th>\n",
              "      <td>0.543478</td>\n",
              "      <td>0.594767</td>\n",
              "      <td>0.553506</td>\n",
              "      <td>0.514925</td>\n",
              "      <td>0.476000</td>\n",
              "      <td>0.664609</td>\n",
              "      <td>0.557717</td>\n",
              "      <td>0.566901</td>\n",
              "      <td>0.525008</td>\n",
              "      <td>0.553449</td>\n",
              "      <td>0.518525</td>\n",
              "      <td>0.525109</td>\n",
              "      <td>0.540230</td>\n",
              "      <td>0.551556</td>\n",
              "      <td>0.496154</td>\n",
              "      <td>0.557078</td>\n",
              "      <td>0.465385</td>\n",
              "      <td>0.588907</td>\n",
              "      <td>0.517923</td>\n",
              "      <td>0.483333</td>\n",
              "      <td>0.375000</td>\n",
              "      <td>0.523810</td>\n",
              "      <td>0.000000</td>\n",
              "      <td>0.552941</td>\n",
              "      <td>0.505707</td>\n",
              "      <td>0.505707</td>\n",
              "      <td>0.500000</td>\n",
              "      <td>0.492958</td>\n",
              "    </tr>\n",
              "    <tr>\n",
              "      <th>max</th>\n",
              "      <td>2.532609</td>\n",
              "      <td>4.134302</td>\n",
              "      <td>3.637146</td>\n",
              "      <td>2.896766</td>\n",
              "      <td>2.854400</td>\n",
              "      <td>2.393690</td>\n",
              "      <td>2.153048</td>\n",
              "      <td>1.914990</td>\n",
              "      <td>2.734675</td>\n",
              "      <td>5.715813</td>\n",
              "      <td>2.751223</td>\n",
              "      <td>0.838508</td>\n",
              "      <td>2.057471</td>\n",
              "      <td>2.204889</td>\n",
              "      <td>1.973077</td>\n",
              "      <td>2.196314</td>\n",
              "      <td>1.965385</td>\n",
              "      <td>2.128548</td>\n",
              "      <td>2.845488</td>\n",
              "      <td>1.620000</td>\n",
              "      <td>0.765625</td>\n",
              "      <td>2.952381</td>\n",
              "      <td>2.363636</td>\n",
              "      <td>2.129412</td>\n",
              "      <td>1.000518</td>\n",
              "      <td>1.000518</td>\n",
              "      <td>0.750000</td>\n",
              "      <td>1.000000</td>\n",
              "    </tr>\n",
              "  </tbody>\n",
              "</table>\n",
              "</div>"
            ],
            "text/plain": [
              "       Kitchen_Temp  Kitchen_Humidity  ...       Weekday           NSM\n",
              "count  19735.000000      19735.000000  ...  19735.000000  19735.000000\n",
              "mean       0.047050          0.105187  ...     -0.005688     -0.006875\n",
              "std        0.872862          0.694064  ...      0.496404      0.585446\n",
              "min       -2.614130         -2.203488  ...     -0.750000     -1.014085\n",
              "25%       -0.456522         -0.405233  ...     -0.500000     -0.507042\n",
              "50%        0.000000          0.000000  ...      0.000000      0.000000\n",
              "75%        0.543478          0.594767  ...      0.500000      0.492958\n",
              "max        2.532609          4.134302  ...      0.750000      1.000000\n",
              "\n",
              "[8 rows x 28 columns]"
            ]
          },
          "metadata": {
            "tags": []
          },
          "execution_count": 53
        }
      ]
    },
    {
      "cell_type": "code",
      "metadata": {
        "colab": {
          "base_uri": "https://localhost:8080/",
          "height": 286
        },
        "id": "NhgBcbiRENOW",
        "outputId": "bd769340-6da5-4262-dc72-eb7e6864a6cc"
      },
      "source": [
        "df_robust_scaled_y = pd.DataFrame(scaler.fit_transform(y),columns=y.columns)\n",
        "df_robust_scaled_y.describe()"
      ],
      "execution_count": null,
      "outputs": [
        {
          "output_type": "execute_result",
          "data": {
            "text/html": [
              "<div>\n",
              "<style scoped>\n",
              "    .dataframe tbody tr th:only-of-type {\n",
              "        vertical-align: middle;\n",
              "    }\n",
              "\n",
              "    .dataframe tbody tr th {\n",
              "        vertical-align: top;\n",
              "    }\n",
              "\n",
              "    .dataframe thead th {\n",
              "        text-align: right;\n",
              "    }\n",
              "</style>\n",
              "<table border=\"1\" class=\"dataframe\">\n",
              "  <thead>\n",
              "    <tr style=\"text-align: right;\">\n",
              "      <th></th>\n",
              "      <th>Total_Energy_Consumption</th>\n",
              "    </tr>\n",
              "  </thead>\n",
              "  <tbody>\n",
              "    <tr>\n",
              "      <th>count</th>\n",
              "      <td>19735.000000</td>\n",
              "    </tr>\n",
              "    <tr>\n",
              "      <th>mean</th>\n",
              "      <td>0.829937</td>\n",
              "    </tr>\n",
              "    <tr>\n",
              "      <th>std</th>\n",
              "      <td>2.087617</td>\n",
              "    </tr>\n",
              "    <tr>\n",
              "      <th>min</th>\n",
              "      <td>-1.000000</td>\n",
              "    </tr>\n",
              "    <tr>\n",
              "      <th>25%</th>\n",
              "      <td>-0.200000</td>\n",
              "    </tr>\n",
              "    <tr>\n",
              "      <th>50%</th>\n",
              "      <td>0.000000</td>\n",
              "    </tr>\n",
              "    <tr>\n",
              "      <th>75%</th>\n",
              "      <td>0.800000</td>\n",
              "    </tr>\n",
              "    <tr>\n",
              "      <th>max</th>\n",
              "      <td>21.000000</td>\n",
              "    </tr>\n",
              "  </tbody>\n",
              "</table>\n",
              "</div>"
            ],
            "text/plain": [
              "       Total_Energy_Consumption\n",
              "count              19735.000000\n",
              "mean                   0.829937\n",
              "std                    2.087617\n",
              "min                   -1.000000\n",
              "25%                   -0.200000\n",
              "50%                    0.000000\n",
              "75%                    0.800000\n",
              "max                   21.000000"
            ]
          },
          "metadata": {
            "tags": []
          },
          "execution_count": 54
        }
      ]
    },
    {
      "cell_type": "markdown",
      "metadata": {
        "id": "gaW-m82gQZD9"
      },
      "source": [
        "#**Feature Selection**\n",
        "Feature selection is a process where you automatically select those features in your data that contribute most to the prediction variable or output in which you are interested.\n",
        "\n",
        "Having irrelevant features in your data can decrease the accuracy of many models, especially linear algorithms like linear and logistic regression.\n",
        "\n",
        "Three benefits of performing feature selection before modeling your data are:\n",
        "\n",
        "* Reduces Overfitting: Less redundant data means less opportunity to make decisions based on noise.\n",
        "* Improves Accuracy: Less misleading data means modeling accuracy improves.\n",
        "* Reduces Training Time: Less data means that algorithms train faster."
      ]
    },
    {
      "cell_type": "markdown",
      "metadata": {
        "id": "6kYUoe9hQe4v"
      },
      "source": [
        "##**Univariate Analysis**\n"
      ]
    },
    {
      "cell_type": "code",
      "metadata": {
        "id": "TxDr2IcS2WZN"
      },
      "source": [
        "from sklearn.feature_selection import SelectKBest\n",
        "from sklearn.feature_selection import chi2"
      ],
      "execution_count": null,
      "outputs": []
    },
    {
      "cell_type": "code",
      "metadata": {
        "colab": {
          "base_uri": "https://localhost:8080/",
          "height": 882
        },
        "id": "HCml0cMQcgu-",
        "outputId": "ff021060-a3ec-4551-bff3-3d9b524c659a"
      },
      "source": [
        "### Apply SelectKBest Algorithm\n",
        "ordered_rank_features=SelectKBest(score_func=chi2,k=20)\n",
        "ordered_feature=ordered_rank_features.fit(df_norm_X,y)\n",
        "\n",
        "dfscores=pd.DataFrame(ordered_feature.scores_,columns=[\"Score\"])\n",
        "dfcolumns=pd.DataFrame(df_norm_X.columns)\n",
        "\n",
        "features_rank=pd.concat([dfcolumns,dfscores],axis=1)\n",
        "\n",
        "features_rank.columns=['Features','Score']\n",
        "features_rank"
      ],
      "execution_count": null,
      "outputs": [
        {
          "output_type": "execute_result",
          "data": {
            "text/html": [
              "<div>\n",
              "<style scoped>\n",
              "    .dataframe tbody tr th:only-of-type {\n",
              "        vertical-align: middle;\n",
              "    }\n",
              "\n",
              "    .dataframe tbody tr th {\n",
              "        vertical-align: top;\n",
              "    }\n",
              "\n",
              "    .dataframe thead th {\n",
              "        text-align: right;\n",
              "    }\n",
              "</style>\n",
              "<table border=\"1\" class=\"dataframe\">\n",
              "  <thead>\n",
              "    <tr style=\"text-align: right;\">\n",
              "      <th></th>\n",
              "      <th>Features</th>\n",
              "      <th>Score</th>\n",
              "    </tr>\n",
              "  </thead>\n",
              "  <tbody>\n",
              "    <tr>\n",
              "      <th>0</th>\n",
              "      <td>Kitchen_Temp</td>\n",
              "      <td>116.373832</td>\n",
              "    </tr>\n",
              "    <tr>\n",
              "      <th>1</th>\n",
              "      <td>Kitchen_Humidity</td>\n",
              "      <td>13.650600</td>\n",
              "    </tr>\n",
              "    <tr>\n",
              "      <th>2</th>\n",
              "      <td>Living_room_Temp</td>\n",
              "      <td>147.264676</td>\n",
              "    </tr>\n",
              "    <tr>\n",
              "      <th>3</th>\n",
              "      <td>Living_room_Humidity</td>\n",
              "      <td>9.835266</td>\n",
              "    </tr>\n",
              "    <tr>\n",
              "      <th>4</th>\n",
              "      <td>Laundry_room Temp</td>\n",
              "      <td>113.160642</td>\n",
              "    </tr>\n",
              "    <tr>\n",
              "      <th>5</th>\n",
              "      <td>Laundry_room_Humidity</td>\n",
              "      <td>27.418236</td>\n",
              "    </tr>\n",
              "    <tr>\n",
              "      <th>6</th>\n",
              "      <td>Office_Temp</td>\n",
              "      <td>124.869936</td>\n",
              "    </tr>\n",
              "    <tr>\n",
              "      <th>7</th>\n",
              "      <td>Office_Humidity</td>\n",
              "      <td>16.947088</td>\n",
              "    </tr>\n",
              "    <tr>\n",
              "      <th>8</th>\n",
              "      <td>Bathroom_Temp</td>\n",
              "      <td>134.127020</td>\n",
              "    </tr>\n",
              "    <tr>\n",
              "      <th>9</th>\n",
              "      <td>Bathroom_Humidity</td>\n",
              "      <td>21.199636</td>\n",
              "    </tr>\n",
              "    <tr>\n",
              "      <th>10</th>\n",
              "      <td>Building_North_Temp</td>\n",
              "      <td>104.539083</td>\n",
              "    </tr>\n",
              "    <tr>\n",
              "      <th>11</th>\n",
              "      <td>Building_North_Humidity</td>\n",
              "      <td>283.373044</td>\n",
              "    </tr>\n",
              "    <tr>\n",
              "      <th>12</th>\n",
              "      <td>Ironing_room_Temp</td>\n",
              "      <td>143.926053</td>\n",
              "    </tr>\n",
              "    <tr>\n",
              "      <th>13</th>\n",
              "      <td>Ironing _room_Humidity</td>\n",
              "      <td>32.915233</td>\n",
              "    </tr>\n",
              "    <tr>\n",
              "      <th>14</th>\n",
              "      <td>Childrens_room_Temp</td>\n",
              "      <td>150.752962</td>\n",
              "    </tr>\n",
              "    <tr>\n",
              "      <th>15</th>\n",
              "      <td>Childrens_room_Humidity</td>\n",
              "      <td>73.036494</td>\n",
              "    </tr>\n",
              "    <tr>\n",
              "      <th>16</th>\n",
              "      <td>Parents_room_Temp</td>\n",
              "      <td>157.615333</td>\n",
              "    </tr>\n",
              "    <tr>\n",
              "      <th>17</th>\n",
              "      <td>Parents_room_Humidity</td>\n",
              "      <td>52.567102</td>\n",
              "    </tr>\n",
              "    <tr>\n",
              "      <th>18</th>\n",
              "      <td>Outside_Temp</td>\n",
              "      <td>89.737985</td>\n",
              "    </tr>\n",
              "    <tr>\n",
              "      <th>19</th>\n",
              "      <td>Outside_Press</td>\n",
              "      <td>16.628898</td>\n",
              "    </tr>\n",
              "    <tr>\n",
              "      <th>20</th>\n",
              "      <td>Outside_Humidity</td>\n",
              "      <td>75.202184</td>\n",
              "    </tr>\n",
              "    <tr>\n",
              "      <th>21</th>\n",
              "      <td>Windspeed</td>\n",
              "      <td>49.217482</td>\n",
              "    </tr>\n",
              "    <tr>\n",
              "      <th>22</th>\n",
              "      <td>Visibility</td>\n",
              "      <td>4.627009</td>\n",
              "    </tr>\n",
              "    <tr>\n",
              "      <th>23</th>\n",
              "      <td>Dewpoint_Temp</td>\n",
              "      <td>40.594529</td>\n",
              "    </tr>\n",
              "    <tr>\n",
              "      <th>24</th>\n",
              "      <td>rv1</td>\n",
              "      <td>14.140051</td>\n",
              "    </tr>\n",
              "    <tr>\n",
              "      <th>25</th>\n",
              "      <td>rv2</td>\n",
              "      <td>14.140051</td>\n",
              "    </tr>\n",
              "    <tr>\n",
              "      <th>26</th>\n",
              "      <td>Weekday</td>\n",
              "      <td>30.884700</td>\n",
              "    </tr>\n",
              "    <tr>\n",
              "      <th>27</th>\n",
              "      <td>NSM</td>\n",
              "      <td>788.005723</td>\n",
              "    </tr>\n",
              "  </tbody>\n",
              "</table>\n",
              "</div>"
            ],
            "text/plain": [
              "                   Features       Score\n",
              "0              Kitchen_Temp  116.373832\n",
              "1          Kitchen_Humidity   13.650600\n",
              "2          Living_room_Temp  147.264676\n",
              "3      Living_room_Humidity    9.835266\n",
              "4         Laundry_room Temp  113.160642\n",
              "5     Laundry_room_Humidity   27.418236\n",
              "6               Office_Temp  124.869936\n",
              "7           Office_Humidity   16.947088\n",
              "8             Bathroom_Temp  134.127020\n",
              "9         Bathroom_Humidity   21.199636\n",
              "10      Building_North_Temp  104.539083\n",
              "11  Building_North_Humidity  283.373044\n",
              "12        Ironing_room_Temp  143.926053\n",
              "13   Ironing _room_Humidity   32.915233\n",
              "14      Childrens_room_Temp  150.752962\n",
              "15  Childrens_room_Humidity   73.036494\n",
              "16        Parents_room_Temp  157.615333\n",
              "17    Parents_room_Humidity   52.567102\n",
              "18             Outside_Temp   89.737985\n",
              "19            Outside_Press   16.628898\n",
              "20         Outside_Humidity   75.202184\n",
              "21                Windspeed   49.217482\n",
              "22               Visibility    4.627009\n",
              "23            Dewpoint_Temp   40.594529\n",
              "24                      rv1   14.140051\n",
              "25                      rv2   14.140051\n",
              "26                  Weekday   30.884700\n",
              "27                      NSM  788.005723"
            ]
          },
          "metadata": {
            "tags": []
          },
          "execution_count": 56
        }
      ]
    },
    {
      "cell_type": "code",
      "metadata": {
        "colab": {
          "base_uri": "https://localhost:8080/",
          "height": 852
        },
        "id": "7lpZu8F0crI_",
        "outputId": "02548001-cb78-4390-d237-d520e088eb5c"
      },
      "source": [
        "#sorting in descending order\n",
        "features_rank.nlargest(27,\"Score\")"
      ],
      "execution_count": null,
      "outputs": [
        {
          "output_type": "execute_result",
          "data": {
            "text/html": [
              "<div>\n",
              "<style scoped>\n",
              "    .dataframe tbody tr th:only-of-type {\n",
              "        vertical-align: middle;\n",
              "    }\n",
              "\n",
              "    .dataframe tbody tr th {\n",
              "        vertical-align: top;\n",
              "    }\n",
              "\n",
              "    .dataframe thead th {\n",
              "        text-align: right;\n",
              "    }\n",
              "</style>\n",
              "<table border=\"1\" class=\"dataframe\">\n",
              "  <thead>\n",
              "    <tr style=\"text-align: right;\">\n",
              "      <th></th>\n",
              "      <th>Features</th>\n",
              "      <th>Score</th>\n",
              "    </tr>\n",
              "  </thead>\n",
              "  <tbody>\n",
              "    <tr>\n",
              "      <th>27</th>\n",
              "      <td>NSM</td>\n",
              "      <td>788.005723</td>\n",
              "    </tr>\n",
              "    <tr>\n",
              "      <th>11</th>\n",
              "      <td>Building_North_Humidity</td>\n",
              "      <td>283.373044</td>\n",
              "    </tr>\n",
              "    <tr>\n",
              "      <th>16</th>\n",
              "      <td>Parents_room_Temp</td>\n",
              "      <td>157.615333</td>\n",
              "    </tr>\n",
              "    <tr>\n",
              "      <th>14</th>\n",
              "      <td>Childrens_room_Temp</td>\n",
              "      <td>150.752962</td>\n",
              "    </tr>\n",
              "    <tr>\n",
              "      <th>2</th>\n",
              "      <td>Living_room_Temp</td>\n",
              "      <td>147.264676</td>\n",
              "    </tr>\n",
              "    <tr>\n",
              "      <th>12</th>\n",
              "      <td>Ironing_room_Temp</td>\n",
              "      <td>143.926053</td>\n",
              "    </tr>\n",
              "    <tr>\n",
              "      <th>8</th>\n",
              "      <td>Bathroom_Temp</td>\n",
              "      <td>134.127020</td>\n",
              "    </tr>\n",
              "    <tr>\n",
              "      <th>6</th>\n",
              "      <td>Office_Temp</td>\n",
              "      <td>124.869936</td>\n",
              "    </tr>\n",
              "    <tr>\n",
              "      <th>0</th>\n",
              "      <td>Kitchen_Temp</td>\n",
              "      <td>116.373832</td>\n",
              "    </tr>\n",
              "    <tr>\n",
              "      <th>4</th>\n",
              "      <td>Laundry_room Temp</td>\n",
              "      <td>113.160642</td>\n",
              "    </tr>\n",
              "    <tr>\n",
              "      <th>10</th>\n",
              "      <td>Building_North_Temp</td>\n",
              "      <td>104.539083</td>\n",
              "    </tr>\n",
              "    <tr>\n",
              "      <th>18</th>\n",
              "      <td>Outside_Temp</td>\n",
              "      <td>89.737985</td>\n",
              "    </tr>\n",
              "    <tr>\n",
              "      <th>20</th>\n",
              "      <td>Outside_Humidity</td>\n",
              "      <td>75.202184</td>\n",
              "    </tr>\n",
              "    <tr>\n",
              "      <th>15</th>\n",
              "      <td>Childrens_room_Humidity</td>\n",
              "      <td>73.036494</td>\n",
              "    </tr>\n",
              "    <tr>\n",
              "      <th>17</th>\n",
              "      <td>Parents_room_Humidity</td>\n",
              "      <td>52.567102</td>\n",
              "    </tr>\n",
              "    <tr>\n",
              "      <th>21</th>\n",
              "      <td>Windspeed</td>\n",
              "      <td>49.217482</td>\n",
              "    </tr>\n",
              "    <tr>\n",
              "      <th>23</th>\n",
              "      <td>Dewpoint_Temp</td>\n",
              "      <td>40.594529</td>\n",
              "    </tr>\n",
              "    <tr>\n",
              "      <th>13</th>\n",
              "      <td>Ironing _room_Humidity</td>\n",
              "      <td>32.915233</td>\n",
              "    </tr>\n",
              "    <tr>\n",
              "      <th>26</th>\n",
              "      <td>Weekday</td>\n",
              "      <td>30.884700</td>\n",
              "    </tr>\n",
              "    <tr>\n",
              "      <th>5</th>\n",
              "      <td>Laundry_room_Humidity</td>\n",
              "      <td>27.418236</td>\n",
              "    </tr>\n",
              "    <tr>\n",
              "      <th>9</th>\n",
              "      <td>Bathroom_Humidity</td>\n",
              "      <td>21.199636</td>\n",
              "    </tr>\n",
              "    <tr>\n",
              "      <th>7</th>\n",
              "      <td>Office_Humidity</td>\n",
              "      <td>16.947088</td>\n",
              "    </tr>\n",
              "    <tr>\n",
              "      <th>19</th>\n",
              "      <td>Outside_Press</td>\n",
              "      <td>16.628898</td>\n",
              "    </tr>\n",
              "    <tr>\n",
              "      <th>24</th>\n",
              "      <td>rv1</td>\n",
              "      <td>14.140051</td>\n",
              "    </tr>\n",
              "    <tr>\n",
              "      <th>25</th>\n",
              "      <td>rv2</td>\n",
              "      <td>14.140051</td>\n",
              "    </tr>\n",
              "    <tr>\n",
              "      <th>1</th>\n",
              "      <td>Kitchen_Humidity</td>\n",
              "      <td>13.650600</td>\n",
              "    </tr>\n",
              "    <tr>\n",
              "      <th>3</th>\n",
              "      <td>Living_room_Humidity</td>\n",
              "      <td>9.835266</td>\n",
              "    </tr>\n",
              "  </tbody>\n",
              "</table>\n",
              "</div>"
            ],
            "text/plain": [
              "                   Features       Score\n",
              "27                      NSM  788.005723\n",
              "11  Building_North_Humidity  283.373044\n",
              "16        Parents_room_Temp  157.615333\n",
              "14      Childrens_room_Temp  150.752962\n",
              "2          Living_room_Temp  147.264676\n",
              "12        Ironing_room_Temp  143.926053\n",
              "8             Bathroom_Temp  134.127020\n",
              "6               Office_Temp  124.869936\n",
              "0              Kitchen_Temp  116.373832\n",
              "4         Laundry_room Temp  113.160642\n",
              "10      Building_North_Temp  104.539083\n",
              "18             Outside_Temp   89.737985\n",
              "20         Outside_Humidity   75.202184\n",
              "15  Childrens_room_Humidity   73.036494\n",
              "17    Parents_room_Humidity   52.567102\n",
              "21                Windspeed   49.217482\n",
              "23            Dewpoint_Temp   40.594529\n",
              "13   Ironing _room_Humidity   32.915233\n",
              "26                  Weekday   30.884700\n",
              "5     Laundry_room_Humidity   27.418236\n",
              "9         Bathroom_Humidity   21.199636\n",
              "7           Office_Humidity   16.947088\n",
              "19            Outside_Press   16.628898\n",
              "24                      rv1   14.140051\n",
              "25                      rv2   14.140051\n",
              "1          Kitchen_Humidity   13.650600\n",
              "3      Living_room_Humidity    9.835266"
            ]
          },
          "metadata": {
            "tags": []
          },
          "execution_count": 57
        }
      ]
    },
    {
      "cell_type": "markdown",
      "metadata": {
        "id": "vTT4EXnnRr-f"
      },
      "source": [
        "##**Feature Importance**"
      ]
    },
    {
      "cell_type": "code",
      "metadata": {
        "colab": {
          "base_uri": "https://localhost:8080/",
          "height": 936
        },
        "id": "RGSThQtmdUxW",
        "outputId": "f475b66b-d6af-4c97-ae6b-1884e1f6d64f"
      },
      "source": [
        "#apllying ExtraTreesClassifier algorithm\n",
        "from sklearn.ensemble import ExtraTreesClassifier\n",
        "import matplotlib.pyplot as plt\n",
        "\n",
        "model=ExtraTreesClassifier()\n",
        "model.fit(df_norm_X,y)\n",
        "\n",
        "feature_importance = pd.DataFrame(model.feature_importances_,columns=[\"Feat_importance\"])\n",
        "df_feat_importance = pd.concat([dfcolumns,feature_importance],axis=1)\n",
        "df_feat_importance.columns=['Features','Score']\n",
        "df_feat_importance"
      ],
      "execution_count": null,
      "outputs": [
        {
          "output_type": "stream",
          "text": [
            "/usr/local/lib/python3.6/dist-packages/ipykernel_launcher.py:6: DataConversionWarning: A column-vector y was passed when a 1d array was expected. Please change the shape of y to (n_samples,), for example using ravel().\n",
            "  \n"
          ],
          "name": "stderr"
        },
        {
          "output_type": "execute_result",
          "data": {
            "text/html": [
              "<div>\n",
              "<style scoped>\n",
              "    .dataframe tbody tr th:only-of-type {\n",
              "        vertical-align: middle;\n",
              "    }\n",
              "\n",
              "    .dataframe tbody tr th {\n",
              "        vertical-align: top;\n",
              "    }\n",
              "\n",
              "    .dataframe thead th {\n",
              "        text-align: right;\n",
              "    }\n",
              "</style>\n",
              "<table border=\"1\" class=\"dataframe\">\n",
              "  <thead>\n",
              "    <tr style=\"text-align: right;\">\n",
              "      <th></th>\n",
              "      <th>Features</th>\n",
              "      <th>Score</th>\n",
              "    </tr>\n",
              "  </thead>\n",
              "  <tbody>\n",
              "    <tr>\n",
              "      <th>0</th>\n",
              "      <td>Kitchen_Temp</td>\n",
              "      <td>0.032699</td>\n",
              "    </tr>\n",
              "    <tr>\n",
              "      <th>1</th>\n",
              "      <td>Kitchen_Humidity</td>\n",
              "      <td>0.037468</td>\n",
              "    </tr>\n",
              "    <tr>\n",
              "      <th>2</th>\n",
              "      <td>Living_room_Temp</td>\n",
              "      <td>0.036206</td>\n",
              "    </tr>\n",
              "    <tr>\n",
              "      <th>3</th>\n",
              "      <td>Living_room_Humidity</td>\n",
              "      <td>0.037756</td>\n",
              "    </tr>\n",
              "    <tr>\n",
              "      <th>4</th>\n",
              "      <td>Laundry_room Temp</td>\n",
              "      <td>0.032893</td>\n",
              "    </tr>\n",
              "    <tr>\n",
              "      <th>5</th>\n",
              "      <td>Laundry_room_Humidity</td>\n",
              "      <td>0.036648</td>\n",
              "    </tr>\n",
              "    <tr>\n",
              "      <th>6</th>\n",
              "      <td>Office_Temp</td>\n",
              "      <td>0.032404</td>\n",
              "    </tr>\n",
              "    <tr>\n",
              "      <th>7</th>\n",
              "      <td>Office_Humidity</td>\n",
              "      <td>0.036084</td>\n",
              "    </tr>\n",
              "    <tr>\n",
              "      <th>8</th>\n",
              "      <td>Bathroom_Temp</td>\n",
              "      <td>0.030357</td>\n",
              "    </tr>\n",
              "    <tr>\n",
              "      <th>9</th>\n",
              "      <td>Bathroom_Humidity</td>\n",
              "      <td>0.037699</td>\n",
              "    </tr>\n",
              "    <tr>\n",
              "      <th>10</th>\n",
              "      <td>Building_North_Temp</td>\n",
              "      <td>0.039208</td>\n",
              "    </tr>\n",
              "    <tr>\n",
              "      <th>11</th>\n",
              "      <td>Building_North_Humidity</td>\n",
              "      <td>0.037556</td>\n",
              "    </tr>\n",
              "    <tr>\n",
              "      <th>12</th>\n",
              "      <td>Ironing_room_Temp</td>\n",
              "      <td>0.029493</td>\n",
              "    </tr>\n",
              "    <tr>\n",
              "      <th>13</th>\n",
              "      <td>Ironing _room_Humidity</td>\n",
              "      <td>0.037438</td>\n",
              "    </tr>\n",
              "    <tr>\n",
              "      <th>14</th>\n",
              "      <td>Childrens_room_Temp</td>\n",
              "      <td>0.036928</td>\n",
              "    </tr>\n",
              "    <tr>\n",
              "      <th>15</th>\n",
              "      <td>Childrens_room_Humidity</td>\n",
              "      <td>0.039987</td>\n",
              "    </tr>\n",
              "    <tr>\n",
              "      <th>16</th>\n",
              "      <td>Parents_room_Temp</td>\n",
              "      <td>0.026776</td>\n",
              "    </tr>\n",
              "    <tr>\n",
              "      <th>17</th>\n",
              "      <td>Parents_room_Humidity</td>\n",
              "      <td>0.038695</td>\n",
              "    </tr>\n",
              "    <tr>\n",
              "      <th>18</th>\n",
              "      <td>Outside_Temp</td>\n",
              "      <td>0.038790</td>\n",
              "    </tr>\n",
              "    <tr>\n",
              "      <th>19</th>\n",
              "      <td>Outside_Press</td>\n",
              "      <td>0.036472</td>\n",
              "    </tr>\n",
              "    <tr>\n",
              "      <th>20</th>\n",
              "      <td>Outside_Humidity</td>\n",
              "      <td>0.038318</td>\n",
              "    </tr>\n",
              "    <tr>\n",
              "      <th>21</th>\n",
              "      <td>Windspeed</td>\n",
              "      <td>0.031468</td>\n",
              "    </tr>\n",
              "    <tr>\n",
              "      <th>22</th>\n",
              "      <td>Visibility</td>\n",
              "      <td>0.028239</td>\n",
              "    </tr>\n",
              "    <tr>\n",
              "      <th>23</th>\n",
              "      <td>Dewpoint_Temp</td>\n",
              "      <td>0.038059</td>\n",
              "    </tr>\n",
              "    <tr>\n",
              "      <th>24</th>\n",
              "      <td>rv1</td>\n",
              "      <td>0.039624</td>\n",
              "    </tr>\n",
              "    <tr>\n",
              "      <th>25</th>\n",
              "      <td>rv2</td>\n",
              "      <td>0.039845</td>\n",
              "    </tr>\n",
              "    <tr>\n",
              "      <th>26</th>\n",
              "      <td>Weekday</td>\n",
              "      <td>0.012221</td>\n",
              "    </tr>\n",
              "    <tr>\n",
              "      <th>27</th>\n",
              "      <td>NSM</td>\n",
              "      <td>0.060670</td>\n",
              "    </tr>\n",
              "  </tbody>\n",
              "</table>\n",
              "</div>"
            ],
            "text/plain": [
              "                   Features     Score\n",
              "0              Kitchen_Temp  0.032699\n",
              "1          Kitchen_Humidity  0.037468\n",
              "2          Living_room_Temp  0.036206\n",
              "3      Living_room_Humidity  0.037756\n",
              "4         Laundry_room Temp  0.032893\n",
              "5     Laundry_room_Humidity  0.036648\n",
              "6               Office_Temp  0.032404\n",
              "7           Office_Humidity  0.036084\n",
              "8             Bathroom_Temp  0.030357\n",
              "9         Bathroom_Humidity  0.037699\n",
              "10      Building_North_Temp  0.039208\n",
              "11  Building_North_Humidity  0.037556\n",
              "12        Ironing_room_Temp  0.029493\n",
              "13   Ironing _room_Humidity  0.037438\n",
              "14      Childrens_room_Temp  0.036928\n",
              "15  Childrens_room_Humidity  0.039987\n",
              "16        Parents_room_Temp  0.026776\n",
              "17    Parents_room_Humidity  0.038695\n",
              "18             Outside_Temp  0.038790\n",
              "19            Outside_Press  0.036472\n",
              "20         Outside_Humidity  0.038318\n",
              "21                Windspeed  0.031468\n",
              "22               Visibility  0.028239\n",
              "23            Dewpoint_Temp  0.038059\n",
              "24                      rv1  0.039624\n",
              "25                      rv2  0.039845\n",
              "26                  Weekday  0.012221\n",
              "27                      NSM  0.060670"
            ]
          },
          "metadata": {
            "tags": []
          },
          "execution_count": 58
        }
      ]
    },
    {
      "cell_type": "code",
      "metadata": {
        "colab": {
          "base_uri": "https://localhost:8080/",
          "height": 644
        },
        "id": "qPKrdRWId58W",
        "outputId": "39d773e6-dc76-4efb-ee5b-abf8ae0b047e"
      },
      "source": [
        "#sorting in descending order\n",
        "df_feat_importance.nlargest(20,\"Score\")"
      ],
      "execution_count": null,
      "outputs": [
        {
          "output_type": "execute_result",
          "data": {
            "text/html": [
              "<div>\n",
              "<style scoped>\n",
              "    .dataframe tbody tr th:only-of-type {\n",
              "        vertical-align: middle;\n",
              "    }\n",
              "\n",
              "    .dataframe tbody tr th {\n",
              "        vertical-align: top;\n",
              "    }\n",
              "\n",
              "    .dataframe thead th {\n",
              "        text-align: right;\n",
              "    }\n",
              "</style>\n",
              "<table border=\"1\" class=\"dataframe\">\n",
              "  <thead>\n",
              "    <tr style=\"text-align: right;\">\n",
              "      <th></th>\n",
              "      <th>Features</th>\n",
              "      <th>Score</th>\n",
              "    </tr>\n",
              "  </thead>\n",
              "  <tbody>\n",
              "    <tr>\n",
              "      <th>27</th>\n",
              "      <td>NSM</td>\n",
              "      <td>0.060670</td>\n",
              "    </tr>\n",
              "    <tr>\n",
              "      <th>15</th>\n",
              "      <td>Childrens_room_Humidity</td>\n",
              "      <td>0.039987</td>\n",
              "    </tr>\n",
              "    <tr>\n",
              "      <th>25</th>\n",
              "      <td>rv2</td>\n",
              "      <td>0.039845</td>\n",
              "    </tr>\n",
              "    <tr>\n",
              "      <th>24</th>\n",
              "      <td>rv1</td>\n",
              "      <td>0.039624</td>\n",
              "    </tr>\n",
              "    <tr>\n",
              "      <th>10</th>\n",
              "      <td>Building_North_Temp</td>\n",
              "      <td>0.039208</td>\n",
              "    </tr>\n",
              "    <tr>\n",
              "      <th>18</th>\n",
              "      <td>Outside_Temp</td>\n",
              "      <td>0.038790</td>\n",
              "    </tr>\n",
              "    <tr>\n",
              "      <th>17</th>\n",
              "      <td>Parents_room_Humidity</td>\n",
              "      <td>0.038695</td>\n",
              "    </tr>\n",
              "    <tr>\n",
              "      <th>20</th>\n",
              "      <td>Outside_Humidity</td>\n",
              "      <td>0.038318</td>\n",
              "    </tr>\n",
              "    <tr>\n",
              "      <th>23</th>\n",
              "      <td>Dewpoint_Temp</td>\n",
              "      <td>0.038059</td>\n",
              "    </tr>\n",
              "    <tr>\n",
              "      <th>3</th>\n",
              "      <td>Living_room_Humidity</td>\n",
              "      <td>0.037756</td>\n",
              "    </tr>\n",
              "    <tr>\n",
              "      <th>9</th>\n",
              "      <td>Bathroom_Humidity</td>\n",
              "      <td>0.037699</td>\n",
              "    </tr>\n",
              "    <tr>\n",
              "      <th>11</th>\n",
              "      <td>Building_North_Humidity</td>\n",
              "      <td>0.037556</td>\n",
              "    </tr>\n",
              "    <tr>\n",
              "      <th>1</th>\n",
              "      <td>Kitchen_Humidity</td>\n",
              "      <td>0.037468</td>\n",
              "    </tr>\n",
              "    <tr>\n",
              "      <th>13</th>\n",
              "      <td>Ironing _room_Humidity</td>\n",
              "      <td>0.037438</td>\n",
              "    </tr>\n",
              "    <tr>\n",
              "      <th>14</th>\n",
              "      <td>Childrens_room_Temp</td>\n",
              "      <td>0.036928</td>\n",
              "    </tr>\n",
              "    <tr>\n",
              "      <th>5</th>\n",
              "      <td>Laundry_room_Humidity</td>\n",
              "      <td>0.036648</td>\n",
              "    </tr>\n",
              "    <tr>\n",
              "      <th>19</th>\n",
              "      <td>Outside_Press</td>\n",
              "      <td>0.036472</td>\n",
              "    </tr>\n",
              "    <tr>\n",
              "      <th>2</th>\n",
              "      <td>Living_room_Temp</td>\n",
              "      <td>0.036206</td>\n",
              "    </tr>\n",
              "    <tr>\n",
              "      <th>7</th>\n",
              "      <td>Office_Humidity</td>\n",
              "      <td>0.036084</td>\n",
              "    </tr>\n",
              "    <tr>\n",
              "      <th>4</th>\n",
              "      <td>Laundry_room Temp</td>\n",
              "      <td>0.032893</td>\n",
              "    </tr>\n",
              "  </tbody>\n",
              "</table>\n",
              "</div>"
            ],
            "text/plain": [
              "                   Features     Score\n",
              "27                      NSM  0.060670\n",
              "15  Childrens_room_Humidity  0.039987\n",
              "25                      rv2  0.039845\n",
              "24                      rv1  0.039624\n",
              "10      Building_North_Temp  0.039208\n",
              "18             Outside_Temp  0.038790\n",
              "17    Parents_room_Humidity  0.038695\n",
              "20         Outside_Humidity  0.038318\n",
              "23            Dewpoint_Temp  0.038059\n",
              "3      Living_room_Humidity  0.037756\n",
              "9         Bathroom_Humidity  0.037699\n",
              "11  Building_North_Humidity  0.037556\n",
              "1          Kitchen_Humidity  0.037468\n",
              "13   Ironing _room_Humidity  0.037438\n",
              "14      Childrens_room_Temp  0.036928\n",
              "5     Laundry_room_Humidity  0.036648\n",
              "19            Outside_Press  0.036472\n",
              "2          Living_room_Temp  0.036206\n",
              "7           Office_Humidity  0.036084\n",
              "4         Laundry_room Temp  0.032893"
            ]
          },
          "metadata": {
            "tags": []
          },
          "execution_count": 59
        }
      ]
    },
    {
      "cell_type": "markdown",
      "metadata": {
        "id": "4xWl-RPLSa65"
      },
      "source": [
        "We can see that we are given an importance score for each attribute where the larger score the more important the attribute. "
      ]
    },
    {
      "cell_type": "code",
      "metadata": {
        "colab": {
          "base_uri": "https://localhost:8080/",
          "height": 585
        },
        "id": "liGQN_Mzf_N7",
        "outputId": "e581c210-0f38-4f3f-a13e-db6184a5d447"
      },
      "source": [
        "#bar plot of feature importance\n",
        "figure = plt.figure(figsize=(15,10))\n",
        "ranked_features=pd.Series(model.feature_importances_,index=X.columns)\n",
        "ranked_features.nlargest(27).plot(kind='barh')\n",
        "plt.show()"
      ],
      "execution_count": null,
      "outputs": [
        {
          "output_type": "display_data",
          "data": {
            "image/png": "[encoded data removed]",
            "text/plain": [
              "<Figure size 1080x720 with 1 Axes>"
            ]
          },
          "metadata": {
            "tags": [],
            "needs_background": "light"
          }
        }
      ]
    },
    {
      "cell_type": "markdown",
      "metadata": {
        "id": "oi1epacESgo4"
      },
      "source": [
        "##**Multi-Collinearity**"
      ]
    },
    {
      "cell_type": "code",
      "metadata": {
        "colab": {
          "base_uri": "https://localhost:8080/",
          "height": 919
        },
        "id": "c-t0yQGMijoK",
        "outputId": "67df26fe-6576-4773-aa0d-f839782f7bf4"
      },
      "source": [
        "X.corr()"
      ],
      "execution_count": null,
      "outputs": [
        {
          "output_type": "execute_result",
          "data": {
            "text/html": [
              "<div>\n",
              "<style scoped>\n",
              "    .dataframe tbody tr th:only-of-type {\n",
              "        vertical-align: middle;\n",
              "    }\n",
              "\n",
              "    .dataframe tbody tr th {\n",
              "        vertical-align: top;\n",
              "    }\n",
              "\n",
              "    .dataframe thead th {\n",
              "        text-align: right;\n",
              "    }\n",
              "</style>\n",
              "<table border=\"1\" class=\"dataframe\">\n",
              "  <thead>\n",
              "    <tr style=\"text-align: right;\">\n",
              "      <th></th>\n",
              "      <th>Kitchen_Temp</th>\n",
              "      <th>Kitchen_Humidity</th>\n",
              "      <th>Living_room_Temp</th>\n",
              "      <th>Living_room_Humidity</th>\n",
              "      <th>Laundry_room Temp</th>\n",
              "      <th>Laundry_room_Humidity</th>\n",
              "      <th>Office_Temp</th>\n",
              "      <th>Office_Humidity</th>\n",
              "      <th>Bathroom_Temp</th>\n",
              "      <th>Bathroom_Humidity</th>\n",
              "      <th>Building_North_Temp</th>\n",
              "      <th>Building_North_Humidity</th>\n",
              "      <th>Ironing_room_Temp</th>\n",
              "      <th>Ironing _room_Humidity</th>\n",
              "      <th>Childrens_room_Temp</th>\n",
              "      <th>Childrens_room_Humidity</th>\n",
              "      <th>Parents_room_Temp</th>\n",
              "      <th>Parents_room_Humidity</th>\n",
              "      <th>Outside_Temp</th>\n",
              "      <th>Outside_Press</th>\n",
              "      <th>Outside_Humidity</th>\n",
              "      <th>Windspeed</th>\n",
              "      <th>Visibility</th>\n",
              "      <th>Dewpoint_Temp</th>\n",
              "      <th>rv1</th>\n",
              "      <th>rv2</th>\n",
              "      <th>Weekday</th>\n",
              "      <th>NSM</th>\n",
              "    </tr>\n",
              "  </thead>\n",
              "  <tbody>\n",
              "    <tr>\n",
              "      <th>Kitchen_Temp</th>\n",
              "      <td>1.000000</td>\n",
              "      <td>0.164006</td>\n",
              "      <td>0.836834</td>\n",
              "      <td>-0.002509</td>\n",
              "      <td>0.892402</td>\n",
              "      <td>-0.028550</td>\n",
              "      <td>0.877001</td>\n",
              "      <td>0.097861</td>\n",
              "      <td>0.885247</td>\n",
              "      <td>-0.014782</td>\n",
              "      <td>0.654769</td>\n",
              "      <td>-0.615045</td>\n",
              "      <td>0.838705</td>\n",
              "      <td>0.135182</td>\n",
              "      <td>0.825413</td>\n",
              "      <td>-0.006441</td>\n",
              "      <td>0.844777</td>\n",
              "      <td>0.071756</td>\n",
              "      <td>0.682846</td>\n",
              "      <td>-0.150574</td>\n",
              "      <td>-0.345481</td>\n",
              "      <td>-0.087654</td>\n",
              "      <td>-0.076210</td>\n",
              "      <td>0.571309</td>\n",
              "      <td>-0.006203</td>\n",
              "      <td>-0.006203</td>\n",
              "      <td>0.001381</td>\n",
              "      <td>0.178728</td>\n",
              "    </tr>\n",
              "    <tr>\n",
              "      <th>Kitchen_Humidity</th>\n",
              "      <td>0.164006</td>\n",
              "      <td>1.000000</td>\n",
              "      <td>0.269839</td>\n",
              "      <td>0.797535</td>\n",
              "      <td>0.253230</td>\n",
              "      <td>0.844677</td>\n",
              "      <td>0.106180</td>\n",
              "      <td>0.880359</td>\n",
              "      <td>0.205797</td>\n",
              "      <td>0.303258</td>\n",
              "      <td>0.316141</td>\n",
              "      <td>0.245126</td>\n",
              "      <td>0.021397</td>\n",
              "      <td>0.801122</td>\n",
              "      <td>-0.030053</td>\n",
              "      <td>0.736196</td>\n",
              "      <td>0.115263</td>\n",
              "      <td>0.764001</td>\n",
              "      <td>0.340767</td>\n",
              "      <td>-0.293957</td>\n",
              "      <td>0.274126</td>\n",
              "      <td>0.204932</td>\n",
              "      <td>-0.021057</td>\n",
              "      <td>0.639106</td>\n",
              "      <td>-0.000699</td>\n",
              "      <td>-0.000699</td>\n",
              "      <td>-0.053782</td>\n",
              "      <td>0.018531</td>\n",
              "    </tr>\n",
              "    <tr>\n",
              "      <th>Living_room_Temp</th>\n",
              "      <td>0.836834</td>\n",
              "      <td>0.269839</td>\n",
              "      <td>1.000000</td>\n",
              "      <td>-0.165610</td>\n",
              "      <td>0.735245</td>\n",
              "      <td>0.121497</td>\n",
              "      <td>0.762066</td>\n",
              "      <td>0.231563</td>\n",
              "      <td>0.720550</td>\n",
              "      <td>0.029595</td>\n",
              "      <td>0.801186</td>\n",
              "      <td>-0.580372</td>\n",
              "      <td>0.663660</td>\n",
              "      <td>0.229212</td>\n",
              "      <td>0.578191</td>\n",
              "      <td>0.068534</td>\n",
              "      <td>0.675535</td>\n",
              "      <td>0.157346</td>\n",
              "      <td>0.792255</td>\n",
              "      <td>-0.133028</td>\n",
              "      <td>-0.505291</td>\n",
              "      <td>0.052495</td>\n",
              "      <td>-0.069721</td>\n",
              "      <td>0.582602</td>\n",
              "      <td>-0.011087</td>\n",
              "      <td>-0.011087</td>\n",
              "      <td>0.000602</td>\n",
              "      <td>0.254569</td>\n",
              "    </tr>\n",
              "    <tr>\n",
              "      <th>Living_room_Humidity</th>\n",
              "      <td>-0.002509</td>\n",
              "      <td>0.797535</td>\n",
              "      <td>-0.165610</td>\n",
              "      <td>1.000000</td>\n",
              "      <td>0.137319</td>\n",
              "      <td>0.678326</td>\n",
              "      <td>-0.047304</td>\n",
              "      <td>0.721435</td>\n",
              "      <td>0.110409</td>\n",
              "      <td>0.250271</td>\n",
              "      <td>-0.009670</td>\n",
              "      <td>0.389933</td>\n",
              "      <td>-0.051422</td>\n",
              "      <td>0.690584</td>\n",
              "      <td>-0.041023</td>\n",
              "      <td>0.679777</td>\n",
              "      <td>0.054544</td>\n",
              "      <td>0.676467</td>\n",
              "      <td>0.033674</td>\n",
              "      <td>-0.255646</td>\n",
              "      <td>0.584911</td>\n",
              "      <td>0.069190</td>\n",
              "      <td>-0.005368</td>\n",
              "      <td>0.499152</td>\n",
              "      <td>0.006275</td>\n",
              "      <td>0.006275</td>\n",
              "      <td>-0.044249</td>\n",
              "      <td>-0.183182</td>\n",
              "    </tr>\n",
              "    <tr>\n",
              "      <th>Laundry_room Temp</th>\n",
              "      <td>0.892402</td>\n",
              "      <td>0.253230</td>\n",
              "      <td>0.735245</td>\n",
              "      <td>0.137319</td>\n",
              "      <td>1.000000</td>\n",
              "      <td>-0.011234</td>\n",
              "      <td>0.852778</td>\n",
              "      <td>0.122737</td>\n",
              "      <td>0.888169</td>\n",
              "      <td>-0.066355</td>\n",
              "      <td>0.686882</td>\n",
              "      <td>-0.647672</td>\n",
              "      <td>0.847374</td>\n",
              "      <td>0.172624</td>\n",
              "      <td>0.795283</td>\n",
              "      <td>0.044427</td>\n",
              "      <td>0.901324</td>\n",
              "      <td>0.134602</td>\n",
              "      <td>0.699417</td>\n",
              "      <td>-0.189974</td>\n",
              "      <td>-0.281718</td>\n",
              "      <td>-0.100776</td>\n",
              "      <td>-0.102310</td>\n",
              "      <td>0.645886</td>\n",
              "      <td>-0.005194</td>\n",
              "      <td>-0.005194</td>\n",
              "      <td>-0.017514</td>\n",
              "      <td>0.037607</td>\n",
              "    </tr>\n",
              "    <tr>\n",
              "      <th>Laundry_room_Humidity</th>\n",
              "      <td>-0.028550</td>\n",
              "      <td>0.844677</td>\n",
              "      <td>0.121497</td>\n",
              "      <td>0.678326</td>\n",
              "      <td>-0.011234</td>\n",
              "      <td>1.000000</td>\n",
              "      <td>-0.140457</td>\n",
              "      <td>0.898978</td>\n",
              "      <td>-0.050062</td>\n",
              "      <td>0.375422</td>\n",
              "      <td>0.076833</td>\n",
              "      <td>0.514912</td>\n",
              "      <td>-0.250090</td>\n",
              "      <td>0.832685</td>\n",
              "      <td>-0.283228</td>\n",
              "      <td>0.828822</td>\n",
              "      <td>-0.195270</td>\n",
              "      <td>0.833538</td>\n",
              "      <td>0.118207</td>\n",
              "      <td>-0.233274</td>\n",
              "      <td>0.356192</td>\n",
              "      <td>0.263188</td>\n",
              "      <td>0.017041</td>\n",
              "      <td>0.414387</td>\n",
              "      <td>-0.000477</td>\n",
              "      <td>-0.000477</td>\n",
              "      <td>-0.035182</td>\n",
              "      <td>-0.052343</td>\n",
              "    </tr>\n",
              "    <tr>\n",
              "      <th>Office_Temp</th>\n",
              "      <td>0.877001</td>\n",
              "      <td>0.106180</td>\n",
              "      <td>0.762066</td>\n",
              "      <td>-0.047304</td>\n",
              "      <td>0.852778</td>\n",
              "      <td>-0.140457</td>\n",
              "      <td>1.000000</td>\n",
              "      <td>-0.048650</td>\n",
              "      <td>0.871813</td>\n",
              "      <td>-0.076489</td>\n",
              "      <td>0.652350</td>\n",
              "      <td>-0.703149</td>\n",
              "      <td>0.877763</td>\n",
              "      <td>0.043527</td>\n",
              "      <td>0.796256</td>\n",
              "      <td>-0.095192</td>\n",
              "      <td>0.889439</td>\n",
              "      <td>-0.025549</td>\n",
              "      <td>0.663478</td>\n",
              "      <td>-0.075292</td>\n",
              "      <td>-0.388602</td>\n",
              "      <td>-0.185747</td>\n",
              "      <td>-0.104768</td>\n",
              "      <td>0.519471</td>\n",
              "      <td>-0.001815</td>\n",
              "      <td>-0.001815</td>\n",
              "      <td>-0.091006</td>\n",
              "      <td>0.088334</td>\n",
              "    </tr>\n",
              "    <tr>\n",
              "      <th>Office_Humidity</th>\n",
              "      <td>0.097861</td>\n",
              "      <td>0.880359</td>\n",
              "      <td>0.231563</td>\n",
              "      <td>0.721435</td>\n",
              "      <td>0.122737</td>\n",
              "      <td>0.898978</td>\n",
              "      <td>-0.048650</td>\n",
              "      <td>1.000000</td>\n",
              "      <td>0.091812</td>\n",
              "      <td>0.352591</td>\n",
              "      <td>0.259047</td>\n",
              "      <td>0.392178</td>\n",
              "      <td>-0.131204</td>\n",
              "      <td>0.894301</td>\n",
              "      <td>-0.167066</td>\n",
              "      <td>0.847259</td>\n",
              "      <td>-0.044518</td>\n",
              "      <td>0.856591</td>\n",
              "      <td>0.293289</td>\n",
              "      <td>-0.250748</td>\n",
              "      <td>0.336813</td>\n",
              "      <td>0.300192</td>\n",
              "      <td>0.002636</td>\n",
              "      <td>0.616509</td>\n",
              "      <td>-0.001787</td>\n",
              "      <td>-0.001787</td>\n",
              "      <td>-0.005749</td>\n",
              "      <td>-0.019040</td>\n",
              "    </tr>\n",
              "    <tr>\n",
              "      <th>Bathroom_Temp</th>\n",
              "      <td>0.885247</td>\n",
              "      <td>0.205797</td>\n",
              "      <td>0.720550</td>\n",
              "      <td>0.110409</td>\n",
              "      <td>0.888169</td>\n",
              "      <td>-0.050062</td>\n",
              "      <td>0.871813</td>\n",
              "      <td>0.091812</td>\n",
              "      <td>1.000000</td>\n",
              "      <td>0.032786</td>\n",
              "      <td>0.629161</td>\n",
              "      <td>-0.632384</td>\n",
              "      <td>0.870624</td>\n",
              "      <td>0.148905</td>\n",
              "      <td>0.824981</td>\n",
              "      <td>0.016388</td>\n",
              "      <td>0.911055</td>\n",
              "      <td>0.072308</td>\n",
              "      <td>0.651321</td>\n",
              "      <td>-0.170999</td>\n",
              "      <td>-0.273953</td>\n",
              "      <td>-0.145011</td>\n",
              "      <td>-0.084164</td>\n",
              "      <td>0.588362</td>\n",
              "      <td>-0.005490</td>\n",
              "      <td>-0.005490</td>\n",
              "      <td>-0.040827</td>\n",
              "      <td>0.071282</td>\n",
              "    </tr>\n",
              "    <tr>\n",
              "      <th>Bathroom_Humidity</th>\n",
              "      <td>-0.014782</td>\n",
              "      <td>0.303258</td>\n",
              "      <td>0.029595</td>\n",
              "      <td>0.250271</td>\n",
              "      <td>-0.066355</td>\n",
              "      <td>0.375422</td>\n",
              "      <td>-0.076489</td>\n",
              "      <td>0.352591</td>\n",
              "      <td>0.032786</td>\n",
              "      <td>1.000000</td>\n",
              "      <td>-0.078337</td>\n",
              "      <td>0.263797</td>\n",
              "      <td>-0.142823</td>\n",
              "      <td>0.325808</td>\n",
              "      <td>-0.086991</td>\n",
              "      <td>0.359840</td>\n",
              "      <td>-0.138509</td>\n",
              "      <td>0.272197</td>\n",
              "      <td>-0.053126</td>\n",
              "      <td>-0.119327</td>\n",
              "      <td>0.185941</td>\n",
              "      <td>0.082044</td>\n",
              "      <td>-0.013133</td>\n",
              "      <td>0.078175</td>\n",
              "      <td>-0.011056</td>\n",
              "      <td>-0.011056</td>\n",
              "      <td>0.008096</td>\n",
              "      <td>0.097242</td>\n",
              "    </tr>\n",
              "    <tr>\n",
              "      <th>Building_North_Temp</th>\n",
              "      <td>0.654769</td>\n",
              "      <td>0.316141</td>\n",
              "      <td>0.801186</td>\n",
              "      <td>-0.009670</td>\n",
              "      <td>0.686882</td>\n",
              "      <td>0.076833</td>\n",
              "      <td>0.652350</td>\n",
              "      <td>0.259047</td>\n",
              "      <td>0.629161</td>\n",
              "      <td>-0.078337</td>\n",
              "      <td>1.000000</td>\n",
              "      <td>-0.672137</td>\n",
              "      <td>0.619085</td>\n",
              "      <td>0.256077</td>\n",
              "      <td>0.482836</td>\n",
              "      <td>0.073721</td>\n",
              "      <td>0.667177</td>\n",
              "      <td>0.184424</td>\n",
              "      <td>0.974787</td>\n",
              "      <td>-0.141643</td>\n",
              "      <td>-0.569119</td>\n",
              "      <td>0.169185</td>\n",
              "      <td>-0.081313</td>\n",
              "      <td>0.764242</td>\n",
              "      <td>-0.015086</td>\n",
              "      <td>-0.015086</td>\n",
              "      <td>0.026542</td>\n",
              "      <td>0.202892</td>\n",
              "    </tr>\n",
              "    <tr>\n",
              "      <th>Building_North_Humidity</th>\n",
              "      <td>-0.615045</td>\n",
              "      <td>0.245126</td>\n",
              "      <td>-0.580372</td>\n",
              "      <td>0.389933</td>\n",
              "      <td>-0.647672</td>\n",
              "      <td>0.514912</td>\n",
              "      <td>-0.703149</td>\n",
              "      <td>0.392178</td>\n",
              "      <td>-0.632384</td>\n",
              "      <td>0.263797</td>\n",
              "      <td>-0.672137</td>\n",
              "      <td>1.000000</td>\n",
              "      <td>-0.753973</td>\n",
              "      <td>0.357222</td>\n",
              "      <td>-0.665869</td>\n",
              "      <td>0.489580</td>\n",
              "      <td>-0.738940</td>\n",
              "      <td>0.391943</td>\n",
              "      <td>-0.641572</td>\n",
              "      <td>-0.065814</td>\n",
              "      <td>0.718587</td>\n",
              "      <td>0.098317</td>\n",
              "      <td>0.108705</td>\n",
              "      <td>-0.260417</td>\n",
              "      <td>0.011671</td>\n",
              "      <td>0.011671</td>\n",
              "      <td>0.010569</td>\n",
              "      <td>-0.190100</td>\n",
              "    </tr>\n",
              "    <tr>\n",
              "      <th>Ironing_room_Temp</th>\n",
              "      <td>0.838705</td>\n",
              "      <td>0.021397</td>\n",
              "      <td>0.663660</td>\n",
              "      <td>-0.051422</td>\n",
              "      <td>0.847374</td>\n",
              "      <td>-0.250090</td>\n",
              "      <td>0.877763</td>\n",
              "      <td>-0.131204</td>\n",
              "      <td>0.870624</td>\n",
              "      <td>-0.142823</td>\n",
              "      <td>0.619085</td>\n",
              "      <td>-0.753973</td>\n",
              "      <td>1.000000</td>\n",
              "      <td>-0.033948</td>\n",
              "      <td>0.882123</td>\n",
              "      <td>-0.209961</td>\n",
              "      <td>0.944776</td>\n",
              "      <td>-0.077690</td>\n",
              "      <td>0.631293</td>\n",
              "      <td>-0.097724</td>\n",
              "      <td>-0.411213</td>\n",
              "      <td>-0.185892</td>\n",
              "      <td>-0.110089</td>\n",
              "      <td>0.466625</td>\n",
              "      <td>-0.003900</td>\n",
              "      <td>-0.003900</td>\n",
              "      <td>-0.029036</td>\n",
              "      <td>0.057234</td>\n",
              "    </tr>\n",
              "    <tr>\n",
              "      <th>Ironing _room_Humidity</th>\n",
              "      <td>0.135182</td>\n",
              "      <td>0.801122</td>\n",
              "      <td>0.229212</td>\n",
              "      <td>0.690584</td>\n",
              "      <td>0.172624</td>\n",
              "      <td>0.832685</td>\n",
              "      <td>0.043527</td>\n",
              "      <td>0.894301</td>\n",
              "      <td>0.148905</td>\n",
              "      <td>0.325808</td>\n",
              "      <td>0.256077</td>\n",
              "      <td>0.357222</td>\n",
              "      <td>-0.033948</td>\n",
              "      <td>1.000000</td>\n",
              "      <td>-0.124102</td>\n",
              "      <td>0.883984</td>\n",
              "      <td>0.028055</td>\n",
              "      <td>0.858686</td>\n",
              "      <td>0.294199</td>\n",
              "      <td>-0.265850</td>\n",
              "      <td>0.378519</td>\n",
              "      <td>0.212979</td>\n",
              "      <td>-0.007184</td>\n",
              "      <td>0.641857</td>\n",
              "      <td>0.001820</td>\n",
              "      <td>0.001820</td>\n",
              "      <td>0.010489</td>\n",
              "      <td>-0.162675</td>\n",
              "    </tr>\n",
              "    <tr>\n",
              "      <th>Childrens_room_Temp</th>\n",
              "      <td>0.825413</td>\n",
              "      <td>-0.030053</td>\n",
              "      <td>0.578191</td>\n",
              "      <td>-0.041023</td>\n",
              "      <td>0.795283</td>\n",
              "      <td>-0.283228</td>\n",
              "      <td>0.796256</td>\n",
              "      <td>-0.167066</td>\n",
              "      <td>0.824981</td>\n",
              "      <td>-0.086991</td>\n",
              "      <td>0.482836</td>\n",
              "      <td>-0.665869</td>\n",
              "      <td>0.882123</td>\n",
              "      <td>-0.124102</td>\n",
              "      <td>1.000000</td>\n",
              "      <td>-0.209532</td>\n",
              "      <td>0.869338</td>\n",
              "      <td>-0.156820</td>\n",
              "      <td>0.502842</td>\n",
              "      <td>-0.162855</td>\n",
              "      <td>-0.300438</td>\n",
              "      <td>-0.218876</td>\n",
              "      <td>-0.060098</td>\n",
              "      <td>0.391810</td>\n",
              "      <td>-0.003210</td>\n",
              "      <td>-0.003210</td>\n",
              "      <td>0.024789</td>\n",
              "      <td>0.112817</td>\n",
              "    </tr>\n",
              "    <tr>\n",
              "      <th>Childrens_room_Humidity</th>\n",
              "      <td>-0.006441</td>\n",
              "      <td>0.736196</td>\n",
              "      <td>0.068534</td>\n",
              "      <td>0.679777</td>\n",
              "      <td>0.044427</td>\n",
              "      <td>0.828822</td>\n",
              "      <td>-0.095192</td>\n",
              "      <td>0.847259</td>\n",
              "      <td>0.016388</td>\n",
              "      <td>0.359840</td>\n",
              "      <td>0.073721</td>\n",
              "      <td>0.489580</td>\n",
              "      <td>-0.209961</td>\n",
              "      <td>0.883984</td>\n",
              "      <td>-0.209532</td>\n",
              "      <td>1.000000</td>\n",
              "      <td>-0.113014</td>\n",
              "      <td>0.855812</td>\n",
              "      <td>0.117141</td>\n",
              "      <td>-0.225591</td>\n",
              "      <td>0.487355</td>\n",
              "      <td>0.202380</td>\n",
              "      <td>0.046178</td>\n",
              "      <td>0.501775</td>\n",
              "      <td>0.004480</td>\n",
              "      <td>0.004480</td>\n",
              "      <td>0.025814</td>\n",
              "      <td>-0.290698</td>\n",
              "    </tr>\n",
              "    <tr>\n",
              "      <th>Parents_room_Temp</th>\n",
              "      <td>0.844777</td>\n",
              "      <td>0.115263</td>\n",
              "      <td>0.675535</td>\n",
              "      <td>0.054544</td>\n",
              "      <td>0.901324</td>\n",
              "      <td>-0.195270</td>\n",
              "      <td>0.889439</td>\n",
              "      <td>-0.044518</td>\n",
              "      <td>0.911055</td>\n",
              "      <td>-0.138509</td>\n",
              "      <td>0.667177</td>\n",
              "      <td>-0.738940</td>\n",
              "      <td>0.944776</td>\n",
              "      <td>0.028055</td>\n",
              "      <td>0.869338</td>\n",
              "      <td>-0.113014</td>\n",
              "      <td>1.000000</td>\n",
              "      <td>-0.008683</td>\n",
              "      <td>0.668220</td>\n",
              "      <td>-0.156828</td>\n",
              "      <td>-0.318848</td>\n",
              "      <td>-0.177756</td>\n",
              "      <td>-0.103915</td>\n",
              "      <td>0.581483</td>\n",
              "      <td>-0.001227</td>\n",
              "      <td>-0.001227</td>\n",
              "      <td>-0.023166</td>\n",
              "      <td>-0.002733</td>\n",
              "    </tr>\n",
              "    <tr>\n",
              "      <th>Parents_room_Humidity</th>\n",
              "      <td>0.071756</td>\n",
              "      <td>0.764001</td>\n",
              "      <td>0.157346</td>\n",
              "      <td>0.676467</td>\n",
              "      <td>0.134602</td>\n",
              "      <td>0.833538</td>\n",
              "      <td>-0.025549</td>\n",
              "      <td>0.856591</td>\n",
              "      <td>0.072308</td>\n",
              "      <td>0.272197</td>\n",
              "      <td>0.184424</td>\n",
              "      <td>0.391943</td>\n",
              "      <td>-0.077690</td>\n",
              "      <td>0.858686</td>\n",
              "      <td>-0.156820</td>\n",
              "      <td>0.855812</td>\n",
              "      <td>-0.008683</td>\n",
              "      <td>1.000000</td>\n",
              "      <td>0.223270</td>\n",
              "      <td>-0.183739</td>\n",
              "      <td>0.359377</td>\n",
              "      <td>0.238655</td>\n",
              "      <td>0.008667</td>\n",
              "      <td>0.540328</td>\n",
              "      <td>-0.002955</td>\n",
              "      <td>-0.002955</td>\n",
              "      <td>0.011413</td>\n",
              "      <td>-0.269508</td>\n",
              "    </tr>\n",
              "    <tr>\n",
              "      <th>Outside_Temp</th>\n",
              "      <td>0.682846</td>\n",
              "      <td>0.340767</td>\n",
              "      <td>0.792255</td>\n",
              "      <td>0.033674</td>\n",
              "      <td>0.699417</td>\n",
              "      <td>0.118207</td>\n",
              "      <td>0.663478</td>\n",
              "      <td>0.293289</td>\n",
              "      <td>0.651321</td>\n",
              "      <td>-0.053126</td>\n",
              "      <td>0.974787</td>\n",
              "      <td>-0.641572</td>\n",
              "      <td>0.631293</td>\n",
              "      <td>0.294199</td>\n",
              "      <td>0.502842</td>\n",
              "      <td>0.117141</td>\n",
              "      <td>0.668220</td>\n",
              "      <td>0.223270</td>\n",
              "      <td>1.000000</td>\n",
              "      <td>-0.143249</td>\n",
              "      <td>-0.574197</td>\n",
              "      <td>0.192936</td>\n",
              "      <td>-0.077367</td>\n",
              "      <td>0.790661</td>\n",
              "      <td>-0.015216</td>\n",
              "      <td>-0.015216</td>\n",
              "      <td>0.029238</td>\n",
              "      <td>0.219619</td>\n",
              "    </tr>\n",
              "    <tr>\n",
              "      <th>Outside_Press</th>\n",
              "      <td>-0.150574</td>\n",
              "      <td>-0.293957</td>\n",
              "      <td>-0.133028</td>\n",
              "      <td>-0.255646</td>\n",
              "      <td>-0.189974</td>\n",
              "      <td>-0.233274</td>\n",
              "      <td>-0.075292</td>\n",
              "      <td>-0.250748</td>\n",
              "      <td>-0.170999</td>\n",
              "      <td>-0.119327</td>\n",
              "      <td>-0.141643</td>\n",
              "      <td>-0.065814</td>\n",
              "      <td>-0.097724</td>\n",
              "      <td>-0.265850</td>\n",
              "      <td>-0.162855</td>\n",
              "      <td>-0.225591</td>\n",
              "      <td>-0.156828</td>\n",
              "      <td>-0.183739</td>\n",
              "      <td>-0.143249</td>\n",
              "      <td>1.000000</td>\n",
              "      <td>-0.092017</td>\n",
              "      <td>-0.235032</td>\n",
              "      <td>0.040315</td>\n",
              "      <td>-0.244098</td>\n",
              "      <td>0.000699</td>\n",
              "      <td>0.000699</td>\n",
              "      <td>-0.023910</td>\n",
              "      <td>-0.006199</td>\n",
              "    </tr>\n",
              "    <tr>\n",
              "      <th>Outside_Humidity</th>\n",
              "      <td>-0.345481</td>\n",
              "      <td>0.274126</td>\n",
              "      <td>-0.505291</td>\n",
              "      <td>0.584911</td>\n",
              "      <td>-0.281718</td>\n",
              "      <td>0.356192</td>\n",
              "      <td>-0.388602</td>\n",
              "      <td>0.336813</td>\n",
              "      <td>-0.273953</td>\n",
              "      <td>0.185941</td>\n",
              "      <td>-0.569119</td>\n",
              "      <td>0.718587</td>\n",
              "      <td>-0.411213</td>\n",
              "      <td>0.378519</td>\n",
              "      <td>-0.300438</td>\n",
              "      <td>0.487355</td>\n",
              "      <td>-0.318848</td>\n",
              "      <td>0.359377</td>\n",
              "      <td>-0.574197</td>\n",
              "      <td>-0.092017</td>\n",
              "      <td>1.000000</td>\n",
              "      <td>-0.176458</td>\n",
              "      <td>0.083125</td>\n",
              "      <td>0.036506</td>\n",
              "      <td>0.020441</td>\n",
              "      <td>0.020441</td>\n",
              "      <td>0.014847</td>\n",
              "      <td>-0.347416</td>\n",
              "    </tr>\n",
              "    <tr>\n",
              "      <th>Windspeed</th>\n",
              "      <td>-0.087654</td>\n",
              "      <td>0.204932</td>\n",
              "      <td>0.052495</td>\n",
              "      <td>0.069190</td>\n",
              "      <td>-0.100776</td>\n",
              "      <td>0.263188</td>\n",
              "      <td>-0.185747</td>\n",
              "      <td>0.300192</td>\n",
              "      <td>-0.145011</td>\n",
              "      <td>0.082044</td>\n",
              "      <td>0.169185</td>\n",
              "      <td>0.098317</td>\n",
              "      <td>-0.185892</td>\n",
              "      <td>0.212979</td>\n",
              "      <td>-0.218876</td>\n",
              "      <td>0.202380</td>\n",
              "      <td>-0.177756</td>\n",
              "      <td>0.238655</td>\n",
              "      <td>0.192936</td>\n",
              "      <td>-0.235032</td>\n",
              "      <td>-0.176458</td>\n",
              "      <td>1.000000</td>\n",
              "      <td>-0.007516</td>\n",
              "      <td>0.125972</td>\n",
              "      <td>-0.011342</td>\n",
              "      <td>-0.011342</td>\n",
              "      <td>0.020198</td>\n",
              "      <td>0.095765</td>\n",
              "    </tr>\n",
              "    <tr>\n",
              "      <th>Visibility</th>\n",
              "      <td>-0.076210</td>\n",
              "      <td>-0.021057</td>\n",
              "      <td>-0.069721</td>\n",
              "      <td>-0.005368</td>\n",
              "      <td>-0.102310</td>\n",
              "      <td>0.017041</td>\n",
              "      <td>-0.104768</td>\n",
              "      <td>0.002636</td>\n",
              "      <td>-0.084164</td>\n",
              "      <td>-0.013133</td>\n",
              "      <td>-0.081313</td>\n",
              "      <td>0.108705</td>\n",
              "      <td>-0.110089</td>\n",
              "      <td>-0.007184</td>\n",
              "      <td>-0.060098</td>\n",
              "      <td>0.046178</td>\n",
              "      <td>-0.103915</td>\n",
              "      <td>0.008667</td>\n",
              "      <td>-0.077367</td>\n",
              "      <td>0.040315</td>\n",
              "      <td>0.083125</td>\n",
              "      <td>-0.007516</td>\n",
              "      <td>1.000000</td>\n",
              "      <td>-0.042190</td>\n",
              "      <td>-0.005889</td>\n",
              "      <td>-0.005889</td>\n",
              "      <td>-0.040694</td>\n",
              "      <td>-0.017598</td>\n",
              "    </tr>\n",
              "    <tr>\n",
              "      <th>Dewpoint_Temp</th>\n",
              "      <td>0.571309</td>\n",
              "      <td>0.639106</td>\n",
              "      <td>0.582602</td>\n",
              "      <td>0.499152</td>\n",
              "      <td>0.645886</td>\n",
              "      <td>0.414387</td>\n",
              "      <td>0.519471</td>\n",
              "      <td>0.616509</td>\n",
              "      <td>0.588362</td>\n",
              "      <td>0.078175</td>\n",
              "      <td>0.764242</td>\n",
              "      <td>-0.260417</td>\n",
              "      <td>0.466625</td>\n",
              "      <td>0.641857</td>\n",
              "      <td>0.391810</td>\n",
              "      <td>0.501775</td>\n",
              "      <td>0.581483</td>\n",
              "      <td>0.540328</td>\n",
              "      <td>0.790661</td>\n",
              "      <td>-0.244098</td>\n",
              "      <td>0.036506</td>\n",
              "      <td>0.125972</td>\n",
              "      <td>-0.042190</td>\n",
              "      <td>1.000000</td>\n",
              "      <td>-0.003943</td>\n",
              "      <td>-0.003943</td>\n",
              "      <td>0.039421</td>\n",
              "      <td>0.024446</td>\n",
              "    </tr>\n",
              "    <tr>\n",
              "      <th>rv1</th>\n",
              "      <td>-0.006203</td>\n",
              "      <td>-0.000699</td>\n",
              "      <td>-0.011087</td>\n",
              "      <td>0.006275</td>\n",
              "      <td>-0.005194</td>\n",
              "      <td>-0.000477</td>\n",
              "      <td>-0.001815</td>\n",
              "      <td>-0.001787</td>\n",
              "      <td>-0.005490</td>\n",
              "      <td>-0.011056</td>\n",
              "      <td>-0.015086</td>\n",
              "      <td>0.011671</td>\n",
              "      <td>-0.003900</td>\n",
              "      <td>0.001820</td>\n",
              "      <td>-0.003210</td>\n",
              "      <td>0.004480</td>\n",
              "      <td>-0.001227</td>\n",
              "      <td>-0.002955</td>\n",
              "      <td>-0.015216</td>\n",
              "      <td>0.000699</td>\n",
              "      <td>0.020441</td>\n",
              "      <td>-0.011342</td>\n",
              "      <td>-0.005889</td>\n",
              "      <td>-0.003943</td>\n",
              "      <td>1.000000</td>\n",
              "      <td>1.000000</td>\n",
              "      <td>0.007281</td>\n",
              "      <td>-0.013390</td>\n",
              "    </tr>\n",
              "    <tr>\n",
              "      <th>rv2</th>\n",
              "      <td>-0.006203</td>\n",
              "      <td>-0.000699</td>\n",
              "      <td>-0.011087</td>\n",
              "      <td>0.006275</td>\n",
              "      <td>-0.005194</td>\n",
              "      <td>-0.000477</td>\n",
              "      <td>-0.001815</td>\n",
              "      <td>-0.001787</td>\n",
              "      <td>-0.005490</td>\n",
              "      <td>-0.011056</td>\n",
              "      <td>-0.015086</td>\n",
              "      <td>0.011671</td>\n",
              "      <td>-0.003900</td>\n",
              "      <td>0.001820</td>\n",
              "      <td>-0.003210</td>\n",
              "      <td>0.004480</td>\n",
              "      <td>-0.001227</td>\n",
              "      <td>-0.002955</td>\n",
              "      <td>-0.015216</td>\n",
              "      <td>0.000699</td>\n",
              "      <td>0.020441</td>\n",
              "      <td>-0.011342</td>\n",
              "      <td>-0.005889</td>\n",
              "      <td>-0.003943</td>\n",
              "      <td>1.000000</td>\n",
              "      <td>1.000000</td>\n",
              "      <td>0.007281</td>\n",
              "      <td>-0.013390</td>\n",
              "    </tr>\n",
              "    <tr>\n",
              "      <th>Weekday</th>\n",
              "      <td>0.001381</td>\n",
              "      <td>-0.053782</td>\n",
              "      <td>0.000602</td>\n",
              "      <td>-0.044249</td>\n",
              "      <td>-0.017514</td>\n",
              "      <td>-0.035182</td>\n",
              "      <td>-0.091006</td>\n",
              "      <td>-0.005749</td>\n",
              "      <td>-0.040827</td>\n",
              "      <td>0.008096</td>\n",
              "      <td>0.026542</td>\n",
              "      <td>0.010569</td>\n",
              "      <td>-0.029036</td>\n",
              "      <td>0.010489</td>\n",
              "      <td>0.024789</td>\n",
              "      <td>0.025814</td>\n",
              "      <td>-0.023166</td>\n",
              "      <td>0.011413</td>\n",
              "      <td>0.029238</td>\n",
              "      <td>-0.023910</td>\n",
              "      <td>0.014847</td>\n",
              "      <td>0.020198</td>\n",
              "      <td>-0.040694</td>\n",
              "      <td>0.039421</td>\n",
              "      <td>0.007281</td>\n",
              "      <td>0.007281</td>\n",
              "      <td>1.000000</td>\n",
              "      <td>-0.005113</td>\n",
              "    </tr>\n",
              "    <tr>\n",
              "      <th>NSM</th>\n",
              "      <td>0.178728</td>\n",
              "      <td>0.018531</td>\n",
              "      <td>0.254569</td>\n",
              "      <td>-0.183182</td>\n",
              "      <td>0.037607</td>\n",
              "      <td>-0.052343</td>\n",
              "      <td>0.088334</td>\n",
              "      <td>-0.019040</td>\n",
              "      <td>0.071282</td>\n",
              "      <td>0.097242</td>\n",
              "      <td>0.202892</td>\n",
              "      <td>-0.190100</td>\n",
              "      <td>0.057234</td>\n",
              "      <td>-0.162675</td>\n",
              "      <td>0.112817</td>\n",
              "      <td>-0.290698</td>\n",
              "      <td>-0.002733</td>\n",
              "      <td>-0.269508</td>\n",
              "      <td>0.219619</td>\n",
              "      <td>-0.006199</td>\n",
              "      <td>-0.347416</td>\n",
              "      <td>0.095765</td>\n",
              "      <td>-0.017598</td>\n",
              "      <td>0.024446</td>\n",
              "      <td>-0.013390</td>\n",
              "      <td>-0.013390</td>\n",
              "      <td>-0.005113</td>\n",
              "      <td>1.000000</td>\n",
              "    </tr>\n",
              "  </tbody>\n",
              "</table>\n",
              "</div>"
            ],
            "text/plain": [
              "                         Kitchen_Temp  Kitchen_Humidity  ...   Weekday       NSM\n",
              "Kitchen_Temp                 1.000000          0.164006  ...  0.001381  0.178728\n",
              "Kitchen_Humidity             0.164006          1.000000  ... -0.053782  0.018531\n",
              "Living_room_Temp             0.836834          0.269839  ...  0.000602  0.254569\n",
              "Living_room_Humidity        -0.002509          0.797535  ... -0.044249 -0.183182\n",
              "Laundry_room Temp            0.892402          0.253230  ... -0.017514  0.037607\n",
              "Laundry_room_Humidity       -0.028550          0.844677  ... -0.035182 -0.052343\n",
              "Office_Temp                  0.877001          0.106180  ... -0.091006  0.088334\n",
              "Office_Humidity              0.097861          0.880359  ... -0.005749 -0.019040\n",
              "Bathroom_Temp                0.885247          0.205797  ... -0.040827  0.071282\n",
              "Bathroom_Humidity           -0.014782          0.303258  ...  0.008096  0.097242\n",
              "Building_North_Temp          0.654769          0.316141  ...  0.026542  0.202892\n",
              "Building_North_Humidity     -0.615045          0.245126  ...  0.010569 -0.190100\n",
              "Ironing_room_Temp            0.838705          0.021397  ... -0.029036  0.057234\n",
              "Ironing _room_Humidity       0.135182          0.801122  ...  0.010489 -0.162675\n",
              "Childrens_room_Temp          0.825413         -0.030053  ...  0.024789  0.112817\n",
              "Childrens_room_Humidity     -0.006441          0.736196  ...  0.025814 -0.290698\n",
              "Parents_room_Temp            0.844777          0.115263  ... -0.023166 -0.002733\n",
              "Parents_room_Humidity        0.071756          0.764001  ...  0.011413 -0.269508\n",
              "Outside_Temp                 0.682846          0.340767  ...  0.029238  0.219619\n",
              "Outside_Press               -0.150574         -0.293957  ... -0.023910 -0.006199\n",
              "Outside_Humidity            -0.345481          0.274126  ...  0.014847 -0.347416\n",
              "Windspeed                   -0.087654          0.204932  ...  0.020198  0.095765\n",
              "Visibility                  -0.076210         -0.021057  ... -0.040694 -0.017598\n",
              "Dewpoint_Temp                0.571309          0.639106  ...  0.039421  0.024446\n",
              "rv1                         -0.006203         -0.000699  ...  0.007281 -0.013390\n",
              "rv2                         -0.006203         -0.000699  ...  0.007281 -0.013390\n",
              "Weekday                      0.001381         -0.053782  ...  1.000000 -0.005113\n",
              "NSM                          0.178728          0.018531  ... -0.005113  1.000000\n",
              "\n",
              "[28 rows x 28 columns]"
            ]
          },
          "metadata": {
            "tags": []
          },
          "execution_count": 61
        }
      ]
    },
    {
      "cell_type": "code",
      "metadata": {
        "colab": {
          "base_uri": "https://localhost:8080/",
          "height": 1000
        },
        "id": "4zBwKzGRqABa",
        "outputId": "8a6fd22f-822e-468d-b4c4-9a6d1b6abc3a"
      },
      "source": [
        "import seaborn as sns\n",
        "corr=X.corr()\n",
        "top_features=corr.index\n",
        "plt.figure(figsize=(20,20))\n",
        "sns.heatmap(X[top_features].corr(),annot=True)"
      ],
      "execution_count": null,
      "outputs": [
        {
          "output_type": "execute_result",
          "data": {
            "text/plain": [
              "<matplotlib.axes._subplots.AxesSubplot at 0x7f7e78a62940>"
            ]
          },
          "metadata": {
            "tags": []
          },
          "execution_count": 62
        },
        {
          "output_type": "display_data",
          "data": {
            "image/png": "[encoded data removed]",
            "text/plain": [
              "<Figure size 1440x1440 with 2 Axes>"
            ]
          },
          "metadata": {
            "tags": [],
            "needs_background": "light"
          }
        }
      ]
    },
    {
      "cell_type": "code",
      "metadata": {
        "colab": {
          "base_uri": "https://localhost:8080/"
        },
        "id": "frN5aoCYqTOQ",
        "outputId": "8f609eca-ce99-4922-ca7e-5adf4c2210d3"
      },
      "source": [
        "threshold=0.5\n",
        "\n",
        "# find and remove correlated features\n",
        "def correlation(dataset, threshold):\n",
        "    col_corr = set()  # Set of all the names of correlated columns\n",
        "    corr_matrix = dataset.corr()\n",
        "    for i in range(len(corr_matrix.columns)):\n",
        "        for j in range(i):\n",
        "            if abs(corr_matrix.iloc[i, j]) > threshold: # we are interested in absolute coeff value\n",
        "                colname = corr_matrix.columns[i]  # getting the name of column\n",
        "                col_corr.add(colname)\n",
        "    return col_corr\n",
        "\n",
        "correlation(X,threshold)"
      ],
      "execution_count": null,
      "outputs": [
        {
          "output_type": "execute_result",
          "data": {
            "text/plain": [
              "{'Bathroom_Temp',\n",
              " 'Building_North_Humidity',\n",
              " 'Building_North_Temp',\n",
              " 'Childrens_room_Humidity',\n",
              " 'Childrens_room_Temp',\n",
              " 'Dewpoint_Temp',\n",
              " 'Ironing _room_Humidity',\n",
              " 'Ironing_room_Temp',\n",
              " 'Laundry_room Temp',\n",
              " 'Laundry_room_Humidity',\n",
              " 'Living_room_Humidity',\n",
              " 'Living_room_Temp',\n",
              " 'Office_Humidity',\n",
              " 'Office_Temp',\n",
              " 'Outside_Humidity',\n",
              " 'Outside_Temp',\n",
              " 'Parents_room_Humidity',\n",
              " 'Parents_room_Temp',\n",
              " 'rv2'}"
            ]
          },
          "metadata": {
            "tags": []
          },
          "execution_count": 63
        }
      ]
    },
    {
      "cell_type": "code",
      "metadata": {
        "colab": {
          "base_uri": "https://localhost:8080/"
        },
        "id": "D_4VuUz7qsI-",
        "outputId": "56f703ac-0684-4938-cce9-add1e6001c67"
      },
      "source": [
        "len(correlation(X,threshold))"
      ],
      "execution_count": null,
      "outputs": [
        {
          "output_type": "execute_result",
          "data": {
            "text/plain": [
              "19"
            ]
          },
          "metadata": {
            "tags": []
          },
          "execution_count": 64
        }
      ]
    },
    {
      "cell_type": "markdown",
      "metadata": {
        "id": "WYnIn2FReT5z"
      },
      "source": [
        "##**OLS LINEAR REGRESSION**\n"
      ]
    },
    {
      "cell_type": "code",
      "metadata": {
        "id": "3KrWivwZrXnK",
        "colab": {
          "base_uri": "https://localhost:8080/"
        },
        "outputId": "fa4ef0dc-d898-4b0f-d307-454d6c33243f"
      },
      "source": [
        "from sklearn.linear_model import LinearRegression\n",
        "from sklearn.model_selection import train_test_split\n",
        "from statsmodels.stats.outliers_influence import variance_inflation_factor\n",
        "import statsmodels.api as sm\n",
        "import statsmodels.tsa.api as smt\n",
        "from sklearn import metrics"
      ],
      "execution_count": null,
      "outputs": [
        {
          "output_type": "stream",
          "text": [
            "/usr/local/lib/python3.6/dist-packages/statsmodels/tools/_testing.py:19: FutureWarning: pandas.util.testing is deprecated. Use the functions in the public API at pandas.testing instead.\n",
            "  import pandas.util.testing as tm\n"
          ],
          "name": "stderr"
        }
      ]
    },
    {
      "cell_type": "markdown",
      "metadata": {
        "id": "Adyfm3emfZVa"
      },
      "source": [
        "###**TEST 1**\n",
        "Applying OLS on ***normalized*** data, subsequently some features would be eliminated to improve our fit."
      ]
    },
    {
      "cell_type": "code",
      "metadata": {
        "colab": {
          "base_uri": "https://localhost:8080/"
        },
        "id": "jgUVhvm9Qs0N",
        "outputId": "c0251ddd-2267-4c2d-f222-26ba3818a783"
      },
      "source": [
        "#splitting normalized data\n",
        "\n",
        "X_norm_train, X_norm_test, y_norm_train, y_norm_test = train_test_split(\n",
        "    df_norm_X,df_norm_y, test_size=0.3, random_state=0)\n",
        "\n",
        "X_norm_train.head(),y_norm_train.shape,X_norm_test.shape,y_norm_test.shape"
      ],
      "execution_count": null,
      "outputs": [
        {
          "output_type": "execute_result",
          "data": {
            "text/plain": [
              "(       Kitchen_Temp  Kitchen_Humidity  ...   Weekday       NSM\n",
              " 3766       0.648011          0.482616  ...  0.833333  0.867133\n",
              " 9503       0.633580          0.128704  ...  0.500000  0.706294\n",
              " 10946      0.637100          0.253371  ...  1.000000  0.727273\n",
              " 10393      0.613516          0.334098  ...  0.333333  0.888112\n",
              " 15274      0.493488          0.394551  ...  0.166667  0.783217\n",
              " \n",
              " [5 rows x 28 columns], (13814, 1), (5921, 28), (5921, 1))"
            ]
          },
          "metadata": {
            "tags": []
          },
          "execution_count": 66
        }
      ]
    },
    {
      "cell_type": "code",
      "metadata": {
        "colab": {
          "base_uri": "https://localhost:8080/"
        },
        "id": "QjiUOVKBkSxm",
        "outputId": "ed76ba13-7e8b-4af7-8d91-1d11c9c094aa"
      },
      "source": [
        "print(X_norm_test)"
      ],
      "execution_count": null,
      "outputs": [
        {
          "output_type": "stream",
          "text": [
            "       Kitchen_Temp  Kitchen_Humidity  ...   Weekday       NSM\n",
            "15563      0.465681          0.172461  ...  0.500000  0.790210\n",
            "12564      0.527983          0.315843  ...  0.500000  0.965035\n",
            "10649      0.591341          0.395377  ...  0.666667  0.664336\n",
            "16554      0.761352          0.089074  ...  0.500000  0.671329\n",
            "8130       0.344245          0.308825  ...  0.166667  0.167832\n",
            "...             ...               ...  ...       ...       ...\n",
            "7952       0.349525          0.319329  ...  1.000000  0.937063\n",
            "7472       0.453613          0.287497  ...  0.500000  0.601399\n",
            "7157       0.335093          0.238785  ...  0.166667  0.412587\n",
            "3393       0.444562          0.412164  ...  0.500000  0.272727\n",
            "5187       0.521647          0.200991  ...  0.166667  0.734266\n",
            "\n",
            "[5921 rows x 28 columns]\n"
          ],
          "name": "stdout"
        }
      ]
    },
    {
      "cell_type": "code",
      "metadata": {
        "id": "9qN0nl4GoGhN"
      },
      "source": [
        "def OLS(DataFrame_X,DataFrame_y):\n",
        "    X_with_constant = sm.add_constant(DataFrame_X)\n",
        "    model_variables = sm.OLS(DataFrame_y, DataFrame_X)\n",
        "\n",
        "    results = model_variables.fit()\n",
        "    print(results.summary())"
      ],
      "execution_count": null,
      "outputs": []
    },
    {
      "cell_type": "code",
      "metadata": {
        "colab": {
          "base_uri": "https://localhost:8080/"
        },
        "id": "mI6iZaFhU89x",
        "outputId": "0355d81e-9802-4f1b-d955-7a6489d57d0e"
      },
      "source": [
        "#modelling on normalized vectors\n",
        "OLS(X_norm_train,y_norm_train)"
      ],
      "execution_count": null,
      "outputs": [
        {
          "output_type": "stream",
          "text": [
            "                                    OLS Regression Results                                   \n",
            "=============================================================================================\n",
            "Dep. Variable:     Total_Energy_Consumption   R-squared (uncentered):                   0.530\n",
            "Model:                                  OLS   Adj. R-squared (uncentered):              0.529\n",
            "Method:                       Least Squares   F-statistic:                              576.3\n",
            "Date:                      Sat, 28 Nov 2020   Prob (F-statistic):                        0.00\n",
            "Time:                              12:19:21   Log-Likelihood:                          14374.\n",
            "No. Observations:                     13814   AIC:                                 -2.869e+04\n",
            "Df Residuals:                         13787   BIC:                                 -2.849e+04\n",
            "Df Model:                                27                                                  \n",
            "Covariance Type:                  nonrobust                                                  \n",
            "===========================================================================================\n",
            "                              coef    std err          t      P>|t|      [0.025      0.975]\n",
            "-------------------------------------------------------------------------------------------\n",
            "Kitchen_Temp               -0.0258      0.019     -1.347      0.178      -0.063       0.012\n",
            "Kitchen_Humidity            0.4834      0.026     18.248      0.000       0.431       0.535\n",
            "Living_room_Temp           -0.2333      0.024     -9.608      0.000      -0.281      -0.186\n",
            "Living_room_Humidity       -0.4136      0.028    -14.563      0.000      -0.469      -0.358\n",
            "Laundry_room Temp           0.2932      0.014     20.972      0.000       0.266       0.321\n",
            "Laundry_room_Humidity       0.1139      0.016      7.239      0.000       0.083       0.145\n",
            "Office_Temp                 0.0510      0.012      4.223      0.000       0.027       0.075\n",
            "Office_Humidity             0.0285      0.016      1.773      0.076      -0.003       0.060\n",
            "Bathroom_Temp              -0.0012      0.013     -0.090      0.928      -0.027       0.025\n",
            "Bathroom_Humidity           0.0134      0.006      2.092      0.036       0.001       0.026\n",
            "Building_North_Temp         0.2669      0.024     11.180      0.000       0.220       0.314\n",
            "Building_North_Humidity     0.0297      0.007      4.059      0.000       0.015       0.044\n",
            "Ironing_room_Temp           0.0112      0.015      0.730      0.465      -0.019       0.041\n",
            "Ironing _room_Humidity     -0.0376      0.013     -2.852      0.004      -0.063      -0.012\n",
            "Childrens_room_Temp         0.0991      0.012      8.613      0.000       0.077       0.122\n",
            "Childrens_room_Humidity    -0.1563      0.012    -12.655      0.000      -0.180      -0.132\n",
            "Parents_room_Temp          -0.1910      0.019    -10.278      0.000      -0.227      -0.155\n",
            "Parents_room_Humidity      -0.0239      0.011     -2.135      0.033      -0.046      -0.002\n",
            "Outside_Temp               -0.1310      0.033     -4.001      0.000      -0.195      -0.067\n",
            "Outside_Press               0.0135      0.005      2.800      0.005       0.004       0.023\n",
            "Outside_Humidity            0.0636      0.013      4.888      0.000       0.038       0.089\n",
            "Windspeed                   0.0403      0.005      8.106      0.000       0.031       0.050\n",
            "Visibility                  0.0124      0.004      3.040      0.002       0.004       0.020\n",
            "Dewpoint_Temp              -0.0643      0.017     -3.777      0.000      -0.098      -0.031\n",
            "rv1                        -0.0010      0.001     -0.806      0.420      -0.003       0.001\n",
            "rv2                        -0.0010      0.001     -0.806      0.420      -0.003       0.001\n",
            "Weekday                     0.0066      0.002      2.838      0.005       0.002       0.011\n",
            "NSM                         0.0335      0.004      9.434      0.000       0.027       0.040\n",
            "==============================================================================\n",
            "Omnibus:                     9756.672   Durbin-Watson:                   2.021\n",
            "Prob(Omnibus):                  0.000   Jarque-Bera (JB):           151225.260\n",
            "Skew:                           3.296   Prob(JB):                         0.00\n",
            "Kurtosis:                      17.808   Cond. No.                     1.06e+16\n",
            "==============================================================================\n",
            "\n",
            "Warnings:\n",
            "[1] Standard Errors assume that the covariance matrix of the errors is correctly specified.\n",
            "[2] The smallest eigenvalue is 8.23e-28. This might indicate that there are\n",
            "strong multicollinearity problems or that the design matrix is singular.\n"
          ],
          "name": "stdout"
        }
      ]
    },
    {
      "cell_type": "markdown",
      "metadata": {
        "id": "iKqKP6-5hOnC"
      },
      "source": [
        "Dropping features one-by-one of the Normalized data based on P-value from the above results."
      ]
    },
    {
      "cell_type": "code",
      "metadata": {
        "id": "qHYwNFbbhwJi"
      },
      "source": [
        "def column_name(DataFrame):\n",
        "    for col in enumerate(DataFrame):\n",
        "        print(col)"
      ],
      "execution_count": null,
      "outputs": []
    },
    {
      "cell_type": "code",
      "metadata": {
        "colab": {
          "base_uri": "https://localhost:8080/"
        },
        "id": "gheicKlfE05x",
        "outputId": "6e311c7e-8c2a-4733-971f-aefbdc650c4d"
      },
      "source": [
        "#dropping feature Ironing room Temperature\n",
        "X_norm_train_IT = X_norm_train.drop(\"Ironing_room_Temp\",axis=1)\n",
        "OLS(X_norm_train_IT, y_norm_train)"
      ],
      "execution_count": null,
      "outputs": [
        {
          "output_type": "stream",
          "text": [
            "                                    OLS Regression Results                                   \n",
            "=============================================================================================\n",
            "Dep. Variable:     Total_Energy_Consumption   R-squared (uncentered):                   0.530\n",
            "Model:                                  OLS   Adj. R-squared (uncentered):              0.529\n",
            "Method:                       Least Squares   F-statistic:                              598.4\n",
            "Date:                      Sat, 28 Nov 2020   Prob (F-statistic):                        0.00\n",
            "Time:                              12:19:21   Log-Likelihood:                          14373.\n",
            "No. Observations:                     13814   AIC:                                 -2.869e+04\n",
            "Df Residuals:                         13788   BIC:                                 -2.850e+04\n",
            "Df Model:                                26                                                  \n",
            "Covariance Type:                  nonrobust                                                  \n",
            "===========================================================================================\n",
            "                              coef    std err          t      P>|t|      [0.025      0.975]\n",
            "-------------------------------------------------------------------------------------------\n",
            "Kitchen_Temp               -0.0248      0.019     -1.295      0.195      -0.062       0.013\n",
            "Kitchen_Humidity            0.4841      0.026     18.293      0.000       0.432       0.536\n",
            "Living_room_Temp           -0.2347      0.024     -9.699      0.000      -0.282      -0.187\n",
            "Living_room_Humidity       -0.4149      0.028    -14.635      0.000      -0.470      -0.359\n",
            "Laundry_room Temp           0.2926      0.014     20.966      0.000       0.265       0.320\n",
            "Laundry_room_Humidity       0.1142      0.016      7.263      0.000       0.083       0.145\n",
            "Office_Temp                 0.0518      0.012      4.317      0.000       0.028       0.075\n",
            "Office_Humidity             0.0272      0.016      1.700      0.089      -0.004       0.059\n",
            "Bathroom_Temp              -0.0011      0.013     -0.086      0.931      -0.027       0.025\n",
            "Bathroom_Humidity           0.0134      0.006      2.094      0.036       0.001       0.026\n",
            "Building_North_Temp         0.2658      0.024     11.156      0.000       0.219       0.313\n",
            "Building_North_Humidity     0.0296      0.007      4.045      0.000       0.015       0.044\n",
            "Ironing _room_Humidity     -0.0336      0.012     -2.799      0.005      -0.057      -0.010\n",
            "Childrens_room_Temp         0.1022      0.011      9.527      0.000       0.081       0.123\n",
            "Childrens_room_Humidity    -0.1591      0.012    -13.585      0.000      -0.182      -0.136\n",
            "Parents_room_Temp          -0.1837      0.016    -11.711      0.000      -0.214      -0.153\n",
            "Parents_room_Humidity      -0.0227      0.011     -2.053      0.040      -0.044      -0.001\n",
            "Outside_Temp               -0.1282      0.033     -3.943      0.000      -0.192      -0.064\n",
            "Outside_Press               0.0140      0.005      2.923      0.003       0.005       0.023\n",
            "Outside_Humidity            0.0634      0.013      4.877      0.000       0.038       0.089\n",
            "Windspeed                   0.0403      0.005      8.104      0.000       0.031       0.050\n",
            "Visibility                  0.0123      0.004      3.018      0.003       0.004       0.020\n",
            "Dewpoint_Temp              -0.0666      0.017     -3.978      0.000      -0.099      -0.034\n",
            "rv1                        -0.0010      0.001     -0.805      0.421      -0.003       0.001\n",
            "rv2                        -0.0010      0.001     -0.805      0.421      -0.003       0.001\n",
            "Weekday                     0.0065      0.002      2.820      0.005       0.002       0.011\n",
            "NSM                         0.0335      0.004      9.440      0.000       0.027       0.040\n",
            "==============================================================================\n",
            "Omnibus:                     9760.186   Durbin-Watson:                   2.021\n",
            "Prob(Omnibus):                  0.000   Jarque-Bera (JB):           151437.148\n",
            "Skew:                           3.298   Prob(JB):                         0.00\n",
            "Kurtosis:                      17.819   Cond. No.                     1.06e+16\n",
            "==============================================================================\n",
            "\n",
            "Warnings:\n",
            "[1] Standard Errors assume that the covariance matrix of the errors is correctly specified.\n",
            "[2] The smallest eigenvalue is 7.91e-28. This might indicate that there are\n",
            "strong multicollinearity problems or that the design matrix is singular.\n"
          ],
          "name": "stdout"
        }
      ]
    },
    {
      "cell_type": "code",
      "metadata": {
        "colab": {
          "base_uri": "https://localhost:8080/"
        },
        "id": "bM7MCo0dtXQO",
        "outputId": "9828b2f1-f5cc-4471-eda6-7577f97f8f07"
      },
      "source": [
        "#from above results the next feature to be eliminated is Bathroom \n",
        "#Temperature\n",
        "\n",
        "X_norm_train_BT = X_norm_train_IT.drop([\"Bathroom_Temp\"],axis=1)\n",
        "OLS(X_norm_train_BT,y_norm_train)"
      ],
      "execution_count": null,
      "outputs": [
        {
          "output_type": "stream",
          "text": [
            "                                    OLS Regression Results                                   \n",
            "=============================================================================================\n",
            "Dep. Variable:     Total_Energy_Consumption   R-squared (uncentered):                   0.530\n",
            "Model:                                  OLS   Adj. R-squared (uncentered):              0.529\n",
            "Method:                       Least Squares   F-statistic:                              622.4\n",
            "Date:                      Sat, 28 Nov 2020   Prob (F-statistic):                        0.00\n",
            "Time:                              12:19:22   Log-Likelihood:                          14373.\n",
            "No. Observations:                     13814   AIC:                                 -2.870e+04\n",
            "Df Residuals:                         13789   BIC:                                 -2.851e+04\n",
            "Df Model:                                25                                                  \n",
            "Covariance Type:                  nonrobust                                                  \n",
            "===========================================================================================\n",
            "                              coef    std err          t      P>|t|      [0.025      0.975]\n",
            "-------------------------------------------------------------------------------------------\n",
            "Kitchen_Temp               -0.0250      0.019     -1.326      0.185      -0.062       0.012\n",
            "Kitchen_Humidity            0.4842      0.026     18.307      0.000       0.432       0.536\n",
            "Living_room_Temp           -0.2347      0.024     -9.701      0.000      -0.282      -0.187\n",
            "Living_room_Humidity       -0.4149      0.028    -14.639      0.000      -0.470      -0.359\n",
            "Laundry_room Temp           0.2925      0.014     21.061      0.000       0.265       0.320\n",
            "Laundry_room_Humidity       0.1143      0.016      7.275      0.000       0.083       0.145\n",
            "Office_Temp                 0.0517      0.012      4.329      0.000       0.028       0.075\n",
            "Office_Humidity             0.0270      0.016      1.706      0.088      -0.004       0.058\n",
            "Bathroom_Humidity           0.0133      0.006      2.132      0.033       0.001       0.025\n",
            "Building_North_Temp         0.2661      0.024     11.263      0.000       0.220       0.312\n",
            "Building_North_Humidity     0.0296      0.007      4.059      0.000       0.015       0.044\n",
            "Ironing _room_Humidity     -0.0337      0.012     -2.810      0.005      -0.057      -0.010\n",
            "Childrens_room_Temp         0.1022      0.011      9.529      0.000       0.081       0.123\n",
            "Childrens_room_Humidity    -0.1592      0.012    -13.633      0.000      -0.182      -0.136\n",
            "Parents_room_Temp          -0.1843      0.014    -12.948      0.000      -0.212      -0.156\n",
            "Parents_room_Humidity      -0.0226      0.011     -2.062      0.039      -0.044      -0.001\n",
            "Outside_Temp               -0.1283      0.032     -3.951      0.000      -0.192      -0.065\n",
            "Outside_Press               0.0140      0.005      2.927      0.003       0.005       0.023\n",
            "Outside_Humidity            0.0635      0.013      4.886      0.000       0.038       0.089\n",
            "Windspeed                   0.0404      0.005      8.129      0.000       0.031       0.050\n",
            "Visibility                  0.0123      0.004      3.017      0.003       0.004       0.020\n",
            "Dewpoint_Temp              -0.0666      0.017     -3.978      0.000      -0.099      -0.034\n",
            "rv1                        -0.0010      0.001     -0.803      0.422      -0.003       0.001\n",
            "rv2                        -0.0010      0.001     -0.803      0.422      -0.003       0.001\n",
            "Weekday                     0.0065      0.002      2.829      0.005       0.002       0.011\n",
            "NSM                         0.0335      0.004      9.440      0.000       0.027       0.040\n",
            "==============================================================================\n",
            "Omnibus:                     9759.850   Durbin-Watson:                   2.021\n",
            "Prob(Omnibus):                  0.000   Jarque-Bera (JB):           151419.356\n",
            "Skew:                           3.298   Prob(JB):                         0.00\n",
            "Kurtosis:                      17.818   Cond. No.                     1.06e+16\n",
            "==============================================================================\n",
            "\n",
            "Warnings:\n",
            "[1] Standard Errors assume that the covariance matrix of the errors is correctly specified.\n",
            "[2] The smallest eigenvalue is 7.65e-28. This might indicate that there are\n",
            "strong multicollinearity problems or that the design matrix is singular.\n"
          ],
          "name": "stdout"
        }
      ]
    },
    {
      "cell_type": "code",
      "metadata": {
        "id": "bT1xcPO_tfgu",
        "colab": {
          "base_uri": "https://localhost:8080/"
        },
        "outputId": "78b4330e-8b9f-4999-8a9c-1a5237512aed"
      },
      "source": [
        "#eliminating Kitchen Temperature\n",
        "X_norm_train_KT = X_norm_train_BT.drop([\"Kitchen_Temp\"],axis=1)\n",
        "OLS(X_norm_train_KT,y_norm_train)"
      ],
      "execution_count": null,
      "outputs": [
        {
          "output_type": "stream",
          "text": [
            "                                    OLS Regression Results                                   \n",
            "=============================================================================================\n",
            "Dep. Variable:     Total_Energy_Consumption   R-squared (uncentered):                   0.530\n",
            "Model:                                  OLS   Adj. R-squared (uncentered):              0.529\n",
            "Method:                       Least Squares   F-statistic:                              648.2\n",
            "Date:                      Sat, 28 Nov 2020   Prob (F-statistic):                        0.00\n",
            "Time:                              12:19:22   Log-Likelihood:                          14372.\n",
            "No. Observations:                     13814   AIC:                                 -2.870e+04\n",
            "Df Residuals:                         13790   BIC:                                 -2.852e+04\n",
            "Df Model:                                24                                                  \n",
            "Covariance Type:                  nonrobust                                                  \n",
            "===========================================================================================\n",
            "                              coef    std err          t      P>|t|      [0.025      0.975]\n",
            "-------------------------------------------------------------------------------------------\n",
            "Kitchen_Humidity            0.5008      0.023     21.469      0.000       0.455       0.546\n",
            "Living_room_Temp           -0.2549      0.019    -13.564      0.000      -0.292      -0.218\n",
            "Living_room_Humidity       -0.4306      0.026    -16.719      0.000      -0.481      -0.380\n",
            "Laundry_room Temp           0.2847      0.013     22.634      0.000       0.260       0.309\n",
            "Laundry_room_Humidity       0.1151      0.016      7.335      0.000       0.084       0.146\n",
            "Office_Temp                 0.0483      0.012      4.141      0.000       0.025       0.071\n",
            "Office_Humidity             0.0260      0.016      1.644      0.100      -0.005       0.057\n",
            "Bathroom_Humidity           0.0136      0.006      2.195      0.028       0.001       0.026\n",
            "Building_North_Temp         0.2752      0.023     12.178      0.000       0.231       0.320\n",
            "Building_North_Humidity     0.0291      0.007      3.988      0.000       0.015       0.043\n",
            "Ironing _room_Humidity     -0.0341      0.012     -2.842      0.004      -0.058      -0.011\n",
            "Childrens_room_Temp         0.0972      0.010      9.682      0.000       0.077       0.117\n",
            "Childrens_room_Humidity    -0.1585      0.012    -13.586      0.000      -0.181      -0.136\n",
            "Parents_room_Temp          -0.1817      0.014    -12.886      0.000      -0.209      -0.154\n",
            "Parents_room_Humidity      -0.0224      0.011     -2.048      0.041      -0.044      -0.001\n",
            "Outside_Temp               -0.1309      0.032     -4.038      0.000      -0.194      -0.067\n",
            "Outside_Press               0.0140      0.005      2.923      0.003       0.005       0.023\n",
            "Outside_Humidity            0.0656      0.013      5.089      0.000       0.040       0.091\n",
            "Windspeed                   0.0400      0.005      8.064      0.000       0.030       0.050\n",
            "Visibility                  0.0123      0.004      3.008      0.003       0.004       0.020\n",
            "Dewpoint_Temp              -0.0692      0.017     -4.167      0.000      -0.102      -0.037\n",
            "rv1                        -0.0010      0.001     -0.802      0.422      -0.003       0.001\n",
            "rv2                        -0.0010      0.001     -0.802      0.422      -0.003       0.001\n",
            "Weekday                     0.0064      0.002      2.783      0.005       0.002       0.011\n",
            "NSM                         0.0330      0.004      9.350      0.000       0.026       0.040\n",
            "==============================================================================\n",
            "Omnibus:                     9761.593   Durbin-Watson:                   2.021\n",
            "Prob(Omnibus):                  0.000   Jarque-Bera (JB):           151612.130\n",
            "Skew:                           3.298   Prob(JB):                         0.00\n",
            "Kurtosis:                      17.829   Cond. No.                     3.02e+16\n",
            "==============================================================================\n",
            "\n",
            "Warnings:\n",
            "[1] Standard Errors assume that the covariance matrix of the errors is correctly specified.\n",
            "[2] The smallest eigenvalue is 9.1e-29. This might indicate that there are\n",
            "strong multicollinearity problems or that the design matrix is singular.\n"
          ],
          "name": "stdout"
        }
      ]
    },
    {
      "cell_type": "code",
      "metadata": {
        "colab": {
          "base_uri": "https://localhost:8080/"
        },
        "id": "qZxNIVqQWGgR",
        "outputId": "b91ef3e0-ec72-437a-b791-23891e0b07e3"
      },
      "source": [
        "#elimnating rv1\n",
        "\n",
        "X_norm_train_rv1 = X_norm_train_KT.drop([\"rv1\"],axis=1)\n",
        "OLS(X_norm_train_rv1,y_norm_train)"
      ],
      "execution_count": null,
      "outputs": [
        {
          "output_type": "stream",
          "text": [
            "                                    OLS Regression Results                                   \n",
            "=============================================================================================\n",
            "Dep. Variable:     Total_Energy_Consumption   R-squared (uncentered):                   0.530\n",
            "Model:                                  OLS   Adj. R-squared (uncentered):              0.529\n",
            "Method:                       Least Squares   F-statistic:                              648.2\n",
            "Date:                      Sat, 28 Nov 2020   Prob (F-statistic):                        0.00\n",
            "Time:                              12:19:22   Log-Likelihood:                          14372.\n",
            "No. Observations:                     13814   AIC:                                 -2.870e+04\n",
            "Df Residuals:                         13790   BIC:                                 -2.852e+04\n",
            "Df Model:                                24                                                  \n",
            "Covariance Type:                  nonrobust                                                  \n",
            "===========================================================================================\n",
            "                              coef    std err          t      P>|t|      [0.025      0.975]\n",
            "-------------------------------------------------------------------------------------------\n",
            "Kitchen_Humidity            0.5008      0.023     21.469      0.000       0.455       0.546\n",
            "Living_room_Temp           -0.2549      0.019    -13.564      0.000      -0.292      -0.218\n",
            "Living_room_Humidity       -0.4306      0.026    -16.719      0.000      -0.481      -0.380\n",
            "Laundry_room Temp           0.2847      0.013     22.634      0.000       0.260       0.309\n",
            "Laundry_room_Humidity       0.1151      0.016      7.335      0.000       0.084       0.146\n",
            "Office_Temp                 0.0483      0.012      4.141      0.000       0.025       0.071\n",
            "Office_Humidity             0.0260      0.016      1.644      0.100      -0.005       0.057\n",
            "Bathroom_Humidity           0.0136      0.006      2.195      0.028       0.001       0.026\n",
            "Building_North_Temp         0.2752      0.023     12.178      0.000       0.231       0.320\n",
            "Building_North_Humidity     0.0291      0.007      3.988      0.000       0.015       0.043\n",
            "Ironing _room_Humidity     -0.0341      0.012     -2.842      0.004      -0.058      -0.011\n",
            "Childrens_room_Temp         0.0972      0.010      9.682      0.000       0.077       0.117\n",
            "Childrens_room_Humidity    -0.1585      0.012    -13.586      0.000      -0.181      -0.136\n",
            "Parents_room_Temp          -0.1817      0.014    -12.886      0.000      -0.209      -0.154\n",
            "Parents_room_Humidity      -0.0224      0.011     -2.048      0.041      -0.044      -0.001\n",
            "Outside_Temp               -0.1309      0.032     -4.038      0.000      -0.194      -0.067\n",
            "Outside_Press               0.0140      0.005      2.923      0.003       0.005       0.023\n",
            "Outside_Humidity            0.0656      0.013      5.089      0.000       0.040       0.091\n",
            "Windspeed                   0.0400      0.005      8.064      0.000       0.030       0.050\n",
            "Visibility                  0.0123      0.004      3.008      0.003       0.004       0.020\n",
            "Dewpoint_Temp              -0.0692      0.017     -4.167      0.000      -0.102      -0.037\n",
            "rv2                        -0.0020      0.003     -0.802      0.422      -0.007       0.003\n",
            "Weekday                     0.0064      0.002      2.783      0.005       0.002       0.011\n",
            "NSM                         0.0330      0.004      9.350      0.000       0.026       0.040\n",
            "==============================================================================\n",
            "Omnibus:                     9761.593   Durbin-Watson:                   2.021\n",
            "Prob(Omnibus):                  0.000   Jarque-Bera (JB):           151612.130\n",
            "Skew:                           3.298   Prob(JB):                         0.00\n",
            "Kurtosis:                      17.829   Cond. No.                         141.\n",
            "==============================================================================\n",
            "\n",
            "Warnings:\n",
            "[1] Standard Errors assume that the covariance matrix of the errors is correctly specified.\n"
          ],
          "name": "stdout"
        }
      ]
    },
    {
      "cell_type": "code",
      "metadata": {
        "colab": {
          "base_uri": "https://localhost:8080/"
        },
        "id": "Meq-gkdIWPkk",
        "outputId": "c79ee10d-c01e-48b2-a5e8-dd638f24d5f8"
      },
      "source": [
        "#eliminating rv2\n",
        "\n",
        "X_norm_train_rv2 = X_norm_train_rv1.drop([\"rv2\"],axis=1)\n",
        "OLS(X_norm_train_rv2,y_norm_train)"
      ],
      "execution_count": null,
      "outputs": [
        {
          "output_type": "stream",
          "text": [
            "                                    OLS Regression Results                                   \n",
            "=============================================================================================\n",
            "Dep. Variable:     Total_Energy_Consumption   R-squared (uncentered):                   0.530\n",
            "Model:                                  OLS   Adj. R-squared (uncentered):              0.529\n",
            "Method:                       Least Squares   F-statistic:                              676.4\n",
            "Date:                      Sat, 28 Nov 2020   Prob (F-statistic):                        0.00\n",
            "Time:                              12:19:22   Log-Likelihood:                          14372.\n",
            "No. Observations:                     13814   AIC:                                 -2.870e+04\n",
            "Df Residuals:                         13791   BIC:                                 -2.853e+04\n",
            "Df Model:                                23                                                  \n",
            "Covariance Type:                  nonrobust                                                  \n",
            "===========================================================================================\n",
            "                              coef    std err          t      P>|t|      [0.025      0.975]\n",
            "-------------------------------------------------------------------------------------------\n",
            "Kitchen_Humidity            0.5006      0.023     21.464      0.000       0.455       0.546\n",
            "Living_room_Temp           -0.2549      0.019    -13.561      0.000      -0.292      -0.218\n",
            "Living_room_Humidity       -0.4307      0.026    -16.722      0.000      -0.481      -0.380\n",
            "Laundry_room Temp           0.2848      0.013     22.646      0.000       0.260       0.309\n",
            "Laundry_room_Humidity       0.1150      0.016      7.325      0.000       0.084       0.146\n",
            "Office_Temp                 0.0482      0.012      4.129      0.000       0.025       0.071\n",
            "Office_Humidity             0.0260      0.016      1.646      0.100      -0.005       0.057\n",
            "Bathroom_Humidity           0.0137      0.006      2.203      0.028       0.002       0.026\n",
            "Building_North_Temp         0.2751      0.023     12.174      0.000       0.231       0.319\n",
            "Building_North_Humidity     0.0291      0.007      3.992      0.000       0.015       0.043\n",
            "Ironing _room_Humidity     -0.0340      0.012     -2.837      0.005      -0.057      -0.011\n",
            "Childrens_room_Temp         0.0972      0.010      9.684      0.000       0.078       0.117\n",
            "Childrens_room_Humidity    -0.1585      0.012    -13.594      0.000      -0.181      -0.136\n",
            "Parents_room_Temp          -0.1818      0.014    -12.895      0.000      -0.209      -0.154\n",
            "Parents_room_Humidity      -0.0223      0.011     -2.036      0.042      -0.044      -0.001\n",
            "Outside_Temp               -0.1326      0.032     -4.099      0.000      -0.196      -0.069\n",
            "Outside_Press               0.0139      0.005      2.909      0.004       0.005       0.023\n",
            "Outside_Humidity            0.0645      0.013      5.033      0.000       0.039       0.090\n",
            "Windspeed                   0.0399      0.005      8.052      0.000       0.030       0.050\n",
            "Visibility                  0.0123      0.004      3.018      0.003       0.004       0.020\n",
            "Dewpoint_Temp              -0.0678      0.017     -4.104      0.000      -0.100      -0.035\n",
            "Weekday                     0.0064      0.002      2.778      0.005       0.002       0.011\n",
            "NSM                         0.0329      0.004      9.344      0.000       0.026       0.040\n",
            "==============================================================================\n",
            "Omnibus:                     9763.308   Durbin-Watson:                   2.021\n",
            "Prob(Omnibus):                  0.000   Jarque-Bera (JB):           151716.275\n",
            "Skew:                           3.299   Prob(JB):                         0.00\n",
            "Kurtosis:                      17.835   Cond. No.                         138.\n",
            "==============================================================================\n",
            "\n",
            "Warnings:\n",
            "[1] Standard Errors assume that the covariance matrix of the errors is correctly specified.\n"
          ],
          "name": "stdout"
        }
      ]
    },
    {
      "cell_type": "code",
      "metadata": {
        "colab": {
          "base_uri": "https://localhost:8080/"
        },
        "id": "oBQ6oS-ZMSTc",
        "outputId": "e2ba0243-364d-4c62-f0a5-fb1d544d5db6"
      },
      "source": [
        "#eliminating outside pressure\n",
        "\n",
        "X_norm_train_Press = X_norm_train_rv2.drop([\"Outside_Press\"],axis=1)\n",
        "OLS(X_norm_train_Press,y_norm_train)"
      ],
      "execution_count": null,
      "outputs": [
        {
          "output_type": "stream",
          "text": [
            "                                    OLS Regression Results                                   \n",
            "=============================================================================================\n",
            "Dep. Variable:     Total_Energy_Consumption   R-squared (uncentered):                   0.530\n",
            "Model:                                  OLS   Adj. R-squared (uncentered):              0.529\n",
            "Method:                       Least Squares   F-statistic:                              706.4\n",
            "Date:                      Sat, 28 Nov 2020   Prob (F-statistic):                        0.00\n",
            "Time:                              12:19:22   Log-Likelihood:                          14368.\n",
            "No. Observations:                     13814   AIC:                                 -2.869e+04\n",
            "Df Residuals:                         13792   BIC:                                 -2.853e+04\n",
            "Df Model:                                22                                                  \n",
            "Covariance Type:                  nonrobust                                                  \n",
            "===========================================================================================\n",
            "                              coef    std err          t      P>|t|      [0.025      0.975]\n",
            "-------------------------------------------------------------------------------------------\n",
            "Kitchen_Humidity            0.4939      0.023     21.275      0.000       0.448       0.539\n",
            "Living_room_Temp           -0.2529      0.019    -13.460      0.000      -0.290      -0.216\n",
            "Living_room_Humidity       -0.4250      0.026    -16.545      0.000      -0.475      -0.375\n",
            "Laundry_room Temp           0.2814      0.013     22.467      0.000       0.257       0.306\n",
            "Laundry_room_Humidity       0.1130      0.016      7.208      0.000       0.082       0.144\n",
            "Office_Temp                 0.0539      0.012      4.679      0.000       0.031       0.076\n",
            "Office_Humidity             0.0291      0.016      1.846      0.065      -0.002       0.060\n",
            "Bathroom_Humidity           0.0134      0.006      2.158      0.031       0.001       0.026\n",
            "Building_North_Temp         0.2685      0.022     11.938      0.000       0.224       0.313\n",
            "Building_North_Humidity     0.0247      0.007      3.464      0.001       0.011       0.039\n",
            "Ironing _room_Humidity     -0.0391      0.012     -3.298      0.001      -0.062      -0.016\n",
            "Childrens_room_Temp         0.0929      0.010      9.355      0.000       0.073       0.112\n",
            "Childrens_room_Humidity    -0.1599      0.012    -13.720      0.000      -0.183      -0.137\n",
            "Parents_room_Temp          -0.1872      0.014    -13.385      0.000      -0.215      -0.160\n",
            "Parents_room_Humidity      -0.0165      0.011     -1.530      0.126      -0.038       0.005\n",
            "Outside_Temp               -0.1004      0.030     -3.303      0.001      -0.160      -0.041\n",
            "Outside_Humidity            0.0802      0.012      6.882      0.000       0.057       0.103\n",
            "Windspeed                   0.0371      0.005      7.628      0.000       0.028       0.047\n",
            "Visibility                  0.0130      0.004      3.180      0.001       0.005       0.021\n",
            "Dewpoint_Temp              -0.0874      0.015     -5.788      0.000      -0.117      -0.058\n",
            "Weekday                     0.0065      0.002      2.835      0.005       0.002       0.011\n",
            "NSM                         0.0332      0.004      9.431      0.000       0.026       0.040\n",
            "==============================================================================\n",
            "Omnibus:                     9770.190   Durbin-Watson:                   2.020\n",
            "Prob(Omnibus):                  0.000   Jarque-Bera (JB):           152068.995\n",
            "Skew:                           3.301   Prob(JB):                         0.00\n",
            "Kurtosis:                      17.853   Cond. No.                         130.\n",
            "==============================================================================\n",
            "\n",
            "Warnings:\n",
            "[1] Standard Errors assume that the covariance matrix of the errors is correctly specified.\n"
          ],
          "name": "stdout"
        }
      ]
    },
    {
      "cell_type": "code",
      "metadata": {
        "colab": {
          "base_uri": "https://localhost:8080/"
        },
        "id": "qh5VAfMUMzR9",
        "outputId": "8989a045-df67-4029-bf11-a7b27378821e"
      },
      "source": [
        "#eliminating outside humidity\n",
        "\n",
        "X_norm_train_OH = X_norm_train_Press.drop([\"Outside_Humidity\"],axis=1)\n",
        "OLS(X_norm_train_OH,y_norm_train)"
      ],
      "execution_count": null,
      "outputs": [
        {
          "output_type": "stream",
          "text": [
            "                                    OLS Regression Results                                   \n",
            "=============================================================================================\n",
            "Dep. Variable:     Total_Energy_Consumption   R-squared (uncentered):                   0.528\n",
            "Model:                                  OLS   Adj. R-squared (uncentered):              0.527\n",
            "Method:                       Least Squares   F-statistic:                              735.3\n",
            "Date:                      Sat, 28 Nov 2020   Prob (F-statistic):                        0.00\n",
            "Time:                              12:19:22   Log-Likelihood:                          14344.\n",
            "No. Observations:                     13814   AIC:                                 -2.865e+04\n",
            "Df Residuals:                         13793   BIC:                                 -2.849e+04\n",
            "Df Model:                                21                                                  \n",
            "Covariance Type:                  nonrobust                                                  \n",
            "===========================================================================================\n",
            "                              coef    std err          t      P>|t|      [0.025      0.975]\n",
            "-------------------------------------------------------------------------------------------\n",
            "Kitchen_Humidity            0.4301      0.021     20.173      0.000       0.388       0.472\n",
            "Living_room_Temp           -0.2199      0.018    -12.085      0.000      -0.256      -0.184\n",
            "Living_room_Humidity       -0.3263      0.021    -15.284      0.000      -0.368      -0.284\n",
            "Laundry_room Temp           0.2765      0.013     22.075      0.000       0.252       0.301\n",
            "Laundry_room_Humidity       0.1152      0.016      7.337      0.000       0.084       0.146\n",
            "Office_Temp                 0.0612      0.011      5.333      0.000       0.039       0.084\n",
            "Office_Humidity             0.0028      0.015      0.182      0.855      -0.027       0.033\n",
            "Bathroom_Humidity           0.0153      0.006      2.455      0.014       0.003       0.027\n",
            "Building_North_Temp         0.3288      0.021     15.848      0.000       0.288       0.369\n",
            "Building_North_Humidity     0.0538      0.006      9.342      0.000       0.042       0.065\n",
            "Ironing _room_Humidity     -0.0470      0.012     -3.973      0.000      -0.070      -0.024\n",
            "Childrens_room_Temp         0.0961      0.010      9.670      0.000       0.077       0.116\n",
            "Childrens_room_Humidity    -0.1468      0.012    -12.745      0.000      -0.169      -0.124\n",
            "Parents_room_Temp          -0.1862      0.014    -13.292      0.000      -0.214      -0.159\n",
            "Parents_room_Humidity      -0.0165      0.011     -1.529      0.126      -0.038       0.005\n",
            "Outside_Temp               -0.2421      0.022    -10.805      0.000      -0.286      -0.198\n",
            "Windspeed                   0.0366      0.005      7.526      0.000       0.027       0.046\n",
            "Visibility                  0.0195      0.004      4.889      0.000       0.012       0.027\n",
            "Dewpoint_Temp              -0.0212      0.012     -1.818      0.069      -0.044       0.002\n",
            "Weekday                     0.0087      0.002      3.820      0.000       0.004       0.013\n",
            "NSM                         0.0359      0.004     10.231      0.000       0.029       0.043\n",
            "==============================================================================\n",
            "Omnibus:                     9745.158   Durbin-Watson:                   2.022\n",
            "Prob(Omnibus):                  0.000   Jarque-Bera (JB):           150835.848\n",
            "Skew:                           3.291   Prob(JB):                         0.00\n",
            "Kurtosis:                      17.789   Cond. No.                         96.2\n",
            "==============================================================================\n",
            "\n",
            "Warnings:\n",
            "[1] Standard Errors assume that the covariance matrix of the errors is correctly specified.\n"
          ],
          "name": "stdout"
        }
      ]
    },
    {
      "cell_type": "code",
      "metadata": {
        "colab": {
          "base_uri": "https://localhost:8080/"
        },
        "id": "z3Vw7NV0O9R9",
        "outputId": "ae0268db-20c6-4a0f-9f85-1e50e9676d1b"
      },
      "source": [
        "#eliminating Bathroom Humidity\n",
        "\n",
        "X_norm_train_BH = X_norm_train_OH.drop([\"Bathroom_Humidity\"],axis=1)\n",
        "OLS(X_norm_train_BH,y_norm_train)"
      ],
      "execution_count": null,
      "outputs": [
        {
          "output_type": "stream",
          "text": [
            "                                    OLS Regression Results                                   \n",
            "=============================================================================================\n",
            "Dep. Variable:     Total_Energy_Consumption   R-squared (uncentered):                   0.528\n",
            "Model:                                  OLS   Adj. R-squared (uncentered):              0.527\n",
            "Method:                       Least Squares   F-statistic:                              771.5\n",
            "Date:                      Sat, 28 Nov 2020   Prob (F-statistic):                        0.00\n",
            "Time:                              12:19:22   Log-Likelihood:                          14341.\n",
            "No. Observations:                     13814   AIC:                                 -2.864e+04\n",
            "Df Residuals:                         13794   BIC:                                 -2.849e+04\n",
            "Df Model:                                20                                                  \n",
            "Covariance Type:                  nonrobust                                                  \n",
            "===========================================================================================\n",
            "                              coef    std err          t      P>|t|      [0.025      0.975]\n",
            "-------------------------------------------------------------------------------------------\n",
            "Kitchen_Humidity            0.4276      0.021     20.074      0.000       0.386       0.469\n",
            "Living_room_Temp           -0.2165      0.018    -11.931      0.000      -0.252      -0.181\n",
            "Living_room_Humidity       -0.3215      0.021    -15.120      0.000      -0.363      -0.280\n",
            "Laundry_room Temp           0.2741      0.012     21.947      0.000       0.250       0.299\n",
            "Laundry_room_Humidity       0.1164      0.016      7.410      0.000       0.086       0.147\n",
            "Office_Temp                 0.0625      0.011      5.453      0.000       0.040       0.085\n",
            "Office_Humidity             0.0040      0.015      0.261      0.794      -0.026       0.034\n",
            "Building_North_Temp         0.3286      0.021     15.839      0.000       0.288       0.369\n",
            "Building_North_Humidity     0.0539      0.006      9.356      0.000       0.043       0.065\n",
            "Ironing _room_Humidity     -0.0462      0.012     -3.907      0.000      -0.069      -0.023\n",
            "Childrens_room_Temp         0.0982      0.010      9.914      0.000       0.079       0.118\n",
            "Childrens_room_Humidity    -0.1422      0.011    -12.510      0.000      -0.164      -0.120\n",
            "Parents_room_Temp          -0.1872      0.014    -13.367      0.000      -0.215      -0.160\n",
            "Parents_room_Humidity      -0.0181      0.011     -1.683      0.092      -0.039       0.003\n",
            "Outside_Temp               -0.2429      0.022    -10.837      0.000      -0.287      -0.199\n",
            "Windspeed                   0.0369      0.005      7.576      0.000       0.027       0.046\n",
            "Visibility                  0.0193      0.004      4.837      0.000       0.011       0.027\n",
            "Dewpoint_Temp              -0.0243      0.012     -2.093      0.036      -0.047      -0.002\n",
            "Weekday                     0.0089      0.002      3.910      0.000       0.004       0.013\n",
            "NSM                         0.0372      0.003     10.730      0.000       0.030       0.044\n",
            "==============================================================================\n",
            "Omnibus:                     9732.250   Durbin-Watson:                   2.022\n",
            "Prob(Omnibus):                  0.000   Jarque-Bera (JB):           150078.820\n",
            "Skew:                           3.287   Prob(JB):                         0.00\n",
            "Kurtosis:                      17.749   Cond. No.                         94.9\n",
            "==============================================================================\n",
            "\n",
            "Warnings:\n",
            "[1] Standard Errors assume that the covariance matrix of the errors is correctly specified.\n"
          ],
          "name": "stdout"
        }
      ]
    },
    {
      "cell_type": "code",
      "metadata": {
        "colab": {
          "base_uri": "https://localhost:8080/"
        },
        "id": "qWa7HQslPTlb",
        "outputId": "2a7f7fd7-02b0-4ec5-acae-95143a03f00d"
      },
      "source": [
        "#eliminating Parent's room humidity\n",
        "\n",
        "X_norm_train_PH = X_norm_train_BH.drop([\"Parents_room_Humidity\"],axis=1)\n",
        "OLS(X_norm_train_PH,y_norm_train)"
      ],
      "execution_count": null,
      "outputs": [
        {
          "output_type": "stream",
          "text": [
            "                                    OLS Regression Results                                   \n",
            "=============================================================================================\n",
            "Dep. Variable:     Total_Energy_Consumption   R-squared (uncentered):                   0.528\n",
            "Model:                                  OLS   Adj. R-squared (uncentered):              0.527\n",
            "Method:                       Least Squares   F-statistic:                              811.8\n",
            "Date:                      Sat, 28 Nov 2020   Prob (F-statistic):                        0.00\n",
            "Time:                              12:19:22   Log-Likelihood:                          14340.\n",
            "No. Observations:                     13814   AIC:                                 -2.864e+04\n",
            "Df Residuals:                         13795   BIC:                                 -2.850e+04\n",
            "Df Model:                                19                                                  \n",
            "Covariance Type:                  nonrobust                                                  \n",
            "===========================================================================================\n",
            "                              coef    std err          t      P>|t|      [0.025      0.975]\n",
            "-------------------------------------------------------------------------------------------\n",
            "Kitchen_Humidity            0.4305      0.021     20.272      0.000       0.389       0.472\n",
            "Living_room_Temp           -0.2167      0.018    -11.938      0.000      -0.252      -0.181\n",
            "Living_room_Humidity       -0.3238      0.021    -15.259      0.000      -0.365      -0.282\n",
            "Laundry_room Temp           0.2728      0.012     21.884      0.000       0.248       0.297\n",
            "Laundry_room_Humidity       0.1106      0.015      7.217      0.000       0.081       0.141\n",
            "Office_Temp                 0.0638      0.011      5.573      0.000       0.041       0.086\n",
            "Office_Humidity            -0.0007      0.015     -0.047      0.962      -0.030       0.029\n",
            "Building_North_Temp         0.3286      0.021     15.836      0.000       0.288       0.369\n",
            "Building_North_Humidity     0.0525      0.006      9.212      0.000       0.041       0.064\n",
            "Ironing _room_Humidity     -0.0488      0.012     -4.163      0.000      -0.072      -0.026\n",
            "Childrens_room_Temp         0.0997      0.010     10.111      0.000       0.080       0.119\n",
            "Childrens_room_Humidity    -0.1457      0.011    -13.044      0.000      -0.168      -0.124\n",
            "Parents_room_Temp          -0.1905      0.014    -13.740      0.000      -0.218      -0.163\n",
            "Outside_Temp               -0.2465      0.022    -11.047      0.000      -0.290      -0.203\n",
            "Windspeed                   0.0365      0.005      7.514      0.000       0.027       0.046\n",
            "Visibility                  0.0192      0.004      4.811      0.000       0.011       0.027\n",
            "Dewpoint_Temp              -0.0218      0.011     -1.897      0.058      -0.044       0.001\n",
            "Weekday                     0.0088      0.002      3.841      0.000       0.004       0.013\n",
            "NSM                         0.0388      0.003     11.632      0.000       0.032       0.045\n",
            "==============================================================================\n",
            "Omnibus:                     9723.058   Durbin-Watson:                   2.021\n",
            "Prob(Omnibus):                  0.000   Jarque-Bera (JB):           149729.152\n",
            "Skew:                           3.283   Prob(JB):                         0.00\n",
            "Kurtosis:                      17.732   Cond. No.                         91.9\n",
            "==============================================================================\n",
            "\n",
            "Warnings:\n",
            "[1] Standard Errors assume that the covariance matrix of the errors is correctly specified.\n"
          ],
          "name": "stdout"
        }
      ]
    },
    {
      "cell_type": "code",
      "metadata": {
        "id": "kLdGTh42VfUX"
      },
      "source": [
        ""
      ],
      "execution_count": null,
      "outputs": []
    },
    {
      "cell_type": "code",
      "metadata": {
        "id": "YwFa3PvUVfqT"
      },
      "source": [
        ""
      ],
      "execution_count": null,
      "outputs": []
    },
    {
      "cell_type": "code",
      "metadata": {
        "id": "rGBUBBfeVgCQ"
      },
      "source": [
        ""
      ],
      "execution_count": null,
      "outputs": []
    },
    {
      "cell_type": "markdown",
      "metadata": {
        "id": "7o2moHUJVhmx"
      },
      "source": [
        "###**TEST 2**\n",
        "Applying OLS to ***Standardized*** data"
      ]
    },
    {
      "cell_type": "code",
      "metadata": {
        "colab": {
          "base_uri": "https://localhost:8080/"
        },
        "id": "1FDqCcOEWPTb",
        "outputId": "73adc244-5e42-4542-8040-f27d924af7b4"
      },
      "source": [
        "#splitting standardized data\n",
        "\n",
        "X_standard_train, X_standard_test, y_standard_train, y_standard_test = train_test_split(df_standardized_X,df_standardized_y, \n",
        "                                                    test_size=0.30, \n",
        "                                                    random_state=0)\n",
        "X_standard_train,y_standard_train.shape,X_standard_test.shape,y_standard_test.shape"
      ],
      "execution_count": null,
      "outputs": [
        {
          "output_type": "execute_result",
          "data": {
            "text/plain": [
              "(       Kitchen_Temp  Kitchen_Humidity  ...   Weekday       NSM\n",
              " 3766       0.772152          1.080685  ...  1.018727  1.262776\n",
              " 9503       0.687056         -2.151122  ...  0.011458  0.709435\n",
              " 10946      0.707811         -1.012701  ...  1.522362  0.781610\n",
              " 10393      0.568751         -0.275534  ... -0.492176  1.334951\n",
              " 15274     -0.139000          0.276503  ... -0.995810  0.974076\n",
              " ...             ...               ...  ...       ...       ...\n",
              " 13123      0.687056          1.115868  ... -1.499445  1.190601\n",
              " 19648      1.461224          1.156077  ...  0.515093 -1.191173\n",
              " 9845      -0.012394         -1.047884  ...  1.522362 -1.455815\n",
              " 10799      0.126666          0.412209  ...  1.018727  0.709435\n",
              " 2732      -0.495989          0.879640  ...  1.018727  0.637260\n",
              " \n",
              " [13814 rows x 28 columns], (13814, 1), (5921, 28), (5921, 1))"
            ]
          },
          "metadata": {
            "tags": []
          },
          "execution_count": 80
        }
      ]
    },
    {
      "cell_type": "code",
      "metadata": {
        "colab": {
          "base_uri": "https://localhost:8080/"
        },
        "id": "DhWDSfnlW4Dy",
        "outputId": "c0b68199-99ac-42e0-a108-904efdd29aae"
      },
      "source": [
        "#modelling on standardized data\n",
        "OLS(X_standard_train, y_standard_train)"
      ],
      "execution_count": null,
      "outputs": [
        {
          "output_type": "stream",
          "text": [
            "                                    OLS Regression Results                                   \n",
            "=============================================================================================\n",
            "Dep. Variable:     Total_Energy_Consumption   R-squared (uncentered):                   0.166\n",
            "Model:                                  OLS   Adj. R-squared (uncentered):              0.164\n",
            "Method:                       Least Squares   F-statistic:                              101.6\n",
            "Date:                      Sat, 28 Nov 2020   Prob (F-statistic):                        0.00\n",
            "Time:                              12:19:22   Log-Likelihood:                         -18148.\n",
            "No. Observations:                     13814   AIC:                                  3.635e+04\n",
            "Df Residuals:                         13787   BIC:                                  3.655e+04\n",
            "Df Model:                                27                                                  \n",
            "Covariance Type:                  nonrobust                                                  \n",
            "===========================================================================================\n",
            "                              coef    std err          t      P>|t|      [0.025      0.975]\n",
            "-------------------------------------------------------------------------------------------\n",
            "Kitchen_Temp               -0.0283      0.034     -0.820      0.412      -0.096       0.039\n",
            "Kitchen_Humidity            0.5720      0.031     18.640      0.000       0.512       0.632\n",
            "Living_room_Temp           -0.4259      0.041    -10.295      0.000      -0.507      -0.345\n",
            "Living_room_Humidity       -0.5495      0.036    -15.336      0.000      -0.620      -0.479\n",
            "Laundry_room Temp           0.5149      0.025     20.985      0.000       0.467       0.563\n",
            "Laundry_room_Humidity       0.1790      0.025      7.104      0.000       0.130       0.228\n",
            "Office_Temp                 0.0918      0.023      3.916      0.000       0.046       0.138\n",
            "Office_Humidity             0.0694      0.032      2.201      0.028       0.008       0.131\n",
            "Bathroom_Temp               0.0175      0.025      0.698      0.485      -0.032       0.067\n",
            "Bathroom_Humidity           0.0152      0.009      1.660      0.097      -0.003       0.033\n",
            "Building_North_Temp         0.4904      0.045     10.996      0.000       0.403       0.578\n",
            "Building_North_Humidity     0.1066      0.024      4.383      0.000       0.059       0.154\n",
            "Ironing_room_Temp           0.0189      0.032      0.588      0.556      -0.044       0.082\n",
            "Ironing _room_Humidity     -0.0700      0.025     -2.785      0.005      -0.119      -0.021\n",
            "Childrens_room_Temp         0.1778      0.022      8.162      0.000       0.135       0.220\n",
            "Childrens_room_Humidity    -0.2938      0.023    -12.623      0.000      -0.339      -0.248\n",
            "Parents_room_Temp          -0.4245      0.041    -10.348      0.000      -0.505      -0.344\n",
            "Parents_room_Humidity      -0.0401      0.020     -1.984      0.047      -0.080      -0.000\n",
            "Outside_Temp               -0.5828      0.094     -6.232      0.000      -0.766      -0.399\n",
            "Outside_Press               0.0130      0.009      1.430      0.153      -0.005       0.031\n",
            "Outside_Humidity           -0.0929      0.054     -1.718      0.086      -0.199       0.013\n",
            "Windspeed                   0.0585      0.010      5.999      0.000       0.039       0.078\n",
            "Visibility                  0.0220      0.008      2.812      0.005       0.007       0.037\n",
            "Dewpoint_Temp               0.1738      0.072      2.417      0.016       0.033       0.315\n",
            "rv1                        -0.0040      0.004     -1.048      0.295      -0.012       0.003\n",
            "rv2                        -0.0040      0.004     -1.048      0.295      -0.012       0.003\n",
            "Weekday                     0.0215      0.008      2.665      0.008       0.006       0.037\n",
            "NSM                         0.0946      0.011      8.607      0.000       0.073       0.116\n",
            "==============================================================================\n",
            "Omnibus:                     9748.962   Durbin-Watson:                   2.021\n",
            "Prob(Omnibus):                  0.000   Jarque-Bera (JB):           150484.820\n",
            "Skew:                           3.294   Prob(JB):                         0.00\n",
            "Kurtosis:                      17.766   Cond. No.                     1.16e+16\n",
            "==============================================================================\n",
            "\n",
            "Warnings:\n",
            "[1] Standard Errors assume that the covariance matrix of the errors is correctly specified.\n",
            "[2] The smallest eigenvalue is 9.58e-28. This might indicate that there are\n",
            "strong multicollinearity problems or that the design matrix is singular.\n"
          ],
          "name": "stdout"
        }
      ]
    },
    {
      "cell_type": "code",
      "metadata": {
        "colab": {
          "base_uri": "https://localhost:8080/"
        },
        "id": "DmK83VEKaj69",
        "outputId": "8b3f821d-183b-4dd0-df36-5ab17d14938f"
      },
      "source": [
        "X_standard_train_IT = X_standard_train.drop([\"Ironing_room_Temp\"],axis=1)\n",
        "OLS(X_standard_train_IT,y_standard_train)"
      ],
      "execution_count": null,
      "outputs": [
        {
          "output_type": "stream",
          "text": [
            "                                    OLS Regression Results                                   \n",
            "=============================================================================================\n",
            "Dep. Variable:     Total_Energy_Consumption   R-squared (uncentered):                   0.166\n",
            "Model:                                  OLS   Adj. R-squared (uncentered):              0.164\n",
            "Method:                       Least Squares   F-statistic:                              105.5\n",
            "Date:                      Sat, 28 Nov 2020   Prob (F-statistic):                        0.00\n",
            "Time:                              12:19:22   Log-Likelihood:                         -18148.\n",
            "No. Observations:                     13814   AIC:                                  3.635e+04\n",
            "Df Residuals:                         13788   BIC:                                  3.654e+04\n",
            "Df Model:                                26                                                  \n",
            "Covariance Type:                  nonrobust                                                  \n",
            "===========================================================================================\n",
            "                              coef    std err          t      P>|t|      [0.025      0.975]\n",
            "-------------------------------------------------------------------------------------------\n",
            "Kitchen_Temp               -0.0267      0.034     -0.777      0.437      -0.094       0.041\n",
            "Kitchen_Humidity            0.5728      0.031     18.683      0.000       0.513       0.633\n",
            "Living_room_Temp           -0.4280      0.041    -10.383      0.000      -0.509      -0.347\n",
            "Living_room_Humidity       -0.5509      0.036    -15.410      0.000      -0.621      -0.481\n",
            "Laundry_room Temp           0.5140      0.024     20.988      0.000       0.466       0.562\n",
            "Laundry_room_Humidity       0.1795      0.025      7.124      0.000       0.130       0.229\n",
            "Office_Temp                 0.0931      0.023      3.993      0.000       0.047       0.139\n",
            "Office_Humidity             0.0673      0.031      2.150      0.032       0.006       0.129\n",
            "Bathroom_Temp               0.0176      0.025      0.704      0.481      -0.031       0.067\n",
            "Bathroom_Humidity           0.0152      0.009      1.660      0.097      -0.003       0.033\n",
            "Building_North_Temp         0.4887      0.045     10.981      0.000       0.402       0.576\n",
            "Building_North_Humidity     0.1063      0.024      4.373      0.000       0.059       0.154\n",
            "Ironing _room_Humidity     -0.0640      0.023     -2.789      0.005      -0.109      -0.019\n",
            "Childrens_room_Temp         0.1824      0.020      8.969      0.000       0.143       0.222\n",
            "Childrens_room_Humidity    -0.2982      0.022    -13.502      0.000      -0.341      -0.255\n",
            "Parents_room_Temp          -0.4116      0.035    -11.878      0.000      -0.479      -0.344\n",
            "Parents_room_Humidity      -0.0384      0.020     -1.920      0.055      -0.078       0.001\n",
            "Outside_Temp               -0.5800      0.093     -6.210      0.000      -0.763      -0.397\n",
            "Outside_Press               0.0136      0.009      1.512      0.131      -0.004       0.031\n",
            "Outside_Humidity           -0.0940      0.054     -1.739      0.082      -0.200       0.012\n",
            "Windspeed                   0.0585      0.010      5.992      0.000       0.039       0.078\n",
            "Visibility                  0.0219      0.008      2.794      0.005       0.007       0.037\n",
            "Dewpoint_Temp               0.1713      0.072      2.386      0.017       0.031       0.312\n",
            "rv1                        -0.0040      0.004     -1.048      0.295      -0.012       0.003\n",
            "rv2                        -0.0040      0.004     -1.048      0.295      -0.012       0.003\n",
            "Weekday                     0.0214      0.008      2.650      0.008       0.006       0.037\n",
            "NSM                         0.0946      0.011      8.609      0.000       0.073       0.116\n",
            "==============================================================================\n",
            "Omnibus:                     9751.847   Durbin-Watson:                   2.021\n",
            "Prob(Omnibus):                  0.000   Jarque-Bera (JB):           150652.247\n",
            "Skew:                           3.296   Prob(JB):                         0.00\n",
            "Kurtosis:                      17.775   Cond. No.                     1.04e+16\n",
            "==============================================================================\n",
            "\n",
            "Warnings:\n",
            "[1] Standard Errors assume that the covariance matrix of the errors is correctly specified.\n",
            "[2] The smallest eigenvalue is 1.08e-27. This might indicate that there are\n",
            "strong multicollinearity problems or that the design matrix is singular.\n"
          ],
          "name": "stdout"
        }
      ]
    },
    {
      "cell_type": "code",
      "metadata": {
        "colab": {
          "base_uri": "https://localhost:8080/"
        },
        "id": "Qozubi-yaknw",
        "outputId": "eb0df4c5-e1e5-4445-9338-a9577dbc9b68"
      },
      "source": [
        "X_standard_train_BT = X_standard_train_IT.drop([\"Bathroom_Temp\"],axis=1)\n",
        "OLS(X_standard_train_BT,y_standard_train)"
      ],
      "execution_count": null,
      "outputs": [
        {
          "output_type": "stream",
          "text": [
            "                                    OLS Regression Results                                   \n",
            "=============================================================================================\n",
            "Dep. Variable:     Total_Energy_Consumption   R-squared (uncentered):                   0.166\n",
            "Model:                                  OLS   Adj. R-squared (uncentered):              0.164\n",
            "Method:                       Least Squares   F-statistic:                              109.7\n",
            "Date:                      Sat, 28 Nov 2020   Prob (F-statistic):                        0.00\n",
            "Time:                              12:19:23   Log-Likelihood:                         -18148.\n",
            "No. Observations:                     13814   AIC:                                  3.635e+04\n",
            "Df Residuals:                         13789   BIC:                                  3.653e+04\n",
            "Df Model:                                25                                                  \n",
            "Covariance Type:                  nonrobust                                                  \n",
            "===========================================================================================\n",
            "                              coef    std err          t      P>|t|      [0.025      0.975]\n",
            "-------------------------------------------------------------------------------------------\n",
            "Kitchen_Temp               -0.0233      0.034     -0.685      0.493      -0.090       0.043\n",
            "Kitchen_Humidity            0.5717      0.031     18.671      0.000       0.512       0.632\n",
            "Living_room_Temp           -0.4268      0.041    -10.362      0.000      -0.508      -0.346\n",
            "Living_room_Humidity       -0.5493      0.036    -15.398      0.000      -0.619      -0.479\n",
            "Laundry_room Temp           0.5157      0.024     21.157      0.000       0.468       0.563\n",
            "Laundry_room_Humidity       0.1788      0.025      7.102      0.000       0.129       0.228\n",
            "Office_Temp                 0.0949      0.023      4.091      0.000       0.049       0.140\n",
            "Office_Humidity             0.0702      0.031      2.259      0.024       0.009       0.131\n",
            "Bathroom_Humidity           0.0168      0.009      1.887      0.059      -0.001       0.034\n",
            "Building_North_Temp         0.4849      0.044     10.977      0.000       0.398       0.572\n",
            "Building_North_Humidity     0.1051      0.024      4.333      0.000       0.058       0.153\n",
            "Ironing _room_Humidity     -0.0629      0.023     -2.749      0.006      -0.108      -0.018\n",
            "Childrens_room_Temp         0.1825      0.020      8.976      0.000       0.143       0.222\n",
            "Childrens_room_Humidity    -0.2970      0.022    -13.487      0.000      -0.340      -0.254\n",
            "Parents_room_Temp          -0.4013      0.031    -12.764      0.000      -0.463      -0.340\n",
            "Parents_room_Humidity      -0.0406      0.020     -2.048      0.041      -0.079      -0.002\n",
            "Outside_Temp               -0.5698      0.092     -6.176      0.000      -0.751      -0.389\n",
            "Outside_Press               0.0137      0.009      1.522      0.128      -0.004       0.031\n",
            "Outside_Humidity           -0.0894      0.054     -1.666      0.096      -0.195       0.016\n",
            "Windspeed                   0.0584      0.010      5.986      0.000       0.039       0.078\n",
            "Visibility                  0.0220      0.008      2.814      0.005       0.007       0.037\n",
            "Dewpoint_Temp               0.1636      0.071      2.306      0.021       0.025       0.303\n",
            "rv1                        -0.0041      0.004     -1.059      0.289      -0.012       0.003\n",
            "rv2                        -0.0041      0.004     -1.059      0.289      -0.012       0.003\n",
            "Weekday                     0.0211      0.008      2.619      0.009       0.005       0.037\n",
            "NSM                         0.0949      0.011      8.645      0.000       0.073       0.116\n",
            "==============================================================================\n",
            "Omnibus:                     9754.602   Durbin-Watson:                   2.021\n",
            "Prob(Omnibus):                  0.000   Jarque-Bera (JB):           150811.966\n",
            "Skew:                           3.297   Prob(JB):                         0.00\n",
            "Kurtosis:                      17.783   Cond. No.                     8.90e+15\n",
            "==============================================================================\n",
            "\n",
            "Warnings:\n",
            "[1] Standard Errors assume that the covariance matrix of the errors is correctly specified.\n",
            "[2] The smallest eigenvalue is 1.34e-27. This might indicate that there are\n",
            "strong multicollinearity problems or that the design matrix is singular.\n"
          ],
          "name": "stdout"
        }
      ]
    },
    {
      "cell_type": "code",
      "metadata": {
        "colab": {
          "base_uri": "https://localhost:8080/"
        },
        "id": "qbBjT2hL6AWj",
        "outputId": "b2f8281f-1148-40b6-fd3a-a6eb18955a93"
      },
      "source": [
        "X_standard_train_KT = X_standard_train_BT.drop([\"Kitchen_Temp\"],axis=1)\n",
        "OLS(X_standard_train_KT,y_standard_train)"
      ],
      "execution_count": null,
      "outputs": [
        {
          "output_type": "stream",
          "text": [
            "                                    OLS Regression Results                                   \n",
            "=============================================================================================\n",
            "Dep. Variable:     Total_Energy_Consumption   R-squared (uncentered):                   0.166\n",
            "Model:                                  OLS   Adj. R-squared (uncentered):              0.164\n",
            "Method:                       Least Squares   F-statistic:                              114.3\n",
            "Date:                      Sat, 28 Nov 2020   Prob (F-statistic):                        0.00\n",
            "Time:                              12:19:23   Log-Likelihood:                         -18148.\n",
            "No. Observations:                     13814   AIC:                                  3.634e+04\n",
            "Df Residuals:                         13790   BIC:                                  3.653e+04\n",
            "Df Model:                                24                                                  \n",
            "Covariance Type:                  nonrobust                                                  \n",
            "===========================================================================================\n",
            "                              coef    std err          t      P>|t|      [0.025      0.975]\n",
            "-------------------------------------------------------------------------------------------\n",
            "Kitchen_Humidity            0.5818      0.027     21.621      0.000       0.529       0.634\n",
            "Living_room_Temp           -0.4448      0.032    -14.019      0.000      -0.507      -0.383\n",
            "Living_room_Humidity       -0.5599      0.032    -17.428      0.000      -0.623      -0.497\n",
            "Laundry_room Temp           0.5087      0.022     22.975      0.000       0.465       0.552\n",
            "Laundry_room_Humidity       0.1794      0.025      7.131      0.000       0.130       0.229\n",
            "Office_Temp                 0.0914      0.023      4.039      0.000       0.047       0.136\n",
            "Office_Humidity             0.0695      0.031      2.238      0.025       0.009       0.130\n",
            "Bathroom_Humidity           0.0170      0.009      1.915      0.056      -0.000       0.034\n",
            "Building_North_Temp         0.4934      0.042     11.637      0.000       0.410       0.577\n",
            "Building_North_Humidity     0.1043      0.024      4.304      0.000       0.057       0.152\n",
            "Ironing _room_Humidity     -0.0633      0.023     -2.765      0.006      -0.108      -0.018\n",
            "Childrens_room_Temp         0.1775      0.019      9.360      0.000       0.140       0.215\n",
            "Childrens_room_Humidity    -0.2963      0.022    -13.469      0.000      -0.339      -0.253\n",
            "Parents_room_Temp          -0.3983      0.031    -12.792      0.000      -0.459      -0.337\n",
            "Parents_room_Humidity      -0.0404      0.020     -2.040      0.041      -0.079      -0.002\n",
            "Outside_Temp               -0.5787      0.091     -6.336      0.000      -0.758      -0.400\n",
            "Outside_Press               0.0135      0.009      1.496      0.135      -0.004       0.031\n",
            "Outside_Humidity           -0.0914      0.054     -1.706      0.088      -0.196       0.014\n",
            "Windspeed                   0.0577      0.010      5.947      0.000       0.039       0.077\n",
            "Visibility                  0.0219      0.008      2.806      0.005       0.007       0.037\n",
            "Dewpoint_Temp               0.1666      0.071      2.352      0.019       0.028       0.305\n",
            "rv1                        -0.0041      0.004     -1.064      0.287      -0.012       0.003\n",
            "rv2                        -0.0041      0.004     -1.064      0.287      -0.012       0.003\n",
            "Weekday                     0.0209      0.008      2.593      0.010       0.005       0.037\n",
            "NSM                         0.0940      0.011      8.629      0.000       0.073       0.115\n",
            "==============================================================================\n",
            "Omnibus:                     9755.469   Durbin-Watson:                   2.021\n",
            "Prob(Omnibus):                  0.000   Jarque-Bera (JB):           150903.267\n",
            "Skew:                           3.297   Prob(JB):                         0.00\n",
            "Kurtosis:                      17.789   Cond. No.                     5.76e+15\n",
            "==============================================================================\n",
            "\n",
            "Warnings:\n",
            "[1] Standard Errors assume that the covariance matrix of the errors is correctly specified.\n",
            "[2] The smallest eigenvalue is 2.97e-27. This might indicate that there are\n",
            "strong multicollinearity problems or that the design matrix is singular.\n"
          ],
          "name": "stdout"
        }
      ]
    },
    {
      "cell_type": "code",
      "metadata": {
        "colab": {
          "base_uri": "https://localhost:8080/"
        },
        "id": "gv3r8HoZ7Nen",
        "outputId": "76c7c960-4d26-412b-b9d2-8b96589c1167"
      },
      "source": [
        "X_standard_train_rv1 = X_standard_train_KT.drop([\"rv1\"],axis=1)\n",
        "OLS(X_standard_train_rv1,y_standard_train)"
      ],
      "execution_count": null,
      "outputs": [
        {
          "output_type": "stream",
          "text": [
            "                                    OLS Regression Results                                   \n",
            "=============================================================================================\n",
            "Dep. Variable:     Total_Energy_Consumption   R-squared (uncentered):                   0.166\n",
            "Model:                                  OLS   Adj. R-squared (uncentered):              0.164\n",
            "Method:                       Least Squares   F-statistic:                              114.3\n",
            "Date:                      Sat, 28 Nov 2020   Prob (F-statistic):                        0.00\n",
            "Time:                              12:19:23   Log-Likelihood:                         -18148.\n",
            "No. Observations:                     13814   AIC:                                  3.634e+04\n",
            "Df Residuals:                         13790   BIC:                                  3.653e+04\n",
            "Df Model:                                24                                                  \n",
            "Covariance Type:                  nonrobust                                                  \n",
            "===========================================================================================\n",
            "                              coef    std err          t      P>|t|      [0.025      0.975]\n",
            "-------------------------------------------------------------------------------------------\n",
            "Kitchen_Humidity            0.5818      0.027     21.621      0.000       0.529       0.634\n",
            "Living_room_Temp           -0.4448      0.032    -14.019      0.000      -0.507      -0.383\n",
            "Living_room_Humidity       -0.5599      0.032    -17.428      0.000      -0.623      -0.497\n",
            "Laundry_room Temp           0.5087      0.022     22.975      0.000       0.465       0.552\n",
            "Laundry_room_Humidity       0.1794      0.025      7.131      0.000       0.130       0.229\n",
            "Office_Temp                 0.0914      0.023      4.039      0.000       0.047       0.136\n",
            "Office_Humidity             0.0695      0.031      2.238      0.025       0.009       0.130\n",
            "Bathroom_Humidity           0.0170      0.009      1.915      0.056      -0.000       0.034\n",
            "Building_North_Temp         0.4934      0.042     11.637      0.000       0.410       0.577\n",
            "Building_North_Humidity     0.1043      0.024      4.304      0.000       0.057       0.152\n",
            "Ironing _room_Humidity     -0.0633      0.023     -2.765      0.006      -0.108      -0.018\n",
            "Childrens_room_Temp         0.1775      0.019      9.360      0.000       0.140       0.215\n",
            "Childrens_room_Humidity    -0.2963      0.022    -13.469      0.000      -0.339      -0.253\n",
            "Parents_room_Temp          -0.3983      0.031    -12.792      0.000      -0.459      -0.337\n",
            "Parents_room_Humidity      -0.0404      0.020     -2.040      0.041      -0.079      -0.002\n",
            "Outside_Temp               -0.5787      0.091     -6.336      0.000      -0.758      -0.400\n",
            "Outside_Press               0.0135      0.009      1.496      0.135      -0.004       0.031\n",
            "Outside_Humidity           -0.0914      0.054     -1.706      0.088      -0.196       0.014\n",
            "Windspeed                   0.0577      0.010      5.947      0.000       0.039       0.077\n",
            "Visibility                  0.0219      0.008      2.806      0.005       0.007       0.037\n",
            "Dewpoint_Temp               0.1666      0.071      2.352      0.019       0.028       0.305\n",
            "rv2                        -0.0081      0.008     -1.064      0.287      -0.023       0.007\n",
            "Weekday                     0.0209      0.008      2.593      0.010       0.005       0.037\n",
            "NSM                         0.0940      0.011      8.629      0.000       0.073       0.115\n",
            "==============================================================================\n",
            "Omnibus:                     9755.469   Durbin-Watson:                   2.021\n",
            "Prob(Omnibus):                  0.000   Jarque-Bera (JB):           150903.267\n",
            "Skew:                           3.297   Prob(JB):                         0.00\n",
            "Kurtosis:                      17.789   Cond. No.                         43.2\n",
            "==============================================================================\n",
            "\n",
            "Warnings:\n",
            "[1] Standard Errors assume that the covariance matrix of the errors is correctly specified.\n"
          ],
          "name": "stdout"
        }
      ]
    },
    {
      "cell_type": "code",
      "metadata": {
        "colab": {
          "base_uri": "https://localhost:8080/"
        },
        "id": "rwN0xrXA8b6D",
        "outputId": "45d62442-b0d0-433f-df58-48518806a8b4"
      },
      "source": [
        "X_standard_train_rv2 = X_standard_train_rv1.drop([\"rv2\"],axis=1)\n",
        "OLS(X_standard_train_rv2,y_standard_train)"
      ],
      "execution_count": null,
      "outputs": [
        {
          "output_type": "stream",
          "text": [
            "                                    OLS Regression Results                                   \n",
            "=============================================================================================\n",
            "Dep. Variable:     Total_Energy_Consumption   R-squared (uncentered):                   0.166\n",
            "Model:                                  OLS   Adj. R-squared (uncentered):              0.164\n",
            "Method:                       Least Squares   F-statistic:                              119.2\n",
            "Date:                      Sat, 28 Nov 2020   Prob (F-statistic):                        0.00\n",
            "Time:                              12:19:23   Log-Likelihood:                         -18149.\n",
            "No. Observations:                     13814   AIC:                                  3.634e+04\n",
            "Df Residuals:                         13791   BIC:                                  3.652e+04\n",
            "Df Model:                                23                                                  \n",
            "Covariance Type:                  nonrobust                                                  \n",
            "===========================================================================================\n",
            "                              coef    std err          t      P>|t|      [0.025      0.975]\n",
            "-------------------------------------------------------------------------------------------\n",
            "Kitchen_Humidity            0.5815      0.027     21.613      0.000       0.529       0.634\n",
            "Living_room_Temp           -0.4444      0.032    -14.009      0.000      -0.507      -0.382\n",
            "Living_room_Humidity       -0.5596      0.032    -17.418      0.000      -0.623      -0.497\n",
            "Laundry_room Temp           0.5089      0.022     22.984      0.000       0.466       0.552\n",
            "Laundry_room_Humidity       0.1791      0.025      7.120      0.000       0.130       0.228\n",
            "Office_Temp                 0.0910      0.023      4.024      0.000       0.047       0.135\n",
            "Office_Humidity             0.0693      0.031      2.233      0.026       0.008       0.130\n",
            "Bathroom_Humidity           0.0171      0.009      1.929      0.054      -0.000       0.035\n",
            "Building_North_Temp         0.4934      0.042     11.637      0.000       0.410       0.577\n",
            "Building_North_Humidity     0.1043      0.024      4.306      0.000       0.057       0.152\n",
            "Ironing _room_Humidity     -0.0631      0.023     -2.759      0.006      -0.108      -0.018\n",
            "Childrens_room_Temp         0.1776      0.019      9.367      0.000       0.140       0.215\n",
            "Childrens_room_Humidity    -0.2965      0.022    -13.481      0.000      -0.340      -0.253\n",
            "Parents_room_Temp          -0.3987      0.031    -12.804      0.000      -0.460      -0.338\n",
            "Parents_room_Humidity      -0.0401      0.020     -2.025      0.043      -0.079      -0.001\n",
            "Outside_Temp               -0.5788      0.091     -6.336      0.000      -0.758      -0.400\n",
            "Outside_Press               0.0135      0.009      1.492      0.136      -0.004       0.031\n",
            "Outside_Humidity           -0.0916      0.054     -1.710      0.087      -0.197       0.013\n",
            "Windspeed                   0.0578      0.010      5.950      0.000       0.039       0.077\n",
            "Visibility                  0.0221      0.008      2.820      0.005       0.007       0.037\n",
            "Dewpoint_Temp               0.1667      0.071      2.355      0.019       0.028       0.306\n",
            "Weekday                     0.0208      0.008      2.588      0.010       0.005       0.037\n",
            "NSM                         0.0939      0.011      8.628      0.000       0.073       0.115\n",
            "==============================================================================\n",
            "Omnibus:                     9757.742   Durbin-Watson:                   2.021\n",
            "Prob(Omnibus):                  0.000   Jarque-Bera (JB):           151046.201\n",
            "Skew:                           3.298   Prob(JB):                         0.00\n",
            "Kurtosis:                      17.796   Cond. No.                         43.2\n",
            "==============================================================================\n",
            "\n",
            "Warnings:\n",
            "[1] Standard Errors assume that the covariance matrix of the errors is correctly specified.\n"
          ],
          "name": "stdout"
        }
      ]
    },
    {
      "cell_type": "code",
      "metadata": {
        "colab": {
          "base_uri": "https://localhost:8080/"
        },
        "id": "Igp0keZ_8nrJ",
        "outputId": "e14ed703-32be-489e-d2af-75161ab69c83"
      },
      "source": [
        "X_standard_train_Press = X_standard_train_rv2.drop([\"Outside_Press\"],axis=1)\n",
        "OLS(X_standard_train_Press,y_standard_train)"
      ],
      "execution_count": null,
      "outputs": [
        {
          "output_type": "stream",
          "text": [
            "                                    OLS Regression Results                                   \n",
            "=============================================================================================\n",
            "Dep. Variable:     Total_Energy_Consumption   R-squared (uncentered):                   0.166\n",
            "Model:                                  OLS   Adj. R-squared (uncentered):              0.164\n",
            "Method:                       Least Squares   F-statistic:                              124.5\n",
            "Date:                      Sat, 28 Nov 2020   Prob (F-statistic):                        0.00\n",
            "Time:                              12:19:23   Log-Likelihood:                         -18150.\n",
            "No. Observations:                     13814   AIC:                                  3.634e+04\n",
            "Df Residuals:                         13792   BIC:                                  3.651e+04\n",
            "Df Model:                                22                                                  \n",
            "Covariance Type:                  nonrobust                                                  \n",
            "===========================================================================================\n",
            "                              coef    std err          t      P>|t|      [0.025      0.975]\n",
            "-------------------------------------------------------------------------------------------\n",
            "Kitchen_Humidity            0.5780      0.027     21.564      0.000       0.525       0.631\n",
            "Living_room_Temp           -0.4441      0.032    -13.999      0.000      -0.506      -0.382\n",
            "Living_room_Humidity       -0.5595      0.032    -17.416      0.000      -0.622      -0.497\n",
            "Laundry_room Temp           0.5067      0.022     22.935      0.000       0.463       0.550\n",
            "Laundry_room_Humidity       0.1772      0.025      7.052      0.000       0.128       0.226\n",
            "Office_Temp                 0.0962      0.022      4.305      0.000       0.052       0.140\n",
            "Office_Humidity             0.0739      0.031      2.391      0.017       0.013       0.134\n",
            "Bathroom_Humidity           0.0167      0.009      1.885      0.059      -0.001       0.034\n",
            "Building_North_Temp         0.4856      0.042     11.541      0.000       0.403       0.568\n",
            "Building_North_Humidity     0.0978      0.024      4.104      0.000       0.051       0.144\n",
            "Ironing _room_Humidity     -0.0678      0.023     -2.990      0.003      -0.112      -0.023\n",
            "Childrens_room_Temp         0.1731      0.019      9.247      0.000       0.136       0.210\n",
            "Childrens_room_Humidity    -0.2976      0.022    -13.536      0.000      -0.341      -0.254\n",
            "Parents_room_Temp          -0.4042      0.031    -13.078      0.000      -0.465      -0.344\n",
            "Parents_room_Humidity      -0.0349      0.019     -1.790      0.073      -0.073       0.003\n",
            "Outside_Temp               -0.5786      0.091     -6.334      0.000      -0.758      -0.400\n",
            "Outside_Humidity           -0.0946      0.054     -1.765      0.078      -0.200       0.010\n",
            "Windspeed                   0.0539      0.009      5.761      0.000       0.036       0.072\n",
            "Visibility                  0.0225      0.008      2.884      0.004       0.007       0.038\n",
            "Dewpoint_Temp               0.1728      0.071      2.444      0.015       0.034       0.311\n",
            "Weekday                     0.0209      0.008      2.600      0.009       0.005       0.037\n",
            "NSM                         0.0938      0.011      8.615      0.000       0.072       0.115\n",
            "==============================================================================\n",
            "Omnibus:                     9760.979   Durbin-Watson:                   2.020\n",
            "Prob(Omnibus):                  0.000   Jarque-Bera (JB):           151171.040\n",
            "Skew:                           3.299   Prob(JB):                         0.00\n",
            "Kurtosis:                      17.802   Cond. No.                         42.8\n",
            "==============================================================================\n",
            "\n",
            "Warnings:\n",
            "[1] Standard Errors assume that the covariance matrix of the errors is correctly specified.\n"
          ],
          "name": "stdout"
        }
      ]
    },
    {
      "cell_type": "code",
      "metadata": {
        "colab": {
          "base_uri": "https://localhost:8080/"
        },
        "id": "Z-YC68uQ89DE",
        "outputId": "2c61b988-5314-4ef4-bc76-93eae0bbaa83"
      },
      "source": [
        "X_standard_train_OH = X_standard_train_Press.drop([\"Outside_Humidity\"],axis=1)\n",
        "OLS(X_standard_train_OH,y_standard_train)"
      ],
      "execution_count": null,
      "outputs": [
        {
          "output_type": "stream",
          "text": [
            "                                    OLS Regression Results                                   \n",
            "=============================================================================================\n",
            "Dep. Variable:     Total_Energy_Consumption   R-squared (uncentered):                   0.165\n",
            "Model:                                  OLS   Adj. R-squared (uncentered):              0.164\n",
            "Method:                       Least Squares   F-statistic:                              130.3\n",
            "Date:                      Sat, 28 Nov 2020   Prob (F-statistic):                        0.00\n",
            "Time:                              12:19:23   Log-Likelihood:                         -18152.\n",
            "No. Observations:                     13814   AIC:                                  3.635e+04\n",
            "Df Residuals:                         13793   BIC:                                  3.650e+04\n",
            "Df Model:                                21                                                  \n",
            "Covariance Type:                  nonrobust                                                  \n",
            "===========================================================================================\n",
            "                              coef    std err          t      P>|t|      [0.025      0.975]\n",
            "-------------------------------------------------------------------------------------------\n",
            "Kitchen_Humidity            0.5841      0.027     21.979      0.000       0.532       0.636\n",
            "Living_room_Temp           -0.4449      0.032    -14.024      0.000      -0.507      -0.383\n",
            "Living_room_Humidity       -0.5596      0.032    -17.416      0.000      -0.623      -0.497\n",
            "Laundry_room Temp           0.5041      0.022     22.866      0.000       0.461       0.547\n",
            "Laundry_room_Humidity       0.1779      0.025      7.082      0.000       0.129       0.227\n",
            "Office_Temp                 0.0970      0.022      4.340      0.000       0.053       0.141\n",
            "Office_Humidity             0.0749      0.031      2.423      0.015       0.014       0.135\n",
            "Bathroom_Humidity           0.0171      0.009      1.931      0.054      -0.000       0.035\n",
            "Building_North_Temp         0.4773      0.042     11.414      0.000       0.395       0.559\n",
            "Building_North_Humidity     0.0821      0.022      3.713      0.000       0.039       0.125\n",
            "Ironing _room_Humidity     -0.0681      0.023     -3.003      0.003      -0.113      -0.024\n",
            "Childrens_room_Temp         0.1731      0.019      9.242      0.000       0.136       0.210\n",
            "Childrens_room_Humidity    -0.3016      0.022    -13.796      0.000      -0.344      -0.259\n",
            "Parents_room_Temp          -0.4072      0.031    -13.192      0.000      -0.468      -0.347\n",
            "Parents_room_Humidity      -0.0334      0.019     -1.715      0.086      -0.072       0.005\n",
            "Outside_Temp               -0.4338      0.040    -10.774      0.000      -0.513      -0.355\n",
            "Windspeed                   0.0582      0.009      6.446      0.000       0.040       0.076\n",
            "Visibility                  0.0218      0.008      2.791      0.005       0.006       0.037\n",
            "Dewpoint_Temp               0.0567      0.026      2.184      0.029       0.006       0.108\n",
            "Weekday                     0.0206      0.008      2.560      0.010       0.005       0.036\n",
            "NSM                         0.0952      0.011      8.767      0.000       0.074       0.117\n",
            "==============================================================================\n",
            "Omnibus:                     9767.061   Durbin-Watson:                   2.020\n",
            "Prob(Omnibus):                  0.000   Jarque-Bera (JB):           151593.287\n",
            "Skew:                           3.301   Prob(JB):                         0.00\n",
            "Kurtosis:                      17.825   Cond. No.                         19.3\n",
            "==============================================================================\n",
            "\n",
            "Warnings:\n",
            "[1] Standard Errors assume that the covariance matrix of the errors is correctly specified.\n"
          ],
          "name": "stdout"
        }
      ]
    },
    {
      "cell_type": "code",
      "metadata": {
        "colab": {
          "base_uri": "https://localhost:8080/"
        },
        "id": "Wkb2oQGK9MUn",
        "outputId": "6a404c7a-6dfb-4438-fade-91b998042c21"
      },
      "source": [
        "X_standard_train_PH = X_standard_train_OH.drop([\"Parents_room_Humidity\"],axis=1)\n",
        "OLS(X_standard_train_PH,y_standard_train)"
      ],
      "execution_count": null,
      "outputs": [
        {
          "output_type": "stream",
          "text": [
            "                                    OLS Regression Results                                   \n",
            "=============================================================================================\n",
            "Dep. Variable:     Total_Energy_Consumption   R-squared (uncentered):                   0.165\n",
            "Model:                                  OLS   Adj. R-squared (uncentered):              0.164\n",
            "Method:                       Least Squares   F-statistic:                              136.6\n",
            "Date:                      Sat, 28 Nov 2020   Prob (F-statistic):                        0.00\n",
            "Time:                              12:19:23   Log-Likelihood:                         -18153.\n",
            "No. Observations:                     13814   AIC:                                  3.635e+04\n",
            "Df Residuals:                         13794   BIC:                                  3.650e+04\n",
            "Df Model:                                20                                                  \n",
            "Covariance Type:                  nonrobust                                                  \n",
            "===========================================================================================\n",
            "                              coef    std err          t      P>|t|      [0.025      0.975]\n",
            "-------------------------------------------------------------------------------------------\n",
            "Kitchen_Humidity            0.5872      0.027     22.145      0.000       0.535       0.639\n",
            "Living_room_Temp           -0.4450      0.032    -14.027      0.000      -0.507      -0.383\n",
            "Living_room_Humidity       -0.5619      0.032    -17.504      0.000      -0.625      -0.499\n",
            "Laundry_room Temp           0.5019      0.022     22.804      0.000       0.459       0.545\n",
            "Laundry_room_Humidity       0.1685      0.025      6.873      0.000       0.120       0.217\n",
            "Office_Temp                 0.0994      0.022      4.458      0.000       0.056       0.143\n",
            "Office_Humidity             0.0652      0.030      2.145      0.032       0.006       0.125\n",
            "Bathroom_Humidity           0.0181      0.009      2.043      0.041       0.001       0.035\n",
            "Building_North_Temp         0.4778      0.042     11.427      0.000       0.396       0.560\n",
            "Building_North_Humidity     0.0780      0.022      3.549      0.000       0.035       0.121\n",
            "Ironing _room_Humidity     -0.0733      0.022     -3.262      0.001      -0.117      -0.029\n",
            "Childrens_room_Temp         0.1759      0.019      9.427      0.000       0.139       0.212\n",
            "Childrens_room_Humidity    -0.3087      0.021    -14.370      0.000      -0.351      -0.267\n",
            "Parents_room_Temp          -0.4146      0.031    -13.561      0.000      -0.474      -0.355\n",
            "Outside_Temp               -0.4404      0.040    -10.984      0.000      -0.519      -0.362\n",
            "Windspeed                   0.0576      0.009      6.385      0.000       0.040       0.075\n",
            "Visibility                  0.0217      0.008      2.776      0.006       0.006       0.037\n",
            "Dewpoint_Temp               0.0615      0.026      2.382      0.017       0.011       0.112\n",
            "Weekday                     0.0200      0.008      2.491      0.013       0.004       0.036\n",
            "NSM                         0.1001      0.010      9.541      0.000       0.080       0.121\n",
            "==============================================================================\n",
            "Omnibus:                     9758.722   Durbin-Watson:                   2.020\n",
            "Prob(Omnibus):                  0.000   Jarque-Bera (JB):           151290.468\n",
            "Skew:                           3.297   Prob(JB):                         0.00\n",
            "Kurtosis:                      17.811   Cond. No.                         18.8\n",
            "==============================================================================\n",
            "\n",
            "Warnings:\n",
            "[1] Standard Errors assume that the covariance matrix of the errors is correctly specified.\n"
          ],
          "name": "stdout"
        }
      ]
    },
    {
      "cell_type": "markdown",
      "metadata": {
        "id": "663LAaN55zvM"
      },
      "source": [
        "###**TEST 3**\n",
        "Applying ols to ***Robust scaled*** data."
      ]
    },
    {
      "cell_type": "code",
      "metadata": {
        "id": "27xULgoPYhee",
        "colab": {
          "base_uri": "https://localhost:8080/"
        },
        "outputId": "fedce240-892b-4983-fbf3-e82820ef249a"
      },
      "source": [
        "#splitting robust scaled data\n",
        "X_robust_train, X_robust_test, y_robust_train, y_robust_test = train_test_split(df_standardized_X,df_standardized_y, \n",
        "                                                    test_size=0.30, \n",
        "                                                    random_state=0)\n",
        "X_robust_train,y_robust_train.shape,X_robust_test.shape,y_robust_test.shape"
      ],
      "execution_count": null,
      "outputs": [
        {
          "output_type": "execute_result",
          "data": {
            "text/plain": [
              "(       Kitchen_Temp  Kitchen_Humidity  ...   Weekday       NSM\n",
              " 3766       0.772152          1.080685  ...  1.018727  1.262776\n",
              " 9503       0.687056         -2.151122  ...  0.011458  0.709435\n",
              " 10946      0.707811         -1.012701  ...  1.522362  0.781610\n",
              " 10393      0.568751         -0.275534  ... -0.492176  1.334951\n",
              " 15274     -0.139000          0.276503  ... -0.995810  0.974076\n",
              " ...             ...               ...  ...       ...       ...\n",
              " 13123      0.687056          1.115868  ... -1.499445  1.190601\n",
              " 19648      1.461224          1.156077  ...  0.515093 -1.191173\n",
              " 9845      -0.012394         -1.047884  ...  1.522362 -1.455815\n",
              " 10799      0.126666          0.412209  ...  1.018727  0.709435\n",
              " 2732      -0.495989          0.879640  ...  1.018727  0.637260\n",
              " \n",
              " [13814 rows x 28 columns], (13814, 1), (5921, 28), (5921, 1))"
            ]
          },
          "metadata": {
            "tags": []
          },
          "execution_count": 90
        }
      ]
    },
    {
      "cell_type": "code",
      "metadata": {
        "colab": {
          "base_uri": "https://localhost:8080/"
        },
        "id": "86L5yd48aIqL",
        "outputId": "5e37d5c6-a092-483d-c0ce-e4ee2f58450d"
      },
      "source": [
        "OLS(X_robust_train,y_robust_train)"
      ],
      "execution_count": null,
      "outputs": [
        {
          "output_type": "stream",
          "text": [
            "                                    OLS Regression Results                                   \n",
            "=============================================================================================\n",
            "Dep. Variable:     Total_Energy_Consumption   R-squared (uncentered):                   0.166\n",
            "Model:                                  OLS   Adj. R-squared (uncentered):              0.164\n",
            "Method:                       Least Squares   F-statistic:                              101.6\n",
            "Date:                      Sat, 28 Nov 2020   Prob (F-statistic):                        0.00\n",
            "Time:                              12:19:23   Log-Likelihood:                         -18148.\n",
            "No. Observations:                     13814   AIC:                                  3.635e+04\n",
            "Df Residuals:                         13787   BIC:                                  3.655e+04\n",
            "Df Model:                                27                                                  \n",
            "Covariance Type:                  nonrobust                                                  \n",
            "===========================================================================================\n",
            "                              coef    std err          t      P>|t|      [0.025      0.975]\n",
            "-------------------------------------------------------------------------------------------\n",
            "Kitchen_Temp               -0.0283      0.034     -0.820      0.412      -0.096       0.039\n",
            "Kitchen_Humidity            0.5720      0.031     18.640      0.000       0.512       0.632\n",
            "Living_room_Temp           -0.4259      0.041    -10.295      0.000      -0.507      -0.345\n",
            "Living_room_Humidity       -0.5495      0.036    -15.336      0.000      -0.620      -0.479\n",
            "Laundry_room Temp           0.5149      0.025     20.985      0.000       0.467       0.563\n",
            "Laundry_room_Humidity       0.1790      0.025      7.104      0.000       0.130       0.228\n",
            "Office_Temp                 0.0918      0.023      3.916      0.000       0.046       0.138\n",
            "Office_Humidity             0.0694      0.032      2.201      0.028       0.008       0.131\n",
            "Bathroom_Temp               0.0175      0.025      0.698      0.485      -0.032       0.067\n",
            "Bathroom_Humidity           0.0152      0.009      1.660      0.097      -0.003       0.033\n",
            "Building_North_Temp         0.4904      0.045     10.996      0.000       0.403       0.578\n",
            "Building_North_Humidity     0.1066      0.024      4.383      0.000       0.059       0.154\n",
            "Ironing_room_Temp           0.0189      0.032      0.588      0.556      -0.044       0.082\n",
            "Ironing _room_Humidity     -0.0700      0.025     -2.785      0.005      -0.119      -0.021\n",
            "Childrens_room_Temp         0.1778      0.022      8.162      0.000       0.135       0.220\n",
            "Childrens_room_Humidity    -0.2938      0.023    -12.623      0.000      -0.339      -0.248\n",
            "Parents_room_Temp          -0.4245      0.041    -10.348      0.000      -0.505      -0.344\n",
            "Parents_room_Humidity      -0.0401      0.020     -1.984      0.047      -0.080      -0.000\n",
            "Outside_Temp               -0.5828      0.094     -6.232      0.000      -0.766      -0.399\n",
            "Outside_Press               0.0130      0.009      1.430      0.153      -0.005       0.031\n",
            "Outside_Humidity           -0.0929      0.054     -1.718      0.086      -0.199       0.013\n",
            "Windspeed                   0.0585      0.010      5.999      0.000       0.039       0.078\n",
            "Visibility                  0.0220      0.008      2.812      0.005       0.007       0.037\n",
            "Dewpoint_Temp               0.1738      0.072      2.417      0.016       0.033       0.315\n",
            "rv1                        -0.0040      0.004     -1.048      0.295      -0.012       0.003\n",
            "rv2                        -0.0040      0.004     -1.048      0.295      -0.012       0.003\n",
            "Weekday                     0.0215      0.008      2.665      0.008       0.006       0.037\n",
            "NSM                         0.0946      0.011      8.607      0.000       0.073       0.116\n",
            "==============================================================================\n",
            "Omnibus:                     9748.962   Durbin-Watson:                   2.021\n",
            "Prob(Omnibus):                  0.000   Jarque-Bera (JB):           150484.820\n",
            "Skew:                           3.294   Prob(JB):                         0.00\n",
            "Kurtosis:                      17.766   Cond. No.                     1.16e+16\n",
            "==============================================================================\n",
            "\n",
            "Warnings:\n",
            "[1] Standard Errors assume that the covariance matrix of the errors is correctly specified.\n",
            "[2] The smallest eigenvalue is 9.58e-28. This might indicate that there are\n",
            "strong multicollinearity problems or that the design matrix is singular.\n"
          ],
          "name": "stdout"
        }
      ]
    },
    {
      "cell_type": "markdown",
      "metadata": {
        "id": "WKTvrM_7HMjq"
      },
      "source": [
        "The R2 and adjusted R2 of the Robust scaled data is similar to the normalized and standardized data.So we'll not carry the evaluation further.\n"
      ]
    },
    {
      "cell_type": "markdown",
      "metadata": {
        "id": "jA9oklQHIMMc"
      },
      "source": [
        "#**Linear Regression** (on features selected by OLS variables)"
      ]
    },
    {
      "cell_type": "markdown",
      "metadata": {
        "id": "NwrT9PSOLyu3"
      },
      "source": [
        "From the above section, after applying OLS method we have some optimal features in our hand.\n",
        "\n",
        "Now, we'll perform Linear Regression for prediction."
      ]
    },
    {
      "cell_type": "code",
      "metadata": {
        "colab": {
          "base_uri": "https://localhost:8080/"
        },
        "id": "sT3HLCh4MH9I",
        "outputId": "3e007458-94dd-4918-8197-96d8e5b59a13"
      },
      "source": [
        "X_norm_train_PH.columns"
      ],
      "execution_count": null,
      "outputs": [
        {
          "output_type": "execute_result",
          "data": {
            "text/plain": [
              "Index(['Kitchen_Humidity', 'Living_room_Temp', 'Living_room_Humidity',\n",
              "       'Laundry_room Temp', 'Laundry_room_Humidity', 'Office_Temp',\n",
              "       'Office_Humidity', 'Building_North_Temp', 'Building_North_Humidity',\n",
              "       'Ironing _room_Humidity', 'Childrens_room_Temp',\n",
              "       'Childrens_room_Humidity', 'Parents_room_Temp', 'Outside_Temp',\n",
              "       'Windspeed', 'Visibility', 'Dewpoint_Temp', 'Weekday', 'NSM'],\n",
              "      dtype='object')"
            ]
          },
          "metadata": {
            "tags": []
          },
          "execution_count": 92
        }
      ]
    },
    {
      "cell_type": "code",
      "metadata": {
        "colab": {
          "base_uri": "https://localhost:8080/"
        },
        "id": "Cnzgi7ugPELr",
        "outputId": "1f4bdb62-95ae-4048-d917-32dc652fdb89"
      },
      "source": [
        "#new DataFrame based on the selected features from OLS method\n",
        "\n",
        "X_norm_test1 = X_norm_test[['Kitchen_Humidity', 'Living_room_Temp', \n",
        "                           'Living_room_Humidity','Laundry_room Temp',\n",
        "                           'Laundry_room_Humidity', 'Office_Temp',\n",
        "                           'Office_Humidity', 'Building_North_Temp',\n",
        "                           'Building_North_Humidity','Ironing _room_Humidity',\n",
        "                           'Childrens_room_Temp','Childrens_room_Humidity',\n",
        "                           'Parents_room_Temp', 'Outside_Temp','Windspeed',\n",
        "                           'Visibility', 'Dewpoint_Temp', 'Weekday', 'NSM']]     \n",
        "print(X_norm_test1.head())"
      ],
      "execution_count": null,
      "outputs": [
        {
          "output_type": "stream",
          "text": [
            "       Kitchen_Humidity  Living_room_Temp  ...   Weekday       NSM\n",
            "15563          0.172461          0.270657  ...  0.500000  0.790210\n",
            "12564          0.315843          0.247153  ...  0.500000  0.965035\n",
            "10649          0.395377          0.298037  ...  0.666667  0.664336\n",
            "16554          0.089074          0.602617  ...  0.500000  0.671329\n",
            "8130           0.308825          0.109038  ...  0.166667  0.167832\n",
            "\n",
            "[5 rows x 19 columns]\n"
          ],
          "name": "stdout"
        }
      ]
    },
    {
      "cell_type": "code",
      "metadata": {
        "colab": {
          "base_uri": "https://localhost:8080/"
        },
        "id": "m-YjUEdcILXo",
        "outputId": "281d06ae-2a14-48ca-830b-a90cea0107e3"
      },
      "source": [
        "# Modelling, training and prediction\n",
        "lm = LinearRegression()\n",
        "lm.fit(X_norm_train_PH,y_norm_train)\n",
        "y_hat = lm.predict(X_norm_test1)\n",
        "y_hat"
      ],
      "execution_count": null,
      "outputs": [
        {
          "output_type": "execute_result",
          "data": {
            "text/plain": [
              "array([[0.18161933],\n",
              "       [0.08858662],\n",
              "       [0.12410486],\n",
              "       ...,\n",
              "       [0.08739976],\n",
              "       [0.08876207],\n",
              "       [0.11885422]])"
            ]
          },
          "metadata": {
            "tags": []
          },
          "execution_count": 94
        }
      ]
    },
    {
      "cell_type": "code",
      "metadata": {
        "colab": {
          "base_uri": "https://localhost:8080/",
          "height": 279
        },
        "id": "oe6Vy-VodJed",
        "outputId": "567d04a9-1cc4-460f-dc18-b5a8b1c860aa"
      },
      "source": [
        "#visulaizing the fit of our model\n",
        "\n",
        "fig, ax = plt.subplots()\n",
        "ax.scatter(y_hat, y_norm_test, edgecolors=(0, 0, 1))\n",
        "ax.plot([y_norm_test.min(), y_norm_test.max()], [y_norm_test.min(), y_norm_test.max()], 'r--', lw=3)\n",
        "ax.set_xlabel('Predicted')\n",
        "ax.set_ylabel('Actual')\n",
        "plt.show()"
      ],
      "execution_count": null,
      "outputs": [
        {
          "output_type": "display_data",
          "data": {
            "image/png": "[encoded data removed]",
            "text/plain": [
              "<Figure size 432x288 with 1 Axes>"
            ]
          },
          "metadata": {
            "tags": [],
            "needs_background": "light"
          }
        }
      ]
    },
    {
      "cell_type": "code",
      "metadata": {
        "id": "vmx9BmaYGHPH",
        "colab": {
          "base_uri": "https://localhost:8080/"
        },
        "outputId": "95a40517-268b-4649-e025-2ccc52b5642f"
      },
      "source": [
        "# model evaluation for testing set\n",
        "\n",
        "mae = metrics.mean_absolute_error(y_norm_test, y_hat)\n",
        "mse = metrics.mean_squared_error(y_norm_test, y_hat)\n",
        "rmse = math.sqrt(mse)\n",
        "r2 = metrics.r2_score(y_norm_test, y_hat)\n",
        "\n",
        "print(\"The model performance for testing set\")\n",
        "print(\"--------------------------------------\")\n",
        "print('MAE is {}'.format(mae))\n",
        "print('RMSE is {}'.format(rmse))\n",
        "print('R2 score is {}'.format(r2))"
      ],
      "execution_count": null,
      "outputs": [
        {
          "output_type": "stream",
          "text": [
            "The model performance for testing set\n",
            "--------------------------------------\n",
            "MAE is 0.05122572864153578\n",
            "RMSE is 0.09065461534063633\n",
            "R2 score is 0.1440389894716323\n"
          ],
          "name": "stdout"
        }
      ]
    },
    {
      "cell_type": "markdown",
      "metadata": {
        "id": "0Dy-DooHqYdD"
      },
      "source": [
        "R2 is very low. So, we'll perform Cross-Validation to the model and see if the score improves or not."
      ]
    },
    {
      "cell_type": "code",
      "metadata": {
        "colab": {
          "base_uri": "https://localhost:8080/"
        },
        "id": "M9iidrX8sHKE",
        "outputId": "45274b1e-f2d7-4e24-df71-ca0cc8e5c647"
      },
      "source": [
        "from sklearn.model_selection import cross_val_score\n",
        "\n",
        "def cross_validation(X, y):\n",
        "    score = cross_val_score(lm, X, y,cv=5, scoring=\"r2\")\n",
        "    print('R_squared Mean Score:',score.mean())\n",
        "    print(score)\n",
        "cross_validation(X_norm_test1,y_norm_test)"
      ],
      "execution_count": null,
      "outputs": [
        {
          "output_type": "stream",
          "text": [
            "R_squared Mean Score: 0.14246391291695157\n",
            "[0.13692836 0.15607886 0.13995194 0.13078106 0.14857934]\n"
          ],
          "name": "stdout"
        }
      ]
    },
    {
      "cell_type": "markdown",
      "metadata": {
        "id": "OK5or3HHOMXz"
      },
      "source": [
        "There's some improvment seen after cross-validation.\n",
        "\n",
        "We have R2 score of 0.156"
      ]
    },
    {
      "cell_type": "markdown",
      "metadata": {
        "id": "T5BrpHkHHBXT"
      },
      "source": [
        "#**Polynomial Regression**\n",
        "So, our model didn't fit well for Linear Regression. Maybe te relationship between dependent and independent variable is non-linear. Therefore, we'll try Polynomial Regression."
      ]
    },
    {
      "cell_type": "code",
      "metadata": {
        "colab": {
          "base_uri": "https://localhost:8080/"
        },
        "id": "I6RdG8ki5tsa",
        "outputId": "9ac74fce-75ce-4f33-d41b-6523cbb107dd"
      },
      "source": [
        "# Fitting Polynomial Regression to the dataset\n",
        "\n",
        "from sklearn.preprocessing import PolynomialFeatures\n",
        "poly_reg = PolynomialFeatures(degree=4)\n",
        "X_poly = poly_reg.fit_transform(X_norm_train_PH)\n",
        "linreg_2 = LinearRegression()\n",
        "linreg_2.fit(X_poly, y_norm_train)"
      ],
      "execution_count": null,
      "outputs": [
        {
          "output_type": "execute_result",
          "data": {
            "text/plain": [
              "LinearRegression(copy_X=True, fit_intercept=True, n_jobs=None, normalize=False)"
            ]
          },
          "metadata": {
            "tags": []
          },
          "execution_count": 98
        }
      ]
    },
    {
      "cell_type": "code",
      "metadata": {
        "colab": {
          "base_uri": "https://localhost:8080/",
          "height": 353
        },
        "id": "djQ5T_v0nKmq",
        "outputId": "0f16fe50-776e-457c-b249-0a133bd24d4e"
      },
      "source": [
        "# X_poly2 = poly_reg.fit_transform(X_norm_test1)\n",
        "# linreg_2.fit(X_poly2, y_norm_test)\n",
        "# pr_yhat = linreg_2.predict(X_norm_test1)"
      ],
      "execution_count": null,
      "outputs": [
        {
          "output_type": "error",
          "ename": "ValueError",
          "evalue": "ignored",
          "traceback": [
            "\u001b[0;31m---------------------------------------------------------------------------\u001b[0m",
            "\u001b[0;31mValueError\u001b[0m                                Traceback (most recent call last)",
            "\u001b[0;32m<ipython-input-99-d565af368c8d>\u001b[0m in \u001b[0;36m<module>\u001b[0;34m()\u001b[0m\n\u001b[1;32m      1\u001b[0m \u001b[0mX_poly2\u001b[0m \u001b[0;34m=\u001b[0m \u001b[0mpoly_reg\u001b[0m\u001b[0;34m.\u001b[0m\u001b[0mfit_transform\u001b[0m\u001b[0;34m(\u001b[0m\u001b[0mX_norm_test1\u001b[0m\u001b[0;34m)\u001b[0m\u001b[0;34m\u001b[0m\u001b[0;34m\u001b[0m\u001b[0m\n\u001b[1;32m      2\u001b[0m \u001b[0mlinreg_2\u001b[0m\u001b[0;34m.\u001b[0m\u001b[0mfit\u001b[0m\u001b[0;34m(\u001b[0m\u001b[0mX_poly2\u001b[0m\u001b[0;34m,\u001b[0m \u001b[0my_norm_test\u001b[0m\u001b[0;34m)\u001b[0m\u001b[0;34m\u001b[0m\u001b[0;34m\u001b[0m\u001b[0m\n\u001b[0;32m----> 3\u001b[0;31m \u001b[0mpr_yhat\u001b[0m \u001b[0;34m=\u001b[0m \u001b[0mlinreg_2\u001b[0m\u001b[0;34m.\u001b[0m\u001b[0mpredict\u001b[0m\u001b[0;34m(\u001b[0m\u001b[0mX_norm_test1\u001b[0m\u001b[0;34m)\u001b[0m\u001b[0;34m\u001b[0m\u001b[0;34m\u001b[0m\u001b[0m\n\u001b[0m",
            "\u001b[0;32m/usr/local/lib/python3.6/dist-packages/sklearn/linear_model/_base.py\u001b[0m in \u001b[0;36mpredict\u001b[0;34m(self, X)\u001b[0m\n\u001b[1;32m    223\u001b[0m             \u001b[0mReturns\u001b[0m \u001b[0mpredicted\u001b[0m \u001b[0mvalues\u001b[0m\u001b[0;34m.\u001b[0m\u001b[0;34m\u001b[0m\u001b[0;34m\u001b[0m\u001b[0m\n\u001b[1;32m    224\u001b[0m         \"\"\"\n\u001b[0;32m--> 225\u001b[0;31m         \u001b[0;32mreturn\u001b[0m \u001b[0mself\u001b[0m\u001b[0;34m.\u001b[0m\u001b[0m_decision_function\u001b[0m\u001b[0;34m(\u001b[0m\u001b[0mX\u001b[0m\u001b[0;34m)\u001b[0m\u001b[0;34m\u001b[0m\u001b[0;34m\u001b[0m\u001b[0m\n\u001b[0m\u001b[1;32m    226\u001b[0m \u001b[0;34m\u001b[0m\u001b[0m\n\u001b[1;32m    227\u001b[0m     \u001b[0m_preprocess_data\u001b[0m \u001b[0;34m=\u001b[0m \u001b[0mstaticmethod\u001b[0m\u001b[0;34m(\u001b[0m\u001b[0m_preprocess_data\u001b[0m\u001b[0;34m)\u001b[0m\u001b[0;34m\u001b[0m\u001b[0;34m\u001b[0m\u001b[0m\n",
            "\u001b[0;32m/usr/local/lib/python3.6/dist-packages/sklearn/linear_model/_base.py\u001b[0m in \u001b[0;36m_decision_function\u001b[0;34m(self, X)\u001b[0m\n\u001b[1;32m    207\u001b[0m         \u001b[0mX\u001b[0m \u001b[0;34m=\u001b[0m \u001b[0mcheck_array\u001b[0m\u001b[0;34m(\u001b[0m\u001b[0mX\u001b[0m\u001b[0;34m,\u001b[0m \u001b[0maccept_sparse\u001b[0m\u001b[0;34m=\u001b[0m\u001b[0;34m[\u001b[0m\u001b[0;34m'csr'\u001b[0m\u001b[0;34m,\u001b[0m \u001b[0;34m'csc'\u001b[0m\u001b[0;34m,\u001b[0m \u001b[0;34m'coo'\u001b[0m\u001b[0;34m]\u001b[0m\u001b[0;34m)\u001b[0m\u001b[0;34m\u001b[0m\u001b[0;34m\u001b[0m\u001b[0m\n\u001b[1;32m    208\u001b[0m         return safe_sparse_dot(X, self.coef_.T,\n\u001b[0;32m--> 209\u001b[0;31m                                dense_output=True) + self.intercept_\n\u001b[0m\u001b[1;32m    210\u001b[0m \u001b[0;34m\u001b[0m\u001b[0m\n\u001b[1;32m    211\u001b[0m     \u001b[0;32mdef\u001b[0m \u001b[0mpredict\u001b[0m\u001b[0;34m(\u001b[0m\u001b[0mself\u001b[0m\u001b[0;34m,\u001b[0m \u001b[0mX\u001b[0m\u001b[0;34m)\u001b[0m\u001b[0;34m:\u001b[0m\u001b[0;34m\u001b[0m\u001b[0;34m\u001b[0m\u001b[0m\n",
            "\u001b[0;32m/usr/local/lib/python3.6/dist-packages/sklearn/utils/extmath.py\u001b[0m in \u001b[0;36msafe_sparse_dot\u001b[0;34m(a, b, dense_output)\u001b[0m\n\u001b[1;32m    149\u001b[0m             \u001b[0mret\u001b[0m \u001b[0;34m=\u001b[0m \u001b[0mnp\u001b[0m\u001b[0;34m.\u001b[0m\u001b[0mdot\u001b[0m\u001b[0;34m(\u001b[0m\u001b[0ma\u001b[0m\u001b[0;34m,\u001b[0m \u001b[0mb\u001b[0m\u001b[0;34m)\u001b[0m\u001b[0;34m\u001b[0m\u001b[0;34m\u001b[0m\u001b[0m\n\u001b[1;32m    150\u001b[0m     \u001b[0;32melse\u001b[0m\u001b[0;34m:\u001b[0m\u001b[0;34m\u001b[0m\u001b[0;34m\u001b[0m\u001b[0m\n\u001b[0;32m--> 151\u001b[0;31m         \u001b[0mret\u001b[0m \u001b[0;34m=\u001b[0m \u001b[0ma\u001b[0m \u001b[0;34m@\u001b[0m \u001b[0mb\u001b[0m\u001b[0;34m\u001b[0m\u001b[0;34m\u001b[0m\u001b[0m\n\u001b[0m\u001b[1;32m    152\u001b[0m \u001b[0;34m\u001b[0m\u001b[0m\n\u001b[1;32m    153\u001b[0m     if (sparse.issparse(a) and sparse.issparse(b)\n",
            "\u001b[0;31mValueError\u001b[0m: matmul: Input operand 1 has a mismatch in its core dimension 0, with gufunc signature (n?,k),(k,m?)->(n?,m?) (size 8855 is different from 19)"
          ]
        }
      ]
    },
    {
      "cell_type": "code",
      "metadata": {
        "id": "ZaAAicWDv6ce"
      },
      "source": [
        "# #Visualizing the Polymonial Regression results\n",
        "# def viz_polymonial():\n",
        "#     plt.scatter(y_norm_test, y_norm_train, color='red')\n",
        "#     plt.plot(X, pol_reg.predict(poly_reg.fit_transform(X_norm_test)),\n",
        "#              color='blue')\n",
        "#     plt.title('Truth or Bluff (Linear Regression)')\n",
        "#     plt.xlabel('Position level')\n",
        "#     plt.ylabel('Salary')\n",
        "#     plt.show()\n",
        "#     return\n",
        "# viz_polymonial()"
      ],
      "execution_count": null,
      "outputs": []
    },
    {
      "cell_type": "code",
      "metadata": {
        "id": "4k_XLNxcOWT6"
      },
      "source": [
        "#poly_reg.predict(poly_reg.fit_transfrom(X_norm_test))"
      ],
      "execution_count": null,
      "outputs": []
    },
    {
      "cell_type": "markdown",
      "metadata": {
        "id": "0S3bwRvKpNKz"
      },
      "source": [
        "#**Recursive Feature Elimination**\n",
        "RFE is a wrapper-type feature selection algorithm. This means that a different machine learning algorithm is given and used in the core of the method, is wrapped by RFE, and used to help select features. This is in contrast to filter-based feature selections that score each feature and select those features with the largest (or smallest) score.\n",
        "\n",
        "Technically, RFE is a wrapper-style feature selection algorithm that also uses filter-based feature selection internally.\n",
        "\n",
        "RFE works by searching for a subset of features by starting with all features in the training dataset and successfully removing features until the desired number remains.\n",
        "\n",
        "This is achieved by fitting the given machine learning algorithm used in the core of the model, ranking features by importance, discarding the least important features, and re-fitting the model. This process is repeated until a specified number of features remains."
      ]
    },
    {
      "cell_type": "markdown",
      "metadata": {
        "id": "FP6dKihcbzLY"
      },
      "source": [
        "\n",
        ">We will evaluate the pipeline with a decision tree using repeated k-fold cross-validation, with three repeats and 10 folds.\n",
        "\n",
        ">We will report the mean absolute error (MAE) of the model across all repeats and folds. The scikit-learn library makes the MAE negative so that it is maximized instead of minimized. This means that larger negative MAE are better and a perfect model has a MAE of 0."
      ]
    },
    {
      "cell_type": "code",
      "metadata": {
        "colab": {
          "base_uri": "https://localhost:8080/"
        },
        "id": "ak9VzXMFNosi",
        "outputId": "c9118175-7db1-485f-8242-ba41da39c223"
      },
      "source": [
        "# evaluate RFE for regression\n",
        "from numpy import mean\n",
        "from numpy import std\n",
        "from sklearn.datasets import make_regression\n",
        "from sklearn.model_selection import cross_val_score\n",
        "from sklearn.model_selection import RepeatedKFold\n",
        "from sklearn.feature_selection import RFE\n",
        "from sklearn.tree import DecisionTreeRegressor\n",
        "from sklearn.pipeline import Pipeline\n",
        "\n",
        "# create pipeline\n",
        "rfe = RFE(estimator=DecisionTreeRegressor(), n_features_to_select=5)\n",
        "model = DecisionTreeRegressor()\n",
        "pipeline = Pipeline(steps=[('s',rfe),('m',model)])\n",
        "# evaluate model\n",
        "cv = RepeatedKFold(n_splits=10, n_repeats=3, random_state=1)\n",
        "n_scores = cross_val_score(pipeline, X_norm_train, y_norm_train, \n",
        "                           scoring='neg_mean_absolute_error', cv=cv, n_jobs=-1,\n",
        "                           error_score='raise')\n",
        "# report performance\n",
        "print('MAE: %.3f (%.3f)' % (mean(n_scores), std(n_scores)))"
      ],
      "execution_count": null,
      "outputs": [
        {
          "output_type": "stream",
          "text": [
            "MAE: -0.036 (0.002)\n"
          ],
          "name": "stdout"
        }
      ]
    },
    {
      "cell_type": "code",
      "metadata": {
        "colab": {
          "base_uri": "https://localhost:8080/"
        },
        "id": "-fDhgR7fQJZE",
        "outputId": "ae74178d-7d66-4260-f754-6d4a5b6b8367"
      },
      "source": [
        "from sklearn.svm import SVR\n",
        "\n",
        "estimator = SVR(kernel=\"linear\")\n",
        "selector = RFE(estimator, n_features_to_select=20, step=1)\n",
        "selector = selector.fit(X_norm_train, y_norm_train.values)\n",
        "selector.support_"
      ],
      "execution_count": null,
      "outputs": [
        {
          "output_type": "stream",
          "text": [
            "/usr/local/lib/python3.6/dist-packages/sklearn/utils/validation.py:760: DataConversionWarning: A column-vector y was passed when a 1d array was expected. Please change the shape of y to (n_samples, ), for example using ravel().\n",
            "  y = column_or_1d(y, warn=True)\n"
          ],
          "name": "stderr"
        },
        {
          "output_type": "execute_result",
          "data": {
            "text/plain": [
              "array([ True,  True,  True,  True,  True,  True,  True,  True,  True,\n",
              "       False,  True, False,  True,  True,  True,  True,  True,  True,\n",
              "        True, False,  True,  True, False,  True, False, False, False,\n",
              "       False])"
            ]
          },
          "metadata": {
            "tags": []
          },
          "execution_count": 101
        }
      ]
    },
    {
      "cell_type": "code",
      "metadata": {
        "colab": {
          "base_uri": "https://localhost:8080/"
        },
        "id": "PgMUPH4kdVJu",
        "outputId": "297a83c3-058f-4217-f78c-ab85563cf916"
      },
      "source": [
        "selector.ranking_"
      ],
      "execution_count": null,
      "outputs": [
        {
          "output_type": "execute_result",
          "data": {
            "text/plain": [
              "array([1, 1, 1, 1, 1, 1, 1, 1, 1, 4, 1, 5, 1, 1, 1, 1, 1, 1, 1, 9, 1, 1,\n",
              "       3, 1, 7, 8, 6, 2])"
            ]
          },
          "metadata": {
            "tags": []
          },
          "execution_count": 102
        }
      ]
    },
    {
      "cell_type": "code",
      "metadata": {
        "colab": {
          "base_uri": "https://localhost:8080/"
        },
        "id": "yB9XHwfsqCZE",
        "outputId": "5baa3819-c248-4c35-9107-bc4e33557da9"
      },
      "source": [
        "for i in range(X_norm_train.shape[1]):\n",
        "\tprint('Column: %d, Selected %s, Rank: %.3f' % (i, selector.support_[i],\n",
        "                                                selector.ranking_[i]))"
      ],
      "execution_count": null,
      "outputs": [
        {
          "output_type": "stream",
          "text": [
            "Column: 0, Selected True, Rank: 1.000\n",
            "Column: 1, Selected True, Rank: 1.000\n",
            "Column: 2, Selected True, Rank: 1.000\n",
            "Column: 3, Selected True, Rank: 1.000\n",
            "Column: 4, Selected True, Rank: 1.000\n",
            "Column: 5, Selected True, Rank: 1.000\n",
            "Column: 6, Selected True, Rank: 1.000\n",
            "Column: 7, Selected True, Rank: 1.000\n",
            "Column: 8, Selected True, Rank: 1.000\n",
            "Column: 9, Selected False, Rank: 4.000\n",
            "Column: 10, Selected True, Rank: 1.000\n",
            "Column: 11, Selected False, Rank: 5.000\n",
            "Column: 12, Selected True, Rank: 1.000\n",
            "Column: 13, Selected True, Rank: 1.000\n",
            "Column: 14, Selected True, Rank: 1.000\n",
            "Column: 15, Selected True, Rank: 1.000\n",
            "Column: 16, Selected True, Rank: 1.000\n",
            "Column: 17, Selected True, Rank: 1.000\n",
            "Column: 18, Selected True, Rank: 1.000\n",
            "Column: 19, Selected False, Rank: 9.000\n",
            "Column: 20, Selected True, Rank: 1.000\n",
            "Column: 21, Selected True, Rank: 1.000\n",
            "Column: 22, Selected False, Rank: 3.000\n",
            "Column: 23, Selected True, Rank: 1.000\n",
            "Column: 24, Selected False, Rank: 7.000\n",
            "Column: 25, Selected False, Rank: 8.000\n",
            "Column: 26, Selected False, Rank: 6.000\n",
            "Column: 27, Selected False, Rank: 2.000\n"
          ],
          "name": "stdout"
        }
      ]
    },
    {
      "cell_type": "markdown",
      "metadata": {
        "id": "rCptEmgBaOHy"
      },
      "source": [
        "##**Explore Base Algorithm**\n",
        "\n",
        "There are many algorithms that can be used in the core RFE, as long as they provide some indication of variable importance.\n",
        "\n",
        "Most decision tree algorithms are likely to report the same general trends in feature importance, but this is not guaranteed. It might be helpful to explore the use of different algorithms wrapped by RFE.\n",
        "\n"
      ]
    },
    {
      "cell_type": "code",
      "metadata": {
        "id": "Q3TmBiXGenBg"
      },
      "source": [
        "# from sklearn.linear_model import Perceptron\n",
        "# from sklearn.linear_model import LogisticRegression\n",
        "# from sklearn.tree import DecisionTreeClassifier\n",
        "# from sklearn.ensemble import RandomForestClassifier\n",
        "# from sklearn.ensemble import GradientBoostingClassifier\n",
        "# from matplotlib import pyplot\n",
        "\n",
        "# estimator = DecisionTreeClassifier()\n",
        "# selector = RFE(estimator, n_features_to_select=20, step=1)\n",
        "# selector = selector.fit(X_norm_train, y_norm_train)\n",
        "# selector.support_"
      ],
      "execution_count": null,
      "outputs": []
    },
    {
      "cell_type": "code",
      "metadata": {
        "id": "RpRKA63KmnUT"
      },
      "source": [
        "# from sklearn.model_selection import RepeatedStratifiedKFold\n",
        "\n",
        "# # get a list of models to evaluate\n",
        "# def get_models():\n",
        "# \tmodels = dict()\n",
        "# \t# lr\n",
        "# \trfe = RFE(estimator=LogisticRegression(), n_features_to_select=5)\n",
        "# \tmodel = DecisionTreeClassifier()\n",
        "# \tmodels['lr'] = Pipeline(steps=[('s',rfe),('m',model)])\n",
        "# \t# perceptron\n",
        "# \trfe = RFE(estimator=Perceptron(), n_features_to_select=5)\n",
        "# \tmodel = DecisionTreeClassifier()\n",
        "# \tmodels['per'] = Pipeline(steps=[('s',rfe),('m',model)])\n",
        "# \t# cart\n",
        "# \trfe = RFE(estimator=DecisionTreeClassifier(), n_features_to_select=5)\n",
        "# \tmodel = DecisionTreeClassifier()\n",
        "# \tmodels['cart'] = Pipeline(steps=[('s',rfe),('m',model)])\n",
        "# \t# rf\n",
        "# \trfe = RFE(estimator=RandomForestClassifier(), n_features_to_select=5)\n",
        "# \tmodel = DecisionTreeClassifier()\n",
        "# \tmodels['rf'] = Pipeline(steps=[('s',rfe),('m',model)])\n",
        "# \t# gbm\n",
        "# \trfe = RFE(estimator=GradientBoostingClassifier(), n_features_to_select=5)\n",
        "# \tmodel = DecisionTreeClassifier()\n",
        "# \tmodels['gbm'] = Pipeline(steps=[('s',rfe),('m',model)])\n",
        "# \treturn models\n",
        "\n",
        "# # evaluate a give model using cross-validation\n",
        "# def evaluate_model(model, X, y):\n",
        "# \tcv = RepeatedStratifiedKFold(n_splits=10, n_repeats=3, random_state=1)\n",
        "# \tscores = cross_val_score(model, X_norm_train, y_norm_train,\n",
        "#                           scoring='accuracy', cv=cv, n_jobs=-1)\n",
        "# \treturn scores\n",
        "\n",
        "# # define dataset\n",
        "# #X, y = get_dataset()\n",
        "# # get the models to evaluate\n",
        "# models = get_models()\n",
        "# # evaluate the models and store results\n",
        "# results, names = list(), list()\n",
        "# for name, model in models.items():\n",
        "# \tscores = evaluate_model(model, X_norm_train, y_norm_train)\n",
        "# \tresults.append(scores)\n",
        "# \tnames.append(name)\n",
        "# \tprint('>%s %.3f (%.3f)' % (name, mean(scores), std(scores)))\n",
        "# # plot model performance for comparison\n",
        "# pyplot.boxplot(results, labels=names, showmeans=True)\n",
        "# pyplot.show()"
      ],
      "execution_count": null,
      "outputs": []
    },
    {
      "cell_type": "markdown",
      "metadata": {
        "id": "pGnC-jzEdbLM"
      },
      "source": [
        "#**Linear Regression** (on variables selected after RFE)"
      ]
    },
    {
      "cell_type": "markdown",
      "metadata": {
        "id": "7sp6n2nvdnxv"
      },
      "source": [
        "First we'll need list of predictor and target variables.\n"
      ]
    },
    {
      "cell_type": "code",
      "metadata": {
        "colab": {
          "base_uri": "https://localhost:8080/"
        },
        "id": "QeIiT6Sfj4bn",
        "outputId": "126ace1a-d708-4620-834c-02a5cf7b6af4"
      },
      "source": [
        "X_norm_test.columns"
      ],
      "execution_count": null,
      "outputs": [
        {
          "output_type": "execute_result",
          "data": {
            "text/plain": [
              "Index(['Kitchen_Temp', 'Kitchen_Humidity', 'Living_room_Temp',\n",
              "       'Living_room_Humidity', 'Laundry_room Temp', 'Laundry_room_Humidity',\n",
              "       'Office_Temp', 'Office_Humidity', 'Bathroom_Temp', 'Bathroom_Humidity',\n",
              "       'Building_North_Temp', 'Building_North_Humidity', 'Ironing_room_Temp',\n",
              "       'Ironing _room_Humidity', 'Childrens_room_Temp',\n",
              "       'Childrens_room_Humidity', 'Parents_room_Temp', 'Parents_room_Humidity',\n",
              "       'Outside_Temp', 'Outside_Press', 'Outside_Humidity', 'Windspeed',\n",
              "       'Visibility', 'Dewpoint_Temp', 'rv1', 'rv2', 'Weekday', 'NSM'],\n",
              "      dtype='object')"
            ]
          },
          "metadata": {
            "tags": []
          },
          "execution_count": 106
        }
      ]
    },
    {
      "cell_type": "code",
      "metadata": {
        "colab": {
          "base_uri": "https://localhost:8080/"
        },
        "id": "pzrTa0AUoe9k",
        "outputId": "3bf2f42f-8d43-4ddf-92d7-27492ce497cc"
      },
      "source": [
        "# creating our X and y varibles for prediction\n",
        "\n",
        "X2_train = X_norm_train[['Kitchen_Temp', 'Kitchen_Humidity', 'Living_room_Temp',\n",
        "       'Living_room_Humidity', 'Laundry_room Temp', 'Laundry_room_Humidity',\n",
        "       'Office_Temp', 'Office_Humidity', 'Bathroom_Temp',\n",
        "       'Building_North_Temp', 'Ironing_room_Temp',\n",
        "       'Ironing _room_Humidity', 'Childrens_room_Temp',\n",
        "       'Childrens_room_Humidity', 'Parents_room_Temp', 'Parents_room_Humidity',\n",
        "       'Outside_Temp', 'Outside_Humidity', 'Windspeed',\n",
        "       'Dewpoint_Temp']]\n",
        "y2_train = y_norm_train\n",
        "\n",
        "X2_test = X_norm_test[['Kitchen_Temp', 'Kitchen_Humidity', 'Living_room_Temp',\n",
        "       'Living_room_Humidity', 'Laundry_room Temp', 'Laundry_room_Humidity',\n",
        "       'Office_Temp', 'Office_Humidity', 'Bathroom_Temp',\n",
        "       'Building_North_Temp', 'Ironing_room_Temp',\n",
        "       'Ironing _room_Humidity', 'Childrens_room_Temp',\n",
        "       'Childrens_room_Humidity', 'Parents_room_Temp', 'Parents_room_Humidity',\n",
        "       'Outside_Temp', 'Outside_Humidity', 'Windspeed',\n",
        "       'Dewpoint_Temp']]\n",
        "y2_test = y_norm_test\n",
        "print(X2_train, y2_train,X2_test,y2_test)"
      ],
      "execution_count": null,
      "outputs": [
        {
          "output_type": "stream",
          "text": [
            "       Kitchen_Temp  Kitchen_Humidity  ...  Windspeed  Dewpoint_Temp\n",
            "3766       0.648011          0.482616  ...   0.642857       0.517345\n",
            "9503       0.633580          0.128704  ...   0.345238       0.291101\n",
            "10946      0.637100          0.253371  ...   0.690476       0.453997\n",
            "10393      0.613516          0.334098  ...   0.142857       0.497738\n",
            "15274      0.493488          0.394551  ...   0.476190       0.257919\n",
            "...             ...               ...  ...        ...            ...\n",
            "13123      0.633580          0.486469  ...   0.047619       0.769985\n",
            "19648      0.764872          0.490872  ...   0.214286       0.808446\n",
            "9845       0.514960          0.249518  ...   0.214286       0.395928\n",
            "10799      0.538543          0.409412  ...   0.452381       0.677225\n",
            "2732       0.432946          0.460600  ...   0.428571       0.444947\n",
            "\n",
            "[13814 rows x 20 columns]        Total_Energy_Consumption\n",
            "3766                   0.100000\n",
            "9503                   0.081818\n",
            "10946                  0.045455\n",
            "10393                  0.090909\n",
            "15274                  0.054545\n",
            "...                         ...\n",
            "13123                  0.127273\n",
            "19648                  0.036364\n",
            "9845                   0.054545\n",
            "10799                  0.081818\n",
            "2732                   0.081818\n",
            "\n",
            "[13814 rows x 1 columns]        Kitchen_Temp  Kitchen_Humidity  ...  Windspeed  Dewpoint_Temp\n",
            "15563      0.465681          0.172461  ...   0.345238       0.177979\n",
            "12564      0.527983          0.315843  ...   0.285714       0.425339\n",
            "10649      0.591341          0.395377  ...   0.416667       0.500000\n",
            "16554      0.761352          0.089074  ...   0.285714       0.366516\n",
            "8130       0.344245          0.308825  ...   0.071429       0.294118\n",
            "...             ...               ...  ...        ...            ...\n",
            "7952       0.349525          0.319329  ...   0.119048       0.322775\n",
            "7472       0.453613          0.287497  ...   0.380952       0.408748\n",
            "7157       0.335093          0.238785  ...   0.392857       0.288084\n",
            "3393       0.444562          0.412164  ...   0.285714       0.377828\n",
            "5187       0.521647          0.200991  ...   0.214286       0.108597\n",
            "\n",
            "[5921 rows x 20 columns]        Total_Energy_Consumption\n",
            "15563                  0.254545\n",
            "12564                  0.036364\n",
            "10649                  0.227273\n",
            "16554                  0.036364\n",
            "8130                   0.018182\n",
            "...                         ...\n",
            "7952                   0.063636\n",
            "7472                   0.045455\n",
            "7157                   0.036364\n",
            "3393                   0.036364\n",
            "5187                   0.045455\n",
            "\n",
            "[5921 rows x 1 columns]\n"
          ],
          "name": "stdout"
        }
      ]
    },
    {
      "cell_type": "code",
      "metadata": {
        "colab": {
          "base_uri": "https://localhost:8080/"
        },
        "id": "7dqkqjV2eV4l",
        "outputId": "11a14474-a1cc-4437-c4f6-01ffd605a80e"
      },
      "source": [
        "lin3 = LinearRegression()\n",
        "lin3.fit(X2_train,y2_train)\n",
        "y_hat2 = lin3.predict(X2_test)\n",
        "\n",
        "# model evaluation for testing set\n",
        "\n",
        "mae = metrics.mean_absolute_error(y2_test, y_hat2)\n",
        "mse = metrics.mean_squared_error(y2_test, y_hat2)\n",
        "rmse = math.sqrt(mse)\n",
        "r2 = metrics.r2_score(y2_test, y_hat2)\n",
        "\n",
        "print(\"The model performance for testing set\")\n",
        "print(\"--------------------------------------\")\n",
        "print('MAE is {}'.format(mae))\n",
        "print('RMSE is {}'.format(rmse))\n",
        "print('R2 score is {}'.format(r2))"
      ],
      "execution_count": null,
      "outputs": [
        {
          "output_type": "stream",
          "text": [
            "The model performance for testing set\n",
            "--------------------------------------\n",
            "MAE is 0.05140578860718404\n",
            "RMSE is 0.09112628644131908\n",
            "R2 score is 0.135108779606131\n"
          ],
          "name": "stdout"
        }
      ]
    },
    {
      "cell_type": "code",
      "metadata": {
        "colab": {
          "base_uri": "https://localhost:8080/",
          "height": 279
        },
        "id": "DhLwro1zmdrp",
        "outputId": "49848886-daa7-4aae-acdf-395e15e416b7"
      },
      "source": [
        "#visualizing the fit of our model\n",
        "\n",
        "fig, ax = plt.subplots()\n",
        "ax.scatter(y_hat2, y2_test, edgecolors=(0, 0, 1))\n",
        "ax.plot([y2_test.min(), y2_test.max()], [y2_test.min(), y2_test.max()],\n",
        "        'r--', lw=3)\n",
        "ax.set_xlabel('Predicted')\n",
        "ax.set_ylabel('Actual')\n",
        "plt.show()"
      ],
      "execution_count": null,
      "outputs": [
        {
          "output_type": "display_data",
          "data": {
            "image/png": "[encoded data removed]",
            "text/plain": [
              "<Figure size 432x288 with 1 Axes>"
            ]
          },
          "metadata": {
            "tags": [],
            "needs_background": "light"
          }
        }
      ]
    },
    {
      "cell_type": "code",
      "metadata": {
        "id": "h3oPAYxDmwNH"
      },
      "source": [
        ""
      ],
      "execution_count": null,
      "outputs": []
    }
  ]
}